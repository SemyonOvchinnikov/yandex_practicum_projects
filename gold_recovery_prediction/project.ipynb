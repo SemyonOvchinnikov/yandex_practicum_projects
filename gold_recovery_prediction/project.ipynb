{
 "cells": [
  {
   "cell_type": "markdown",
   "metadata": {},
   "source": [
    "# Восстановление золота из руды"
   ]
  },
  {
   "cell_type": "markdown",
   "metadata": {},
   "source": [
    "Необходимо разработать модель предсказывающую коэффициент восстановления золота из золотосодержащей руды. В качестве исходных данных используются данные с параметрами добычи и очистки. Модель поможет оптимизировать производство, чтобы не запускать предприятие с убыточными характеристиками.\n",
    "\n",
    "План работы:\n",
    "\n",
    "1. Исследовательский анализ данных;\n",
    "2. Подготовка данных;\n",
    "3. Выбор метрики и обучение модели;\n",
    "4. Тестирование модели и проверка на адеквтность."
   ]
  },
  {
   "cell_type": "markdown",
   "metadata": {
    "toc": true
   },
   "source": [
    "<h1>Содержание<span class=\"tocSkip\"></span></h1>\n",
    "<div class=\"toc\"><ul class=\"toc-item\"><li><span><a href=\"#Подготовка-данных\" data-toc-modified-id=\"Подготовка-данных-1\"><span class=\"toc-item-num\">1&nbsp;&nbsp;</span>Подготовка данных</a></span><ul class=\"toc-item\"><li><span><a href=\"#Изучение-данных\" data-toc-modified-id=\"Изучение-данных-1.1\"><span class=\"toc-item-num\">1.1&nbsp;&nbsp;</span>Изучение данных</a></span><ul class=\"toc-item\"><li><span><a href=\"#Обучающая-выборка\" data-toc-modified-id=\"Обучающая-выборка-1.1.1\"><span class=\"toc-item-num\">1.1.1&nbsp;&nbsp;</span>Обучающая выборка</a></span></li><li><span><a href=\"#Тестовая-выборка\" data-toc-modified-id=\"Тестовая-выборка-1.1.2\"><span class=\"toc-item-num\">1.1.2&nbsp;&nbsp;</span>Тестовая выборка</a></span></li><li><span><a href=\"#Полная-выборка\" data-toc-modified-id=\"Полная-выборка-1.1.3\"><span class=\"toc-item-num\">1.1.3&nbsp;&nbsp;</span>Полная выборка</a></span></li></ul></li><li><span><a href=\"#Расчет-эффективности-обогащения-концентрата\" data-toc-modified-id=\"Расчет-эффективности-обогащения-концентрата-1.2\"><span class=\"toc-item-num\">1.2&nbsp;&nbsp;</span>Расчет эффективности обогащения концентрата</a></span></li><li><span><a href=\"#Предобработка-данных\" data-toc-modified-id=\"Предобработка-данных-1.3\"><span class=\"toc-item-num\">1.3&nbsp;&nbsp;</span>Предобработка данных</a></span><ul class=\"toc-item\"><li><span><a href=\"#Тестовая-выборка\" data-toc-modified-id=\"Тестовая-выборка-1.3.1\"><span class=\"toc-item-num\">1.3.1&nbsp;&nbsp;</span>Тестовая выборка</a></span></li><li><span><a href=\"#Полная-выборка\" data-toc-modified-id=\"Полная-выборка-1.3.2\"><span class=\"toc-item-num\">1.3.2&nbsp;&nbsp;</span>Полная выборка</a></span></li><li><span><a href=\"#Обучающая-выборка\" data-toc-modified-id=\"Обучающая-выборка-1.3.3\"><span class=\"toc-item-num\">1.3.3&nbsp;&nbsp;</span>Обучающая выборка</a></span></li></ul></li></ul></li><li><span><a href=\"#Анализ-данных\" data-toc-modified-id=\"Анализ-данных-2\"><span class=\"toc-item-num\">2&nbsp;&nbsp;</span>Анализ данных</a></span><ul class=\"toc-item\"><li><span><a href=\"#Изменение-концентрации-металлов-(Au,-Ag,-Pb)-на-различных-этапах-очистки\" data-toc-modified-id=\"Изменение-концентрации-металлов-(Au,-Ag,-Pb)-на-различных-этапах-очистки-2.1\"><span class=\"toc-item-num\">2.1&nbsp;&nbsp;</span>Изменение концентрации металлов (Au, Ag, Pb) на различных этапах очистки</a></span></li><li><span><a href=\"#Распределение-размеров-гранул-сырья\" data-toc-modified-id=\"Распределение-размеров-гранул-сырья-2.2\"><span class=\"toc-item-num\">2.2&nbsp;&nbsp;</span>Распределение размеров гранул сырья</a></span></li><li><span><a href=\"#Суммарная-концентрация-всех-веществ-на-разных-стадиях\" data-toc-modified-id=\"Суммарная-концентрация-всех-веществ-на-разных-стадиях-2.3\"><span class=\"toc-item-num\">2.3&nbsp;&nbsp;</span>Суммарная концентрация всех веществ на разных стадиях</a></span></li></ul></li><li><span><a href=\"#Модель\" data-toc-modified-id=\"Модель-3\"><span class=\"toc-item-num\">3&nbsp;&nbsp;</span>Модель</a></span><ul class=\"toc-item\"><li><span><a href=\"#Функци-для-расчета-sMAPE\" data-toc-modified-id=\"Функци-для-расчета-sMAPE-3.1\"><span class=\"toc-item-num\">3.1&nbsp;&nbsp;</span>Функци для расчета sMAPE</a></span></li><li><span><a href=\"#Подготовка-признаков\" data-toc-modified-id=\"Подготовка-признаков-3.2\"><span class=\"toc-item-num\">3.2&nbsp;&nbsp;</span>Подготовка признаков</a></span><ul class=\"toc-item\"><li><span><a href=\"#Деление-на-целевые-и-нецелевые-признаки\" data-toc-modified-id=\"Деление-на-целевые-и-нецелевые-признаки-3.2.1\"><span class=\"toc-item-num\">3.2.1&nbsp;&nbsp;</span>Деление на целевые и нецелевые признаки</a></span></li><li><span><a href=\"#Масштабирование-признаков\" data-toc-modified-id=\"Масштабирование-признаков-3.2.2\"><span class=\"toc-item-num\">3.2.2&nbsp;&nbsp;</span>Масштабирование признаков</a></span></li></ul></li><li><span><a href=\"#Обучение-модели\" data-toc-modified-id=\"Обучение-модели-3.3\"><span class=\"toc-item-num\">3.3&nbsp;&nbsp;</span>Обучение модели</a></span><ul class=\"toc-item\"><li><span><a href=\"#Вспомогательные-функции\" data-toc-modified-id=\"Вспомогательные-функции-3.3.1\"><span class=\"toc-item-num\">3.3.1&nbsp;&nbsp;</span>Вспомогательные функции</a></span></li><li><span><a href=\"#Rougher\" data-toc-modified-id=\"Rougher-3.3.2\"><span class=\"toc-item-num\">3.3.2&nbsp;&nbsp;</span>Rougher</a></span><ul class=\"toc-item\"><li><span><a href=\"#Линейная-регрессия\" data-toc-modified-id=\"Линейная-регрессия-3.3.2.1\"><span class=\"toc-item-num\">3.3.2.1&nbsp;&nbsp;</span>Линейная регрессия</a></span></li><li><span><a href=\"#Decision-Tree\" data-toc-modified-id=\"Decision-Tree-3.3.2.2\"><span class=\"toc-item-num\">3.3.2.2&nbsp;&nbsp;</span>Decision Tree</a></span></li><li><span><a href=\"#Random-Forest\" data-toc-modified-id=\"Random-Forest-3.3.2.3\"><span class=\"toc-item-num\">3.3.2.3&nbsp;&nbsp;</span>Random Forest</a></span></li><li><span><a href=\"#Gradient-Boosting\" data-toc-modified-id=\"Gradient-Boosting-3.3.2.4\"><span class=\"toc-item-num\">3.3.2.4&nbsp;&nbsp;</span>Gradient Boosting</a></span></li><li><span><a href=\"#Сводная-таблица\" data-toc-modified-id=\"Сводная-таблица-3.3.2.5\"><span class=\"toc-item-num\">3.3.2.5&nbsp;&nbsp;</span>Сводная таблица</a></span></li></ul></li><li><span><a href=\"#Final\" data-toc-modified-id=\"Final-3.3.3\"><span class=\"toc-item-num\">3.3.3&nbsp;&nbsp;</span>Final</a></span><ul class=\"toc-item\"><li><span><a href=\"#Линейная-регрессия\" data-toc-modified-id=\"Линейная-регрессия-3.3.3.1\"><span class=\"toc-item-num\">3.3.3.1&nbsp;&nbsp;</span>Линейная регрессия</a></span></li><li><span><a href=\"#Decision-Tree\" data-toc-modified-id=\"Decision-Tree-3.3.3.2\"><span class=\"toc-item-num\">3.3.3.2&nbsp;&nbsp;</span>Decision Tree</a></span></li><li><span><a href=\"#Random-Forest\" data-toc-modified-id=\"Random-Forest-3.3.3.3\"><span class=\"toc-item-num\">3.3.3.3&nbsp;&nbsp;</span>Random Forest</a></span></li><li><span><a href=\"#Gradient-Boosting\" data-toc-modified-id=\"Gradient-Boosting-3.3.3.4\"><span class=\"toc-item-num\">3.3.3.4&nbsp;&nbsp;</span>Gradient Boosting</a></span></li><li><span><a href=\"#Сводная-таблица\" data-toc-modified-id=\"Сводная-таблица-3.3.3.5\"><span class=\"toc-item-num\">3.3.3.5&nbsp;&nbsp;</span>Сводная таблица</a></span></li></ul></li></ul></li><li><span><a href=\"#Итоговая-метрика-sMAPE\" data-toc-modified-id=\"Итоговая-метрика-sMAPE-3.4\"><span class=\"toc-item-num\">3.4&nbsp;&nbsp;</span>Итоговая метрика sMAPE</a></span></li><li><span><a href=\"#Проверка-на-адекватность\" data-toc-modified-id=\"Проверка-на-адекватность-3.5\"><span class=\"toc-item-num\">3.5&nbsp;&nbsp;</span>Проверка на адекватность</a></span></li></ul></li><li><span><a href=\"#Вывод\" data-toc-modified-id=\"Вывод-4\"><span class=\"toc-item-num\">4&nbsp;&nbsp;</span>Вывод</a></span></li><li><span><a href=\"#Чек-лист-готовности-проекта\" data-toc-modified-id=\"Чек-лист-готовности-проекта-5\"><span class=\"toc-item-num\">5&nbsp;&nbsp;</span>Чек-лист готовности проекта</a></span></li></ul></div>"
   ]
  },
  {
   "cell_type": "markdown",
   "metadata": {},
   "source": [
    "## Подготовка данных"
   ]
  },
  {
   "cell_type": "code",
   "execution_count": 1,
   "metadata": {},
   "outputs": [],
   "source": [
    "import pandas as pd\n",
    "import numpy as np\n",
    "\n",
    "import matplotlib.pyplot as plt\n",
    "import seaborn as sns\n",
    "\n",
    "from sklearn.metrics import mean_absolute_error\n",
    "from sklearn.preprocessing import StandardScaler\n",
    "from sklearn.model_selection import cross_val_score\n",
    "from sklearn.metrics import make_scorer\n",
    "\n",
    "# models\n",
    "from sklearn.linear_model import LinearRegression\n",
    "from sklearn.tree import DecisionTreeRegressor\n",
    "from sklearn.ensemble import RandomForestRegressor, GradientBoostingRegressor\n",
    "from sklearn.dummy import DummyRegressor"
   ]
  },
  {
   "cell_type": "markdown",
   "metadata": {},
   "source": [
    "### Изучение данных"
   ]
  },
  {
   "cell_type": "markdown",
   "metadata": {},
   "source": [
    "#### Обучающая выборка"
   ]
  },
  {
   "cell_type": "code",
   "execution_count": 2,
   "metadata": {
    "scrolled": true
   },
   "outputs": [
    {
     "data": {
      "text/html": [
       "<div>\n",
       "<style scoped>\n",
       "    .dataframe tbody tr th:only-of-type {\n",
       "        vertical-align: middle;\n",
       "    }\n",
       "\n",
       "    .dataframe tbody tr th {\n",
       "        vertical-align: top;\n",
       "    }\n",
       "\n",
       "    .dataframe thead th {\n",
       "        text-align: right;\n",
       "    }\n",
       "</style>\n",
       "<table border=\"1\" class=\"dataframe\">\n",
       "  <thead>\n",
       "    <tr style=\"text-align: right;\">\n",
       "      <th></th>\n",
       "      <th>date</th>\n",
       "      <th>final.output.concentrate_ag</th>\n",
       "      <th>final.output.concentrate_pb</th>\n",
       "      <th>final.output.concentrate_sol</th>\n",
       "      <th>final.output.concentrate_au</th>\n",
       "      <th>final.output.recovery</th>\n",
       "      <th>final.output.tail_ag</th>\n",
       "      <th>final.output.tail_pb</th>\n",
       "      <th>final.output.tail_sol</th>\n",
       "      <th>final.output.tail_au</th>\n",
       "      <th>...</th>\n",
       "      <th>secondary_cleaner.state.floatbank4_a_air</th>\n",
       "      <th>secondary_cleaner.state.floatbank4_a_level</th>\n",
       "      <th>secondary_cleaner.state.floatbank4_b_air</th>\n",
       "      <th>secondary_cleaner.state.floatbank4_b_level</th>\n",
       "      <th>secondary_cleaner.state.floatbank5_a_air</th>\n",
       "      <th>secondary_cleaner.state.floatbank5_a_level</th>\n",
       "      <th>secondary_cleaner.state.floatbank5_b_air</th>\n",
       "      <th>secondary_cleaner.state.floatbank5_b_level</th>\n",
       "      <th>secondary_cleaner.state.floatbank6_a_air</th>\n",
       "      <th>secondary_cleaner.state.floatbank6_a_level</th>\n",
       "    </tr>\n",
       "  </thead>\n",
       "  <tbody>\n",
       "    <tr>\n",
       "      <th>0</th>\n",
       "      <td>2016-01-15 00:00:00</td>\n",
       "      <td>6.055403</td>\n",
       "      <td>9.889648</td>\n",
       "      <td>5.507324</td>\n",
       "      <td>42.192020</td>\n",
       "      <td>70.541216</td>\n",
       "      <td>10.411962</td>\n",
       "      <td>0.895447</td>\n",
       "      <td>16.904297</td>\n",
       "      <td>2.143149</td>\n",
       "      <td>...</td>\n",
       "      <td>14.016835</td>\n",
       "      <td>-502.488007</td>\n",
       "      <td>12.099931</td>\n",
       "      <td>-504.715942</td>\n",
       "      <td>9.925633</td>\n",
       "      <td>-498.310211</td>\n",
       "      <td>8.079666</td>\n",
       "      <td>-500.470978</td>\n",
       "      <td>14.151341</td>\n",
       "      <td>-605.841980</td>\n",
       "    </tr>\n",
       "    <tr>\n",
       "      <th>1</th>\n",
       "      <td>2016-01-15 01:00:00</td>\n",
       "      <td>6.029369</td>\n",
       "      <td>9.968944</td>\n",
       "      <td>5.257781</td>\n",
       "      <td>42.701629</td>\n",
       "      <td>69.266198</td>\n",
       "      <td>10.462676</td>\n",
       "      <td>0.927452</td>\n",
       "      <td>16.634514</td>\n",
       "      <td>2.224930</td>\n",
       "      <td>...</td>\n",
       "      <td>13.992281</td>\n",
       "      <td>-505.503262</td>\n",
       "      <td>11.950531</td>\n",
       "      <td>-501.331529</td>\n",
       "      <td>10.039245</td>\n",
       "      <td>-500.169983</td>\n",
       "      <td>7.984757</td>\n",
       "      <td>-500.582168</td>\n",
       "      <td>13.998353</td>\n",
       "      <td>-599.787184</td>\n",
       "    </tr>\n",
       "    <tr>\n",
       "      <th>2</th>\n",
       "      <td>2016-01-15 02:00:00</td>\n",
       "      <td>6.055926</td>\n",
       "      <td>10.213995</td>\n",
       "      <td>5.383759</td>\n",
       "      <td>42.657501</td>\n",
       "      <td>68.116445</td>\n",
       "      <td>10.507046</td>\n",
       "      <td>0.953716</td>\n",
       "      <td>16.208849</td>\n",
       "      <td>2.257889</td>\n",
       "      <td>...</td>\n",
       "      <td>14.015015</td>\n",
       "      <td>-502.520901</td>\n",
       "      <td>11.912783</td>\n",
       "      <td>-501.133383</td>\n",
       "      <td>10.070913</td>\n",
       "      <td>-500.129135</td>\n",
       "      <td>8.013877</td>\n",
       "      <td>-500.517572</td>\n",
       "      <td>14.028663</td>\n",
       "      <td>-601.427363</td>\n",
       "    </tr>\n",
       "    <tr>\n",
       "      <th>3</th>\n",
       "      <td>2016-01-15 03:00:00</td>\n",
       "      <td>6.047977</td>\n",
       "      <td>9.977019</td>\n",
       "      <td>4.858634</td>\n",
       "      <td>42.689819</td>\n",
       "      <td>68.347543</td>\n",
       "      <td>10.422762</td>\n",
       "      <td>0.883763</td>\n",
       "      <td>16.532835</td>\n",
       "      <td>2.146849</td>\n",
       "      <td>...</td>\n",
       "      <td>14.036510</td>\n",
       "      <td>-500.857308</td>\n",
       "      <td>11.999550</td>\n",
       "      <td>-501.193686</td>\n",
       "      <td>9.970366</td>\n",
       "      <td>-499.201640</td>\n",
       "      <td>7.977324</td>\n",
       "      <td>-500.255908</td>\n",
       "      <td>14.005551</td>\n",
       "      <td>-599.996129</td>\n",
       "    </tr>\n",
       "    <tr>\n",
       "      <th>4</th>\n",
       "      <td>2016-01-15 04:00:00</td>\n",
       "      <td>6.148599</td>\n",
       "      <td>10.142511</td>\n",
       "      <td>4.939416</td>\n",
       "      <td>42.774141</td>\n",
       "      <td>66.927016</td>\n",
       "      <td>10.360302</td>\n",
       "      <td>0.792826</td>\n",
       "      <td>16.525686</td>\n",
       "      <td>2.055292</td>\n",
       "      <td>...</td>\n",
       "      <td>14.027298</td>\n",
       "      <td>-499.838632</td>\n",
       "      <td>11.953070</td>\n",
       "      <td>-501.053894</td>\n",
       "      <td>9.925709</td>\n",
       "      <td>-501.686727</td>\n",
       "      <td>7.894242</td>\n",
       "      <td>-500.356035</td>\n",
       "      <td>13.996647</td>\n",
       "      <td>-601.496691</td>\n",
       "    </tr>\n",
       "  </tbody>\n",
       "</table>\n",
       "<p>5 rows × 87 columns</p>\n",
       "</div>"
      ],
      "text/plain": [
       "                  date  final.output.concentrate_ag  \\\n",
       "0  2016-01-15 00:00:00                     6.055403   \n",
       "1  2016-01-15 01:00:00                     6.029369   \n",
       "2  2016-01-15 02:00:00                     6.055926   \n",
       "3  2016-01-15 03:00:00                     6.047977   \n",
       "4  2016-01-15 04:00:00                     6.148599   \n",
       "\n",
       "   final.output.concentrate_pb  final.output.concentrate_sol  \\\n",
       "0                     9.889648                      5.507324   \n",
       "1                     9.968944                      5.257781   \n",
       "2                    10.213995                      5.383759   \n",
       "3                     9.977019                      4.858634   \n",
       "4                    10.142511                      4.939416   \n",
       "\n",
       "   final.output.concentrate_au  final.output.recovery  final.output.tail_ag  \\\n",
       "0                    42.192020              70.541216             10.411962   \n",
       "1                    42.701629              69.266198             10.462676   \n",
       "2                    42.657501              68.116445             10.507046   \n",
       "3                    42.689819              68.347543             10.422762   \n",
       "4                    42.774141              66.927016             10.360302   \n",
       "\n",
       "   final.output.tail_pb  final.output.tail_sol  final.output.tail_au  ...  \\\n",
       "0              0.895447              16.904297              2.143149  ...   \n",
       "1              0.927452              16.634514              2.224930  ...   \n",
       "2              0.953716              16.208849              2.257889  ...   \n",
       "3              0.883763              16.532835              2.146849  ...   \n",
       "4              0.792826              16.525686              2.055292  ...   \n",
       "\n",
       "   secondary_cleaner.state.floatbank4_a_air  \\\n",
       "0                                 14.016835   \n",
       "1                                 13.992281   \n",
       "2                                 14.015015   \n",
       "3                                 14.036510   \n",
       "4                                 14.027298   \n",
       "\n",
       "   secondary_cleaner.state.floatbank4_a_level  \\\n",
       "0                                 -502.488007   \n",
       "1                                 -505.503262   \n",
       "2                                 -502.520901   \n",
       "3                                 -500.857308   \n",
       "4                                 -499.838632   \n",
       "\n",
       "   secondary_cleaner.state.floatbank4_b_air  \\\n",
       "0                                 12.099931   \n",
       "1                                 11.950531   \n",
       "2                                 11.912783   \n",
       "3                                 11.999550   \n",
       "4                                 11.953070   \n",
       "\n",
       "   secondary_cleaner.state.floatbank4_b_level  \\\n",
       "0                                 -504.715942   \n",
       "1                                 -501.331529   \n",
       "2                                 -501.133383   \n",
       "3                                 -501.193686   \n",
       "4                                 -501.053894   \n",
       "\n",
       "   secondary_cleaner.state.floatbank5_a_air  \\\n",
       "0                                  9.925633   \n",
       "1                                 10.039245   \n",
       "2                                 10.070913   \n",
       "3                                  9.970366   \n",
       "4                                  9.925709   \n",
       "\n",
       "   secondary_cleaner.state.floatbank5_a_level  \\\n",
       "0                                 -498.310211   \n",
       "1                                 -500.169983   \n",
       "2                                 -500.129135   \n",
       "3                                 -499.201640   \n",
       "4                                 -501.686727   \n",
       "\n",
       "   secondary_cleaner.state.floatbank5_b_air  \\\n",
       "0                                  8.079666   \n",
       "1                                  7.984757   \n",
       "2                                  8.013877   \n",
       "3                                  7.977324   \n",
       "4                                  7.894242   \n",
       "\n",
       "   secondary_cleaner.state.floatbank5_b_level  \\\n",
       "0                                 -500.470978   \n",
       "1                                 -500.582168   \n",
       "2                                 -500.517572   \n",
       "3                                 -500.255908   \n",
       "4                                 -500.356035   \n",
       "\n",
       "   secondary_cleaner.state.floatbank6_a_air  \\\n",
       "0                                 14.151341   \n",
       "1                                 13.998353   \n",
       "2                                 14.028663   \n",
       "3                                 14.005551   \n",
       "4                                 13.996647   \n",
       "\n",
       "   secondary_cleaner.state.floatbank6_a_level  \n",
       "0                                 -605.841980  \n",
       "1                                 -599.787184  \n",
       "2                                 -601.427363  \n",
       "3                                 -599.996129  \n",
       "4                                 -601.496691  \n",
       "\n",
       "[5 rows x 87 columns]"
      ]
     },
     "execution_count": 2,
     "metadata": {},
     "output_type": "execute_result"
    }
   ],
   "source": [
    "data_train = pd.read_csv('/datasets/gold_recovery_train_new.csv')\n",
    "data_train.head()"
   ]
  },
  {
   "cell_type": "code",
   "execution_count": 3,
   "metadata": {},
   "outputs": [
    {
     "data": {
      "text/plain": [
       "(14149, 87)"
      ]
     },
     "execution_count": 3,
     "metadata": {},
     "output_type": "execute_result"
    }
   ],
   "source": [
    "data_train.shape"
   ]
  },
  {
   "cell_type": "code",
   "execution_count": 4,
   "metadata": {},
   "outputs": [
    {
     "name": "stdout",
     "output_type": "stream",
     "text": [
      "<class 'pandas.core.frame.DataFrame'>\n",
      "RangeIndex: 14149 entries, 0 to 14148\n",
      "Data columns (total 87 columns):\n",
      " #   Column                                              Non-Null Count  Dtype  \n",
      "---  ------                                              --------------  -----  \n",
      " 0   date                                                14149 non-null  object \n",
      " 1   final.output.concentrate_ag                         14148 non-null  float64\n",
      " 2   final.output.concentrate_pb                         14148 non-null  float64\n",
      " 3   final.output.concentrate_sol                        13938 non-null  float64\n",
      " 4   final.output.concentrate_au                         14149 non-null  float64\n",
      " 5   final.output.recovery                               14149 non-null  float64\n",
      " 6   final.output.tail_ag                                14149 non-null  float64\n",
      " 7   final.output.tail_pb                                14049 non-null  float64\n",
      " 8   final.output.tail_sol                               14144 non-null  float64\n",
      " 9   final.output.tail_au                                14149 non-null  float64\n",
      " 10  primary_cleaner.input.sulfate                       14129 non-null  float64\n",
      " 11  primary_cleaner.input.depressant                    14117 non-null  float64\n",
      " 12  primary_cleaner.input.feed_size                     14149 non-null  float64\n",
      " 13  primary_cleaner.input.xanthate                      14049 non-null  float64\n",
      " 14  primary_cleaner.output.concentrate_ag               14149 non-null  float64\n",
      " 15  primary_cleaner.output.concentrate_pb               14063 non-null  float64\n",
      " 16  primary_cleaner.output.concentrate_sol              13863 non-null  float64\n",
      " 17  primary_cleaner.output.concentrate_au               14149 non-null  float64\n",
      " 18  primary_cleaner.output.tail_ag                      14148 non-null  float64\n",
      " 19  primary_cleaner.output.tail_pb                      14134 non-null  float64\n",
      " 20  primary_cleaner.output.tail_sol                     14103 non-null  float64\n",
      " 21  primary_cleaner.output.tail_au                      14149 non-null  float64\n",
      " 22  primary_cleaner.state.floatbank8_a_air              14145 non-null  float64\n",
      " 23  primary_cleaner.state.floatbank8_a_level            14148 non-null  float64\n",
      " 24  primary_cleaner.state.floatbank8_b_air              14145 non-null  float64\n",
      " 25  primary_cleaner.state.floatbank8_b_level            14148 non-null  float64\n",
      " 26  primary_cleaner.state.floatbank8_c_air              14147 non-null  float64\n",
      " 27  primary_cleaner.state.floatbank8_c_level            14148 non-null  float64\n",
      " 28  primary_cleaner.state.floatbank8_d_air              14146 non-null  float64\n",
      " 29  primary_cleaner.state.floatbank8_d_level            14148 non-null  float64\n",
      " 30  rougher.calculation.sulfate_to_au_concentrate       14148 non-null  float64\n",
      " 31  rougher.calculation.floatbank10_sulfate_to_au_feed  14148 non-null  float64\n",
      " 32  rougher.calculation.floatbank11_sulfate_to_au_feed  14148 non-null  float64\n",
      " 33  rougher.calculation.au_pb_ratio                     14149 non-null  float64\n",
      " 34  rougher.input.feed_ag                               14149 non-null  float64\n",
      " 35  rougher.input.feed_pb                               14049 non-null  float64\n",
      " 36  rougher.input.feed_rate                             14141 non-null  float64\n",
      " 37  rougher.input.feed_size                             14005 non-null  float64\n",
      " 38  rougher.input.feed_sol                              14071 non-null  float64\n",
      " 39  rougher.input.feed_au                               14149 non-null  float64\n",
      " 40  rougher.input.floatbank10_sulfate                   14120 non-null  float64\n",
      " 41  rougher.input.floatbank10_xanthate                  14141 non-null  float64\n",
      " 42  rougher.input.floatbank11_sulfate                   14113 non-null  float64\n",
      " 43  rougher.input.floatbank11_xanthate                  13721 non-null  float64\n",
      " 44  rougher.output.concentrate_ag                       14149 non-null  float64\n",
      " 45  rougher.output.concentrate_pb                       14149 non-null  float64\n",
      " 46  rougher.output.concentrate_sol                      14127 non-null  float64\n",
      " 47  rougher.output.concentrate_au                       14149 non-null  float64\n",
      " 48  rougher.output.recovery                             14149 non-null  float64\n",
      " 49  rougher.output.tail_ag                              14148 non-null  float64\n",
      " 50  rougher.output.tail_pb                              14149 non-null  float64\n",
      " 51  rougher.output.tail_sol                             14149 non-null  float64\n",
      " 52  rougher.output.tail_au                              14149 non-null  float64\n",
      " 53  rougher.state.floatbank10_a_air                     14148 non-null  float64\n",
      " 54  rougher.state.floatbank10_a_level                   14148 non-null  float64\n",
      " 55  rougher.state.floatbank10_b_air                     14148 non-null  float64\n",
      " 56  rougher.state.floatbank10_b_level                   14148 non-null  float64\n",
      " 57  rougher.state.floatbank10_c_air                     14148 non-null  float64\n",
      " 58  rougher.state.floatbank10_c_level                   14148 non-null  float64\n",
      " 59  rougher.state.floatbank10_d_air                     14149 non-null  float64\n",
      " 60  rougher.state.floatbank10_d_level                   14149 non-null  float64\n",
      " 61  rougher.state.floatbank10_e_air                     13713 non-null  float64\n",
      " 62  rougher.state.floatbank10_e_level                   14149 non-null  float64\n",
      " 63  rougher.state.floatbank10_f_air                     14149 non-null  float64\n",
      " 64  rougher.state.floatbank10_f_level                   14149 non-null  float64\n",
      " 65  secondary_cleaner.output.tail_ag                    14147 non-null  float64\n",
      " 66  secondary_cleaner.output.tail_pb                    14139 non-null  float64\n",
      " 67  secondary_cleaner.output.tail_sol                   12544 non-null  float64\n",
      " 68  secondary_cleaner.output.tail_au                    14149 non-null  float64\n",
      " 69  secondary_cleaner.state.floatbank2_a_air            13932 non-null  float64\n",
      " 70  secondary_cleaner.state.floatbank2_a_level          14148 non-null  float64\n",
      " 71  secondary_cleaner.state.floatbank2_b_air            14128 non-null  float64\n",
      " 72  secondary_cleaner.state.floatbank2_b_level          14148 non-null  float64\n",
      " 73  secondary_cleaner.state.floatbank3_a_air            14145 non-null  float64\n",
      " 74  secondary_cleaner.state.floatbank3_a_level          14148 non-null  float64\n",
      " 75  secondary_cleaner.state.floatbank3_b_air            14148 non-null  float64\n",
      " 76  secondary_cleaner.state.floatbank3_b_level          14148 non-null  float64\n",
      " 77  secondary_cleaner.state.floatbank4_a_air            14143 non-null  float64\n",
      " 78  secondary_cleaner.state.floatbank4_a_level          14148 non-null  float64\n",
      " 79  secondary_cleaner.state.floatbank4_b_air            14148 non-null  float64\n",
      " 80  secondary_cleaner.state.floatbank4_b_level          14148 non-null  float64\n",
      " 81  secondary_cleaner.state.floatbank5_a_air            14148 non-null  float64\n",
      " 82  secondary_cleaner.state.floatbank5_a_level          14148 non-null  float64\n",
      " 83  secondary_cleaner.state.floatbank5_b_air            14148 non-null  float64\n",
      " 84  secondary_cleaner.state.floatbank5_b_level          14148 non-null  float64\n",
      " 85  secondary_cleaner.state.floatbank6_a_air            14147 non-null  float64\n",
      " 86  secondary_cleaner.state.floatbank6_a_level          14148 non-null  float64\n",
      "dtypes: float64(86), object(1)\n",
      "memory usage: 9.4+ MB\n"
     ]
    }
   ],
   "source": [
    "data_train.info()"
   ]
  },
  {
   "cell_type": "code",
   "execution_count": 5,
   "metadata": {
    "scrolled": true
   },
   "outputs": [
    {
     "data": {
      "text/html": [
       "<div>\n",
       "<style scoped>\n",
       "    .dataframe tbody tr th:only-of-type {\n",
       "        vertical-align: middle;\n",
       "    }\n",
       "\n",
       "    .dataframe tbody tr th {\n",
       "        vertical-align: top;\n",
       "    }\n",
       "\n",
       "    .dataframe thead th {\n",
       "        text-align: right;\n",
       "    }\n",
       "</style>\n",
       "<table border=\"1\" class=\"dataframe\">\n",
       "  <thead>\n",
       "    <tr style=\"text-align: right;\">\n",
       "      <th></th>\n",
       "      <th>final.output.concentrate_ag</th>\n",
       "      <th>final.output.concentrate_pb</th>\n",
       "      <th>final.output.concentrate_sol</th>\n",
       "      <th>final.output.concentrate_au</th>\n",
       "      <th>final.output.recovery</th>\n",
       "      <th>final.output.tail_ag</th>\n",
       "      <th>final.output.tail_pb</th>\n",
       "      <th>final.output.tail_sol</th>\n",
       "      <th>final.output.tail_au</th>\n",
       "      <th>primary_cleaner.input.sulfate</th>\n",
       "      <th>...</th>\n",
       "      <th>secondary_cleaner.state.floatbank4_a_air</th>\n",
       "      <th>secondary_cleaner.state.floatbank4_a_level</th>\n",
       "      <th>secondary_cleaner.state.floatbank4_b_air</th>\n",
       "      <th>secondary_cleaner.state.floatbank4_b_level</th>\n",
       "      <th>secondary_cleaner.state.floatbank5_a_air</th>\n",
       "      <th>secondary_cleaner.state.floatbank5_a_level</th>\n",
       "      <th>secondary_cleaner.state.floatbank5_b_air</th>\n",
       "      <th>secondary_cleaner.state.floatbank5_b_level</th>\n",
       "      <th>secondary_cleaner.state.floatbank6_a_air</th>\n",
       "      <th>secondary_cleaner.state.floatbank6_a_level</th>\n",
       "    </tr>\n",
       "  </thead>\n",
       "  <tbody>\n",
       "    <tr>\n",
       "      <th>count</th>\n",
       "      <td>14148.000000</td>\n",
       "      <td>14148.000000</td>\n",
       "      <td>13938.000000</td>\n",
       "      <td>14149.000000</td>\n",
       "      <td>14149.000000</td>\n",
       "      <td>14149.000000</td>\n",
       "      <td>14049.000000</td>\n",
       "      <td>14144.000000</td>\n",
       "      <td>14149.000000</td>\n",
       "      <td>14129.000000</td>\n",
       "      <td>...</td>\n",
       "      <td>14143.000000</td>\n",
       "      <td>14148.000000</td>\n",
       "      <td>14148.000000</td>\n",
       "      <td>14148.000000</td>\n",
       "      <td>14148.000000</td>\n",
       "      <td>14148.000000</td>\n",
       "      <td>14148.000000</td>\n",
       "      <td>14148.000000</td>\n",
       "      <td>14147.000000</td>\n",
       "      <td>14148.000000</td>\n",
       "    </tr>\n",
       "    <tr>\n",
       "      <th>mean</th>\n",
       "      <td>5.142034</td>\n",
       "      <td>10.132960</td>\n",
       "      <td>9.202849</td>\n",
       "      <td>44.003792</td>\n",
       "      <td>66.518832</td>\n",
       "      <td>9.607035</td>\n",
       "      <td>2.597298</td>\n",
       "      <td>10.512122</td>\n",
       "      <td>2.918421</td>\n",
       "      <td>133.320659</td>\n",
       "      <td>...</td>\n",
       "      <td>19.985454</td>\n",
       "      <td>-478.696836</td>\n",
       "      <td>15.487065</td>\n",
       "      <td>-460.229416</td>\n",
       "      <td>16.775136</td>\n",
       "      <td>-483.956022</td>\n",
       "      <td>13.064590</td>\n",
       "      <td>-483.966564</td>\n",
       "      <td>19.577539</td>\n",
       "      <td>-506.798480</td>\n",
       "    </tr>\n",
       "    <tr>\n",
       "      <th>std</th>\n",
       "      <td>1.369586</td>\n",
       "      <td>1.654930</td>\n",
       "      <td>2.790516</td>\n",
       "      <td>4.905261</td>\n",
       "      <td>10.295402</td>\n",
       "      <td>2.319069</td>\n",
       "      <td>0.971843</td>\n",
       "      <td>3.003617</td>\n",
       "      <td>0.903712</td>\n",
       "      <td>39.431659</td>\n",
       "      <td>...</td>\n",
       "      <td>5.657723</td>\n",
       "      <td>50.736021</td>\n",
       "      <td>5.255655</td>\n",
       "      <td>58.843586</td>\n",
       "      <td>5.831906</td>\n",
       "      <td>37.892788</td>\n",
       "      <td>5.765617</td>\n",
       "      <td>39.207913</td>\n",
       "      <td>5.764417</td>\n",
       "      <td>37.079249</td>\n",
       "    </tr>\n",
       "    <tr>\n",
       "      <th>min</th>\n",
       "      <td>0.000000</td>\n",
       "      <td>0.000000</td>\n",
       "      <td>0.000000</td>\n",
       "      <td>0.000000</td>\n",
       "      <td>0.000000</td>\n",
       "      <td>0.000000</td>\n",
       "      <td>0.000000</td>\n",
       "      <td>0.000000</td>\n",
       "      <td>0.000000</td>\n",
       "      <td>0.003112</td>\n",
       "      <td>...</td>\n",
       "      <td>0.000000</td>\n",
       "      <td>-799.709069</td>\n",
       "      <td>0.000000</td>\n",
       "      <td>-799.889113</td>\n",
       "      <td>-0.372054</td>\n",
       "      <td>-797.142475</td>\n",
       "      <td>0.646208</td>\n",
       "      <td>-800.006180</td>\n",
       "      <td>0.195324</td>\n",
       "      <td>-809.398668</td>\n",
       "    </tr>\n",
       "    <tr>\n",
       "      <th>25%</th>\n",
       "      <td>4.211620</td>\n",
       "      <td>9.297355</td>\n",
       "      <td>7.484645</td>\n",
       "      <td>43.276111</td>\n",
       "      <td>62.545817</td>\n",
       "      <td>7.997429</td>\n",
       "      <td>1.905973</td>\n",
       "      <td>8.811324</td>\n",
       "      <td>2.368607</td>\n",
       "      <td>107.006651</td>\n",
       "      <td>...</td>\n",
       "      <td>14.990775</td>\n",
       "      <td>-500.628656</td>\n",
       "      <td>11.894558</td>\n",
       "      <td>-500.149000</td>\n",
       "      <td>11.083980</td>\n",
       "      <td>-500.363177</td>\n",
       "      <td>8.994405</td>\n",
       "      <td>-500.105994</td>\n",
       "      <td>14.989304</td>\n",
       "      <td>-500.745104</td>\n",
       "    </tr>\n",
       "    <tr>\n",
       "      <th>50%</th>\n",
       "      <td>4.994652</td>\n",
       "      <td>10.297144</td>\n",
       "      <td>8.845462</td>\n",
       "      <td>44.872436</td>\n",
       "      <td>67.432775</td>\n",
       "      <td>9.480270</td>\n",
       "      <td>2.592022</td>\n",
       "      <td>10.514621</td>\n",
       "      <td>2.851025</td>\n",
       "      <td>133.018328</td>\n",
       "      <td>...</td>\n",
       "      <td>20.001789</td>\n",
       "      <td>-499.681450</td>\n",
       "      <td>14.975536</td>\n",
       "      <td>-499.388738</td>\n",
       "      <td>17.932223</td>\n",
       "      <td>-499.702452</td>\n",
       "      <td>11.997547</td>\n",
       "      <td>-499.914556</td>\n",
       "      <td>19.984175</td>\n",
       "      <td>-500.061431</td>\n",
       "    </tr>\n",
       "    <tr>\n",
       "      <th>75%</th>\n",
       "      <td>5.859540</td>\n",
       "      <td>11.170603</td>\n",
       "      <td>10.487508</td>\n",
       "      <td>46.166425</td>\n",
       "      <td>72.346428</td>\n",
       "      <td>11.003707</td>\n",
       "      <td>3.241723</td>\n",
       "      <td>11.933009</td>\n",
       "      <td>3.434764</td>\n",
       "      <td>159.825396</td>\n",
       "      <td>...</td>\n",
       "      <td>24.990826</td>\n",
       "      <td>-477.472413</td>\n",
       "      <td>20.059375</td>\n",
       "      <td>-400.039008</td>\n",
       "      <td>21.346550</td>\n",
       "      <td>-487.712108</td>\n",
       "      <td>17.982903</td>\n",
       "      <td>-453.186936</td>\n",
       "      <td>24.991623</td>\n",
       "      <td>-499.536466</td>\n",
       "    </tr>\n",
       "    <tr>\n",
       "      <th>max</th>\n",
       "      <td>16.001945</td>\n",
       "      <td>17.031899</td>\n",
       "      <td>18.124851</td>\n",
       "      <td>52.756638</td>\n",
       "      <td>100.000000</td>\n",
       "      <td>19.552149</td>\n",
       "      <td>5.639565</td>\n",
       "      <td>22.317730</td>\n",
       "      <td>8.197408</td>\n",
       "      <td>250.127834</td>\n",
       "      <td>...</td>\n",
       "      <td>30.115735</td>\n",
       "      <td>-245.239184</td>\n",
       "      <td>24.007913</td>\n",
       "      <td>-145.071088</td>\n",
       "      <td>43.709931</td>\n",
       "      <td>-275.073125</td>\n",
       "      <td>27.926001</td>\n",
       "      <td>-157.396071</td>\n",
       "      <td>32.188906</td>\n",
       "      <td>-104.427459</td>\n",
       "    </tr>\n",
       "  </tbody>\n",
       "</table>\n",
       "<p>8 rows × 86 columns</p>\n",
       "</div>"
      ],
      "text/plain": [
       "       final.output.concentrate_ag  final.output.concentrate_pb  \\\n",
       "count                 14148.000000                 14148.000000   \n",
       "mean                      5.142034                    10.132960   \n",
       "std                       1.369586                     1.654930   \n",
       "min                       0.000000                     0.000000   \n",
       "25%                       4.211620                     9.297355   \n",
       "50%                       4.994652                    10.297144   \n",
       "75%                       5.859540                    11.170603   \n",
       "max                      16.001945                    17.031899   \n",
       "\n",
       "       final.output.concentrate_sol  final.output.concentrate_au  \\\n",
       "count                  13938.000000                 14149.000000   \n",
       "mean                       9.202849                    44.003792   \n",
       "std                        2.790516                     4.905261   \n",
       "min                        0.000000                     0.000000   \n",
       "25%                        7.484645                    43.276111   \n",
       "50%                        8.845462                    44.872436   \n",
       "75%                       10.487508                    46.166425   \n",
       "max                       18.124851                    52.756638   \n",
       "\n",
       "       final.output.recovery  final.output.tail_ag  final.output.tail_pb  \\\n",
       "count           14149.000000          14149.000000          14049.000000   \n",
       "mean               66.518832              9.607035              2.597298   \n",
       "std                10.295402              2.319069              0.971843   \n",
       "min                 0.000000              0.000000              0.000000   \n",
       "25%                62.545817              7.997429              1.905973   \n",
       "50%                67.432775              9.480270              2.592022   \n",
       "75%                72.346428             11.003707              3.241723   \n",
       "max               100.000000             19.552149              5.639565   \n",
       "\n",
       "       final.output.tail_sol  final.output.tail_au  \\\n",
       "count           14144.000000          14149.000000   \n",
       "mean               10.512122              2.918421   \n",
       "std                 3.003617              0.903712   \n",
       "min                 0.000000              0.000000   \n",
       "25%                 8.811324              2.368607   \n",
       "50%                10.514621              2.851025   \n",
       "75%                11.933009              3.434764   \n",
       "max                22.317730              8.197408   \n",
       "\n",
       "       primary_cleaner.input.sulfate  ...  \\\n",
       "count                   14129.000000  ...   \n",
       "mean                      133.320659  ...   \n",
       "std                        39.431659  ...   \n",
       "min                         0.003112  ...   \n",
       "25%                       107.006651  ...   \n",
       "50%                       133.018328  ...   \n",
       "75%                       159.825396  ...   \n",
       "max                       250.127834  ...   \n",
       "\n",
       "       secondary_cleaner.state.floatbank4_a_air  \\\n",
       "count                              14143.000000   \n",
       "mean                                  19.985454   \n",
       "std                                    5.657723   \n",
       "min                                    0.000000   \n",
       "25%                                   14.990775   \n",
       "50%                                   20.001789   \n",
       "75%                                   24.990826   \n",
       "max                                   30.115735   \n",
       "\n",
       "       secondary_cleaner.state.floatbank4_a_level  \\\n",
       "count                                14148.000000   \n",
       "mean                                  -478.696836   \n",
       "std                                     50.736021   \n",
       "min                                   -799.709069   \n",
       "25%                                   -500.628656   \n",
       "50%                                   -499.681450   \n",
       "75%                                   -477.472413   \n",
       "max                                   -245.239184   \n",
       "\n",
       "       secondary_cleaner.state.floatbank4_b_air  \\\n",
       "count                              14148.000000   \n",
       "mean                                  15.487065   \n",
       "std                                    5.255655   \n",
       "min                                    0.000000   \n",
       "25%                                   11.894558   \n",
       "50%                                   14.975536   \n",
       "75%                                   20.059375   \n",
       "max                                   24.007913   \n",
       "\n",
       "       secondary_cleaner.state.floatbank4_b_level  \\\n",
       "count                                14148.000000   \n",
       "mean                                  -460.229416   \n",
       "std                                     58.843586   \n",
       "min                                   -799.889113   \n",
       "25%                                   -500.149000   \n",
       "50%                                   -499.388738   \n",
       "75%                                   -400.039008   \n",
       "max                                   -145.071088   \n",
       "\n",
       "       secondary_cleaner.state.floatbank5_a_air  \\\n",
       "count                              14148.000000   \n",
       "mean                                  16.775136   \n",
       "std                                    5.831906   \n",
       "min                                   -0.372054   \n",
       "25%                                   11.083980   \n",
       "50%                                   17.932223   \n",
       "75%                                   21.346550   \n",
       "max                                   43.709931   \n",
       "\n",
       "       secondary_cleaner.state.floatbank5_a_level  \\\n",
       "count                                14148.000000   \n",
       "mean                                  -483.956022   \n",
       "std                                     37.892788   \n",
       "min                                   -797.142475   \n",
       "25%                                   -500.363177   \n",
       "50%                                   -499.702452   \n",
       "75%                                   -487.712108   \n",
       "max                                   -275.073125   \n",
       "\n",
       "       secondary_cleaner.state.floatbank5_b_air  \\\n",
       "count                              14148.000000   \n",
       "mean                                  13.064590   \n",
       "std                                    5.765617   \n",
       "min                                    0.646208   \n",
       "25%                                    8.994405   \n",
       "50%                                   11.997547   \n",
       "75%                                   17.982903   \n",
       "max                                   27.926001   \n",
       "\n",
       "       secondary_cleaner.state.floatbank5_b_level  \\\n",
       "count                                14148.000000   \n",
       "mean                                  -483.966564   \n",
       "std                                     39.207913   \n",
       "min                                   -800.006180   \n",
       "25%                                   -500.105994   \n",
       "50%                                   -499.914556   \n",
       "75%                                   -453.186936   \n",
       "max                                   -157.396071   \n",
       "\n",
       "       secondary_cleaner.state.floatbank6_a_air  \\\n",
       "count                              14147.000000   \n",
       "mean                                  19.577539   \n",
       "std                                    5.764417   \n",
       "min                                    0.195324   \n",
       "25%                                   14.989304   \n",
       "50%                                   19.984175   \n",
       "75%                                   24.991623   \n",
       "max                                   32.188906   \n",
       "\n",
       "       secondary_cleaner.state.floatbank6_a_level  \n",
       "count                                14148.000000  \n",
       "mean                                  -506.798480  \n",
       "std                                     37.079249  \n",
       "min                                   -809.398668  \n",
       "25%                                   -500.745104  \n",
       "50%                                   -500.061431  \n",
       "75%                                   -499.536466  \n",
       "max                                   -104.427459  \n",
       "\n",
       "[8 rows x 86 columns]"
      ]
     },
     "execution_count": 5,
     "metadata": {},
     "output_type": "execute_result"
    }
   ],
   "source": [
    "data_train.describe()"
   ]
  },
  {
   "cell_type": "markdown",
   "metadata": {},
   "source": []
  },
  {
   "cell_type": "markdown",
   "metadata": {},
   "source": [
    "#### Тестовая выборка"
   ]
  },
  {
   "cell_type": "code",
   "execution_count": 6,
   "metadata": {
    "scrolled": true
   },
   "outputs": [
    {
     "data": {
      "text/html": [
       "<div>\n",
       "<style scoped>\n",
       "    .dataframe tbody tr th:only-of-type {\n",
       "        vertical-align: middle;\n",
       "    }\n",
       "\n",
       "    .dataframe tbody tr th {\n",
       "        vertical-align: top;\n",
       "    }\n",
       "\n",
       "    .dataframe thead th {\n",
       "        text-align: right;\n",
       "    }\n",
       "</style>\n",
       "<table border=\"1\" class=\"dataframe\">\n",
       "  <thead>\n",
       "    <tr style=\"text-align: right;\">\n",
       "      <th></th>\n",
       "      <th>date</th>\n",
       "      <th>primary_cleaner.input.sulfate</th>\n",
       "      <th>primary_cleaner.input.depressant</th>\n",
       "      <th>primary_cleaner.input.feed_size</th>\n",
       "      <th>primary_cleaner.input.xanthate</th>\n",
       "      <th>primary_cleaner.state.floatbank8_a_air</th>\n",
       "      <th>primary_cleaner.state.floatbank8_a_level</th>\n",
       "      <th>primary_cleaner.state.floatbank8_b_air</th>\n",
       "      <th>primary_cleaner.state.floatbank8_b_level</th>\n",
       "      <th>primary_cleaner.state.floatbank8_c_air</th>\n",
       "      <th>...</th>\n",
       "      <th>secondary_cleaner.state.floatbank4_a_air</th>\n",
       "      <th>secondary_cleaner.state.floatbank4_a_level</th>\n",
       "      <th>secondary_cleaner.state.floatbank4_b_air</th>\n",
       "      <th>secondary_cleaner.state.floatbank4_b_level</th>\n",
       "      <th>secondary_cleaner.state.floatbank5_a_air</th>\n",
       "      <th>secondary_cleaner.state.floatbank5_a_level</th>\n",
       "      <th>secondary_cleaner.state.floatbank5_b_air</th>\n",
       "      <th>secondary_cleaner.state.floatbank5_b_level</th>\n",
       "      <th>secondary_cleaner.state.floatbank6_a_air</th>\n",
       "      <th>secondary_cleaner.state.floatbank6_a_level</th>\n",
       "    </tr>\n",
       "  </thead>\n",
       "  <tbody>\n",
       "    <tr>\n",
       "      <th>0</th>\n",
       "      <td>2016-09-01 00:59:59</td>\n",
       "      <td>210.800909</td>\n",
       "      <td>14.993118</td>\n",
       "      <td>8.080000</td>\n",
       "      <td>1.005021</td>\n",
       "      <td>1398.981301</td>\n",
       "      <td>-500.225577</td>\n",
       "      <td>1399.144926</td>\n",
       "      <td>-499.919735</td>\n",
       "      <td>1400.102998</td>\n",
       "      <td>...</td>\n",
       "      <td>12.023554</td>\n",
       "      <td>-497.795834</td>\n",
       "      <td>8.016656</td>\n",
       "      <td>-501.289139</td>\n",
       "      <td>7.946562</td>\n",
       "      <td>-432.317850</td>\n",
       "      <td>4.872511</td>\n",
       "      <td>-500.037437</td>\n",
       "      <td>26.705889</td>\n",
       "      <td>-499.709414</td>\n",
       "    </tr>\n",
       "    <tr>\n",
       "      <th>1</th>\n",
       "      <td>2016-09-01 01:59:59</td>\n",
       "      <td>215.392455</td>\n",
       "      <td>14.987471</td>\n",
       "      <td>8.080000</td>\n",
       "      <td>0.990469</td>\n",
       "      <td>1398.777912</td>\n",
       "      <td>-500.057435</td>\n",
       "      <td>1398.055362</td>\n",
       "      <td>-499.778182</td>\n",
       "      <td>1396.151033</td>\n",
       "      <td>...</td>\n",
       "      <td>12.058140</td>\n",
       "      <td>-498.695773</td>\n",
       "      <td>8.130979</td>\n",
       "      <td>-499.634209</td>\n",
       "      <td>7.958270</td>\n",
       "      <td>-525.839648</td>\n",
       "      <td>4.878850</td>\n",
       "      <td>-500.162375</td>\n",
       "      <td>25.019940</td>\n",
       "      <td>-499.819438</td>\n",
       "    </tr>\n",
       "    <tr>\n",
       "      <th>2</th>\n",
       "      <td>2016-09-01 02:59:59</td>\n",
       "      <td>215.259946</td>\n",
       "      <td>12.884934</td>\n",
       "      <td>7.786667</td>\n",
       "      <td>0.996043</td>\n",
       "      <td>1398.493666</td>\n",
       "      <td>-500.868360</td>\n",
       "      <td>1398.860436</td>\n",
       "      <td>-499.764529</td>\n",
       "      <td>1398.075709</td>\n",
       "      <td>...</td>\n",
       "      <td>11.962366</td>\n",
       "      <td>-498.767484</td>\n",
       "      <td>8.096893</td>\n",
       "      <td>-500.827423</td>\n",
       "      <td>8.071056</td>\n",
       "      <td>-500.801673</td>\n",
       "      <td>4.905125</td>\n",
       "      <td>-499.828510</td>\n",
       "      <td>24.994862</td>\n",
       "      <td>-500.622559</td>\n",
       "    </tr>\n",
       "    <tr>\n",
       "      <th>3</th>\n",
       "      <td>2016-09-01 03:59:59</td>\n",
       "      <td>215.336236</td>\n",
       "      <td>12.006805</td>\n",
       "      <td>7.640000</td>\n",
       "      <td>0.863514</td>\n",
       "      <td>1399.618111</td>\n",
       "      <td>-498.863574</td>\n",
       "      <td>1397.440120</td>\n",
       "      <td>-499.211024</td>\n",
       "      <td>1400.129303</td>\n",
       "      <td>...</td>\n",
       "      <td>12.033091</td>\n",
       "      <td>-498.350935</td>\n",
       "      <td>8.074946</td>\n",
       "      <td>-499.474407</td>\n",
       "      <td>7.897085</td>\n",
       "      <td>-500.868509</td>\n",
       "      <td>4.931400</td>\n",
       "      <td>-499.963623</td>\n",
       "      <td>24.948919</td>\n",
       "      <td>-498.709987</td>\n",
       "    </tr>\n",
       "    <tr>\n",
       "      <th>4</th>\n",
       "      <td>2016-09-01 04:59:59</td>\n",
       "      <td>199.099327</td>\n",
       "      <td>10.682530</td>\n",
       "      <td>7.530000</td>\n",
       "      <td>0.805575</td>\n",
       "      <td>1401.268123</td>\n",
       "      <td>-500.808305</td>\n",
       "      <td>1398.128818</td>\n",
       "      <td>-499.504543</td>\n",
       "      <td>1402.172226</td>\n",
       "      <td>...</td>\n",
       "      <td>12.025367</td>\n",
       "      <td>-500.786497</td>\n",
       "      <td>8.054678</td>\n",
       "      <td>-500.397500</td>\n",
       "      <td>8.107890</td>\n",
       "      <td>-509.526725</td>\n",
       "      <td>4.957674</td>\n",
       "      <td>-500.360026</td>\n",
       "      <td>25.003331</td>\n",
       "      <td>-500.856333</td>\n",
       "    </tr>\n",
       "  </tbody>\n",
       "</table>\n",
       "<p>5 rows × 53 columns</p>\n",
       "</div>"
      ],
      "text/plain": [
       "                  date  primary_cleaner.input.sulfate  \\\n",
       "0  2016-09-01 00:59:59                     210.800909   \n",
       "1  2016-09-01 01:59:59                     215.392455   \n",
       "2  2016-09-01 02:59:59                     215.259946   \n",
       "3  2016-09-01 03:59:59                     215.336236   \n",
       "4  2016-09-01 04:59:59                     199.099327   \n",
       "\n",
       "   primary_cleaner.input.depressant  primary_cleaner.input.feed_size  \\\n",
       "0                         14.993118                         8.080000   \n",
       "1                         14.987471                         8.080000   \n",
       "2                         12.884934                         7.786667   \n",
       "3                         12.006805                         7.640000   \n",
       "4                         10.682530                         7.530000   \n",
       "\n",
       "   primary_cleaner.input.xanthate  primary_cleaner.state.floatbank8_a_air  \\\n",
       "0                        1.005021                             1398.981301   \n",
       "1                        0.990469                             1398.777912   \n",
       "2                        0.996043                             1398.493666   \n",
       "3                        0.863514                             1399.618111   \n",
       "4                        0.805575                             1401.268123   \n",
       "\n",
       "   primary_cleaner.state.floatbank8_a_level  \\\n",
       "0                               -500.225577   \n",
       "1                               -500.057435   \n",
       "2                               -500.868360   \n",
       "3                               -498.863574   \n",
       "4                               -500.808305   \n",
       "\n",
       "   primary_cleaner.state.floatbank8_b_air  \\\n",
       "0                             1399.144926   \n",
       "1                             1398.055362   \n",
       "2                             1398.860436   \n",
       "3                             1397.440120   \n",
       "4                             1398.128818   \n",
       "\n",
       "   primary_cleaner.state.floatbank8_b_level  \\\n",
       "0                               -499.919735   \n",
       "1                               -499.778182   \n",
       "2                               -499.764529   \n",
       "3                               -499.211024   \n",
       "4                               -499.504543   \n",
       "\n",
       "   primary_cleaner.state.floatbank8_c_air  ...  \\\n",
       "0                             1400.102998  ...   \n",
       "1                             1396.151033  ...   \n",
       "2                             1398.075709  ...   \n",
       "3                             1400.129303  ...   \n",
       "4                             1402.172226  ...   \n",
       "\n",
       "   secondary_cleaner.state.floatbank4_a_air  \\\n",
       "0                                 12.023554   \n",
       "1                                 12.058140   \n",
       "2                                 11.962366   \n",
       "3                                 12.033091   \n",
       "4                                 12.025367   \n",
       "\n",
       "   secondary_cleaner.state.floatbank4_a_level  \\\n",
       "0                                 -497.795834   \n",
       "1                                 -498.695773   \n",
       "2                                 -498.767484   \n",
       "3                                 -498.350935   \n",
       "4                                 -500.786497   \n",
       "\n",
       "   secondary_cleaner.state.floatbank4_b_air  \\\n",
       "0                                  8.016656   \n",
       "1                                  8.130979   \n",
       "2                                  8.096893   \n",
       "3                                  8.074946   \n",
       "4                                  8.054678   \n",
       "\n",
       "   secondary_cleaner.state.floatbank4_b_level  \\\n",
       "0                                 -501.289139   \n",
       "1                                 -499.634209   \n",
       "2                                 -500.827423   \n",
       "3                                 -499.474407   \n",
       "4                                 -500.397500   \n",
       "\n",
       "   secondary_cleaner.state.floatbank5_a_air  \\\n",
       "0                                  7.946562   \n",
       "1                                  7.958270   \n",
       "2                                  8.071056   \n",
       "3                                  7.897085   \n",
       "4                                  8.107890   \n",
       "\n",
       "   secondary_cleaner.state.floatbank5_a_level  \\\n",
       "0                                 -432.317850   \n",
       "1                                 -525.839648   \n",
       "2                                 -500.801673   \n",
       "3                                 -500.868509   \n",
       "4                                 -509.526725   \n",
       "\n",
       "   secondary_cleaner.state.floatbank5_b_air  \\\n",
       "0                                  4.872511   \n",
       "1                                  4.878850   \n",
       "2                                  4.905125   \n",
       "3                                  4.931400   \n",
       "4                                  4.957674   \n",
       "\n",
       "   secondary_cleaner.state.floatbank5_b_level  \\\n",
       "0                                 -500.037437   \n",
       "1                                 -500.162375   \n",
       "2                                 -499.828510   \n",
       "3                                 -499.963623   \n",
       "4                                 -500.360026   \n",
       "\n",
       "   secondary_cleaner.state.floatbank6_a_air  \\\n",
       "0                                 26.705889   \n",
       "1                                 25.019940   \n",
       "2                                 24.994862   \n",
       "3                                 24.948919   \n",
       "4                                 25.003331   \n",
       "\n",
       "   secondary_cleaner.state.floatbank6_a_level  \n",
       "0                                 -499.709414  \n",
       "1                                 -499.819438  \n",
       "2                                 -500.622559  \n",
       "3                                 -498.709987  \n",
       "4                                 -500.856333  \n",
       "\n",
       "[5 rows x 53 columns]"
      ]
     },
     "execution_count": 6,
     "metadata": {},
     "output_type": "execute_result"
    }
   ],
   "source": [
    "data_test = pd.read_csv('/datasets/gold_recovery_test_new.csv')\n",
    "data_test.head()"
   ]
  },
  {
   "cell_type": "code",
   "execution_count": 7,
   "metadata": {},
   "outputs": [
    {
     "data": {
      "text/plain": [
       "(5290, 53)"
      ]
     },
     "execution_count": 7,
     "metadata": {},
     "output_type": "execute_result"
    }
   ],
   "source": [
    "data_test.shape"
   ]
  },
  {
   "cell_type": "code",
   "execution_count": 8,
   "metadata": {},
   "outputs": [
    {
     "name": "stdout",
     "output_type": "stream",
     "text": [
      "<class 'pandas.core.frame.DataFrame'>\n",
      "RangeIndex: 5290 entries, 0 to 5289\n",
      "Data columns (total 53 columns):\n",
      " #   Column                                      Non-Null Count  Dtype  \n",
      "---  ------                                      --------------  -----  \n",
      " 0   date                                        5290 non-null   object \n",
      " 1   primary_cleaner.input.sulfate               5286 non-null   float64\n",
      " 2   primary_cleaner.input.depressant            5285 non-null   float64\n",
      " 3   primary_cleaner.input.feed_size             5290 non-null   float64\n",
      " 4   primary_cleaner.input.xanthate              5286 non-null   float64\n",
      " 5   primary_cleaner.state.floatbank8_a_air      5290 non-null   float64\n",
      " 6   primary_cleaner.state.floatbank8_a_level    5290 non-null   float64\n",
      " 7   primary_cleaner.state.floatbank8_b_air      5290 non-null   float64\n",
      " 8   primary_cleaner.state.floatbank8_b_level    5290 non-null   float64\n",
      " 9   primary_cleaner.state.floatbank8_c_air      5290 non-null   float64\n",
      " 10  primary_cleaner.state.floatbank8_c_level    5290 non-null   float64\n",
      " 11  primary_cleaner.state.floatbank8_d_air      5290 non-null   float64\n",
      " 12  primary_cleaner.state.floatbank8_d_level    5290 non-null   float64\n",
      " 13  rougher.input.feed_ag                       5290 non-null   float64\n",
      " 14  rougher.input.feed_pb                       5290 non-null   float64\n",
      " 15  rougher.input.feed_rate                     5287 non-null   float64\n",
      " 16  rougher.input.feed_size                     5289 non-null   float64\n",
      " 17  rougher.input.feed_sol                      5269 non-null   float64\n",
      " 18  rougher.input.feed_au                       5290 non-null   float64\n",
      " 19  rougher.input.floatbank10_sulfate           5285 non-null   float64\n",
      " 20  rougher.input.floatbank10_xanthate          5290 non-null   float64\n",
      " 21  rougher.input.floatbank11_sulfate           5282 non-null   float64\n",
      " 22  rougher.input.floatbank11_xanthate          5265 non-null   float64\n",
      " 23  rougher.state.floatbank10_a_air             5290 non-null   float64\n",
      " 24  rougher.state.floatbank10_a_level           5290 non-null   float64\n",
      " 25  rougher.state.floatbank10_b_air             5290 non-null   float64\n",
      " 26  rougher.state.floatbank10_b_level           5290 non-null   float64\n",
      " 27  rougher.state.floatbank10_c_air             5290 non-null   float64\n",
      " 28  rougher.state.floatbank10_c_level           5290 non-null   float64\n",
      " 29  rougher.state.floatbank10_d_air             5290 non-null   float64\n",
      " 30  rougher.state.floatbank10_d_level           5290 non-null   float64\n",
      " 31  rougher.state.floatbank10_e_air             5290 non-null   float64\n",
      " 32  rougher.state.floatbank10_e_level           5290 non-null   float64\n",
      " 33  rougher.state.floatbank10_f_air             5290 non-null   float64\n",
      " 34  rougher.state.floatbank10_f_level           5290 non-null   float64\n",
      " 35  secondary_cleaner.state.floatbank2_a_air    5287 non-null   float64\n",
      " 36  secondary_cleaner.state.floatbank2_a_level  5290 non-null   float64\n",
      " 37  secondary_cleaner.state.floatbank2_b_air    5288 non-null   float64\n",
      " 38  secondary_cleaner.state.floatbank2_b_level  5290 non-null   float64\n",
      " 39  secondary_cleaner.state.floatbank3_a_air    5281 non-null   float64\n",
      " 40  secondary_cleaner.state.floatbank3_a_level  5290 non-null   float64\n",
      " 41  secondary_cleaner.state.floatbank3_b_air    5290 non-null   float64\n",
      " 42  secondary_cleaner.state.floatbank3_b_level  5290 non-null   float64\n",
      " 43  secondary_cleaner.state.floatbank4_a_air    5290 non-null   float64\n",
      " 44  secondary_cleaner.state.floatbank4_a_level  5290 non-null   float64\n",
      " 45  secondary_cleaner.state.floatbank4_b_air    5290 non-null   float64\n",
      " 46  secondary_cleaner.state.floatbank4_b_level  5290 non-null   float64\n",
      " 47  secondary_cleaner.state.floatbank5_a_air    5290 non-null   float64\n",
      " 48  secondary_cleaner.state.floatbank5_a_level  5290 non-null   float64\n",
      " 49  secondary_cleaner.state.floatbank5_b_air    5290 non-null   float64\n",
      " 50  secondary_cleaner.state.floatbank5_b_level  5290 non-null   float64\n",
      " 51  secondary_cleaner.state.floatbank6_a_air    5290 non-null   float64\n",
      " 52  secondary_cleaner.state.floatbank6_a_level  5290 non-null   float64\n",
      "dtypes: float64(52), object(1)\n",
      "memory usage: 2.1+ MB\n"
     ]
    }
   ],
   "source": [
    "data_test.info()"
   ]
  },
  {
   "cell_type": "code",
   "execution_count": 9,
   "metadata": {},
   "outputs": [
    {
     "data": {
      "text/html": [
       "<div>\n",
       "<style scoped>\n",
       "    .dataframe tbody tr th:only-of-type {\n",
       "        vertical-align: middle;\n",
       "    }\n",
       "\n",
       "    .dataframe tbody tr th {\n",
       "        vertical-align: top;\n",
       "    }\n",
       "\n",
       "    .dataframe thead th {\n",
       "        text-align: right;\n",
       "    }\n",
       "</style>\n",
       "<table border=\"1\" class=\"dataframe\">\n",
       "  <thead>\n",
       "    <tr style=\"text-align: right;\">\n",
       "      <th></th>\n",
       "      <th>primary_cleaner.input.sulfate</th>\n",
       "      <th>primary_cleaner.input.depressant</th>\n",
       "      <th>primary_cleaner.input.feed_size</th>\n",
       "      <th>primary_cleaner.input.xanthate</th>\n",
       "      <th>primary_cleaner.state.floatbank8_a_air</th>\n",
       "      <th>primary_cleaner.state.floatbank8_a_level</th>\n",
       "      <th>primary_cleaner.state.floatbank8_b_air</th>\n",
       "      <th>primary_cleaner.state.floatbank8_b_level</th>\n",
       "      <th>primary_cleaner.state.floatbank8_c_air</th>\n",
       "      <th>primary_cleaner.state.floatbank8_c_level</th>\n",
       "      <th>...</th>\n",
       "      <th>secondary_cleaner.state.floatbank4_a_air</th>\n",
       "      <th>secondary_cleaner.state.floatbank4_a_level</th>\n",
       "      <th>secondary_cleaner.state.floatbank4_b_air</th>\n",
       "      <th>secondary_cleaner.state.floatbank4_b_level</th>\n",
       "      <th>secondary_cleaner.state.floatbank5_a_air</th>\n",
       "      <th>secondary_cleaner.state.floatbank5_a_level</th>\n",
       "      <th>secondary_cleaner.state.floatbank5_b_air</th>\n",
       "      <th>secondary_cleaner.state.floatbank5_b_level</th>\n",
       "      <th>secondary_cleaner.state.floatbank6_a_air</th>\n",
       "      <th>secondary_cleaner.state.floatbank6_a_level</th>\n",
       "    </tr>\n",
       "  </thead>\n",
       "  <tbody>\n",
       "    <tr>\n",
       "      <th>count</th>\n",
       "      <td>5286.000000</td>\n",
       "      <td>5285.000000</td>\n",
       "      <td>5290.000000</td>\n",
       "      <td>5286.000000</td>\n",
       "      <td>5.290000e+03</td>\n",
       "      <td>5290.000000</td>\n",
       "      <td>5.290000e+03</td>\n",
       "      <td>5290.000000</td>\n",
       "      <td>5.290000e+03</td>\n",
       "      <td>5290.000000</td>\n",
       "      <td>...</td>\n",
       "      <td>5.290000e+03</td>\n",
       "      <td>5290.000000</td>\n",
       "      <td>5.290000e+03</td>\n",
       "      <td>5290.000000</td>\n",
       "      <td>5290.000000</td>\n",
       "      <td>5290.000000</td>\n",
       "      <td>5290.000000</td>\n",
       "      <td>5290.000000</td>\n",
       "      <td>5290.000000</td>\n",
       "      <td>5290.000000</td>\n",
       "    </tr>\n",
       "    <tr>\n",
       "      <th>mean</th>\n",
       "      <td>174.839652</td>\n",
       "      <td>8.683596</td>\n",
       "      <td>7.266339</td>\n",
       "      <td>1.383803</td>\n",
       "      <td>1.539494e+03</td>\n",
       "      <td>-497.665883</td>\n",
       "      <td>1.545174e+03</td>\n",
       "      <td>-500.273098</td>\n",
       "      <td>1.527272e+03</td>\n",
       "      <td>-498.330680</td>\n",
       "      <td>...</td>\n",
       "      <td>1.632007e+01</td>\n",
       "      <td>-505.144570</td>\n",
       "      <td>1.373544e+01</td>\n",
       "      <td>-463.349858</td>\n",
       "      <td>12.804186</td>\n",
       "      <td>-501.329122</td>\n",
       "      <td>9.881145</td>\n",
       "      <td>-495.663398</td>\n",
       "      <td>17.304935</td>\n",
       "      <td>-501.793193</td>\n",
       "    </tr>\n",
       "    <tr>\n",
       "      <th>std</th>\n",
       "      <td>43.027080</td>\n",
       "      <td>3.072050</td>\n",
       "      <td>0.610219</td>\n",
       "      <td>0.643474</td>\n",
       "      <td>1.167979e+02</td>\n",
       "      <td>19.952431</td>\n",
       "      <td>1.222246e+02</td>\n",
       "      <td>32.968307</td>\n",
       "      <td>1.225380e+02</td>\n",
       "      <td>21.964876</td>\n",
       "      <td>...</td>\n",
       "      <td>3.493583e+00</td>\n",
       "      <td>31.427337</td>\n",
       "      <td>3.430484e+00</td>\n",
       "      <td>86.189107</td>\n",
       "      <td>3.026591</td>\n",
       "      <td>17.951495</td>\n",
       "      <td>2.868205</td>\n",
       "      <td>34.535007</td>\n",
       "      <td>4.536544</td>\n",
       "      <td>39.044215</td>\n",
       "    </tr>\n",
       "    <tr>\n",
       "      <th>min</th>\n",
       "      <td>2.566156</td>\n",
       "      <td>0.003839</td>\n",
       "      <td>5.650000</td>\n",
       "      <td>0.004984</td>\n",
       "      <td>5.445860e-32</td>\n",
       "      <td>-795.316337</td>\n",
       "      <td>6.647490e-32</td>\n",
       "      <td>-799.997015</td>\n",
       "      <td>4.033736e-32</td>\n",
       "      <td>-799.960571</td>\n",
       "      <td>...</td>\n",
       "      <td>1.079872e-16</td>\n",
       "      <td>-799.798523</td>\n",
       "      <td>2.489718e-17</td>\n",
       "      <td>-800.836914</td>\n",
       "      <td>0.069227</td>\n",
       "      <td>-797.323986</td>\n",
       "      <td>0.528083</td>\n",
       "      <td>-800.220337</td>\n",
       "      <td>-0.079426</td>\n",
       "      <td>-809.741464</td>\n",
       "    </tr>\n",
       "    <tr>\n",
       "      <th>25%</th>\n",
       "      <td>147.121401</td>\n",
       "      <td>6.489555</td>\n",
       "      <td>6.890000</td>\n",
       "      <td>0.907623</td>\n",
       "      <td>1.498936e+03</td>\n",
       "      <td>-500.357298</td>\n",
       "      <td>1.498971e+03</td>\n",
       "      <td>-500.703002</td>\n",
       "      <td>1.473230e+03</td>\n",
       "      <td>-501.018117</td>\n",
       "      <td>...</td>\n",
       "      <td>1.403618e+01</td>\n",
       "      <td>-500.868258</td>\n",
       "      <td>1.202862e+01</td>\n",
       "      <td>-500.323028</td>\n",
       "      <td>10.914838</td>\n",
       "      <td>-500.726841</td>\n",
       "      <td>8.036719</td>\n",
       "      <td>-500.194668</td>\n",
       "      <td>13.997317</td>\n",
       "      <td>-500.690984</td>\n",
       "    </tr>\n",
       "    <tr>\n",
       "      <th>50%</th>\n",
       "      <td>177.828489</td>\n",
       "      <td>8.052207</td>\n",
       "      <td>7.250000</td>\n",
       "      <td>1.197610</td>\n",
       "      <td>1.585129e+03</td>\n",
       "      <td>-499.969164</td>\n",
       "      <td>1.595622e+03</td>\n",
       "      <td>-500.028514</td>\n",
       "      <td>1.549595e+03</td>\n",
       "      <td>-500.017711</td>\n",
       "      <td>...</td>\n",
       "      <td>1.700847e+01</td>\n",
       "      <td>-500.115727</td>\n",
       "      <td>1.496486e+01</td>\n",
       "      <td>-499.576513</td>\n",
       "      <td>12.954182</td>\n",
       "      <td>-499.990332</td>\n",
       "      <td>10.004301</td>\n",
       "      <td>-499.990535</td>\n",
       "      <td>16.014935</td>\n",
       "      <td>-500.007126</td>\n",
       "    </tr>\n",
       "    <tr>\n",
       "      <th>75%</th>\n",
       "      <td>208.125438</td>\n",
       "      <td>10.027764</td>\n",
       "      <td>7.600000</td>\n",
       "      <td>1.797819</td>\n",
       "      <td>1.602077e+03</td>\n",
       "      <td>-499.568951</td>\n",
       "      <td>1.602324e+03</td>\n",
       "      <td>-499.293257</td>\n",
       "      <td>1.601144e+03</td>\n",
       "      <td>-498.994130</td>\n",
       "      <td>...</td>\n",
       "      <td>1.803862e+01</td>\n",
       "      <td>-499.404224</td>\n",
       "      <td>1.596213e+01</td>\n",
       "      <td>-400.933805</td>\n",
       "      <td>15.097528</td>\n",
       "      <td>-499.283191</td>\n",
       "      <td>11.997467</td>\n",
       "      <td>-499.719913</td>\n",
       "      <td>21.020013</td>\n",
       "      <td>-499.373018</td>\n",
       "    </tr>\n",
       "    <tr>\n",
       "      <th>max</th>\n",
       "      <td>265.983123</td>\n",
       "      <td>40.000000</td>\n",
       "      <td>15.500000</td>\n",
       "      <td>4.102454</td>\n",
       "      <td>2.103104e+03</td>\n",
       "      <td>-57.195404</td>\n",
       "      <td>1.813084e+03</td>\n",
       "      <td>-142.527229</td>\n",
       "      <td>1.715054e+03</td>\n",
       "      <td>-150.937035</td>\n",
       "      <td>...</td>\n",
       "      <td>3.005180e+01</td>\n",
       "      <td>-401.565212</td>\n",
       "      <td>3.126971e+01</td>\n",
       "      <td>-6.506986</td>\n",
       "      <td>25.258848</td>\n",
       "      <td>-244.483566</td>\n",
       "      <td>14.086866</td>\n",
       "      <td>-137.740004</td>\n",
       "      <td>26.705889</td>\n",
       "      <td>-123.307487</td>\n",
       "    </tr>\n",
       "  </tbody>\n",
       "</table>\n",
       "<p>8 rows × 52 columns</p>\n",
       "</div>"
      ],
      "text/plain": [
       "       primary_cleaner.input.sulfate  primary_cleaner.input.depressant  \\\n",
       "count                    5286.000000                       5285.000000   \n",
       "mean                      174.839652                          8.683596   \n",
       "std                        43.027080                          3.072050   \n",
       "min                         2.566156                          0.003839   \n",
       "25%                       147.121401                          6.489555   \n",
       "50%                       177.828489                          8.052207   \n",
       "75%                       208.125438                         10.027764   \n",
       "max                       265.983123                         40.000000   \n",
       "\n",
       "       primary_cleaner.input.feed_size  primary_cleaner.input.xanthate  \\\n",
       "count                      5290.000000                     5286.000000   \n",
       "mean                          7.266339                        1.383803   \n",
       "std                           0.610219                        0.643474   \n",
       "min                           5.650000                        0.004984   \n",
       "25%                           6.890000                        0.907623   \n",
       "50%                           7.250000                        1.197610   \n",
       "75%                           7.600000                        1.797819   \n",
       "max                          15.500000                        4.102454   \n",
       "\n",
       "       primary_cleaner.state.floatbank8_a_air  \\\n",
       "count                            5.290000e+03   \n",
       "mean                             1.539494e+03   \n",
       "std                              1.167979e+02   \n",
       "min                              5.445860e-32   \n",
       "25%                              1.498936e+03   \n",
       "50%                              1.585129e+03   \n",
       "75%                              1.602077e+03   \n",
       "max                              2.103104e+03   \n",
       "\n",
       "       primary_cleaner.state.floatbank8_a_level  \\\n",
       "count                               5290.000000   \n",
       "mean                                -497.665883   \n",
       "std                                   19.952431   \n",
       "min                                 -795.316337   \n",
       "25%                                 -500.357298   \n",
       "50%                                 -499.969164   \n",
       "75%                                 -499.568951   \n",
       "max                                  -57.195404   \n",
       "\n",
       "       primary_cleaner.state.floatbank8_b_air  \\\n",
       "count                            5.290000e+03   \n",
       "mean                             1.545174e+03   \n",
       "std                              1.222246e+02   \n",
       "min                              6.647490e-32   \n",
       "25%                              1.498971e+03   \n",
       "50%                              1.595622e+03   \n",
       "75%                              1.602324e+03   \n",
       "max                              1.813084e+03   \n",
       "\n",
       "       primary_cleaner.state.floatbank8_b_level  \\\n",
       "count                               5290.000000   \n",
       "mean                                -500.273098   \n",
       "std                                   32.968307   \n",
       "min                                 -799.997015   \n",
       "25%                                 -500.703002   \n",
       "50%                                 -500.028514   \n",
       "75%                                 -499.293257   \n",
       "max                                 -142.527229   \n",
       "\n",
       "       primary_cleaner.state.floatbank8_c_air  \\\n",
       "count                            5.290000e+03   \n",
       "mean                             1.527272e+03   \n",
       "std                              1.225380e+02   \n",
       "min                              4.033736e-32   \n",
       "25%                              1.473230e+03   \n",
       "50%                              1.549595e+03   \n",
       "75%                              1.601144e+03   \n",
       "max                              1.715054e+03   \n",
       "\n",
       "       primary_cleaner.state.floatbank8_c_level  ...  \\\n",
       "count                               5290.000000  ...   \n",
       "mean                                -498.330680  ...   \n",
       "std                                   21.964876  ...   \n",
       "min                                 -799.960571  ...   \n",
       "25%                                 -501.018117  ...   \n",
       "50%                                 -500.017711  ...   \n",
       "75%                                 -498.994130  ...   \n",
       "max                                 -150.937035  ...   \n",
       "\n",
       "       secondary_cleaner.state.floatbank4_a_air  \\\n",
       "count                              5.290000e+03   \n",
       "mean                               1.632007e+01   \n",
       "std                                3.493583e+00   \n",
       "min                                1.079872e-16   \n",
       "25%                                1.403618e+01   \n",
       "50%                                1.700847e+01   \n",
       "75%                                1.803862e+01   \n",
       "max                                3.005180e+01   \n",
       "\n",
       "       secondary_cleaner.state.floatbank4_a_level  \\\n",
       "count                                 5290.000000   \n",
       "mean                                  -505.144570   \n",
       "std                                     31.427337   \n",
       "min                                   -799.798523   \n",
       "25%                                   -500.868258   \n",
       "50%                                   -500.115727   \n",
       "75%                                   -499.404224   \n",
       "max                                   -401.565212   \n",
       "\n",
       "       secondary_cleaner.state.floatbank4_b_air  \\\n",
       "count                              5.290000e+03   \n",
       "mean                               1.373544e+01   \n",
       "std                                3.430484e+00   \n",
       "min                                2.489718e-17   \n",
       "25%                                1.202862e+01   \n",
       "50%                                1.496486e+01   \n",
       "75%                                1.596213e+01   \n",
       "max                                3.126971e+01   \n",
       "\n",
       "       secondary_cleaner.state.floatbank4_b_level  \\\n",
       "count                                 5290.000000   \n",
       "mean                                  -463.349858   \n",
       "std                                     86.189107   \n",
       "min                                   -800.836914   \n",
       "25%                                   -500.323028   \n",
       "50%                                   -499.576513   \n",
       "75%                                   -400.933805   \n",
       "max                                     -6.506986   \n",
       "\n",
       "       secondary_cleaner.state.floatbank5_a_air  \\\n",
       "count                               5290.000000   \n",
       "mean                                  12.804186   \n",
       "std                                    3.026591   \n",
       "min                                    0.069227   \n",
       "25%                                   10.914838   \n",
       "50%                                   12.954182   \n",
       "75%                                   15.097528   \n",
       "max                                   25.258848   \n",
       "\n",
       "       secondary_cleaner.state.floatbank5_a_level  \\\n",
       "count                                 5290.000000   \n",
       "mean                                  -501.329122   \n",
       "std                                     17.951495   \n",
       "min                                   -797.323986   \n",
       "25%                                   -500.726841   \n",
       "50%                                   -499.990332   \n",
       "75%                                   -499.283191   \n",
       "max                                   -244.483566   \n",
       "\n",
       "       secondary_cleaner.state.floatbank5_b_air  \\\n",
       "count                               5290.000000   \n",
       "mean                                   9.881145   \n",
       "std                                    2.868205   \n",
       "min                                    0.528083   \n",
       "25%                                    8.036719   \n",
       "50%                                   10.004301   \n",
       "75%                                   11.997467   \n",
       "max                                   14.086866   \n",
       "\n",
       "       secondary_cleaner.state.floatbank5_b_level  \\\n",
       "count                                 5290.000000   \n",
       "mean                                  -495.663398   \n",
       "std                                     34.535007   \n",
       "min                                   -800.220337   \n",
       "25%                                   -500.194668   \n",
       "50%                                   -499.990535   \n",
       "75%                                   -499.719913   \n",
       "max                                   -137.740004   \n",
       "\n",
       "       secondary_cleaner.state.floatbank6_a_air  \\\n",
       "count                               5290.000000   \n",
       "mean                                  17.304935   \n",
       "std                                    4.536544   \n",
       "min                                   -0.079426   \n",
       "25%                                   13.997317   \n",
       "50%                                   16.014935   \n",
       "75%                                   21.020013   \n",
       "max                                   26.705889   \n",
       "\n",
       "       secondary_cleaner.state.floatbank6_a_level  \n",
       "count                                 5290.000000  \n",
       "mean                                  -501.793193  \n",
       "std                                     39.044215  \n",
       "min                                   -809.741464  \n",
       "25%                                   -500.690984  \n",
       "50%                                   -500.007126  \n",
       "75%                                   -499.373018  \n",
       "max                                   -123.307487  \n",
       "\n",
       "[8 rows x 52 columns]"
      ]
     },
     "execution_count": 9,
     "metadata": {},
     "output_type": "execute_result"
    }
   ],
   "source": [
    "data_test.describe()"
   ]
  },
  {
   "cell_type": "markdown",
   "metadata": {},
   "source": [
    "#### Полная выборка"
   ]
  },
  {
   "cell_type": "code",
   "execution_count": 10,
   "metadata": {},
   "outputs": [
    {
     "data": {
      "text/html": [
       "<div>\n",
       "<style scoped>\n",
       "    .dataframe tbody tr th:only-of-type {\n",
       "        vertical-align: middle;\n",
       "    }\n",
       "\n",
       "    .dataframe tbody tr th {\n",
       "        vertical-align: top;\n",
       "    }\n",
       "\n",
       "    .dataframe thead th {\n",
       "        text-align: right;\n",
       "    }\n",
       "</style>\n",
       "<table border=\"1\" class=\"dataframe\">\n",
       "  <thead>\n",
       "    <tr style=\"text-align: right;\">\n",
       "      <th></th>\n",
       "      <th>date</th>\n",
       "      <th>final.output.concentrate_ag</th>\n",
       "      <th>final.output.concentrate_pb</th>\n",
       "      <th>final.output.concentrate_sol</th>\n",
       "      <th>final.output.concentrate_au</th>\n",
       "      <th>final.output.recovery</th>\n",
       "      <th>final.output.tail_ag</th>\n",
       "      <th>final.output.tail_pb</th>\n",
       "      <th>final.output.tail_sol</th>\n",
       "      <th>final.output.tail_au</th>\n",
       "      <th>...</th>\n",
       "      <th>secondary_cleaner.state.floatbank4_a_air</th>\n",
       "      <th>secondary_cleaner.state.floatbank4_a_level</th>\n",
       "      <th>secondary_cleaner.state.floatbank4_b_air</th>\n",
       "      <th>secondary_cleaner.state.floatbank4_b_level</th>\n",
       "      <th>secondary_cleaner.state.floatbank5_a_air</th>\n",
       "      <th>secondary_cleaner.state.floatbank5_a_level</th>\n",
       "      <th>secondary_cleaner.state.floatbank5_b_air</th>\n",
       "      <th>secondary_cleaner.state.floatbank5_b_level</th>\n",
       "      <th>secondary_cleaner.state.floatbank6_a_air</th>\n",
       "      <th>secondary_cleaner.state.floatbank6_a_level</th>\n",
       "    </tr>\n",
       "  </thead>\n",
       "  <tbody>\n",
       "    <tr>\n",
       "      <th>0</th>\n",
       "      <td>2016-01-15 00:00:00</td>\n",
       "      <td>6.055403</td>\n",
       "      <td>9.889648</td>\n",
       "      <td>5.507324</td>\n",
       "      <td>42.192020</td>\n",
       "      <td>70.541216</td>\n",
       "      <td>10.411962</td>\n",
       "      <td>0.895447</td>\n",
       "      <td>16.904297</td>\n",
       "      <td>2.143149</td>\n",
       "      <td>...</td>\n",
       "      <td>14.016835</td>\n",
       "      <td>-502.488007</td>\n",
       "      <td>12.099931</td>\n",
       "      <td>-504.715942</td>\n",
       "      <td>9.925633</td>\n",
       "      <td>-498.310211</td>\n",
       "      <td>8.079666</td>\n",
       "      <td>-500.470978</td>\n",
       "      <td>14.151341</td>\n",
       "      <td>-605.841980</td>\n",
       "    </tr>\n",
       "    <tr>\n",
       "      <th>1</th>\n",
       "      <td>2016-01-15 01:00:00</td>\n",
       "      <td>6.029369</td>\n",
       "      <td>9.968944</td>\n",
       "      <td>5.257781</td>\n",
       "      <td>42.701629</td>\n",
       "      <td>69.266198</td>\n",
       "      <td>10.462676</td>\n",
       "      <td>0.927452</td>\n",
       "      <td>16.634514</td>\n",
       "      <td>2.224930</td>\n",
       "      <td>...</td>\n",
       "      <td>13.992281</td>\n",
       "      <td>-505.503262</td>\n",
       "      <td>11.950531</td>\n",
       "      <td>-501.331529</td>\n",
       "      <td>10.039245</td>\n",
       "      <td>-500.169983</td>\n",
       "      <td>7.984757</td>\n",
       "      <td>-500.582168</td>\n",
       "      <td>13.998353</td>\n",
       "      <td>-599.787184</td>\n",
       "    </tr>\n",
       "    <tr>\n",
       "      <th>2</th>\n",
       "      <td>2016-01-15 02:00:00</td>\n",
       "      <td>6.055926</td>\n",
       "      <td>10.213995</td>\n",
       "      <td>5.383759</td>\n",
       "      <td>42.657501</td>\n",
       "      <td>68.116445</td>\n",
       "      <td>10.507046</td>\n",
       "      <td>0.953716</td>\n",
       "      <td>16.208849</td>\n",
       "      <td>2.257889</td>\n",
       "      <td>...</td>\n",
       "      <td>14.015015</td>\n",
       "      <td>-502.520901</td>\n",
       "      <td>11.912783</td>\n",
       "      <td>-501.133383</td>\n",
       "      <td>10.070913</td>\n",
       "      <td>-500.129135</td>\n",
       "      <td>8.013877</td>\n",
       "      <td>-500.517572</td>\n",
       "      <td>14.028663</td>\n",
       "      <td>-601.427363</td>\n",
       "    </tr>\n",
       "    <tr>\n",
       "      <th>3</th>\n",
       "      <td>2016-01-15 03:00:00</td>\n",
       "      <td>6.047977</td>\n",
       "      <td>9.977019</td>\n",
       "      <td>4.858634</td>\n",
       "      <td>42.689819</td>\n",
       "      <td>68.347543</td>\n",
       "      <td>10.422762</td>\n",
       "      <td>0.883763</td>\n",
       "      <td>16.532835</td>\n",
       "      <td>2.146849</td>\n",
       "      <td>...</td>\n",
       "      <td>14.036510</td>\n",
       "      <td>-500.857308</td>\n",
       "      <td>11.999550</td>\n",
       "      <td>-501.193686</td>\n",
       "      <td>9.970366</td>\n",
       "      <td>-499.201640</td>\n",
       "      <td>7.977324</td>\n",
       "      <td>-500.255908</td>\n",
       "      <td>14.005551</td>\n",
       "      <td>-599.996129</td>\n",
       "    </tr>\n",
       "    <tr>\n",
       "      <th>4</th>\n",
       "      <td>2016-01-15 04:00:00</td>\n",
       "      <td>6.148599</td>\n",
       "      <td>10.142511</td>\n",
       "      <td>4.939416</td>\n",
       "      <td>42.774141</td>\n",
       "      <td>66.927016</td>\n",
       "      <td>10.360302</td>\n",
       "      <td>0.792826</td>\n",
       "      <td>16.525686</td>\n",
       "      <td>2.055292</td>\n",
       "      <td>...</td>\n",
       "      <td>14.027298</td>\n",
       "      <td>-499.838632</td>\n",
       "      <td>11.953070</td>\n",
       "      <td>-501.053894</td>\n",
       "      <td>9.925709</td>\n",
       "      <td>-501.686727</td>\n",
       "      <td>7.894242</td>\n",
       "      <td>-500.356035</td>\n",
       "      <td>13.996647</td>\n",
       "      <td>-601.496691</td>\n",
       "    </tr>\n",
       "  </tbody>\n",
       "</table>\n",
       "<p>5 rows × 87 columns</p>\n",
       "</div>"
      ],
      "text/plain": [
       "                  date  final.output.concentrate_ag  \\\n",
       "0  2016-01-15 00:00:00                     6.055403   \n",
       "1  2016-01-15 01:00:00                     6.029369   \n",
       "2  2016-01-15 02:00:00                     6.055926   \n",
       "3  2016-01-15 03:00:00                     6.047977   \n",
       "4  2016-01-15 04:00:00                     6.148599   \n",
       "\n",
       "   final.output.concentrate_pb  final.output.concentrate_sol  \\\n",
       "0                     9.889648                      5.507324   \n",
       "1                     9.968944                      5.257781   \n",
       "2                    10.213995                      5.383759   \n",
       "3                     9.977019                      4.858634   \n",
       "4                    10.142511                      4.939416   \n",
       "\n",
       "   final.output.concentrate_au  final.output.recovery  final.output.tail_ag  \\\n",
       "0                    42.192020              70.541216             10.411962   \n",
       "1                    42.701629              69.266198             10.462676   \n",
       "2                    42.657501              68.116445             10.507046   \n",
       "3                    42.689819              68.347543             10.422762   \n",
       "4                    42.774141              66.927016             10.360302   \n",
       "\n",
       "   final.output.tail_pb  final.output.tail_sol  final.output.tail_au  ...  \\\n",
       "0              0.895447              16.904297              2.143149  ...   \n",
       "1              0.927452              16.634514              2.224930  ...   \n",
       "2              0.953716              16.208849              2.257889  ...   \n",
       "3              0.883763              16.532835              2.146849  ...   \n",
       "4              0.792826              16.525686              2.055292  ...   \n",
       "\n",
       "   secondary_cleaner.state.floatbank4_a_air  \\\n",
       "0                                 14.016835   \n",
       "1                                 13.992281   \n",
       "2                                 14.015015   \n",
       "3                                 14.036510   \n",
       "4                                 14.027298   \n",
       "\n",
       "   secondary_cleaner.state.floatbank4_a_level  \\\n",
       "0                                 -502.488007   \n",
       "1                                 -505.503262   \n",
       "2                                 -502.520901   \n",
       "3                                 -500.857308   \n",
       "4                                 -499.838632   \n",
       "\n",
       "   secondary_cleaner.state.floatbank4_b_air  \\\n",
       "0                                 12.099931   \n",
       "1                                 11.950531   \n",
       "2                                 11.912783   \n",
       "3                                 11.999550   \n",
       "4                                 11.953070   \n",
       "\n",
       "   secondary_cleaner.state.floatbank4_b_level  \\\n",
       "0                                 -504.715942   \n",
       "1                                 -501.331529   \n",
       "2                                 -501.133383   \n",
       "3                                 -501.193686   \n",
       "4                                 -501.053894   \n",
       "\n",
       "   secondary_cleaner.state.floatbank5_a_air  \\\n",
       "0                                  9.925633   \n",
       "1                                 10.039245   \n",
       "2                                 10.070913   \n",
       "3                                  9.970366   \n",
       "4                                  9.925709   \n",
       "\n",
       "   secondary_cleaner.state.floatbank5_a_level  \\\n",
       "0                                 -498.310211   \n",
       "1                                 -500.169983   \n",
       "2                                 -500.129135   \n",
       "3                                 -499.201640   \n",
       "4                                 -501.686727   \n",
       "\n",
       "   secondary_cleaner.state.floatbank5_b_air  \\\n",
       "0                                  8.079666   \n",
       "1                                  7.984757   \n",
       "2                                  8.013877   \n",
       "3                                  7.977324   \n",
       "4                                  7.894242   \n",
       "\n",
       "   secondary_cleaner.state.floatbank5_b_level  \\\n",
       "0                                 -500.470978   \n",
       "1                                 -500.582168   \n",
       "2                                 -500.517572   \n",
       "3                                 -500.255908   \n",
       "4                                 -500.356035   \n",
       "\n",
       "   secondary_cleaner.state.floatbank6_a_air  \\\n",
       "0                                 14.151341   \n",
       "1                                 13.998353   \n",
       "2                                 14.028663   \n",
       "3                                 14.005551   \n",
       "4                                 13.996647   \n",
       "\n",
       "   secondary_cleaner.state.floatbank6_a_level  \n",
       "0                                 -605.841980  \n",
       "1                                 -599.787184  \n",
       "2                                 -601.427363  \n",
       "3                                 -599.996129  \n",
       "4                                 -601.496691  \n",
       "\n",
       "[5 rows x 87 columns]"
      ]
     },
     "execution_count": 10,
     "metadata": {},
     "output_type": "execute_result"
    }
   ],
   "source": [
    "data_full = pd.read_csv('/datasets/gold_recovery_full_new.csv')\n",
    "data_full.head()"
   ]
  },
  {
   "cell_type": "code",
   "execution_count": 11,
   "metadata": {},
   "outputs": [
    {
     "data": {
      "text/plain": [
       "(19439, 87)"
      ]
     },
     "execution_count": 11,
     "metadata": {},
     "output_type": "execute_result"
    }
   ],
   "source": [
    "data_full.shape"
   ]
  },
  {
   "cell_type": "code",
   "execution_count": 12,
   "metadata": {},
   "outputs": [
    {
     "name": "stdout",
     "output_type": "stream",
     "text": [
      "<class 'pandas.core.frame.DataFrame'>\n",
      "RangeIndex: 19439 entries, 0 to 19438\n",
      "Data columns (total 87 columns):\n",
      " #   Column                                              Non-Null Count  Dtype  \n",
      "---  ------                                              --------------  -----  \n",
      " 0   date                                                19439 non-null  object \n",
      " 1   final.output.concentrate_ag                         19438 non-null  float64\n",
      " 2   final.output.concentrate_pb                         19438 non-null  float64\n",
      " 3   final.output.concentrate_sol                        19228 non-null  float64\n",
      " 4   final.output.concentrate_au                         19439 non-null  float64\n",
      " 5   final.output.recovery                               19439 non-null  float64\n",
      " 6   final.output.tail_ag                                19438 non-null  float64\n",
      " 7   final.output.tail_pb                                19338 non-null  float64\n",
      " 8   final.output.tail_sol                               19433 non-null  float64\n",
      " 9   final.output.tail_au                                19439 non-null  float64\n",
      " 10  primary_cleaner.input.sulfate                       19415 non-null  float64\n",
      " 11  primary_cleaner.input.depressant                    19402 non-null  float64\n",
      " 12  primary_cleaner.input.feed_size                     19439 non-null  float64\n",
      " 13  primary_cleaner.input.xanthate                      19335 non-null  float64\n",
      " 14  primary_cleaner.output.concentrate_ag               19439 non-null  float64\n",
      " 15  primary_cleaner.output.concentrate_pb               19323 non-null  float64\n",
      " 16  primary_cleaner.output.concentrate_sol              19069 non-null  float64\n",
      " 17  primary_cleaner.output.concentrate_au               19439 non-null  float64\n",
      " 18  primary_cleaner.output.tail_ag                      19435 non-null  float64\n",
      " 19  primary_cleaner.output.tail_pb                      19418 non-null  float64\n",
      " 20  primary_cleaner.output.tail_sol                     19377 non-null  float64\n",
      " 21  primary_cleaner.output.tail_au                      19439 non-null  float64\n",
      " 22  primary_cleaner.state.floatbank8_a_air              19435 non-null  float64\n",
      " 23  primary_cleaner.state.floatbank8_a_level            19438 non-null  float64\n",
      " 24  primary_cleaner.state.floatbank8_b_air              19435 non-null  float64\n",
      " 25  primary_cleaner.state.floatbank8_b_level            19438 non-null  float64\n",
      " 26  primary_cleaner.state.floatbank8_c_air              19437 non-null  float64\n",
      " 27  primary_cleaner.state.floatbank8_c_level            19438 non-null  float64\n",
      " 28  primary_cleaner.state.floatbank8_d_air              19436 non-null  float64\n",
      " 29  primary_cleaner.state.floatbank8_d_level            19438 non-null  float64\n",
      " 30  rougher.calculation.sulfate_to_au_concentrate       19437 non-null  float64\n",
      " 31  rougher.calculation.floatbank10_sulfate_to_au_feed  19437 non-null  float64\n",
      " 32  rougher.calculation.floatbank11_sulfate_to_au_feed  19437 non-null  float64\n",
      " 33  rougher.calculation.au_pb_ratio                     19439 non-null  float64\n",
      " 34  rougher.input.feed_ag                               19439 non-null  float64\n",
      " 35  rougher.input.feed_pb                               19339 non-null  float64\n",
      " 36  rougher.input.feed_rate                             19428 non-null  float64\n",
      " 37  rougher.input.feed_size                             19294 non-null  float64\n",
      " 38  rougher.input.feed_sol                              19340 non-null  float64\n",
      " 39  rougher.input.feed_au                               19439 non-null  float64\n",
      " 40  rougher.input.floatbank10_sulfate                   19405 non-null  float64\n",
      " 41  rougher.input.floatbank10_xanthate                  19431 non-null  float64\n",
      " 42  rougher.input.floatbank11_sulfate                   19395 non-null  float64\n",
      " 43  rougher.input.floatbank11_xanthate                  18986 non-null  float64\n",
      " 44  rougher.output.concentrate_ag                       19439 non-null  float64\n",
      " 45  rougher.output.concentrate_pb                       19439 non-null  float64\n",
      " 46  rougher.output.concentrate_sol                      19416 non-null  float64\n",
      " 47  rougher.output.concentrate_au                       19439 non-null  float64\n",
      " 48  rougher.output.recovery                             19439 non-null  float64\n",
      " 49  rougher.output.tail_ag                              19438 non-null  float64\n",
      " 50  rougher.output.tail_pb                              19439 non-null  float64\n",
      " 51  rougher.output.tail_sol                             19439 non-null  float64\n",
      " 52  rougher.output.tail_au                              19439 non-null  float64\n",
      " 53  rougher.state.floatbank10_a_air                     19438 non-null  float64\n",
      " 54  rougher.state.floatbank10_a_level                   19438 non-null  float64\n",
      " 55  rougher.state.floatbank10_b_air                     19438 non-null  float64\n",
      " 56  rougher.state.floatbank10_b_level                   19438 non-null  float64\n",
      " 57  rougher.state.floatbank10_c_air                     19438 non-null  float64\n",
      " 58  rougher.state.floatbank10_c_level                   19438 non-null  float64\n",
      " 59  rougher.state.floatbank10_d_air                     19439 non-null  float64\n",
      " 60  rougher.state.floatbank10_d_level                   19439 non-null  float64\n",
      " 61  rougher.state.floatbank10_e_air                     19003 non-null  float64\n",
      " 62  rougher.state.floatbank10_e_level                   19439 non-null  float64\n",
      " 63  rougher.state.floatbank10_f_air                     19439 non-null  float64\n",
      " 64  rougher.state.floatbank10_f_level                   19439 non-null  float64\n",
      " 65  secondary_cleaner.output.tail_ag                    19437 non-null  float64\n",
      " 66  secondary_cleaner.output.tail_pb                    19427 non-null  float64\n",
      " 67  secondary_cleaner.output.tail_sol                   17691 non-null  float64\n",
      " 68  secondary_cleaner.output.tail_au                    19439 non-null  float64\n",
      " 69  secondary_cleaner.state.floatbank2_a_air            19219 non-null  float64\n",
      " 70  secondary_cleaner.state.floatbank2_a_level          19438 non-null  float64\n",
      " 71  secondary_cleaner.state.floatbank2_b_air            19416 non-null  float64\n",
      " 72  secondary_cleaner.state.floatbank2_b_level          19438 non-null  float64\n",
      " 73  secondary_cleaner.state.floatbank3_a_air            19426 non-null  float64\n",
      " 74  secondary_cleaner.state.floatbank3_a_level          19438 non-null  float64\n",
      " 75  secondary_cleaner.state.floatbank3_b_air            19438 non-null  float64\n",
      " 76  secondary_cleaner.state.floatbank3_b_level          19438 non-null  float64\n",
      " 77  secondary_cleaner.state.floatbank4_a_air            19433 non-null  float64\n",
      " 78  secondary_cleaner.state.floatbank4_a_level          19438 non-null  float64\n",
      " 79  secondary_cleaner.state.floatbank4_b_air            19438 non-null  float64\n",
      " 80  secondary_cleaner.state.floatbank4_b_level          19438 non-null  float64\n",
      " 81  secondary_cleaner.state.floatbank5_a_air            19438 non-null  float64\n",
      " 82  secondary_cleaner.state.floatbank5_a_level          19438 non-null  float64\n",
      " 83  secondary_cleaner.state.floatbank5_b_air            19438 non-null  float64\n",
      " 84  secondary_cleaner.state.floatbank5_b_level          19438 non-null  float64\n",
      " 85  secondary_cleaner.state.floatbank6_a_air            19437 non-null  float64\n",
      " 86  secondary_cleaner.state.floatbank6_a_level          19438 non-null  float64\n",
      "dtypes: float64(86), object(1)\n",
      "memory usage: 12.9+ MB\n"
     ]
    }
   ],
   "source": [
    "data_full.info()"
   ]
  },
  {
   "cell_type": "code",
   "execution_count": 13,
   "metadata": {
    "scrolled": false
   },
   "outputs": [
    {
     "data": {
      "text/html": [
       "<div>\n",
       "<style scoped>\n",
       "    .dataframe tbody tr th:only-of-type {\n",
       "        vertical-align: middle;\n",
       "    }\n",
       "\n",
       "    .dataframe tbody tr th {\n",
       "        vertical-align: top;\n",
       "    }\n",
       "\n",
       "    .dataframe thead th {\n",
       "        text-align: right;\n",
       "    }\n",
       "</style>\n",
       "<table border=\"1\" class=\"dataframe\">\n",
       "  <thead>\n",
       "    <tr style=\"text-align: right;\">\n",
       "      <th></th>\n",
       "      <th>final.output.concentrate_ag</th>\n",
       "      <th>final.output.concentrate_pb</th>\n",
       "      <th>final.output.concentrate_sol</th>\n",
       "      <th>final.output.concentrate_au</th>\n",
       "      <th>final.output.recovery</th>\n",
       "      <th>final.output.tail_ag</th>\n",
       "      <th>final.output.tail_pb</th>\n",
       "      <th>final.output.tail_sol</th>\n",
       "      <th>final.output.tail_au</th>\n",
       "      <th>primary_cleaner.input.sulfate</th>\n",
       "      <th>...</th>\n",
       "      <th>secondary_cleaner.state.floatbank4_a_air</th>\n",
       "      <th>secondary_cleaner.state.floatbank4_a_level</th>\n",
       "      <th>secondary_cleaner.state.floatbank4_b_air</th>\n",
       "      <th>secondary_cleaner.state.floatbank4_b_level</th>\n",
       "      <th>secondary_cleaner.state.floatbank5_a_air</th>\n",
       "      <th>secondary_cleaner.state.floatbank5_a_level</th>\n",
       "      <th>secondary_cleaner.state.floatbank5_b_air</th>\n",
       "      <th>secondary_cleaner.state.floatbank5_b_level</th>\n",
       "      <th>secondary_cleaner.state.floatbank6_a_air</th>\n",
       "      <th>secondary_cleaner.state.floatbank6_a_level</th>\n",
       "    </tr>\n",
       "  </thead>\n",
       "  <tbody>\n",
       "    <tr>\n",
       "      <th>count</th>\n",
       "      <td>19438.000000</td>\n",
       "      <td>19438.000000</td>\n",
       "      <td>19228.000000</td>\n",
       "      <td>19439.000000</td>\n",
       "      <td>19439.000000</td>\n",
       "      <td>19438.000000</td>\n",
       "      <td>19338.000000</td>\n",
       "      <td>19433.000000</td>\n",
       "      <td>19439.000000</td>\n",
       "      <td>19415.000000</td>\n",
       "      <td>...</td>\n",
       "      <td>19433.000000</td>\n",
       "      <td>19438.000000</td>\n",
       "      <td>19438.000000</td>\n",
       "      <td>19438.000000</td>\n",
       "      <td>19438.000000</td>\n",
       "      <td>19438.000000</td>\n",
       "      <td>19438.000000</td>\n",
       "      <td>19438.000000</td>\n",
       "      <td>19437.000000</td>\n",
       "      <td>19438.000000</td>\n",
       "    </tr>\n",
       "    <tr>\n",
       "      <th>mean</th>\n",
       "      <td>5.168470</td>\n",
       "      <td>9.978895</td>\n",
       "      <td>9.501224</td>\n",
       "      <td>44.076513</td>\n",
       "      <td>67.050208</td>\n",
       "      <td>9.688589</td>\n",
       "      <td>2.705795</td>\n",
       "      <td>10.583728</td>\n",
       "      <td>3.042467</td>\n",
       "      <td>144.624774</td>\n",
       "      <td>...</td>\n",
       "      <td>18.987674</td>\n",
       "      <td>-485.894516</td>\n",
       "      <td>15.010366</td>\n",
       "      <td>-461.078636</td>\n",
       "      <td>15.694452</td>\n",
       "      <td>-488.684065</td>\n",
       "      <td>12.198224</td>\n",
       "      <td>-487.149827</td>\n",
       "      <td>18.959024</td>\n",
       "      <td>-505.436305</td>\n",
       "    </tr>\n",
       "    <tr>\n",
       "      <th>std</th>\n",
       "      <td>1.372348</td>\n",
       "      <td>1.669240</td>\n",
       "      <td>2.787537</td>\n",
       "      <td>5.129784</td>\n",
       "      <td>10.125840</td>\n",
       "      <td>2.328642</td>\n",
       "      <td>0.949077</td>\n",
       "      <td>2.868782</td>\n",
       "      <td>0.922808</td>\n",
       "      <td>44.464071</td>\n",
       "      <td>...</td>\n",
       "      <td>5.411058</td>\n",
       "      <td>47.758570</td>\n",
       "      <td>4.890228</td>\n",
       "      <td>67.405524</td>\n",
       "      <td>5.510974</td>\n",
       "      <td>34.533396</td>\n",
       "      <td>5.333024</td>\n",
       "      <td>38.347312</td>\n",
       "      <td>5.550498</td>\n",
       "      <td>37.689057</td>\n",
       "    </tr>\n",
       "    <tr>\n",
       "      <th>min</th>\n",
       "      <td>0.000000</td>\n",
       "      <td>0.000000</td>\n",
       "      <td>0.000000</td>\n",
       "      <td>0.000000</td>\n",
       "      <td>0.000000</td>\n",
       "      <td>0.000000</td>\n",
       "      <td>0.000000</td>\n",
       "      <td>0.000000</td>\n",
       "      <td>0.000000</td>\n",
       "      <td>0.003112</td>\n",
       "      <td>...</td>\n",
       "      <td>0.000000</td>\n",
       "      <td>-799.798523</td>\n",
       "      <td>0.000000</td>\n",
       "      <td>-800.836914</td>\n",
       "      <td>-0.372054</td>\n",
       "      <td>-797.323986</td>\n",
       "      <td>0.528083</td>\n",
       "      <td>-800.220337</td>\n",
       "      <td>-0.079426</td>\n",
       "      <td>-809.741464</td>\n",
       "    </tr>\n",
       "    <tr>\n",
       "      <th>25%</th>\n",
       "      <td>4.251240</td>\n",
       "      <td>9.137262</td>\n",
       "      <td>7.722820</td>\n",
       "      <td>43.402215</td>\n",
       "      <td>63.299712</td>\n",
       "      <td>8.062878</td>\n",
       "      <td>2.040119</td>\n",
       "      <td>8.938947</td>\n",
       "      <td>2.461138</td>\n",
       "      <td>114.107029</td>\n",
       "      <td>...</td>\n",
       "      <td>14.975734</td>\n",
       "      <td>-500.704892</td>\n",
       "      <td>11.940294</td>\n",
       "      <td>-500.187742</td>\n",
       "      <td>10.988606</td>\n",
       "      <td>-500.458467</td>\n",
       "      <td>8.971105</td>\n",
       "      <td>-500.129462</td>\n",
       "      <td>14.983037</td>\n",
       "      <td>-500.728067</td>\n",
       "    </tr>\n",
       "    <tr>\n",
       "      <th>50%</th>\n",
       "      <td>5.066094</td>\n",
       "      <td>10.102433</td>\n",
       "      <td>9.218961</td>\n",
       "      <td>45.011244</td>\n",
       "      <td>68.172738</td>\n",
       "      <td>9.743623</td>\n",
       "      <td>2.748730</td>\n",
       "      <td>10.622456</td>\n",
       "      <td>2.984909</td>\n",
       "      <td>143.232103</td>\n",
       "      <td>...</td>\n",
       "      <td>18.017481</td>\n",
       "      <td>-499.837793</td>\n",
       "      <td>14.971014</td>\n",
       "      <td>-499.459786</td>\n",
       "      <td>15.000036</td>\n",
       "      <td>-499.802605</td>\n",
       "      <td>11.019433</td>\n",
       "      <td>-499.935317</td>\n",
       "      <td>19.960541</td>\n",
       "      <td>-500.048400</td>\n",
       "    </tr>\n",
       "    <tr>\n",
       "      <th>75%</th>\n",
       "      <td>5.895527</td>\n",
       "      <td>11.035769</td>\n",
       "      <td>10.947813</td>\n",
       "      <td>46.275313</td>\n",
       "      <td>72.686642</td>\n",
       "      <td>11.134294</td>\n",
       "      <td>3.333216</td>\n",
       "      <td>12.104271</td>\n",
       "      <td>3.571351</td>\n",
       "      <td>175.075656</td>\n",
       "      <td>...</td>\n",
       "      <td>23.012470</td>\n",
       "      <td>-498.249730</td>\n",
       "      <td>19.034162</td>\n",
       "      <td>-400.118106</td>\n",
       "      <td>18.026190</td>\n",
       "      <td>-498.384187</td>\n",
       "      <td>14.019088</td>\n",
       "      <td>-499.436708</td>\n",
       "      <td>24.003170</td>\n",
       "      <td>-499.495378</td>\n",
       "    </tr>\n",
       "    <tr>\n",
       "      <th>max</th>\n",
       "      <td>16.001945</td>\n",
       "      <td>17.031899</td>\n",
       "      <td>19.615720</td>\n",
       "      <td>52.756638</td>\n",
       "      <td>100.000000</td>\n",
       "      <td>19.552149</td>\n",
       "      <td>5.804178</td>\n",
       "      <td>22.317730</td>\n",
       "      <td>8.245022</td>\n",
       "      <td>265.983123</td>\n",
       "      <td>...</td>\n",
       "      <td>30.115735</td>\n",
       "      <td>-245.239184</td>\n",
       "      <td>31.269706</td>\n",
       "      <td>-6.506986</td>\n",
       "      <td>43.709931</td>\n",
       "      <td>-244.483566</td>\n",
       "      <td>27.926001</td>\n",
       "      <td>-137.740004</td>\n",
       "      <td>32.188906</td>\n",
       "      <td>-104.427459</td>\n",
       "    </tr>\n",
       "  </tbody>\n",
       "</table>\n",
       "<p>8 rows × 86 columns</p>\n",
       "</div>"
      ],
      "text/plain": [
       "       final.output.concentrate_ag  final.output.concentrate_pb  \\\n",
       "count                 19438.000000                 19438.000000   \n",
       "mean                      5.168470                     9.978895   \n",
       "std                       1.372348                     1.669240   \n",
       "min                       0.000000                     0.000000   \n",
       "25%                       4.251240                     9.137262   \n",
       "50%                       5.066094                    10.102433   \n",
       "75%                       5.895527                    11.035769   \n",
       "max                      16.001945                    17.031899   \n",
       "\n",
       "       final.output.concentrate_sol  final.output.concentrate_au  \\\n",
       "count                  19228.000000                 19439.000000   \n",
       "mean                       9.501224                    44.076513   \n",
       "std                        2.787537                     5.129784   \n",
       "min                        0.000000                     0.000000   \n",
       "25%                        7.722820                    43.402215   \n",
       "50%                        9.218961                    45.011244   \n",
       "75%                       10.947813                    46.275313   \n",
       "max                       19.615720                    52.756638   \n",
       "\n",
       "       final.output.recovery  final.output.tail_ag  final.output.tail_pb  \\\n",
       "count           19439.000000          19438.000000          19338.000000   \n",
       "mean               67.050208              9.688589              2.705795   \n",
       "std                10.125840              2.328642              0.949077   \n",
       "min                 0.000000              0.000000              0.000000   \n",
       "25%                63.299712              8.062878              2.040119   \n",
       "50%                68.172738              9.743623              2.748730   \n",
       "75%                72.686642             11.134294              3.333216   \n",
       "max               100.000000             19.552149              5.804178   \n",
       "\n",
       "       final.output.tail_sol  final.output.tail_au  \\\n",
       "count           19433.000000          19439.000000   \n",
       "mean               10.583728              3.042467   \n",
       "std                 2.868782              0.922808   \n",
       "min                 0.000000              0.000000   \n",
       "25%                 8.938947              2.461138   \n",
       "50%                10.622456              2.984909   \n",
       "75%                12.104271              3.571351   \n",
       "max                22.317730              8.245022   \n",
       "\n",
       "       primary_cleaner.input.sulfate  ...  \\\n",
       "count                   19415.000000  ...   \n",
       "mean                      144.624774  ...   \n",
       "std                        44.464071  ...   \n",
       "min                         0.003112  ...   \n",
       "25%                       114.107029  ...   \n",
       "50%                       143.232103  ...   \n",
       "75%                       175.075656  ...   \n",
       "max                       265.983123  ...   \n",
       "\n",
       "       secondary_cleaner.state.floatbank4_a_air  \\\n",
       "count                              19433.000000   \n",
       "mean                                  18.987674   \n",
       "std                                    5.411058   \n",
       "min                                    0.000000   \n",
       "25%                                   14.975734   \n",
       "50%                                   18.017481   \n",
       "75%                                   23.012470   \n",
       "max                                   30.115735   \n",
       "\n",
       "       secondary_cleaner.state.floatbank4_a_level  \\\n",
       "count                                19438.000000   \n",
       "mean                                  -485.894516   \n",
       "std                                     47.758570   \n",
       "min                                   -799.798523   \n",
       "25%                                   -500.704892   \n",
       "50%                                   -499.837793   \n",
       "75%                                   -498.249730   \n",
       "max                                   -245.239184   \n",
       "\n",
       "       secondary_cleaner.state.floatbank4_b_air  \\\n",
       "count                              19438.000000   \n",
       "mean                                  15.010366   \n",
       "std                                    4.890228   \n",
       "min                                    0.000000   \n",
       "25%                                   11.940294   \n",
       "50%                                   14.971014   \n",
       "75%                                   19.034162   \n",
       "max                                   31.269706   \n",
       "\n",
       "       secondary_cleaner.state.floatbank4_b_level  \\\n",
       "count                                19438.000000   \n",
       "mean                                  -461.078636   \n",
       "std                                     67.405524   \n",
       "min                                   -800.836914   \n",
       "25%                                   -500.187742   \n",
       "50%                                   -499.459786   \n",
       "75%                                   -400.118106   \n",
       "max                                     -6.506986   \n",
       "\n",
       "       secondary_cleaner.state.floatbank5_a_air  \\\n",
       "count                              19438.000000   \n",
       "mean                                  15.694452   \n",
       "std                                    5.510974   \n",
       "min                                   -0.372054   \n",
       "25%                                   10.988606   \n",
       "50%                                   15.000036   \n",
       "75%                                   18.026190   \n",
       "max                                   43.709931   \n",
       "\n",
       "       secondary_cleaner.state.floatbank5_a_level  \\\n",
       "count                                19438.000000   \n",
       "mean                                  -488.684065   \n",
       "std                                     34.533396   \n",
       "min                                   -797.323986   \n",
       "25%                                   -500.458467   \n",
       "50%                                   -499.802605   \n",
       "75%                                   -498.384187   \n",
       "max                                   -244.483566   \n",
       "\n",
       "       secondary_cleaner.state.floatbank5_b_air  \\\n",
       "count                              19438.000000   \n",
       "mean                                  12.198224   \n",
       "std                                    5.333024   \n",
       "min                                    0.528083   \n",
       "25%                                    8.971105   \n",
       "50%                                   11.019433   \n",
       "75%                                   14.019088   \n",
       "max                                   27.926001   \n",
       "\n",
       "       secondary_cleaner.state.floatbank5_b_level  \\\n",
       "count                                19438.000000   \n",
       "mean                                  -487.149827   \n",
       "std                                     38.347312   \n",
       "min                                   -800.220337   \n",
       "25%                                   -500.129462   \n",
       "50%                                   -499.935317   \n",
       "75%                                   -499.436708   \n",
       "max                                   -137.740004   \n",
       "\n",
       "       secondary_cleaner.state.floatbank6_a_air  \\\n",
       "count                              19437.000000   \n",
       "mean                                  18.959024   \n",
       "std                                    5.550498   \n",
       "min                                   -0.079426   \n",
       "25%                                   14.983037   \n",
       "50%                                   19.960541   \n",
       "75%                                   24.003170   \n",
       "max                                   32.188906   \n",
       "\n",
       "       secondary_cleaner.state.floatbank6_a_level  \n",
       "count                                19438.000000  \n",
       "mean                                  -505.436305  \n",
       "std                                     37.689057  \n",
       "min                                   -809.741464  \n",
       "25%                                   -500.728067  \n",
       "50%                                   -500.048400  \n",
       "75%                                   -499.495378  \n",
       "max                                   -104.427459  \n",
       "\n",
       "[8 rows x 86 columns]"
      ]
     },
     "execution_count": 13,
     "metadata": {},
     "output_type": "execute_result"
    }
   ],
   "source": [
    "data_full.describe()"
   ]
  },
  {
   "cell_type": "markdown",
   "metadata": {},
   "source": [
    "**Вывод**\n",
    "\n",
    "* Исходный датасет содержит обучающую и тестовую выборки со всеми признаками\n",
    "* Во всех трех датасетах присутствует небольшое количество пропусков\n",
    "* Данные индексируются датой и временем получения информации (признак `date`)\n",
    "* В распоряжении сырые данные, выгруженные из хранилища. Признаки измеряются в неизвестных величинах, в разных диапазонах, требуется масшабирование признаков\n",
    "* Исходные данные разделены неравномерно. В тестовую выборку не попали данные из 1-й и последней четвертей исходного датафрейма\n",
    "* В тестовой выборке присутствуют только входные параметры сырья/реагентов и настройки технологического процесса. Все остальные признаки измеряются/рассчитываются позже, становятся известными вместе с параметрами финального концентрата, и недоступны в тестовой выборке.\n",
    "* Целевыми признаками являются `rougher.output.recovery` и `final.output.recovery`\n",
    "* В тестовой выборке отсутствует целевые признаки"
   ]
  },
  {
   "cell_type": "markdown",
   "metadata": {},
   "source": [
    "### Расчет эффективности обогащения концентрата"
   ]
  },
  {
   "cell_type": "markdown",
   "metadata": {},
   "source": [
    "Убедимся, что эффективность обогащения рассчитана правильно"
   ]
  },
  {
   "cell_type": "markdown",
   "metadata": {},
   "source": [
    "Подготовим фукцию для расчета recovery"
   ]
  },
  {
   "cell_type": "code",
   "execution_count": 14,
   "metadata": {},
   "outputs": [],
   "source": [
    "def get_rougher_recovery(row):\n",
    "    C = row['rougher.output.concentrate_au']\n",
    "    F = row['rougher.input.feed_au']\n",
    "    T = row['rougher.output.tail_au']\n",
    "\n",
    "    return ( (C * (F - T)) / (F * (C - T)) ) * 100"
   ]
  },
  {
   "cell_type": "markdown",
   "metadata": {},
   "source": [
    "Воспользуемся функцией для расчета эффективности обогащения чернового концентрата"
   ]
  },
  {
   "cell_type": "code",
   "execution_count": 15,
   "metadata": {
    "scrolled": false
   },
   "outputs": [
    {
     "data": {
      "text/plain": [
       "<AxesSubplot:>"
      ]
     },
     "execution_count": 15,
     "metadata": {},
     "output_type": "execute_result"
    },
    {
     "data": {
      "image/png": "[encoded data removed]",
      "text/plain": [
       "<Figure size 432x288 with 1 Axes>"
      ]
     },
     "metadata": {
      "needs_background": "light"
     },
     "output_type": "display_data"
    }
   ],
   "source": [
    "rougher_recovery_calculated = data_train.apply(get_rougher_recovery, axis=1)\n",
    "rougher_recovery_calculated.hist()"
   ]
  },
  {
   "cell_type": "markdown",
   "metadata": {},
   "source": [
    "Найдем MAE между расчётами и значением признака"
   ]
  },
  {
   "cell_type": "code",
   "execution_count": 16,
   "metadata": {
    "scrolled": true
   },
   "outputs": [
    {
     "name": "stdout",
     "output_type": "stream",
     "text": [
      "MAE: 9.73512347450521e-15\n",
      "mean rougher.output.recovery: 82.70450164550293\n"
     ]
    }
   ],
   "source": [
    "mae = mean_absolute_error(data_train['rougher.output.recovery'], rougher_recovery_calculated)\n",
    "print('MAE:', mae)\n",
    "print('mean rougher.output.recovery:', data_train['rougher.output.recovery'].mean())"
   ]
  },
  {
   "cell_type": "markdown",
   "metadata": {},
   "source": [
    "**Вывод**\n",
    "\n",
    "MAE между расчетами и значениями признака получилось близко к 0, можно сделать вывод о корректности расчета recovery в датасете"
   ]
  },
  {
   "cell_type": "markdown",
   "metadata": {},
   "source": [
    "### Предобработка данных"
   ]
  },
  {
   "cell_type": "markdown",
   "metadata": {},
   "source": [
    "#### Тестовая выборка"
   ]
  },
  {
   "cell_type": "markdown",
   "metadata": {},
   "source": [
    "По условию данные индексируются датой и временем получения информации (признак `date`). Соседние по времени параметры часто похожи. Поэтому заполним отсутствующие значения методом `ffill`, заполняющим пропуски предыдущими известными значениями.\n",
    "\n",
    "Кроме того, в условии сказано, что данные индексируются датой и временем в столбце `date`, таким образом, можно установить колонку `date` в качестве индекса.\n",
    "\n",
    "Также, необходимо добавить в тестовую выборку целевые признаки из полной выборки в соответствии с индексами."
   ]
  },
  {
   "cell_type": "code",
   "execution_count": 17,
   "metadata": {},
   "outputs": [
    {
     "name": "stdout",
     "output_type": "stream",
     "text": [
      "<class 'pandas.core.frame.DataFrame'>\n",
      "Index: 5290 entries, 2016-09-01 00:59:59 to 2017-12-31 23:59:59\n",
      "Data columns (total 54 columns):\n",
      " #   Column                                      Non-Null Count  Dtype  \n",
      "---  ------                                      --------------  -----  \n",
      " 0   primary_cleaner.input.sulfate               5290 non-null   float64\n",
      " 1   primary_cleaner.input.depressant            5290 non-null   float64\n",
      " 2   primary_cleaner.input.feed_size             5290 non-null   float64\n",
      " 3   primary_cleaner.input.xanthate              5290 non-null   float64\n",
      " 4   primary_cleaner.state.floatbank8_a_air      5290 non-null   float64\n",
      " 5   primary_cleaner.state.floatbank8_a_level    5290 non-null   float64\n",
      " 6   primary_cleaner.state.floatbank8_b_air      5290 non-null   float64\n",
      " 7   primary_cleaner.state.floatbank8_b_level    5290 non-null   float64\n",
      " 8   primary_cleaner.state.floatbank8_c_air      5290 non-null   float64\n",
      " 9   primary_cleaner.state.floatbank8_c_level    5290 non-null   float64\n",
      " 10  primary_cleaner.state.floatbank8_d_air      5290 non-null   float64\n",
      " 11  primary_cleaner.state.floatbank8_d_level    5290 non-null   float64\n",
      " 12  rougher.input.feed_ag                       5290 non-null   float64\n",
      " 13  rougher.input.feed_pb                       5290 non-null   float64\n",
      " 14  rougher.input.feed_rate                     5290 non-null   float64\n",
      " 15  rougher.input.feed_size                     5290 non-null   float64\n",
      " 16  rougher.input.feed_sol                      5290 non-null   float64\n",
      " 17  rougher.input.feed_au                       5290 non-null   float64\n",
      " 18  rougher.input.floatbank10_sulfate           5290 non-null   float64\n",
      " 19  rougher.input.floatbank10_xanthate          5290 non-null   float64\n",
      " 20  rougher.input.floatbank11_sulfate           5290 non-null   float64\n",
      " 21  rougher.input.floatbank11_xanthate          5290 non-null   float64\n",
      " 22  rougher.state.floatbank10_a_air             5290 non-null   float64\n",
      " 23  rougher.state.floatbank10_a_level           5290 non-null   float64\n",
      " 24  rougher.state.floatbank10_b_air             5290 non-null   float64\n",
      " 25  rougher.state.floatbank10_b_level           5290 non-null   float64\n",
      " 26  rougher.state.floatbank10_c_air             5290 non-null   float64\n",
      " 27  rougher.state.floatbank10_c_level           5290 non-null   float64\n",
      " 28  rougher.state.floatbank10_d_air             5290 non-null   float64\n",
      " 29  rougher.state.floatbank10_d_level           5290 non-null   float64\n",
      " 30  rougher.state.floatbank10_e_air             5290 non-null   float64\n",
      " 31  rougher.state.floatbank10_e_level           5290 non-null   float64\n",
      " 32  rougher.state.floatbank10_f_air             5290 non-null   float64\n",
      " 33  rougher.state.floatbank10_f_level           5290 non-null   float64\n",
      " 34  secondary_cleaner.state.floatbank2_a_air    5290 non-null   float64\n",
      " 35  secondary_cleaner.state.floatbank2_a_level  5290 non-null   float64\n",
      " 36  secondary_cleaner.state.floatbank2_b_air    5290 non-null   float64\n",
      " 37  secondary_cleaner.state.floatbank2_b_level  5290 non-null   float64\n",
      " 38  secondary_cleaner.state.floatbank3_a_air    5290 non-null   float64\n",
      " 39  secondary_cleaner.state.floatbank3_a_level  5290 non-null   float64\n",
      " 40  secondary_cleaner.state.floatbank3_b_air    5290 non-null   float64\n",
      " 41  secondary_cleaner.state.floatbank3_b_level  5290 non-null   float64\n",
      " 42  secondary_cleaner.state.floatbank4_a_air    5290 non-null   float64\n",
      " 43  secondary_cleaner.state.floatbank4_a_level  5290 non-null   float64\n",
      " 44  secondary_cleaner.state.floatbank4_b_air    5290 non-null   float64\n",
      " 45  secondary_cleaner.state.floatbank4_b_level  5290 non-null   float64\n",
      " 46  secondary_cleaner.state.floatbank5_a_air    5290 non-null   float64\n",
      " 47  secondary_cleaner.state.floatbank5_a_level  5290 non-null   float64\n",
      " 48  secondary_cleaner.state.floatbank5_b_air    5290 non-null   float64\n",
      " 49  secondary_cleaner.state.floatbank5_b_level  5290 non-null   float64\n",
      " 50  secondary_cleaner.state.floatbank6_a_air    5290 non-null   float64\n",
      " 51  secondary_cleaner.state.floatbank6_a_level  5290 non-null   float64\n",
      " 52  rougher.output.recovery                     5290 non-null   float64\n",
      " 53  final.output.recovery                       5290 non-null   float64\n",
      "dtypes: float64(54)\n",
      "memory usage: 2.3+ MB\n"
     ]
    }
   ],
   "source": [
    "data_test_prepared = data_test.set_index('date') \\\n",
    "                    .join( data_full.set_index('date')[['rougher.output.recovery', 'final.output.recovery']] ) \\\n",
    "                    .fillna(method='ffill')\n",
    "data_test_prepared.info()"
   ]
  },
  {
   "cell_type": "markdown",
   "metadata": {},
   "source": [
    "#### Полная выборка"
   ]
  },
  {
   "cell_type": "markdown",
   "metadata": {},
   "source": [
    "Проверим на дубликаты"
   ]
  },
  {
   "cell_type": "code",
   "execution_count": 18,
   "metadata": {},
   "outputs": [
    {
     "data": {
      "text/plain": [
       "0"
      ]
     },
     "execution_count": 18,
     "metadata": {},
     "output_type": "execute_result"
    }
   ],
   "source": [
    "data_full.duplicated().sum()"
   ]
  },
  {
   "cell_type": "code",
   "execution_count": 19,
   "metadata": {},
   "outputs": [
    {
     "data": {
      "text/plain": [
       "0"
      ]
     },
     "execution_count": 19,
     "metadata": {},
     "output_type": "execute_result"
    }
   ],
   "source": [
    "data_full['date'].duplicated().sum()"
   ]
  },
  {
   "cell_type": "markdown",
   "metadata": {},
   "source": [
    "Подготовим полную выборку заполнив пропуски предыдущими известными значениями и установив столбец `date` в качестве индекса"
   ]
  },
  {
   "cell_type": "code",
   "execution_count": 20,
   "metadata": {
    "scrolled": false
   },
   "outputs": [
    {
     "name": "stdout",
     "output_type": "stream",
     "text": [
      "<class 'pandas.core.frame.DataFrame'>\n",
      "Index: 19439 entries, 2016-01-15 00:00:00 to 2018-08-18 10:59:59\n",
      "Data columns (total 86 columns):\n",
      " #   Column                                              Non-Null Count  Dtype  \n",
      "---  ------                                              --------------  -----  \n",
      " 0   final.output.concentrate_ag                         19439 non-null  float64\n",
      " 1   final.output.concentrate_pb                         19439 non-null  float64\n",
      " 2   final.output.concentrate_sol                        19439 non-null  float64\n",
      " 3   final.output.concentrate_au                         19439 non-null  float64\n",
      " 4   final.output.recovery                               19439 non-null  float64\n",
      " 5   final.output.tail_ag                                19439 non-null  float64\n",
      " 6   final.output.tail_pb                                19439 non-null  float64\n",
      " 7   final.output.tail_sol                               19439 non-null  float64\n",
      " 8   final.output.tail_au                                19439 non-null  float64\n",
      " 9   primary_cleaner.input.sulfate                       19439 non-null  float64\n",
      " 10  primary_cleaner.input.depressant                    19439 non-null  float64\n",
      " 11  primary_cleaner.input.feed_size                     19439 non-null  float64\n",
      " 12  primary_cleaner.input.xanthate                      19439 non-null  float64\n",
      " 13  primary_cleaner.output.concentrate_ag               19439 non-null  float64\n",
      " 14  primary_cleaner.output.concentrate_pb               19439 non-null  float64\n",
      " 15  primary_cleaner.output.concentrate_sol              19439 non-null  float64\n",
      " 16  primary_cleaner.output.concentrate_au               19439 non-null  float64\n",
      " 17  primary_cleaner.output.tail_ag                      19439 non-null  float64\n",
      " 18  primary_cleaner.output.tail_pb                      19439 non-null  float64\n",
      " 19  primary_cleaner.output.tail_sol                     19439 non-null  float64\n",
      " 20  primary_cleaner.output.tail_au                      19439 non-null  float64\n",
      " 21  primary_cleaner.state.floatbank8_a_air              19439 non-null  float64\n",
      " 22  primary_cleaner.state.floatbank8_a_level            19439 non-null  float64\n",
      " 23  primary_cleaner.state.floatbank8_b_air              19439 non-null  float64\n",
      " 24  primary_cleaner.state.floatbank8_b_level            19439 non-null  float64\n",
      " 25  primary_cleaner.state.floatbank8_c_air              19439 non-null  float64\n",
      " 26  primary_cleaner.state.floatbank8_c_level            19439 non-null  float64\n",
      " 27  primary_cleaner.state.floatbank8_d_air              19439 non-null  float64\n",
      " 28  primary_cleaner.state.floatbank8_d_level            19439 non-null  float64\n",
      " 29  rougher.calculation.sulfate_to_au_concentrate       19439 non-null  float64\n",
      " 30  rougher.calculation.floatbank10_sulfate_to_au_feed  19439 non-null  float64\n",
      " 31  rougher.calculation.floatbank11_sulfate_to_au_feed  19439 non-null  float64\n",
      " 32  rougher.calculation.au_pb_ratio                     19439 non-null  float64\n",
      " 33  rougher.input.feed_ag                               19439 non-null  float64\n",
      " 34  rougher.input.feed_pb                               19439 non-null  float64\n",
      " 35  rougher.input.feed_rate                             19439 non-null  float64\n",
      " 36  rougher.input.feed_size                             19439 non-null  float64\n",
      " 37  rougher.input.feed_sol                              19439 non-null  float64\n",
      " 38  rougher.input.feed_au                               19439 non-null  float64\n",
      " 39  rougher.input.floatbank10_sulfate                   19439 non-null  float64\n",
      " 40  rougher.input.floatbank10_xanthate                  19439 non-null  float64\n",
      " 41  rougher.input.floatbank11_sulfate                   19439 non-null  float64\n",
      " 42  rougher.input.floatbank11_xanthate                  19439 non-null  float64\n",
      " 43  rougher.output.concentrate_ag                       19439 non-null  float64\n",
      " 44  rougher.output.concentrate_pb                       19439 non-null  float64\n",
      " 45  rougher.output.concentrate_sol                      19439 non-null  float64\n",
      " 46  rougher.output.concentrate_au                       19439 non-null  float64\n",
      " 47  rougher.output.recovery                             19439 non-null  float64\n",
      " 48  rougher.output.tail_ag                              19439 non-null  float64\n",
      " 49  rougher.output.tail_pb                              19439 non-null  float64\n",
      " 50  rougher.output.tail_sol                             19439 non-null  float64\n",
      " 51  rougher.output.tail_au                              19439 non-null  float64\n",
      " 52  rougher.state.floatbank10_a_air                     19439 non-null  float64\n",
      " 53  rougher.state.floatbank10_a_level                   19439 non-null  float64\n",
      " 54  rougher.state.floatbank10_b_air                     19439 non-null  float64\n",
      " 55  rougher.state.floatbank10_b_level                   19439 non-null  float64\n",
      " 56  rougher.state.floatbank10_c_air                     19439 non-null  float64\n",
      " 57  rougher.state.floatbank10_c_level                   19439 non-null  float64\n",
      " 58  rougher.state.floatbank10_d_air                     19439 non-null  float64\n",
      " 59  rougher.state.floatbank10_d_level                   19439 non-null  float64\n",
      " 60  rougher.state.floatbank10_e_air                     19439 non-null  float64\n",
      " 61  rougher.state.floatbank10_e_level                   19439 non-null  float64\n",
      " 62  rougher.state.floatbank10_f_air                     19439 non-null  float64\n",
      " 63  rougher.state.floatbank10_f_level                   19439 non-null  float64\n",
      " 64  secondary_cleaner.output.tail_ag                    19439 non-null  float64\n",
      " 65  secondary_cleaner.output.tail_pb                    19439 non-null  float64\n",
      " 66  secondary_cleaner.output.tail_sol                   19439 non-null  float64\n",
      " 67  secondary_cleaner.output.tail_au                    19439 non-null  float64\n",
      " 68  secondary_cleaner.state.floatbank2_a_air            19439 non-null  float64\n",
      " 69  secondary_cleaner.state.floatbank2_a_level          19439 non-null  float64\n",
      " 70  secondary_cleaner.state.floatbank2_b_air            19439 non-null  float64\n",
      " 71  secondary_cleaner.state.floatbank2_b_level          19439 non-null  float64\n",
      " 72  secondary_cleaner.state.floatbank3_a_air            19439 non-null  float64\n",
      " 73  secondary_cleaner.state.floatbank3_a_level          19439 non-null  float64\n",
      " 74  secondary_cleaner.state.floatbank3_b_air            19439 non-null  float64\n",
      " 75  secondary_cleaner.state.floatbank3_b_level          19439 non-null  float64\n",
      " 76  secondary_cleaner.state.floatbank4_a_air            19439 non-null  float64\n",
      " 77  secondary_cleaner.state.floatbank4_a_level          19439 non-null  float64\n",
      " 78  secondary_cleaner.state.floatbank4_b_air            19439 non-null  float64\n",
      " 79  secondary_cleaner.state.floatbank4_b_level          19439 non-null  float64\n",
      " 80  secondary_cleaner.state.floatbank5_a_air            19439 non-null  float64\n",
      " 81  secondary_cleaner.state.floatbank5_a_level          19439 non-null  float64\n",
      " 82  secondary_cleaner.state.floatbank5_b_air            19439 non-null  float64\n",
      " 83  secondary_cleaner.state.floatbank5_b_level          19439 non-null  float64\n",
      " 84  secondary_cleaner.state.floatbank6_a_air            19439 non-null  float64\n",
      " 85  secondary_cleaner.state.floatbank6_a_level          19439 non-null  float64\n",
      "dtypes: float64(86)\n",
      "memory usage: 12.9+ MB\n"
     ]
    }
   ],
   "source": [
    "data_full_prepared = data_full.fillna(method='ffill') \\\n",
    "                    .set_index('date')\n",
    "data_full_prepared.info()"
   ]
  },
  {
   "cell_type": "markdown",
   "metadata": {},
   "source": [
    "Проверим корреляцию признаков"
   ]
  },
  {
   "cell_type": "code",
   "execution_count": 21,
   "metadata": {},
   "outputs": [],
   "source": [
    "data_full_prepared_temp = data_full_prepared[data_test_prepared.columns.to_list()]"
   ]
  },
  {
   "cell_type": "code",
   "execution_count": 22,
   "metadata": {
    "scrolled": true
   },
   "outputs": [
    {
     "data": {
      "image/png": "[encoded data removed]",
      "text/plain": [
       "<Figure size 1080x720 with 2 Axes>"
      ]
     },
     "metadata": {
      "needs_background": "light"
     },
     "output_type": "display_data"
    }
   ],
   "source": [
    "plt.figure(figsize = (15,10))\n",
    "ax = sns.heatmap(data_full_prepared_temp.corr())"
   ]
  },
  {
   "cell_type": "markdown",
   "metadata": {},
   "source": [
    "Параметры флотационной установки сильно коррелируют друг с другом. Найдем конкретные параметры с корреляцией выше 0.9"
   ]
  },
  {
   "cell_type": "code",
   "execution_count": 23,
   "metadata": {},
   "outputs": [],
   "source": [
    "def get_high_corr_colnames(dataset, threshold):\n",
    "    high_corr_colnames = set()\n",
    "    corr_matrix = dataset.corr()\n",
    "    for i in range(len(corr_matrix.columns)):\n",
    "        for j in range(i):\n",
    "            if corr_matrix.iloc[i, j] >= threshold:\n",
    "                colname = corr_matrix.columns[i]\n",
    "                print(colname)\n",
    "                high_corr_colnames.add(colname)\n",
    "    return high_corr_colnames"
   ]
  },
  {
   "cell_type": "code",
   "execution_count": 24,
   "metadata": {},
   "outputs": [
    {
     "name": "stdout",
     "output_type": "stream",
     "text": [
      "primary_cleaner.state.floatbank8_b_air\n",
      "primary_cleaner.state.floatbank8_c_air\n",
      "primary_cleaner.state.floatbank8_c_air\n",
      "primary_cleaner.state.floatbank8_c_level\n",
      "rougher.state.floatbank10_c_air\n",
      "rougher.state.floatbank10_c_level\n",
      "rougher.state.floatbank10_d_air\n",
      "rougher.state.floatbank10_d_air\n",
      "rougher.state.floatbank10_d_level\n",
      "rougher.state.floatbank10_d_level\n",
      "rougher.state.floatbank10_e_level\n",
      "rougher.state.floatbank10_e_level\n",
      "rougher.state.floatbank10_e_level\n",
      "rougher.state.floatbank10_f_air\n",
      "rougher.state.floatbank10_f_level\n",
      "rougher.state.floatbank10_f_level\n",
      "rougher.state.floatbank10_f_level\n",
      "rougher.state.floatbank10_f_level\n",
      "secondary_cleaner.state.floatbank2_b_level\n"
     ]
    }
   ],
   "source": [
    "high_corr_colnames = get_high_corr_colnames(data_full_prepared_temp, .9)"
   ]
  },
  {
   "cell_type": "markdown",
   "metadata": {},
   "source": [
    "Сильно коррелированные друг с другом переменные дают модели одну и ту же информацию, следовательно, для анализа не нужно использовать их все, модели нужна только одна из этих переменных. Если использовать обе, то модель окажется переобучена (overfit) и предвзята относительно одного отдельного признака."
   ]
  },
  {
   "cell_type": "code",
   "execution_count": 25,
   "metadata": {
    "scrolled": true
   },
   "outputs": [
    {
     "data": {
      "text/plain": [
       "rougher.output.recovery                       1.000000\n",
       "final.output.recovery                         0.327059\n",
       "primary_cleaner.input.sulfate                 0.277496\n",
       "rougher.input.floatbank10_xanthate            0.244579\n",
       "rougher.input.floatbank11_xanthate            0.228130\n",
       "secondary_cleaner.state.floatbank4_b_air      0.227633\n",
       "secondary_cleaner.state.floatbank4_a_air      0.212112\n",
       "rougher.input.feed_sol                        0.199157\n",
       "rougher.input.feed_pb                         0.185035\n",
       "rougher.input.feed_ag                         0.184625\n",
       "rougher.input.feed_au                         0.183814\n",
       "secondary_cleaner.state.floatbank3_a_air      0.162091\n",
       "rougher.state.floatbank10_a_air               0.149584\n",
       "secondary_cleaner.state.floatbank2_b_air      0.147489\n",
       "secondary_cleaner.state.floatbank5_a_air      0.144970\n",
       "primary_cleaner.input.xanthate                0.144227\n",
       "secondary_cleaner.state.floatbank5_b_air      0.144225\n",
       "secondary_cleaner.state.floatbank2_a_air      0.126934\n",
       "rougher.state.floatbank10_a_level             0.117781\n",
       "primary_cleaner.state.floatbank8_b_air        0.109562\n",
       "primary_cleaner.state.floatbank8_c_air        0.103990\n",
       "rougher.input.feed_rate                       0.100790\n",
       "primary_cleaner.state.floatbank8_a_air        0.096827\n",
       "secondary_cleaner.state.floatbank3_b_air      0.093214\n",
       "primary_cleaner.input.depressant              0.051827\n",
       "primary_cleaner.state.floatbank8_a_level      0.040426\n",
       "primary_cleaner.state.floatbank8_b_level      0.038727\n",
       "primary_cleaner.state.floatbank8_c_level      0.037191\n",
       "secondary_cleaner.state.floatbank5_b_level    0.035149\n",
       "rougher.input.feed_size                       0.035093\n",
       "primary_cleaner.state.floatbank8_d_air        0.032789\n",
       "secondary_cleaner.state.floatbank4_a_level    0.022412\n",
       "secondary_cleaner.state.floatbank5_a_level    0.013797\n",
       "secondary_cleaner.state.floatbank6_a_air      0.008081\n",
       "rougher.input.floatbank11_sulfate            -0.000880\n",
       "primary_cleaner.state.floatbank8_d_level     -0.006895\n",
       "secondary_cleaner.state.floatbank3_a_level   -0.009882\n",
       "primary_cleaner.input.feed_size              -0.011133\n",
       "secondary_cleaner.state.floatbank6_a_level   -0.012113\n",
       "rougher.input.floatbank10_sulfate            -0.014018\n",
       "secondary_cleaner.state.floatbank2_a_level   -0.020171\n",
       "secondary_cleaner.state.floatbank2_b_level   -0.022243\n",
       "secondary_cleaner.state.floatbank3_b_level   -0.032576\n",
       "rougher.state.floatbank10_f_air              -0.034993\n",
       "secondary_cleaner.state.floatbank4_b_level   -0.035319\n",
       "rougher.state.floatbank10_f_level            -0.040919\n",
       "rougher.state.floatbank10_e_level            -0.043263\n",
       "rougher.state.floatbank10_d_level            -0.054905\n",
       "rougher.state.floatbank10_b_level            -0.056117\n",
       "rougher.state.floatbank10_c_level            -0.057315\n",
       "rougher.state.floatbank10_e_air              -0.063592\n",
       "rougher.state.floatbank10_b_air              -0.063942\n",
       "rougher.state.floatbank10_d_air              -0.086064\n",
       "rougher.state.floatbank10_c_air              -0.089900\n",
       "Name: rougher.output.recovery, dtype: float64"
      ]
     },
     "execution_count": 25,
     "metadata": {},
     "output_type": "execute_result"
    }
   ],
   "source": [
    "data_full_prepared_temp.corr()['rougher.output.recovery'].sort_values(ascending=False)"
   ]
  },
  {
   "cell_type": "code",
   "execution_count": 26,
   "metadata": {
    "scrolled": true
   },
   "outputs": [
    {
     "data": {
      "text/plain": [
       "final.output.recovery                         1.000000\n",
       "primary_cleaner.input.sulfate                 0.355877\n",
       "rougher.output.recovery                       0.327059\n",
       "rougher.input.floatbank10_xanthate            0.324669\n",
       "rougher.input.floatbank11_xanthate            0.311190\n",
       "rougher.input.feed_au                         0.295343\n",
       "rougher.input.feed_ag                         0.286823\n",
       "rougher.input.feed_sol                        0.251805\n",
       "primary_cleaner.input.xanthate                0.205934\n",
       "rougher.input.feed_pb                         0.188056\n",
       "rougher.state.floatbank10_a_air               0.183223\n",
       "rougher.input.feed_rate                       0.173658\n",
       "secondary_cleaner.state.floatbank4_a_air      0.168594\n",
       "primary_cleaner.input.depressant              0.161442\n",
       "secondary_cleaner.state.floatbank4_b_air      0.158530\n",
       "secondary_cleaner.state.floatbank3_a_air      0.147601\n",
       "primary_cleaner.state.floatbank8_b_air        0.126890\n",
       "secondary_cleaner.state.floatbank2_b_air      0.114322\n",
       "primary_cleaner.state.floatbank8_c_air        0.114048\n",
       "secondary_cleaner.state.floatbank2_a_air      0.106860\n",
       "primary_cleaner.state.floatbank8_a_air        0.106814\n",
       "rougher.input.floatbank11_sulfate             0.078795\n",
       "primary_cleaner.state.floatbank8_d_air        0.068064\n",
       "secondary_cleaner.state.floatbank5_a_air      0.066974\n",
       "secondary_cleaner.state.floatbank3_b_air      0.065484\n",
       "rougher.state.floatbank10_a_level             0.065370\n",
       "primary_cleaner.input.feed_size               0.063397\n",
       "rougher.input.floatbank10_sulfate             0.061256\n",
       "primary_cleaner.state.floatbank8_b_level      0.052651\n",
       "secondary_cleaner.state.floatbank5_b_air      0.051987\n",
       "rougher.input.feed_size                       0.042175\n",
       "secondary_cleaner.state.floatbank4_a_level    0.031254\n",
       "primary_cleaner.state.floatbank8_a_level      0.016525\n",
       "secondary_cleaner.state.floatbank5_b_level    0.016467\n",
       "primary_cleaner.state.floatbank8_c_level      0.013695\n",
       "secondary_cleaner.state.floatbank5_a_level    0.011848\n",
       "secondary_cleaner.state.floatbank3_a_level    0.009007\n",
       "secondary_cleaner.state.floatbank3_b_level    0.003644\n",
       "secondary_cleaner.state.floatbank2_a_level    0.001453\n",
       "secondary_cleaner.state.floatbank2_b_level    0.000032\n",
       "secondary_cleaner.state.floatbank6_a_level   -0.005395\n",
       "secondary_cleaner.state.floatbank6_a_air     -0.024962\n",
       "primary_cleaner.state.floatbank8_d_level     -0.037067\n",
       "secondary_cleaner.state.floatbank4_b_level   -0.050028\n",
       "rougher.state.floatbank10_f_level            -0.056780\n",
       "rougher.state.floatbank10_e_level            -0.061577\n",
       "rougher.state.floatbank10_b_level            -0.068816\n",
       "rougher.state.floatbank10_d_level            -0.072141\n",
       "rougher.state.floatbank10_c_level            -0.077949\n",
       "rougher.state.floatbank10_f_air              -0.082852\n",
       "rougher.state.floatbank10_e_air              -0.109766\n",
       "rougher.state.floatbank10_b_air              -0.119616\n",
       "rougher.state.floatbank10_d_air              -0.144892\n",
       "rougher.state.floatbank10_c_air              -0.149314\n",
       "Name: final.output.recovery, dtype: float64"
      ]
     },
     "execution_count": 26,
     "metadata": {},
     "output_type": "execute_result"
    }
   ],
   "source": [
    "data_full_prepared_temp.corr()['final.output.recovery'].sort_values(ascending=False)"
   ]
  },
  {
   "cell_type": "markdown",
   "metadata": {},
   "source": [
    "Наибольшая корреляция для обоих целевых признаков наблюдается с переменной `primary_cleaner.input.sulfate`"
   ]
  },
  {
   "cell_type": "markdown",
   "metadata": {},
   "source": [
    "#### Обучающая выборка"
   ]
  },
  {
   "cell_type": "markdown",
   "metadata": {},
   "source": [
    "Подготовим обучающую выборку добавив заполнив пропуски предыдущими известными значениями."
   ]
  },
  {
   "cell_type": "code",
   "execution_count": 27,
   "metadata": {},
   "outputs": [],
   "source": [
    "data_train_prepared = data_train.fillna(method='ffill')"
   ]
  },
  {
   "cell_type": "markdown",
   "metadata": {},
   "source": [
    "По условиям задачи предполагается, что для обученной модели будут доступны только признаки из тестовой выборки (т.е. входные параметры сырья/реагентов  и настройки технологического процесса). Все остальные признаки измеряются/рассчитываются позже, и становятся известными вместе с параметрами финального концентрата. \n",
    "\n",
    "Так как для обучения мы можем использовать только те признаки значения которых нам будут известны на момент предсказания, удалим из обучающей выборки `data_train` столбцы отсутствующие в тестовой выборке. \n",
    "\n",
    "Кроме того, в условии сказано, что данные индексируются датой и временем в столбце `date`, таким образом, можно установить колонку `date` в качестве индекса."
   ]
  },
  {
   "cell_type": "code",
   "execution_count": 28,
   "metadata": {},
   "outputs": [
    {
     "name": "stdout",
     "output_type": "stream",
     "text": [
      "<class 'pandas.core.frame.DataFrame'>\n",
      "Index: 14149 entries, 2016-01-15 00:00:00 to 2018-08-18 10:59:59\n",
      "Data columns (total 54 columns):\n",
      " #   Column                                      Non-Null Count  Dtype  \n",
      "---  ------                                      --------------  -----  \n",
      " 0   primary_cleaner.input.sulfate               14149 non-null  float64\n",
      " 1   primary_cleaner.input.depressant            14149 non-null  float64\n",
      " 2   primary_cleaner.input.feed_size             14149 non-null  float64\n",
      " 3   primary_cleaner.input.xanthate              14149 non-null  float64\n",
      " 4   primary_cleaner.state.floatbank8_a_air      14149 non-null  float64\n",
      " 5   primary_cleaner.state.floatbank8_a_level    14149 non-null  float64\n",
      " 6   primary_cleaner.state.floatbank8_b_air      14149 non-null  float64\n",
      " 7   primary_cleaner.state.floatbank8_b_level    14149 non-null  float64\n",
      " 8   primary_cleaner.state.floatbank8_c_air      14149 non-null  float64\n",
      " 9   primary_cleaner.state.floatbank8_c_level    14149 non-null  float64\n",
      " 10  primary_cleaner.state.floatbank8_d_air      14149 non-null  float64\n",
      " 11  primary_cleaner.state.floatbank8_d_level    14149 non-null  float64\n",
      " 12  rougher.input.feed_ag                       14149 non-null  float64\n",
      " 13  rougher.input.feed_pb                       14149 non-null  float64\n",
      " 14  rougher.input.feed_rate                     14149 non-null  float64\n",
      " 15  rougher.input.feed_size                     14149 non-null  float64\n",
      " 16  rougher.input.feed_sol                      14149 non-null  float64\n",
      " 17  rougher.input.feed_au                       14149 non-null  float64\n",
      " 18  rougher.input.floatbank10_sulfate           14149 non-null  float64\n",
      " 19  rougher.input.floatbank10_xanthate          14149 non-null  float64\n",
      " 20  rougher.input.floatbank11_sulfate           14149 non-null  float64\n",
      " 21  rougher.input.floatbank11_xanthate          14149 non-null  float64\n",
      " 22  rougher.state.floatbank10_a_air             14149 non-null  float64\n",
      " 23  rougher.state.floatbank10_a_level           14149 non-null  float64\n",
      " 24  rougher.state.floatbank10_b_air             14149 non-null  float64\n",
      " 25  rougher.state.floatbank10_b_level           14149 non-null  float64\n",
      " 26  rougher.state.floatbank10_c_air             14149 non-null  float64\n",
      " 27  rougher.state.floatbank10_c_level           14149 non-null  float64\n",
      " 28  rougher.state.floatbank10_d_air             14149 non-null  float64\n",
      " 29  rougher.state.floatbank10_d_level           14149 non-null  float64\n",
      " 30  rougher.state.floatbank10_e_air             14149 non-null  float64\n",
      " 31  rougher.state.floatbank10_e_level           14149 non-null  float64\n",
      " 32  rougher.state.floatbank10_f_air             14149 non-null  float64\n",
      " 33  rougher.state.floatbank10_f_level           14149 non-null  float64\n",
      " 34  secondary_cleaner.state.floatbank2_a_air    14149 non-null  float64\n",
      " 35  secondary_cleaner.state.floatbank2_a_level  14149 non-null  float64\n",
      " 36  secondary_cleaner.state.floatbank2_b_air    14149 non-null  float64\n",
      " 37  secondary_cleaner.state.floatbank2_b_level  14149 non-null  float64\n",
      " 38  secondary_cleaner.state.floatbank3_a_air    14149 non-null  float64\n",
      " 39  secondary_cleaner.state.floatbank3_a_level  14149 non-null  float64\n",
      " 40  secondary_cleaner.state.floatbank3_b_air    14149 non-null  float64\n",
      " 41  secondary_cleaner.state.floatbank3_b_level  14149 non-null  float64\n",
      " 42  secondary_cleaner.state.floatbank4_a_air    14149 non-null  float64\n",
      " 43  secondary_cleaner.state.floatbank4_a_level  14149 non-null  float64\n",
      " 44  secondary_cleaner.state.floatbank4_b_air    14149 non-null  float64\n",
      " 45  secondary_cleaner.state.floatbank4_b_level  14149 non-null  float64\n",
      " 46  secondary_cleaner.state.floatbank5_a_air    14149 non-null  float64\n",
      " 47  secondary_cleaner.state.floatbank5_a_level  14149 non-null  float64\n",
      " 48  secondary_cleaner.state.floatbank5_b_air    14149 non-null  float64\n",
      " 49  secondary_cleaner.state.floatbank5_b_level  14149 non-null  float64\n",
      " 50  secondary_cleaner.state.floatbank6_a_air    14149 non-null  float64\n",
      " 51  secondary_cleaner.state.floatbank6_a_level  14149 non-null  float64\n",
      " 52  rougher.output.recovery                     14149 non-null  float64\n",
      " 53  final.output.recovery                       14149 non-null  float64\n",
      "dtypes: float64(54)\n",
      "memory usage: 5.9+ MB\n"
     ]
    }
   ],
   "source": [
    "data_train_prepared = data_train_prepared.set_index('date')[data_test_prepared.columns.to_list()]\n",
    "data_train_prepared.info()"
   ]
  },
  {
   "cell_type": "markdown",
   "metadata": {},
   "source": [
    "Для того, чтобы не переобучить модель следует оставить по одной переменной из признаков с сильной корреляцией в обучающем наборе данных"
   ]
  },
  {
   "cell_type": "code",
   "execution_count": 29,
   "metadata": {
    "scrolled": true
   },
   "outputs": [
    {
     "name": "stdout",
     "output_type": "stream",
     "text": [
      "<class 'pandas.core.frame.DataFrame'>\n",
      "Index: 14149 entries, 2016-01-15 00:00:00 to 2018-08-18 10:59:59\n",
      "Data columns (total 43 columns):\n",
      " #   Column                                      Non-Null Count  Dtype  \n",
      "---  ------                                      --------------  -----  \n",
      " 0   primary_cleaner.input.sulfate               14149 non-null  float64\n",
      " 1   primary_cleaner.input.depressant            14149 non-null  float64\n",
      " 2   primary_cleaner.input.feed_size             14149 non-null  float64\n",
      " 3   primary_cleaner.input.xanthate              14149 non-null  float64\n",
      " 4   primary_cleaner.state.floatbank8_a_air      14149 non-null  float64\n",
      " 5   primary_cleaner.state.floatbank8_a_level    14149 non-null  float64\n",
      " 6   primary_cleaner.state.floatbank8_b_level    14149 non-null  float64\n",
      " 7   primary_cleaner.state.floatbank8_d_air      14149 non-null  float64\n",
      " 8   primary_cleaner.state.floatbank8_d_level    14149 non-null  float64\n",
      " 9   rougher.input.feed_ag                       14149 non-null  float64\n",
      " 10  rougher.input.feed_pb                       14149 non-null  float64\n",
      " 11  rougher.input.feed_rate                     14149 non-null  float64\n",
      " 12  rougher.input.feed_size                     14149 non-null  float64\n",
      " 13  rougher.input.feed_sol                      14149 non-null  float64\n",
      " 14  rougher.input.feed_au                       14149 non-null  float64\n",
      " 15  rougher.input.floatbank10_sulfate           14149 non-null  float64\n",
      " 16  rougher.input.floatbank10_xanthate          14149 non-null  float64\n",
      " 17  rougher.input.floatbank11_sulfate           14149 non-null  float64\n",
      " 18  rougher.input.floatbank11_xanthate          14149 non-null  float64\n",
      " 19  rougher.state.floatbank10_a_air             14149 non-null  float64\n",
      " 20  rougher.state.floatbank10_a_level           14149 non-null  float64\n",
      " 21  rougher.state.floatbank10_b_air             14149 non-null  float64\n",
      " 22  rougher.state.floatbank10_b_level           14149 non-null  float64\n",
      " 23  rougher.state.floatbank10_e_air             14149 non-null  float64\n",
      " 24  secondary_cleaner.state.floatbank2_a_air    14149 non-null  float64\n",
      " 25  secondary_cleaner.state.floatbank2_a_level  14149 non-null  float64\n",
      " 26  secondary_cleaner.state.floatbank2_b_air    14149 non-null  float64\n",
      " 27  secondary_cleaner.state.floatbank3_a_air    14149 non-null  float64\n",
      " 28  secondary_cleaner.state.floatbank3_a_level  14149 non-null  float64\n",
      " 29  secondary_cleaner.state.floatbank3_b_air    14149 non-null  float64\n",
      " 30  secondary_cleaner.state.floatbank3_b_level  14149 non-null  float64\n",
      " 31  secondary_cleaner.state.floatbank4_a_air    14149 non-null  float64\n",
      " 32  secondary_cleaner.state.floatbank4_a_level  14149 non-null  float64\n",
      " 33  secondary_cleaner.state.floatbank4_b_air    14149 non-null  float64\n",
      " 34  secondary_cleaner.state.floatbank4_b_level  14149 non-null  float64\n",
      " 35  secondary_cleaner.state.floatbank5_a_air    14149 non-null  float64\n",
      " 36  secondary_cleaner.state.floatbank5_a_level  14149 non-null  float64\n",
      " 37  secondary_cleaner.state.floatbank5_b_air    14149 non-null  float64\n",
      " 38  secondary_cleaner.state.floatbank5_b_level  14149 non-null  float64\n",
      " 39  secondary_cleaner.state.floatbank6_a_air    14149 non-null  float64\n",
      " 40  secondary_cleaner.state.floatbank6_a_level  14149 non-null  float64\n",
      " 41  rougher.output.recovery                     14149 non-null  float64\n",
      " 42  final.output.recovery                       14149 non-null  float64\n",
      "dtypes: float64(43)\n",
      "memory usage: 4.7+ MB\n"
     ]
    }
   ],
   "source": [
    "data_train_prepared = data_train_prepared.drop(high_corr_colnames, axis=1)\n",
    "data_train_prepared.info()"
   ]
  },
  {
   "cell_type": "markdown",
   "metadata": {},
   "source": [
    "Аналогично удалим лишние признаки с сильной корреляцией из тестового датасета"
   ]
  },
  {
   "cell_type": "code",
   "execution_count": 30,
   "metadata": {},
   "outputs": [
    {
     "name": "stdout",
     "output_type": "stream",
     "text": [
      "<class 'pandas.core.frame.DataFrame'>\n",
      "Index: 5290 entries, 2016-09-01 00:59:59 to 2017-12-31 23:59:59\n",
      "Data columns (total 43 columns):\n",
      " #   Column                                      Non-Null Count  Dtype  \n",
      "---  ------                                      --------------  -----  \n",
      " 0   primary_cleaner.input.sulfate               5290 non-null   float64\n",
      " 1   primary_cleaner.input.depressant            5290 non-null   float64\n",
      " 2   primary_cleaner.input.feed_size             5290 non-null   float64\n",
      " 3   primary_cleaner.input.xanthate              5290 non-null   float64\n",
      " 4   primary_cleaner.state.floatbank8_a_air      5290 non-null   float64\n",
      " 5   primary_cleaner.state.floatbank8_a_level    5290 non-null   float64\n",
      " 6   primary_cleaner.state.floatbank8_b_level    5290 non-null   float64\n",
      " 7   primary_cleaner.state.floatbank8_d_air      5290 non-null   float64\n",
      " 8   primary_cleaner.state.floatbank8_d_level    5290 non-null   float64\n",
      " 9   rougher.input.feed_ag                       5290 non-null   float64\n",
      " 10  rougher.input.feed_pb                       5290 non-null   float64\n",
      " 11  rougher.input.feed_rate                     5290 non-null   float64\n",
      " 12  rougher.input.feed_size                     5290 non-null   float64\n",
      " 13  rougher.input.feed_sol                      5290 non-null   float64\n",
      " 14  rougher.input.feed_au                       5290 non-null   float64\n",
      " 15  rougher.input.floatbank10_sulfate           5290 non-null   float64\n",
      " 16  rougher.input.floatbank10_xanthate          5290 non-null   float64\n",
      " 17  rougher.input.floatbank11_sulfate           5290 non-null   float64\n",
      " 18  rougher.input.floatbank11_xanthate          5290 non-null   float64\n",
      " 19  rougher.state.floatbank10_a_air             5290 non-null   float64\n",
      " 20  rougher.state.floatbank10_a_level           5290 non-null   float64\n",
      " 21  rougher.state.floatbank10_b_air             5290 non-null   float64\n",
      " 22  rougher.state.floatbank10_b_level           5290 non-null   float64\n",
      " 23  rougher.state.floatbank10_e_air             5290 non-null   float64\n",
      " 24  secondary_cleaner.state.floatbank2_a_air    5290 non-null   float64\n",
      " 25  secondary_cleaner.state.floatbank2_a_level  5290 non-null   float64\n",
      " 26  secondary_cleaner.state.floatbank2_b_air    5290 non-null   float64\n",
      " 27  secondary_cleaner.state.floatbank3_a_air    5290 non-null   float64\n",
      " 28  secondary_cleaner.state.floatbank3_a_level  5290 non-null   float64\n",
      " 29  secondary_cleaner.state.floatbank3_b_air    5290 non-null   float64\n",
      " 30  secondary_cleaner.state.floatbank3_b_level  5290 non-null   float64\n",
      " 31  secondary_cleaner.state.floatbank4_a_air    5290 non-null   float64\n",
      " 32  secondary_cleaner.state.floatbank4_a_level  5290 non-null   float64\n",
      " 33  secondary_cleaner.state.floatbank4_b_air    5290 non-null   float64\n",
      " 34  secondary_cleaner.state.floatbank4_b_level  5290 non-null   float64\n",
      " 35  secondary_cleaner.state.floatbank5_a_air    5290 non-null   float64\n",
      " 36  secondary_cleaner.state.floatbank5_a_level  5290 non-null   float64\n",
      " 37  secondary_cleaner.state.floatbank5_b_air    5290 non-null   float64\n",
      " 38  secondary_cleaner.state.floatbank5_b_level  5290 non-null   float64\n",
      " 39  secondary_cleaner.state.floatbank6_a_air    5290 non-null   float64\n",
      " 40  secondary_cleaner.state.floatbank6_a_level  5290 non-null   float64\n",
      " 41  rougher.output.recovery                     5290 non-null   float64\n",
      " 42  final.output.recovery                       5290 non-null   float64\n",
      "dtypes: float64(43)\n",
      "memory usage: 1.9+ MB\n"
     ]
    }
   ],
   "source": [
    "data_test_prepared = data_test_prepared.drop(high_corr_colnames, axis=1)\n",
    "data_test_prepared.info()"
   ]
  },
  {
   "cell_type": "markdown",
   "metadata": {},
   "source": [
    "**Вывод**\n",
    "\n",
    "* Пропуски в данных заполнены предыдущими известными значениями в соответствии с условиями задачи\n",
    "* Во всех датасетах установлен индекс по столбцу `date`\n",
    "* Из обучающего датасета удалены колонки не доступные на этапе прогнозирования\n",
    "* В тестовый датасет добавлены целевые признаки из полного датасета в соответствии с индексами\n",
    "* Из обучающего и тестового датасета удалены лишние признаки с сильной корреляцией\n",
    "* Наибольшая корреляция для обоих целевых признаков наблюдается с переменной `primary_cleaner.input.sulfate`"
   ]
  },
  {
   "cell_type": "markdown",
   "metadata": {},
   "source": [
    "## Анализ данных"
   ]
  },
  {
   "cell_type": "markdown",
   "metadata": {},
   "source": [
    "### Изменение концентрации металлов (Au, Ag, Pb) на различных этапах очистки"
   ]
  },
  {
   "cell_type": "markdown",
   "metadata": {},
   "source": [
    "Можно выделить 4 этапа \n",
    "\n",
    "1. feed - смесь руды до флотации\n",
    "2. rougher - черновой концентрат после флотации\n",
    "3. primary_cleaner - концентрат после первичной очистки\n",
    "4. secondary_cleaner - финальный концентрат после вторичной очистки"
   ]
  },
  {
   "cell_type": "markdown",
   "metadata": {},
   "source": [
    "Построим изменение среднего значения концентрации каждого металла на разных этапах пользуясь полной выборкой"
   ]
  },
  {
   "cell_type": "code",
   "execution_count": 31,
   "metadata": {
    "scrolled": true
   },
   "outputs": [
    {
     "data": {
      "text/html": [
       "<div>\n",
       "<style scoped>\n",
       "    .dataframe tbody tr th:only-of-type {\n",
       "        vertical-align: middle;\n",
       "    }\n",
       "\n",
       "    .dataframe tbody tr th {\n",
       "        vertical-align: top;\n",
       "    }\n",
       "\n",
       "    .dataframe thead th {\n",
       "        text-align: right;\n",
       "    }\n",
       "</style>\n",
       "<table border=\"1\" class=\"dataframe\">\n",
       "  <thead>\n",
       "    <tr style=\"text-align: right;\">\n",
       "      <th></th>\n",
       "      <th>au</th>\n",
       "      <th>ag</th>\n",
       "      <th>pb</th>\n",
       "    </tr>\n",
       "  </thead>\n",
       "  <tbody>\n",
       "    <tr>\n",
       "      <th>feed</th>\n",
       "      <td>8.266097</td>\n",
       "      <td>8.794927</td>\n",
       "      <td>3.585096</td>\n",
       "    </tr>\n",
       "    <tr>\n",
       "      <th>rougher</th>\n",
       "      <td>19.772000</td>\n",
       "      <td>11.994759</td>\n",
       "      <td>7.606272</td>\n",
       "    </tr>\n",
       "    <tr>\n",
       "      <th>primary_cleaner</th>\n",
       "      <td>32.119400</td>\n",
       "      <td>8.442408</td>\n",
       "      <td>9.810317</td>\n",
       "    </tr>\n",
       "    <tr>\n",
       "      <th>secondary_cleaner</th>\n",
       "      <td>44.076513</td>\n",
       "      <td>5.168387</td>\n",
       "      <td>9.978821</td>\n",
       "    </tr>\n",
       "  </tbody>\n",
       "</table>\n",
       "</div>"
      ],
      "text/plain": [
       "                          au         ag        pb\n",
       "feed                8.266097   8.794927  3.585096\n",
       "rougher            19.772000  11.994759  7.606272\n",
       "primary_cleaner    32.119400   8.442408  9.810317\n",
       "secondary_cleaner  44.076513   5.168387  9.978821"
      ]
     },
     "execution_count": 31,
     "metadata": {},
     "output_type": "execute_result"
    }
   ],
   "source": [
    "mean_concentrate_change_by_step = {\n",
    "    'au': {\n",
    "        'feed': data_full_prepared['rougher.input.feed_au'].mean(),\n",
    "        'rougher': data_full_prepared['rougher.output.concentrate_au'].mean(),\n",
    "        'primary_cleaner': data_full_prepared['primary_cleaner.output.concentrate_au'].mean(),\n",
    "        'secondary_cleaner': data_full_prepared['final.output.concentrate_au'].mean(),\n",
    "    },\n",
    "    'ag': {\n",
    "        'feed': data_full_prepared['rougher.input.feed_ag'].mean(),\n",
    "        'rougher': data_full_prepared['rougher.output.concentrate_ag'].mean(),\n",
    "        'primary_cleaner': data_full_prepared['primary_cleaner.output.concentrate_ag'].mean(),\n",
    "        'secondary_cleaner': data_full_prepared['final.output.concentrate_ag'].mean(),\n",
    "    },\n",
    "    'pb': {\n",
    "        'feed': data_full_prepared['rougher.input.feed_pb'].mean(),\n",
    "        'rougher': data_full_prepared['rougher.output.concentrate_pb'].mean(),\n",
    "        'primary_cleaner': data_full_prepared['primary_cleaner.output.concentrate_pb'].mean(),\n",
    "        'secondary_cleaner': data_full_prepared['final.output.concentrate_pb'].mean(),\n",
    "    },\n",
    "}\n",
    "mean_concentrate_change_by_step = pd.DataFrame(mean_concentrate_change_by_step)\n",
    "mean_concentrate_change_by_step"
   ]
  },
  {
   "cell_type": "code",
   "execution_count": 32,
   "metadata": {},
   "outputs": [
    {
     "data": {
      "text/plain": [
       "<AxesSubplot:title={'center':'mean_concentrate_change_by_step'}>"
      ]
     },
     "execution_count": 32,
     "metadata": {},
     "output_type": "execute_result"
    },
    {
     "data": {
      "image/png": "[encoded data removed]",
      "text/plain": [
       "<Figure size 720x360 with 1 Axes>"
      ]
     },
     "metadata": {
      "needs_background": "light"
     },
     "output_type": "display_data"
    }
   ],
   "source": [
    "mean_concentrate_change_by_step.plot(kind='bar', figsize=(10,5), title='mean_concentrate_change_by_step')"
   ]
  },
  {
   "cell_type": "markdown",
   "metadata": {},
   "source": [
    "**Вывод**\n",
    "\n",
    "Закономерно наблюдается рост доли золота в концентрате. Доля остальных металлов при этом снижается либо остается на прежнем уровне."
   ]
  },
  {
   "cell_type": "markdown",
   "metadata": {},
   "source": [
    "### Распределение размеров гранул сырья"
   ]
  },
  {
   "cell_type": "markdown",
   "metadata": {},
   "source": [
    "Сравним распределения размеров гранул сырья на обучающей и тестовой выборках (параметр `rougher.input.feed_size`). Если распределения сильно отличаются друг от друга, оценка модели будет неправильной. "
   ]
  },
  {
   "cell_type": "code",
   "execution_count": 33,
   "metadata": {},
   "outputs": [
    {
     "data": {
      "text/plain": [
       "<AxesSubplot:title={'center':'Feed size distribution'}, ylabel='Frequency'>"
      ]
     },
     "execution_count": 33,
     "metadata": {},
     "output_type": "execute_result"
    },
    {
     "data": {
      "image/png": "[encoded data removed]",
      "text/plain": [
       "<Figure size 720x360 with 1 Axes>"
      ]
     },
     "metadata": {
      "needs_background": "light"
     },
     "output_type": "display_data"
    }
   ],
   "source": [
    "ax = data_train_prepared.plot(\n",
    "    kind='hist',\n",
    "    y='rougher.input.feed_size',\n",
    "    histtype='step',\n",
    "    range=(0, 200),\n",
    "    bins=25,\n",
    "    linewidth=5,\n",
    "    alpha=0.7,\n",
    "    label='data_train',\n",
    "    density=True # нормировка масштаба так как размер датасетов разный\n",
    ")\n",
    "data_test_prepared.plot(\n",
    "    kind='hist',\n",
    "    y='rougher.input.feed_size',\n",
    "    histtype='step',\n",
    "    range=(0, 200),\n",
    "    bins=25,\n",
    "    linewidth=5,\n",
    "    alpha=0.7,\n",
    "    label='data_test',\n",
    "    ax=ax,\n",
    "    grid=True,\n",
    "    legend=True,\n",
    "    figsize=(10,5),\n",
    "    title='Feed size distribution',\n",
    "    xlabel='feed size',\n",
    "    density=True # нормировка масштаба так как размер датасетов разный\n",
    ")"
   ]
  },
  {
   "cell_type": "markdown",
   "metadata": {},
   "source": [
    "**Вывод**\n",
    "\n",
    "Распределения в целом похожи, однако для тестовой выборки пик значений приходится на меньшие значения. Размеры большинства частиц лежат в оптимальном интервале 40-100мкм («Флотация руды»: ООО \"Техноаналитприбор\":[сайт].URL:https://techade.ru/stati/flotatsiya-rudy) для обоих выборок. Выборки подходят для оценки."
   ]
  },
  {
   "cell_type": "markdown",
   "metadata": {},
   "source": [
    "### Суммарная концентрация всех веществ на разных стадиях"
   ]
  },
  {
   "cell_type": "markdown",
   "metadata": {},
   "source": [
    "Рассчитаем суммарную концентрацию всех веществ на разных стадиях: в сырье, в черновом и финальном концентратах."
   ]
  },
  {
   "cell_type": "code",
   "execution_count": 34,
   "metadata": {},
   "outputs": [],
   "source": [
    "def get_sum_concentrate(row, step):\n",
    "    materials = ['au', 'ag', 'pb', 'sol']\n",
    "    sum_concentrate = 0\n",
    "\n",
    "    for material in materials:\n",
    "        sum_concentrate += row[f'{step}_{material}']\n",
    "    \n",
    "    return sum_concentrate"
   ]
  },
  {
   "cell_type": "code",
   "execution_count": 35,
   "metadata": {},
   "outputs": [],
   "source": [
    "data_full_prepared['rougher.input.feed_sum'] = data_full_prepared.apply(get_sum_concentrate, step='rougher.input.feed', axis=1) \n",
    "data_full_prepared['rougher.output.concentrate_sum'] = data_full_prepared.apply(get_sum_concentrate, step='rougher.output.concentrate', axis=1) \n",
    "data_full_prepared['primary_cleaner.output.concentrate_sum'] = data_full_prepared.apply(get_sum_concentrate, step='primary_cleaner.output.concentrate', axis=1) \n",
    "data_full_prepared['final.output.concentrate_sum'] = data_full_prepared.apply(get_sum_concentrate, step='final.output.concentrate', axis=1)  "
   ]
  },
  {
   "cell_type": "code",
   "execution_count": 36,
   "metadata": {},
   "outputs": [
    {
     "data": {
      "text/html": [
       "<div>\n",
       "<style scoped>\n",
       "    .dataframe tbody tr th:only-of-type {\n",
       "        vertical-align: middle;\n",
       "    }\n",
       "\n",
       "    .dataframe tbody tr th {\n",
       "        vertical-align: top;\n",
       "    }\n",
       "\n",
       "    .dataframe thead th {\n",
       "        text-align: right;\n",
       "    }\n",
       "</style>\n",
       "<table border=\"1\" class=\"dataframe\">\n",
       "  <thead>\n",
       "    <tr style=\"text-align: right;\">\n",
       "      <th></th>\n",
       "      <th>final.output.concentrate_ag</th>\n",
       "      <th>final.output.concentrate_pb</th>\n",
       "      <th>final.output.concentrate_sol</th>\n",
       "      <th>final.output.concentrate_au</th>\n",
       "      <th>final.output.recovery</th>\n",
       "      <th>final.output.tail_ag</th>\n",
       "      <th>final.output.tail_pb</th>\n",
       "      <th>final.output.tail_sol</th>\n",
       "      <th>final.output.tail_au</th>\n",
       "      <th>primary_cleaner.input.sulfate</th>\n",
       "      <th>...</th>\n",
       "      <th>secondary_cleaner.state.floatbank5_a_air</th>\n",
       "      <th>secondary_cleaner.state.floatbank5_a_level</th>\n",
       "      <th>secondary_cleaner.state.floatbank5_b_air</th>\n",
       "      <th>secondary_cleaner.state.floatbank5_b_level</th>\n",
       "      <th>secondary_cleaner.state.floatbank6_a_air</th>\n",
       "      <th>secondary_cleaner.state.floatbank6_a_level</th>\n",
       "      <th>rougher.input.feed_sum</th>\n",
       "      <th>rougher.output.concentrate_sum</th>\n",
       "      <th>primary_cleaner.output.concentrate_sum</th>\n",
       "      <th>final.output.concentrate_sum</th>\n",
       "    </tr>\n",
       "    <tr>\n",
       "      <th>date</th>\n",
       "      <th></th>\n",
       "      <th></th>\n",
       "      <th></th>\n",
       "      <th></th>\n",
       "      <th></th>\n",
       "      <th></th>\n",
       "      <th></th>\n",
       "      <th></th>\n",
       "      <th></th>\n",
       "      <th></th>\n",
       "      <th></th>\n",
       "      <th></th>\n",
       "      <th></th>\n",
       "      <th></th>\n",
       "      <th></th>\n",
       "      <th></th>\n",
       "      <th></th>\n",
       "      <th></th>\n",
       "      <th></th>\n",
       "      <th></th>\n",
       "      <th></th>\n",
       "    </tr>\n",
       "  </thead>\n",
       "  <tbody>\n",
       "    <tr>\n",
       "      <th>2016-01-15 00:00:00</th>\n",
       "      <td>6.055403</td>\n",
       "      <td>9.889648</td>\n",
       "      <td>5.507324</td>\n",
       "      <td>42.192020</td>\n",
       "      <td>70.541216</td>\n",
       "      <td>10.411962</td>\n",
       "      <td>0.895447</td>\n",
       "      <td>16.904297</td>\n",
       "      <td>2.143149</td>\n",
       "      <td>127.092003</td>\n",
       "      <td>...</td>\n",
       "      <td>9.925633</td>\n",
       "      <td>-498.310211</td>\n",
       "      <td>8.079666</td>\n",
       "      <td>-500.470978</td>\n",
       "      <td>14.151341</td>\n",
       "      <td>-605.841980</td>\n",
       "      <td>51.680034</td>\n",
       "      <td>66.424950</td>\n",
       "      <td>72.640924</td>\n",
       "      <td>63.644396</td>\n",
       "    </tr>\n",
       "    <tr>\n",
       "      <th>2016-01-15 01:00:00</th>\n",
       "      <td>6.029369</td>\n",
       "      <td>9.968944</td>\n",
       "      <td>5.257781</td>\n",
       "      <td>42.701629</td>\n",
       "      <td>69.266198</td>\n",
       "      <td>10.462676</td>\n",
       "      <td>0.927452</td>\n",
       "      <td>16.634514</td>\n",
       "      <td>2.224930</td>\n",
       "      <td>125.629232</td>\n",
       "      <td>...</td>\n",
       "      <td>10.039245</td>\n",
       "      <td>-500.169983</td>\n",
       "      <td>7.984757</td>\n",
       "      <td>-500.582168</td>\n",
       "      <td>13.998353</td>\n",
       "      <td>-599.787184</td>\n",
       "      <td>50.659114</td>\n",
       "      <td>67.012710</td>\n",
       "      <td>72.543485</td>\n",
       "      <td>63.957723</td>\n",
       "    </tr>\n",
       "    <tr>\n",
       "      <th>2016-01-15 02:00:00</th>\n",
       "      <td>6.055926</td>\n",
       "      <td>10.213995</td>\n",
       "      <td>5.383759</td>\n",
       "      <td>42.657501</td>\n",
       "      <td>68.116445</td>\n",
       "      <td>10.507046</td>\n",
       "      <td>0.953716</td>\n",
       "      <td>16.208849</td>\n",
       "      <td>2.257889</td>\n",
       "      <td>123.819808</td>\n",
       "      <td>...</td>\n",
       "      <td>10.070913</td>\n",
       "      <td>-500.129135</td>\n",
       "      <td>8.013877</td>\n",
       "      <td>-500.517572</td>\n",
       "      <td>14.028663</td>\n",
       "      <td>-601.427363</td>\n",
       "      <td>50.609929</td>\n",
       "      <td>66.103793</td>\n",
       "      <td>72.095042</td>\n",
       "      <td>64.311180</td>\n",
       "    </tr>\n",
       "    <tr>\n",
       "      <th>2016-01-15 03:00:00</th>\n",
       "      <td>6.047977</td>\n",
       "      <td>9.977019</td>\n",
       "      <td>4.858634</td>\n",
       "      <td>42.689819</td>\n",
       "      <td>68.347543</td>\n",
       "      <td>10.422762</td>\n",
       "      <td>0.883763</td>\n",
       "      <td>16.532835</td>\n",
       "      <td>2.146849</td>\n",
       "      <td>122.270188</td>\n",
       "      <td>...</td>\n",
       "      <td>9.970366</td>\n",
       "      <td>-499.201640</td>\n",
       "      <td>7.977324</td>\n",
       "      <td>-500.255908</td>\n",
       "      <td>14.005551</td>\n",
       "      <td>-599.996129</td>\n",
       "      <td>51.061546</td>\n",
       "      <td>65.752751</td>\n",
       "      <td>59.957723</td>\n",
       "      <td>63.573449</td>\n",
       "    </tr>\n",
       "    <tr>\n",
       "      <th>2016-01-15 04:00:00</th>\n",
       "      <td>6.148599</td>\n",
       "      <td>10.142511</td>\n",
       "      <td>4.939416</td>\n",
       "      <td>42.774141</td>\n",
       "      <td>66.927016</td>\n",
       "      <td>10.360302</td>\n",
       "      <td>0.792826</td>\n",
       "      <td>16.525686</td>\n",
       "      <td>2.055292</td>\n",
       "      <td>117.988169</td>\n",
       "      <td>...</td>\n",
       "      <td>9.925709</td>\n",
       "      <td>-501.686727</td>\n",
       "      <td>7.894242</td>\n",
       "      <td>-500.356035</td>\n",
       "      <td>13.996647</td>\n",
       "      <td>-601.496691</td>\n",
       "      <td>47.859163</td>\n",
       "      <td>65.908382</td>\n",
       "      <td>71.321010</td>\n",
       "      <td>64.004667</td>\n",
       "    </tr>\n",
       "  </tbody>\n",
       "</table>\n",
       "<p>5 rows × 90 columns</p>\n",
       "</div>"
      ],
      "text/plain": [
       "                     final.output.concentrate_ag  final.output.concentrate_pb  \\\n",
       "date                                                                            \n",
       "2016-01-15 00:00:00                     6.055403                     9.889648   \n",
       "2016-01-15 01:00:00                     6.029369                     9.968944   \n",
       "2016-01-15 02:00:00                     6.055926                    10.213995   \n",
       "2016-01-15 03:00:00                     6.047977                     9.977019   \n",
       "2016-01-15 04:00:00                     6.148599                    10.142511   \n",
       "\n",
       "                     final.output.concentrate_sol  \\\n",
       "date                                                \n",
       "2016-01-15 00:00:00                      5.507324   \n",
       "2016-01-15 01:00:00                      5.257781   \n",
       "2016-01-15 02:00:00                      5.383759   \n",
       "2016-01-15 03:00:00                      4.858634   \n",
       "2016-01-15 04:00:00                      4.939416   \n",
       "\n",
       "                     final.output.concentrate_au  final.output.recovery  \\\n",
       "date                                                                      \n",
       "2016-01-15 00:00:00                    42.192020              70.541216   \n",
       "2016-01-15 01:00:00                    42.701629              69.266198   \n",
       "2016-01-15 02:00:00                    42.657501              68.116445   \n",
       "2016-01-15 03:00:00                    42.689819              68.347543   \n",
       "2016-01-15 04:00:00                    42.774141              66.927016   \n",
       "\n",
       "                     final.output.tail_ag  final.output.tail_pb  \\\n",
       "date                                                              \n",
       "2016-01-15 00:00:00             10.411962              0.895447   \n",
       "2016-01-15 01:00:00             10.462676              0.927452   \n",
       "2016-01-15 02:00:00             10.507046              0.953716   \n",
       "2016-01-15 03:00:00             10.422762              0.883763   \n",
       "2016-01-15 04:00:00             10.360302              0.792826   \n",
       "\n",
       "                     final.output.tail_sol  final.output.tail_au  \\\n",
       "date                                                               \n",
       "2016-01-15 00:00:00              16.904297              2.143149   \n",
       "2016-01-15 01:00:00              16.634514              2.224930   \n",
       "2016-01-15 02:00:00              16.208849              2.257889   \n",
       "2016-01-15 03:00:00              16.532835              2.146849   \n",
       "2016-01-15 04:00:00              16.525686              2.055292   \n",
       "\n",
       "                     primary_cleaner.input.sulfate  ...  \\\n",
       "date                                                ...   \n",
       "2016-01-15 00:00:00                     127.092003  ...   \n",
       "2016-01-15 01:00:00                     125.629232  ...   \n",
       "2016-01-15 02:00:00                     123.819808  ...   \n",
       "2016-01-15 03:00:00                     122.270188  ...   \n",
       "2016-01-15 04:00:00                     117.988169  ...   \n",
       "\n",
       "                     secondary_cleaner.state.floatbank5_a_air  \\\n",
       "date                                                            \n",
       "2016-01-15 00:00:00                                  9.925633   \n",
       "2016-01-15 01:00:00                                 10.039245   \n",
       "2016-01-15 02:00:00                                 10.070913   \n",
       "2016-01-15 03:00:00                                  9.970366   \n",
       "2016-01-15 04:00:00                                  9.925709   \n",
       "\n",
       "                     secondary_cleaner.state.floatbank5_a_level  \\\n",
       "date                                                              \n",
       "2016-01-15 00:00:00                                 -498.310211   \n",
       "2016-01-15 01:00:00                                 -500.169983   \n",
       "2016-01-15 02:00:00                                 -500.129135   \n",
       "2016-01-15 03:00:00                                 -499.201640   \n",
       "2016-01-15 04:00:00                                 -501.686727   \n",
       "\n",
       "                     secondary_cleaner.state.floatbank5_b_air  \\\n",
       "date                                                            \n",
       "2016-01-15 00:00:00                                  8.079666   \n",
       "2016-01-15 01:00:00                                  7.984757   \n",
       "2016-01-15 02:00:00                                  8.013877   \n",
       "2016-01-15 03:00:00                                  7.977324   \n",
       "2016-01-15 04:00:00                                  7.894242   \n",
       "\n",
       "                     secondary_cleaner.state.floatbank5_b_level  \\\n",
       "date                                                              \n",
       "2016-01-15 00:00:00                                 -500.470978   \n",
       "2016-01-15 01:00:00                                 -500.582168   \n",
       "2016-01-15 02:00:00                                 -500.517572   \n",
       "2016-01-15 03:00:00                                 -500.255908   \n",
       "2016-01-15 04:00:00                                 -500.356035   \n",
       "\n",
       "                     secondary_cleaner.state.floatbank6_a_air  \\\n",
       "date                                                            \n",
       "2016-01-15 00:00:00                                 14.151341   \n",
       "2016-01-15 01:00:00                                 13.998353   \n",
       "2016-01-15 02:00:00                                 14.028663   \n",
       "2016-01-15 03:00:00                                 14.005551   \n",
       "2016-01-15 04:00:00                                 13.996647   \n",
       "\n",
       "                     secondary_cleaner.state.floatbank6_a_level  \\\n",
       "date                                                              \n",
       "2016-01-15 00:00:00                                 -605.841980   \n",
       "2016-01-15 01:00:00                                 -599.787184   \n",
       "2016-01-15 02:00:00                                 -601.427363   \n",
       "2016-01-15 03:00:00                                 -599.996129   \n",
       "2016-01-15 04:00:00                                 -601.496691   \n",
       "\n",
       "                     rougher.input.feed_sum  rougher.output.concentrate_sum  \\\n",
       "date                                                                          \n",
       "2016-01-15 00:00:00               51.680034                       66.424950   \n",
       "2016-01-15 01:00:00               50.659114                       67.012710   \n",
       "2016-01-15 02:00:00               50.609929                       66.103793   \n",
       "2016-01-15 03:00:00               51.061546                       65.752751   \n",
       "2016-01-15 04:00:00               47.859163                       65.908382   \n",
       "\n",
       "                     primary_cleaner.output.concentrate_sum  \\\n",
       "date                                                          \n",
       "2016-01-15 00:00:00                               72.640924   \n",
       "2016-01-15 01:00:00                               72.543485   \n",
       "2016-01-15 02:00:00                               72.095042   \n",
       "2016-01-15 03:00:00                               59.957723   \n",
       "2016-01-15 04:00:00                               71.321010   \n",
       "\n",
       "                     final.output.concentrate_sum  \n",
       "date                                               \n",
       "2016-01-15 00:00:00                     63.644396  \n",
       "2016-01-15 01:00:00                     63.957723  \n",
       "2016-01-15 02:00:00                     64.311180  \n",
       "2016-01-15 03:00:00                     63.573449  \n",
       "2016-01-15 04:00:00                     64.004667  \n",
       "\n",
       "[5 rows x 90 columns]"
      ]
     },
     "execution_count": 36,
     "metadata": {},
     "output_type": "execute_result"
    }
   ],
   "source": [
    "data_full_prepared.head()"
   ]
  },
  {
   "cell_type": "code",
   "execution_count": 37,
   "metadata": {},
   "outputs": [
    {
     "data": {
      "text/html": [
       "<div>\n",
       "<style scoped>\n",
       "    .dataframe tbody tr th:only-of-type {\n",
       "        vertical-align: middle;\n",
       "    }\n",
       "\n",
       "    .dataframe tbody tr th {\n",
       "        vertical-align: top;\n",
       "    }\n",
       "\n",
       "    .dataframe thead th {\n",
       "        text-align: right;\n",
       "    }\n",
       "</style>\n",
       "<table border=\"1\" class=\"dataframe\">\n",
       "  <thead>\n",
       "    <tr style=\"text-align: right;\">\n",
       "      <th></th>\n",
       "      <th>rougher.input.feed_sum</th>\n",
       "      <th>rougher.output.concentrate_sum</th>\n",
       "      <th>primary_cleaner.output.concentrate_sum</th>\n",
       "      <th>final.output.concentrate_sum</th>\n",
       "    </tr>\n",
       "    <tr>\n",
       "      <th>date</th>\n",
       "      <th></th>\n",
       "      <th></th>\n",
       "      <th></th>\n",
       "      <th></th>\n",
       "    </tr>\n",
       "  </thead>\n",
       "  <tbody>\n",
       "    <tr>\n",
       "      <th>2016-01-15 00:00:00</th>\n",
       "      <td>51.680034</td>\n",
       "      <td>66.424950</td>\n",
       "      <td>72.640924</td>\n",
       "      <td>63.644396</td>\n",
       "    </tr>\n",
       "    <tr>\n",
       "      <th>2016-01-15 01:00:00</th>\n",
       "      <td>50.659114</td>\n",
       "      <td>67.012710</td>\n",
       "      <td>72.543485</td>\n",
       "      <td>63.957723</td>\n",
       "    </tr>\n",
       "    <tr>\n",
       "      <th>2016-01-15 02:00:00</th>\n",
       "      <td>50.609929</td>\n",
       "      <td>66.103793</td>\n",
       "      <td>72.095042</td>\n",
       "      <td>64.311180</td>\n",
       "    </tr>\n",
       "    <tr>\n",
       "      <th>2016-01-15 03:00:00</th>\n",
       "      <td>51.061546</td>\n",
       "      <td>65.752751</td>\n",
       "      <td>59.957723</td>\n",
       "      <td>63.573449</td>\n",
       "    </tr>\n",
       "    <tr>\n",
       "      <th>2016-01-15 04:00:00</th>\n",
       "      <td>47.859163</td>\n",
       "      <td>65.908382</td>\n",
       "      <td>71.321010</td>\n",
       "      <td>64.004667</td>\n",
       "    </tr>\n",
       "  </tbody>\n",
       "</table>\n",
       "</div>"
      ],
      "text/plain": [
       "                     rougher.input.feed_sum  rougher.output.concentrate_sum  \\\n",
       "date                                                                          \n",
       "2016-01-15 00:00:00               51.680034                       66.424950   \n",
       "2016-01-15 01:00:00               50.659114                       67.012710   \n",
       "2016-01-15 02:00:00               50.609929                       66.103793   \n",
       "2016-01-15 03:00:00               51.061546                       65.752751   \n",
       "2016-01-15 04:00:00               47.859163                       65.908382   \n",
       "\n",
       "                     primary_cleaner.output.concentrate_sum  \\\n",
       "date                                                          \n",
       "2016-01-15 00:00:00                               72.640924   \n",
       "2016-01-15 01:00:00                               72.543485   \n",
       "2016-01-15 02:00:00                               72.095042   \n",
       "2016-01-15 03:00:00                               59.957723   \n",
       "2016-01-15 04:00:00                               71.321010   \n",
       "\n",
       "                     final.output.concentrate_sum  \n",
       "date                                               \n",
       "2016-01-15 00:00:00                     63.644396  \n",
       "2016-01-15 01:00:00                     63.957723  \n",
       "2016-01-15 02:00:00                     64.311180  \n",
       "2016-01-15 03:00:00                     63.573449  \n",
       "2016-01-15 04:00:00                     64.004667  "
      ]
     },
     "execution_count": 37,
     "metadata": {},
     "output_type": "execute_result"
    }
   ],
   "source": [
    "sum_concentrate_change_by_step = data_full_prepared[['rougher.input.feed_sum', 'rougher.output.concentrate_sum', 'primary_cleaner.output.concentrate_sum', 'final.output.concentrate_sum']]\n",
    "sum_concentrate_change_by_step.head()"
   ]
  },
  {
   "cell_type": "markdown",
   "metadata": {},
   "source": [
    "Построим распределения и диаграммы размаха"
   ]
  },
  {
   "cell_type": "code",
   "execution_count": 38,
   "metadata": {},
   "outputs": [
    {
     "data": {
      "text/plain": [
       "array([[<AxesSubplot:title={'center':'rougher.input.feed_sum'}>,\n",
       "        <AxesSubplot:title={'center':'rougher.output.concentrate_sum'}>],\n",
       "       [<AxesSubplot:title={'center':'primary_cleaner.output.concentrate_sum'}>,\n",
       "        <AxesSubplot:title={'center':'final.output.concentrate_sum'}>]],\n",
       "      dtype=object)"
      ]
     },
     "execution_count": 38,
     "metadata": {},
     "output_type": "execute_result"
    },
    {
     "data": {
      "image/png": "[encoded data removed]",
      "text/plain": [
       "<Figure size 1080x720 with 4 Axes>"
      ]
     },
     "metadata": {
      "needs_background": "light"
     },
     "output_type": "display_data"
    }
   ],
   "source": [
    "sum_concentrate_change_by_step.hist(figsize=(15,10), bins=25)"
   ]
  },
  {
   "cell_type": "code",
   "execution_count": 39,
   "metadata": {},
   "outputs": [
    {
     "data": {
      "text/plain": [
       "<AxesSubplot:>"
      ]
     },
     "execution_count": 39,
     "metadata": {},
     "output_type": "execute_result"
    },
    {
     "data": {
      "image/png": "[encoded data removed]",
      "text/plain": [
       "<Figure size 1080x720 with 1 Axes>"
      ]
     },
     "metadata": {
      "needs_background": "light"
     },
     "output_type": "display_data"
    }
   ],
   "source": [
    "sum_concentrate_change_by_step.boxplot(figsize=(15,10))"
   ]
  },
  {
   "cell_type": "markdown",
   "metadata": {},
   "source": [
    "В распределениях наблюдаются аномально низкие значения.\n",
    "Найдем строки где хотя бы на одном этапе суммарная концентрация попадает в 1% наименьших значений"
   ]
  },
  {
   "cell_type": "code",
   "execution_count": 40,
   "metadata": {
    "scrolled": false
   },
   "outputs": [
    {
     "data": {
      "text/html": [
       "<div>\n",
       "<style scoped>\n",
       "    .dataframe tbody tr th:only-of-type {\n",
       "        vertical-align: middle;\n",
       "    }\n",
       "\n",
       "    .dataframe tbody tr th {\n",
       "        vertical-align: top;\n",
       "    }\n",
       "\n",
       "    .dataframe thead th {\n",
       "        text-align: right;\n",
       "    }\n",
       "</style>\n",
       "<table border=\"1\" class=\"dataframe\">\n",
       "  <thead>\n",
       "    <tr style=\"text-align: right;\">\n",
       "      <th></th>\n",
       "      <th>rougher.input.feed_sum</th>\n",
       "      <th>rougher.output.concentrate_sum</th>\n",
       "      <th>primary_cleaner.output.concentrate_sum</th>\n",
       "      <th>final.output.concentrate_sum</th>\n",
       "    </tr>\n",
       "    <tr>\n",
       "      <th>date</th>\n",
       "      <th></th>\n",
       "      <th></th>\n",
       "      <th></th>\n",
       "      <th></th>\n",
       "    </tr>\n",
       "  </thead>\n",
       "  <tbody>\n",
       "    <tr>\n",
       "      <th>2016-01-15 19:00:00</th>\n",
       "      <td>56.005644</td>\n",
       "      <td>62.930764</td>\n",
       "      <td>0.000000</td>\n",
       "      <td>64.546766</td>\n",
       "    </tr>\n",
       "    <tr>\n",
       "      <th>2016-01-15 22:00:00</th>\n",
       "      <td>56.038252</td>\n",
       "      <td>62.225893</td>\n",
       "      <td>0.000000</td>\n",
       "      <td>64.554911</td>\n",
       "    </tr>\n",
       "    <tr>\n",
       "      <th>2016-01-16 06:00:00</th>\n",
       "      <td>57.764677</td>\n",
       "      <td>62.283147</td>\n",
       "      <td>0.000000</td>\n",
       "      <td>63.765751</td>\n",
       "    </tr>\n",
       "    <tr>\n",
       "      <th>2016-01-16 21:00:00</th>\n",
       "      <td>58.602038</td>\n",
       "      <td>0.000000</td>\n",
       "      <td>74.992510</td>\n",
       "      <td>66.175996</td>\n",
       "    </tr>\n",
       "    <tr>\n",
       "      <th>2016-01-16 22:00:00</th>\n",
       "      <td>59.921613</td>\n",
       "      <td>0.000000</td>\n",
       "      <td>75.187102</td>\n",
       "      <td>66.794250</td>\n",
       "    </tr>\n",
       "    <tr>\n",
       "      <th>...</th>\n",
       "      <td>...</td>\n",
       "      <td>...</td>\n",
       "      <td>...</td>\n",
       "      <td>...</td>\n",
       "    </tr>\n",
       "    <tr>\n",
       "      <th>2018-08-10 05:59:59</th>\n",
       "      <td>64.927849</td>\n",
       "      <td>74.882662</td>\n",
       "      <td>0.040000</td>\n",
       "      <td>68.540325</td>\n",
       "    </tr>\n",
       "    <tr>\n",
       "      <th>2018-08-10 06:59:59</th>\n",
       "      <td>45.851614</td>\n",
       "      <td>43.117470</td>\n",
       "      <td>0.040000</td>\n",
       "      <td>55.612711</td>\n",
       "    </tr>\n",
       "    <tr>\n",
       "      <th>2018-08-10 07:59:59</th>\n",
       "      <td>65.220999</td>\n",
       "      <td>77.110087</td>\n",
       "      <td>0.040000</td>\n",
       "      <td>27.339765</td>\n",
       "    </tr>\n",
       "    <tr>\n",
       "      <th>2018-08-10 10:59:59</th>\n",
       "      <td>55.749619</td>\n",
       "      <td>81.198387</td>\n",
       "      <td>61.103299</td>\n",
       "      <td>13.261026</td>\n",
       "    </tr>\n",
       "    <tr>\n",
       "      <th>2018-08-10 20:59:59</th>\n",
       "      <td>51.968867</td>\n",
       "      <td>73.966153</td>\n",
       "      <td>60.469853</td>\n",
       "      <td>25.684413</td>\n",
       "    </tr>\n",
       "  </tbody>\n",
       "</table>\n",
       "<p>950 rows × 4 columns</p>\n",
       "</div>"
      ],
      "text/plain": [
       "                     rougher.input.feed_sum  rougher.output.concentrate_sum  \\\n",
       "date                                                                          \n",
       "2016-01-15 19:00:00               56.005644                       62.930764   \n",
       "2016-01-15 22:00:00               56.038252                       62.225893   \n",
       "2016-01-16 06:00:00               57.764677                       62.283147   \n",
       "2016-01-16 21:00:00               58.602038                        0.000000   \n",
       "2016-01-16 22:00:00               59.921613                        0.000000   \n",
       "...                                     ...                             ...   \n",
       "2018-08-10 05:59:59               64.927849                       74.882662   \n",
       "2018-08-10 06:59:59               45.851614                       43.117470   \n",
       "2018-08-10 07:59:59               65.220999                       77.110087   \n",
       "2018-08-10 10:59:59               55.749619                       81.198387   \n",
       "2018-08-10 20:59:59               51.968867                       73.966153   \n",
       "\n",
       "                     primary_cleaner.output.concentrate_sum  \\\n",
       "date                                                          \n",
       "2016-01-15 19:00:00                                0.000000   \n",
       "2016-01-15 22:00:00                                0.000000   \n",
       "2016-01-16 06:00:00                                0.000000   \n",
       "2016-01-16 21:00:00                               74.992510   \n",
       "2016-01-16 22:00:00                               75.187102   \n",
       "...                                                     ...   \n",
       "2018-08-10 05:59:59                                0.040000   \n",
       "2018-08-10 06:59:59                                0.040000   \n",
       "2018-08-10 07:59:59                                0.040000   \n",
       "2018-08-10 10:59:59                               61.103299   \n",
       "2018-08-10 20:59:59                               60.469853   \n",
       "\n",
       "                     final.output.concentrate_sum  \n",
       "date                                               \n",
       "2016-01-15 19:00:00                     64.546766  \n",
       "2016-01-15 22:00:00                     64.554911  \n",
       "2016-01-16 06:00:00                     63.765751  \n",
       "2016-01-16 21:00:00                     66.175996  \n",
       "2016-01-16 22:00:00                     66.794250  \n",
       "...                                           ...  \n",
       "2018-08-10 05:59:59                     68.540325  \n",
       "2018-08-10 06:59:59                     55.612711  \n",
       "2018-08-10 07:59:59                     27.339765  \n",
       "2018-08-10 10:59:59                     13.261026  \n",
       "2018-08-10 20:59:59                     25.684413  \n",
       "\n",
       "[950 rows x 4 columns]"
      ]
     },
     "execution_count": 40,
     "metadata": {},
     "output_type": "execute_result"
    }
   ],
   "source": [
    "threshold = 0.01\n",
    "\n",
    "sum_concentrate_change_by_step.loc[\n",
    "    (sum_concentrate_change_by_step['rougher.input.feed_sum'] <= sum_concentrate_change_by_step['rougher.input.feed_sum'].quantile(threshold)) |\n",
    "    (sum_concentrate_change_by_step['rougher.output.concentrate_sum'] <= sum_concentrate_change_by_step['rougher.output.concentrate_sum'].quantile(threshold)) |\n",
    "    (sum_concentrate_change_by_step['primary_cleaner.output.concentrate_sum'] <= sum_concentrate_change_by_step['primary_cleaner.output.concentrate_sum'].quantile(threshold)) |\n",
    "    (sum_concentrate_change_by_step['final.output.concentrate_sum'] <= sum_concentrate_change_by_step['final.output.concentrate_sum'].quantile(threshold))\n",
    "]"
   ]
  },
  {
   "cell_type": "markdown",
   "metadata": {},
   "source": [
    "**Вывод**\n",
    "\n",
    "* Распределения похожи на нормальные, однако на графиках наблюдаются выбросы - значения близкие и равные 0. \n",
    "* При этом встречается множество случаев когда аномально низкая концентрация присутствует на одном из промежуточных этапов, а на последующих принимает адекватное значение, то есть нельзя сказать о сбое в технологическом процессе. \n",
    "* Вероятно вышесказанное может означать ошибку в данных. Разумнее всего удалить строки с аномально низкими значениями, принимая во внимание также их малое количество (менее 5%)"
   ]
  },
  {
   "cell_type": "markdown",
   "metadata": {},
   "source": [
    "Удалим строки с аномальными значениями"
   ]
  },
  {
   "cell_type": "code",
   "execution_count": 41,
   "metadata": {},
   "outputs": [],
   "source": [
    "data_full_prepared = data_full_prepared.loc[~(\n",
    "    (data_full_prepared['rougher.input.feed_sum'] <= data_full_prepared['rougher.input.feed_sum'].quantile(threshold)) |\n",
    "    (data_full_prepared['rougher.output.concentrate_sum'] <= data_full_prepared['rougher.output.concentrate_sum'].quantile(threshold)) |\n",
    "    (data_full_prepared['primary_cleaner.output.concentrate_sum'] <= data_full_prepared['primary_cleaner.output.concentrate_sum'].quantile(threshold)) |\n",
    "    (data_full_prepared['final.output.concentrate_sum'] <= data_full_prepared['final.output.concentrate_sum'].quantile(threshold))\n",
    ")]"
   ]
  },
  {
   "cell_type": "code",
   "execution_count": 42,
   "metadata": {},
   "outputs": [
    {
     "data": {
      "text/plain": [
       "(18489, 90)"
      ]
     },
     "execution_count": 42,
     "metadata": {},
     "output_type": "execute_result"
    }
   ],
   "source": [
    "data_full_prepared.shape"
   ]
  },
  {
   "cell_type": "markdown",
   "metadata": {},
   "source": [
    "Снова построим распределения"
   ]
  },
  {
   "cell_type": "code",
   "execution_count": 43,
   "metadata": {},
   "outputs": [
    {
     "data": {
      "text/plain": [
       "array([[<AxesSubplot:title={'center':'rougher.input.feed_sum'}>,\n",
       "        <AxesSubplot:title={'center':'rougher.output.concentrate_sum'}>],\n",
       "       [<AxesSubplot:title={'center':'primary_cleaner.output.concentrate_sum'}>,\n",
       "        <AxesSubplot:title={'center':'final.output.concentrate_sum'}>]],\n",
       "      dtype=object)"
      ]
     },
     "execution_count": 43,
     "metadata": {},
     "output_type": "execute_result"
    },
    {
     "data": {
      "image/png": "[encoded data removed]",
      "text/plain": [
       "<Figure size 1080x720 with 4 Axes>"
      ]
     },
     "metadata": {
      "needs_background": "light"
     },
     "output_type": "display_data"
    }
   ],
   "source": [
    "data_full_prepared[['rougher.input.feed_sum', 'rougher.output.concentrate_sum', 'primary_cleaner.output.concentrate_sum', 'final.output.concentrate_sum']].hist(figsize=(15,10), bins=25)"
   ]
  },
  {
   "cell_type": "markdown",
   "metadata": {},
   "source": [
    "Аналогично удалим строки с аномальными значениями в обучающем и тестовом датасете"
   ]
  },
  {
   "cell_type": "code",
   "execution_count": 44,
   "metadata": {
    "scrolled": true
   },
   "outputs": [],
   "source": [
    "data_train_prepared = data_train_prepared \\\n",
    "    .join(\n",
    "        data_full_prepared[[\n",
    "            'rougher.input.feed_sum',\n",
    "            'rougher.output.concentrate_sum',\n",
    "            'primary_cleaner.output.concentrate_sum', \n",
    "            'final.output.concentrate_sum'\n",
    "        ]]\n",
    "    ) \\\n",
    "    .dropna() \\\n",
    "    .drop([\n",
    "            'rougher.input.feed_sum',\n",
    "            'rougher.output.concentrate_sum',\n",
    "            'primary_cleaner.output.concentrate_sum', \n",
    "            'final.output.concentrate_sum'\n",
    "        ], axis=1)"
   ]
  },
  {
   "cell_type": "code",
   "execution_count": 45,
   "metadata": {},
   "outputs": [
    {
     "data": {
      "text/plain": [
       "(13423, 43)"
      ]
     },
     "execution_count": 45,
     "metadata": {},
     "output_type": "execute_result"
    }
   ],
   "source": [
    "data_train_prepared.shape"
   ]
  },
  {
   "cell_type": "code",
   "execution_count": 46,
   "metadata": {},
   "outputs": [],
   "source": [
    "data_test_prepared = data_test_prepared \\\n",
    "    .join(\n",
    "        data_full_prepared[[\n",
    "            'rougher.input.feed_sum',\n",
    "            'rougher.output.concentrate_sum',\n",
    "            'primary_cleaner.output.concentrate_sum', \n",
    "            'final.output.concentrate_sum'\n",
    "        ]]\n",
    "    ) \\\n",
    "    .dropna() \\\n",
    "    .drop([\n",
    "            'rougher.input.feed_sum',\n",
    "            'rougher.output.concentrate_sum',\n",
    "            'primary_cleaner.output.concentrate_sum', \n",
    "            'final.output.concentrate_sum'\n",
    "        ], axis=1)"
   ]
  },
  {
   "cell_type": "code",
   "execution_count": 47,
   "metadata": {},
   "outputs": [
    {
     "data": {
      "text/plain": [
       "(5066, 43)"
      ]
     },
     "execution_count": 47,
     "metadata": {},
     "output_type": "execute_result"
    }
   ],
   "source": [
    "data_test_prepared.shape"
   ]
  },
  {
   "cell_type": "code",
   "execution_count": 48,
   "metadata": {},
   "outputs": [],
   "source": [
    "data_temp = data_full.fillna(method='ffill') \\\n",
    "                    .set_index('date')\n",
    "data_temp['rougher.input.feed_sum'] = data_temp.apply(get_sum_concentrate, step='rougher.input.feed', axis=1) \n",
    "data_temp['rougher.output.concentrate_sum'] = data_temp.apply(get_sum_concentrate, step='rougher.output.concentrate', axis=1) \n",
    "data_temp['primary_cleaner.output.concentrate_sum'] = data_temp.apply(get_sum_concentrate, step='primary_cleaner.output.concentrate', axis=1) \n",
    "data_temp['final.output.concentrate_sum'] = data_temp.apply(get_sum_concentrate, step='final.output.concentrate', axis=1)  "
   ]
  },
  {
   "cell_type": "code",
   "execution_count": 49,
   "metadata": {},
   "outputs": [
    {
     "data": {
      "text/plain": [
       "0.11224857245743093"
      ]
     },
     "execution_count": 49,
     "metadata": {},
     "output_type": "execute_result"
    }
   ],
   "source": [
    "steps = [\n",
    "    'rougher.input.feed_sum',\n",
    "    'rougher.output.concentrate_sum',\n",
    "    'primary_cleaner.output.concentrate_sum',\n",
    "    'final.output.concentrate_sum'\n",
    "]\n",
    "\n",
    "for step in steps:\n",
    "    Q1 = data_temp[step].quantile(.25)\n",
    "    Q3 = data_temp[step].quantile(.75)\n",
    "    IQR = Q3 - Q1\n",
    "\n",
    "    data_temp = data_temp.loc[\n",
    "        (data_temp[step] > (Q3 - 3*IQR)) & (data_temp[step] < (Q3 + 3*IQR))\n",
    "    ]\n",
    "(data_full.shape[0] - data_temp.shape[0]) / data_full.shape[0]"
   ]
  },
  {
   "cell_type": "markdown",
   "metadata": {},
   "source": [
    "## Модель"
   ]
  },
  {
   "cell_type": "markdown",
   "metadata": {},
   "source": [
    "### Функци для расчета sMAPE"
   ]
  },
  {
   "cell_type": "code",
   "execution_count": 50,
   "metadata": {},
   "outputs": [],
   "source": [
    "def get_smape_score_concluded(smape_rougher, smape_final):\n",
    "    return 0.25 * smape_rougher + 0.75 * smape_final\n",
    "\n",
    "def get_smape_score(answers, predictions):       \n",
    "    return 100 * sum([abs(answer - prediction) / ( (abs(answer) + abs(prediction)) * 0.5 ) for prediction, answer in zip(predictions, answers)]) / len(answers)\n",
    "\n",
    "scorer = make_scorer(get_smape_score, greater_is_better=False)"
   ]
  },
  {
   "cell_type": "markdown",
   "metadata": {},
   "source": [
    "### Подготовка признаков"
   ]
  },
  {
   "cell_type": "markdown",
   "metadata": {},
   "source": [
    "#### Деление на целевые и нецелевые признаки"
   ]
  },
  {
   "cell_type": "markdown",
   "metadata": {},
   "source": [
    "Разделим обучающую выборку на целевые и нецелевые признаки"
   ]
  },
  {
   "cell_type": "code",
   "execution_count": 51,
   "metadata": {
    "scrolled": true
   },
   "outputs": [
    {
     "name": "stdout",
     "output_type": "stream",
     "text": [
      "<class 'pandas.core.frame.DataFrame'>\n",
      "Index: 13423 entries, 2016-01-15 00:00:00 to 2018-08-18 10:59:59\n",
      "Data columns (total 15 columns):\n",
      " #   Column                              Non-Null Count  Dtype  \n",
      "---  ------                              --------------  -----  \n",
      " 0   rougher.input.feed_ag               13423 non-null  float64\n",
      " 1   rougher.input.feed_pb               13423 non-null  float64\n",
      " 2   rougher.input.feed_rate             13423 non-null  float64\n",
      " 3   rougher.input.feed_size             13423 non-null  float64\n",
      " 4   rougher.input.feed_sol              13423 non-null  float64\n",
      " 5   rougher.input.feed_au               13423 non-null  float64\n",
      " 6   rougher.input.floatbank10_sulfate   13423 non-null  float64\n",
      " 7   rougher.input.floatbank10_xanthate  13423 non-null  float64\n",
      " 8   rougher.input.floatbank11_sulfate   13423 non-null  float64\n",
      " 9   rougher.input.floatbank11_xanthate  13423 non-null  float64\n",
      " 10  rougher.state.floatbank10_a_air     13423 non-null  float64\n",
      " 11  rougher.state.floatbank10_a_level   13423 non-null  float64\n",
      " 12  rougher.state.floatbank10_b_air     13423 non-null  float64\n",
      " 13  rougher.state.floatbank10_b_level   13423 non-null  float64\n",
      " 14  rougher.state.floatbank10_e_air     13423 non-null  float64\n",
      "dtypes: float64(15)\n",
      "memory usage: 1.6+ MB\n"
     ]
    }
   ],
   "source": [
    "features_train_rougher = data_train_prepared[\n",
    "    [column for column in data_train_prepared.columns if 'rougher' in column]\n",
    "].drop('rougher.output.recovery', axis=1)\n",
    "features_train_rougher.info()"
   ]
  },
  {
   "cell_type": "code",
   "execution_count": 52,
   "metadata": {
    "scrolled": true
   },
   "outputs": [
    {
     "name": "stdout",
     "output_type": "stream",
     "text": [
      "<class 'pandas.core.frame.DataFrame'>\n",
      "Index: 13423 entries, 2016-01-15 00:00:00 to 2018-08-18 10:59:59\n",
      "Data columns (total 26 columns):\n",
      " #   Column                                      Non-Null Count  Dtype  \n",
      "---  ------                                      --------------  -----  \n",
      " 0   primary_cleaner.input.sulfate               13423 non-null  float64\n",
      " 1   primary_cleaner.input.depressant            13423 non-null  float64\n",
      " 2   primary_cleaner.input.feed_size             13423 non-null  float64\n",
      " 3   primary_cleaner.input.xanthate              13423 non-null  float64\n",
      " 4   primary_cleaner.state.floatbank8_a_air      13423 non-null  float64\n",
      " 5   primary_cleaner.state.floatbank8_a_level    13423 non-null  float64\n",
      " 6   primary_cleaner.state.floatbank8_b_level    13423 non-null  float64\n",
      " 7   primary_cleaner.state.floatbank8_d_air      13423 non-null  float64\n",
      " 8   primary_cleaner.state.floatbank8_d_level    13423 non-null  float64\n",
      " 9   secondary_cleaner.state.floatbank2_a_air    13423 non-null  float64\n",
      " 10  secondary_cleaner.state.floatbank2_a_level  13423 non-null  float64\n",
      " 11  secondary_cleaner.state.floatbank2_b_air    13423 non-null  float64\n",
      " 12  secondary_cleaner.state.floatbank3_a_air    13423 non-null  float64\n",
      " 13  secondary_cleaner.state.floatbank3_a_level  13423 non-null  float64\n",
      " 14  secondary_cleaner.state.floatbank3_b_air    13423 non-null  float64\n",
      " 15  secondary_cleaner.state.floatbank3_b_level  13423 non-null  float64\n",
      " 16  secondary_cleaner.state.floatbank4_a_air    13423 non-null  float64\n",
      " 17  secondary_cleaner.state.floatbank4_a_level  13423 non-null  float64\n",
      " 18  secondary_cleaner.state.floatbank4_b_air    13423 non-null  float64\n",
      " 19  secondary_cleaner.state.floatbank4_b_level  13423 non-null  float64\n",
      " 20  secondary_cleaner.state.floatbank5_a_air    13423 non-null  float64\n",
      " 21  secondary_cleaner.state.floatbank5_a_level  13423 non-null  float64\n",
      " 22  secondary_cleaner.state.floatbank5_b_air    13423 non-null  float64\n",
      " 23  secondary_cleaner.state.floatbank5_b_level  13423 non-null  float64\n",
      " 24  secondary_cleaner.state.floatbank6_a_air    13423 non-null  float64\n",
      " 25  secondary_cleaner.state.floatbank6_a_level  13423 non-null  float64\n",
      "dtypes: float64(26)\n",
      "memory usage: 2.8+ MB\n"
     ]
    }
   ],
   "source": [
    "features_train_final = data_train_prepared[\n",
    "    [column for column in data_train_prepared.columns if 'cleaner' in column]\n",
    "]\n",
    "features_train_final.info()"
   ]
  },
  {
   "cell_type": "code",
   "execution_count": 53,
   "metadata": {},
   "outputs": [
    {
     "name": "stdout",
     "output_type": "stream",
     "text": [
      "<class 'pandas.core.frame.DataFrame'>\n",
      "Index: 5066 entries, 2016-09-01 00:59:59 to 2017-12-31 23:59:59\n",
      "Data columns (total 15 columns):\n",
      " #   Column                              Non-Null Count  Dtype  \n",
      "---  ------                              --------------  -----  \n",
      " 0   rougher.input.feed_ag               5066 non-null   float64\n",
      " 1   rougher.input.feed_pb               5066 non-null   float64\n",
      " 2   rougher.input.feed_rate             5066 non-null   float64\n",
      " 3   rougher.input.feed_size             5066 non-null   float64\n",
      " 4   rougher.input.feed_sol              5066 non-null   float64\n",
      " 5   rougher.input.feed_au               5066 non-null   float64\n",
      " 6   rougher.input.floatbank10_sulfate   5066 non-null   float64\n",
      " 7   rougher.input.floatbank10_xanthate  5066 non-null   float64\n",
      " 8   rougher.input.floatbank11_sulfate   5066 non-null   float64\n",
      " 9   rougher.input.floatbank11_xanthate  5066 non-null   float64\n",
      " 10  rougher.state.floatbank10_a_air     5066 non-null   float64\n",
      " 11  rougher.state.floatbank10_a_level   5066 non-null   float64\n",
      " 12  rougher.state.floatbank10_b_air     5066 non-null   float64\n",
      " 13  rougher.state.floatbank10_b_level   5066 non-null   float64\n",
      " 14  rougher.state.floatbank10_e_air     5066 non-null   float64\n",
      "dtypes: float64(15)\n",
      "memory usage: 633.2+ KB\n"
     ]
    }
   ],
   "source": [
    "features_test_rougher = data_test_prepared[\n",
    "    [column for column in data_test_prepared.columns if 'rougher' in column]\n",
    "].drop('rougher.output.recovery', axis=1)\n",
    "features_test_rougher.info()"
   ]
  },
  {
   "cell_type": "code",
   "execution_count": 54,
   "metadata": {},
   "outputs": [
    {
     "name": "stdout",
     "output_type": "stream",
     "text": [
      "<class 'pandas.core.frame.DataFrame'>\n",
      "Index: 5066 entries, 2016-09-01 00:59:59 to 2017-12-31 23:59:59\n",
      "Data columns (total 26 columns):\n",
      " #   Column                                      Non-Null Count  Dtype  \n",
      "---  ------                                      --------------  -----  \n",
      " 0   primary_cleaner.input.sulfate               5066 non-null   float64\n",
      " 1   primary_cleaner.input.depressant            5066 non-null   float64\n",
      " 2   primary_cleaner.input.feed_size             5066 non-null   float64\n",
      " 3   primary_cleaner.input.xanthate              5066 non-null   float64\n",
      " 4   primary_cleaner.state.floatbank8_a_air      5066 non-null   float64\n",
      " 5   primary_cleaner.state.floatbank8_a_level    5066 non-null   float64\n",
      " 6   primary_cleaner.state.floatbank8_b_level    5066 non-null   float64\n",
      " 7   primary_cleaner.state.floatbank8_d_air      5066 non-null   float64\n",
      " 8   primary_cleaner.state.floatbank8_d_level    5066 non-null   float64\n",
      " 9   secondary_cleaner.state.floatbank2_a_air    5066 non-null   float64\n",
      " 10  secondary_cleaner.state.floatbank2_a_level  5066 non-null   float64\n",
      " 11  secondary_cleaner.state.floatbank2_b_air    5066 non-null   float64\n",
      " 12  secondary_cleaner.state.floatbank3_a_air    5066 non-null   float64\n",
      " 13  secondary_cleaner.state.floatbank3_a_level  5066 non-null   float64\n",
      " 14  secondary_cleaner.state.floatbank3_b_air    5066 non-null   float64\n",
      " 15  secondary_cleaner.state.floatbank3_b_level  5066 non-null   float64\n",
      " 16  secondary_cleaner.state.floatbank4_a_air    5066 non-null   float64\n",
      " 17  secondary_cleaner.state.floatbank4_a_level  5066 non-null   float64\n",
      " 18  secondary_cleaner.state.floatbank4_b_air    5066 non-null   float64\n",
      " 19  secondary_cleaner.state.floatbank4_b_level  5066 non-null   float64\n",
      " 20  secondary_cleaner.state.floatbank5_a_air    5066 non-null   float64\n",
      " 21  secondary_cleaner.state.floatbank5_a_level  5066 non-null   float64\n",
      " 22  secondary_cleaner.state.floatbank5_b_air    5066 non-null   float64\n",
      " 23  secondary_cleaner.state.floatbank5_b_level  5066 non-null   float64\n",
      " 24  secondary_cleaner.state.floatbank6_a_air    5066 non-null   float64\n",
      " 25  secondary_cleaner.state.floatbank6_a_level  5066 non-null   float64\n",
      "dtypes: float64(26)\n",
      "memory usage: 1.0+ MB\n"
     ]
    }
   ],
   "source": [
    "features_test_final = data_test_prepared[\n",
    "    [column for column in data_test_prepared.columns if 'cleaner' in column]\n",
    "]\n",
    "features_test_final.info()"
   ]
  },
  {
   "cell_type": "code",
   "execution_count": 55,
   "metadata": {},
   "outputs": [],
   "source": [
    "target_train_rougher = data_train_prepared['rougher.output.recovery']\n",
    "target_train_final = data_train_prepared['final.output.recovery']\n",
    "\n",
    "target_test_rougher = data_test_prepared['rougher.output.recovery']\n",
    "target_test_final = data_test_prepared['final.output.recovery']"
   ]
  },
  {
   "cell_type": "markdown",
   "metadata": {},
   "source": [
    "#### Масштабирование признаков"
   ]
  },
  {
   "cell_type": "markdown",
   "metadata": {},
   "source": [
    "Признаки измеряются в неизвестных величинах, в разных диапазонах, требуется масшабирование признаков"
   ]
  },
  {
   "cell_type": "code",
   "execution_count": 56,
   "metadata": {},
   "outputs": [],
   "source": [
    "scaler = StandardScaler()\n",
    "scaler.fit(features_train_rougher) # настраиваем на обучающих данных\n",
    "features_train_scaled_rougher = scaler.transform(features_train_rougher) # преобразование\n",
    "features_test_scaled_rougher = scaler.transform(features_test_rougher) # преобразование"
   ]
  },
  {
   "cell_type": "code",
   "execution_count": 57,
   "metadata": {},
   "outputs": [],
   "source": [
    "scaler.fit(features_train_final)\n",
    "features_train_scaled_final = scaler.transform(features_train_final)\n",
    "features_test_scaled_final = scaler.transform(features_test_final)"
   ]
  },
  {
   "cell_type": "markdown",
   "metadata": {},
   "source": [
    "### Обучение модели"
   ]
  },
  {
   "cell_type": "markdown",
   "metadata": {},
   "source": [
    "#### Вспомогательные функции"
   ]
  },
  {
   "cell_type": "markdown",
   "metadata": {},
   "source": [
    "Подготовим вспомогательные функции для обучения моделей"
   ]
  },
  {
   "cell_type": "code",
   "execution_count": 58,
   "metadata": {},
   "outputs": [],
   "source": [
    "def decision_tree(features_train, target_train, features_test, target_test):\n",
    "    best_DT_model = None\n",
    "    best_DT_score_cv = 0\n",
    "    best_DT_depth = 0\n",
    "\n",
    "    for depth in range(1,6):\n",
    "        model = DecisionTreeRegressor(max_depth=depth, random_state=state)\n",
    "        DT_score_cv = abs( cross_val_score(model, features_train, target_train, cv=5, scoring=scorer).mean() )\n",
    "        if DT_score_cv > best_DT_score_cv:\n",
    "            best_DT_model = model\n",
    "            best_DT_score_cv = DT_score_cv\n",
    "            best_DT_depth = depth\n",
    "    \n",
    "    best_DT_model.fit(features_train, target_train)\n",
    "    predictions = best_DT_model.predict(features_test)\n",
    "    DT_score_test = get_smape_score(target_test, predictions)\n",
    "    \n",
    "    return best_DT_model, best_DT_depth, best_DT_score_cv, DT_score_test"
   ]
  },
  {
   "cell_type": "code",
   "execution_count": 59,
   "metadata": {},
   "outputs": [],
   "source": [
    "def random_forest(features_train, target_train, features_test, target_test):\n",
    "    best_RF_model = None\n",
    "    best_RF_score_cv = 0\n",
    "    best_RF_est = 0\n",
    "    best_RF_depth = 0\n",
    "\n",
    "    for est in range(10, 51, 10):\n",
    "        for depth in range(1,6):\n",
    "            model = RandomForestRegressor(max_depth=depth, n_estimators=est, random_state=state)\n",
    "            RF_score_cv = abs( cross_val_score(model, features_train, target_train, cv=5, scoring=scorer).mean() )\n",
    "\n",
    "            if RF_score_cv > best_RF_score_cv:\n",
    "                best_RF_model = model\n",
    "                best_RF_score_cv = RF_score_cv\n",
    "                best_RF_depth = depth\n",
    "                best_RF_est = est\n",
    "    \n",
    "    best_RF_model.fit(features_train, target_train)\n",
    "    predictions = best_RF_model.predict(features_test)\n",
    "    RF_score_test = get_smape_score(target_test, predictions)\n",
    "    \n",
    "    return best_RF_model, best_RF_est, best_RF_depth, best_RF_score_cv, RF_score_test"
   ]
  },
  {
   "cell_type": "code",
   "execution_count": 60,
   "metadata": {},
   "outputs": [],
   "source": [
    "def linear(features_train, target_train, features_test, target_test):\n",
    "    LR_model = LinearRegression()\n",
    "    LR_score_cv = abs( cross_val_score(LR_model, features_train, target_train, cv=5, scoring=scorer).mean() )\n",
    "    \n",
    "    LR_model.fit(features_train, target_train)\n",
    "    predictions = LR_model.predict(features_test)\n",
    "    LR_score_test = get_smape_score(target_test, predictions)\n",
    "    \n",
    "    return LR_model, LR_score_cv, LR_score_test"
   ]
  },
  {
   "cell_type": "code",
   "execution_count": 61,
   "metadata": {},
   "outputs": [],
   "source": [
    "def gradient_boosting(features_train, target_train, features_test, target_test):\n",
    "    GB_model = GradientBoostingRegressor(random_state=state)\n",
    "    GB_score_cv = abs( cross_val_score(GB_model, features_train, target_train, cv=5, scoring=scorer).mean() )\n",
    "    \n",
    "    GB_model.fit(features_train, target_train)\n",
    "    predictions = GB_model.predict(features_test)\n",
    "    GB_score_test = get_smape_score(target_test, predictions)\n",
    "    \n",
    "    return GB_model, GB_score_cv, GB_score_test"
   ]
  },
  {
   "cell_type": "code",
   "execution_count": 62,
   "metadata": {},
   "outputs": [],
   "source": [
    "state = np.random.RandomState(42)"
   ]
  },
  {
   "cell_type": "markdown",
   "metadata": {},
   "source": [
    "#### Rougher"
   ]
  },
  {
   "cell_type": "markdown",
   "metadata": {},
   "source": [
    "##### Линейная регрессия"
   ]
  },
  {
   "cell_type": "code",
   "execution_count": 63,
   "metadata": {},
   "outputs": [
    {
     "name": "stdout",
     "output_type": "stream",
     "text": [
      "CPU times: user 271 ms, sys: 200 ms, total: 470 ms\n",
      "Wall time: 486 ms\n"
     ]
    }
   ],
   "source": [
    "%%time\n",
    "rougher_LR_model, rougher_LR_score_cv, rougher_LR_score_test = linear(\n",
    "    features_train_scaled_rougher,\n",
    "    target_train_rougher,\n",
    "    features_test_scaled_rougher,\n",
    "    target_test_rougher\n",
    ")"
   ]
  },
  {
   "cell_type": "code",
   "execution_count": 64,
   "metadata": {},
   "outputs": [
    {
     "data": {
      "text/plain": [
       "6.566643604244382"
      ]
     },
     "execution_count": 64,
     "metadata": {},
     "output_type": "execute_result"
    }
   ],
   "source": [
    "rougher_LR_score_cv"
   ]
  },
  {
   "cell_type": "code",
   "execution_count": 65,
   "metadata": {},
   "outputs": [
    {
     "data": {
      "text/plain": [
       "4.347553011775994"
      ]
     },
     "execution_count": 65,
     "metadata": {},
     "output_type": "execute_result"
    }
   ],
   "source": [
    "rougher_LR_score_test"
   ]
  },
  {
   "cell_type": "markdown",
   "metadata": {},
   "source": [
    "##### Decision Tree"
   ]
  },
  {
   "cell_type": "code",
   "execution_count": 66,
   "metadata": {},
   "outputs": [
    {
     "name": "stdout",
     "output_type": "stream",
     "text": [
      "CPU times: user 3 µs, sys: 1e+03 ns, total: 4 µs\n",
      "Wall time: 5.48 µs\n"
     ]
    }
   ],
   "source": [
    "%time\n",
    "rougher_DT_model, rougher_DT_depth, rougher_DT_score_cv, rougher_DT_score_test = decision_tree(\n",
    "    features_train_scaled_rougher,\n",
    "    target_train_rougher,\n",
    "    features_test_scaled_rougher,\n",
    "    target_test_rougher\n",
    ")"
   ]
  },
  {
   "cell_type": "code",
   "execution_count": 67,
   "metadata": {},
   "outputs": [
    {
     "data": {
      "text/plain": [
       "1"
      ]
     },
     "execution_count": 67,
     "metadata": {},
     "output_type": "execute_result"
    }
   ],
   "source": [
    "rougher_DT_depth"
   ]
  },
  {
   "cell_type": "code",
   "execution_count": 68,
   "metadata": {},
   "outputs": [
    {
     "data": {
      "text/plain": [
       "7.759401819757007"
      ]
     },
     "execution_count": 68,
     "metadata": {},
     "output_type": "execute_result"
    }
   ],
   "source": [
    "rougher_DT_score_cv"
   ]
  },
  {
   "cell_type": "code",
   "execution_count": 69,
   "metadata": {
    "scrolled": true
   },
   "outputs": [
    {
     "data": {
      "text/plain": [
       "6.0042232300201"
      ]
     },
     "execution_count": 69,
     "metadata": {},
     "output_type": "execute_result"
    }
   ],
   "source": [
    "rougher_DT_score_test"
   ]
  },
  {
   "cell_type": "markdown",
   "metadata": {},
   "source": [
    "##### Random Forest"
   ]
  },
  {
   "cell_type": "code",
   "execution_count": 70,
   "metadata": {},
   "outputs": [
    {
     "name": "stdout",
     "output_type": "stream",
     "text": [
      "CPU times: user 3 µs, sys: 0 ns, total: 3 µs\n",
      "Wall time: 6.2 µs\n"
     ]
    }
   ],
   "source": [
    "%time\n",
    "rougher_RF_model, rougher_RF_est, rougher_RF_depth, rougher_RF_score_cv, rougher_RF_score_test = random_forest(\n",
    "    features_train_scaled_rougher,\n",
    "    target_train_rougher,\n",
    "    features_test_scaled_rougher,\n",
    "    target_test_rougher\n",
    ")"
   ]
  },
  {
   "cell_type": "code",
   "execution_count": 71,
   "metadata": {},
   "outputs": [
    {
     "data": {
      "text/plain": [
       "50"
      ]
     },
     "execution_count": 71,
     "metadata": {},
     "output_type": "execute_result"
    }
   ],
   "source": [
    "rougher_RF_est"
   ]
  },
  {
   "cell_type": "code",
   "execution_count": 72,
   "metadata": {},
   "outputs": [
    {
     "data": {
      "text/plain": [
       "1"
      ]
     },
     "execution_count": 72,
     "metadata": {},
     "output_type": "execute_result"
    }
   ],
   "source": [
    "rougher_RF_depth"
   ]
  },
  {
   "cell_type": "code",
   "execution_count": 73,
   "metadata": {},
   "outputs": [
    {
     "data": {
      "text/plain": [
       "7.579238091674601"
      ]
     },
     "execution_count": 73,
     "metadata": {},
     "output_type": "execute_result"
    }
   ],
   "source": [
    "rougher_RF_score_cv"
   ]
  },
  {
   "cell_type": "code",
   "execution_count": 74,
   "metadata": {
    "scrolled": false
   },
   "outputs": [
    {
     "data": {
      "text/plain": [
       "5.999854227985396"
      ]
     },
     "execution_count": 74,
     "metadata": {},
     "output_type": "execute_result"
    }
   ],
   "source": [
    "rougher_RF_score_test"
   ]
  },
  {
   "cell_type": "markdown",
   "metadata": {},
   "source": [
    "##### Gradient Boosting"
   ]
  },
  {
   "cell_type": "code",
   "execution_count": 75,
   "metadata": {},
   "outputs": [
    {
     "name": "stdout",
     "output_type": "stream",
     "text": [
      "CPU times: user 33 s, sys: 19.7 ms, total: 33 s\n",
      "Wall time: 33 s\n"
     ]
    }
   ],
   "source": [
    "%%time\n",
    "rougher_GB_model, rougher_GB_score_cv, rougher_GB_score_test = gradient_boosting(\n",
    "    features_train_scaled_rougher,\n",
    "    target_train_rougher,\n",
    "    features_test_scaled_rougher,\n",
    "    target_test_rougher\n",
    ")"
   ]
  },
  {
   "cell_type": "code",
   "execution_count": 76,
   "metadata": {},
   "outputs": [
    {
     "data": {
      "text/plain": [
       "6.193615360171458"
      ]
     },
     "execution_count": 76,
     "metadata": {},
     "output_type": "execute_result"
    }
   ],
   "source": [
    "rougher_GB_score_cv"
   ]
  },
  {
   "cell_type": "code",
   "execution_count": 77,
   "metadata": {},
   "outputs": [
    {
     "data": {
      "text/plain": [
       "3.686114006252116"
      ]
     },
     "execution_count": 77,
     "metadata": {},
     "output_type": "execute_result"
    }
   ],
   "source": [
    "rougher_GB_score_test"
   ]
  },
  {
   "cell_type": "markdown",
   "metadata": {},
   "source": [
    "##### Сводная таблица"
   ]
  },
  {
   "cell_type": "code",
   "execution_count": 78,
   "metadata": {
    "scrolled": true
   },
   "outputs": [
    {
     "data": {
      "text/html": [
       "<div>\n",
       "<style scoped>\n",
       "    .dataframe tbody tr th:only-of-type {\n",
       "        vertical-align: middle;\n",
       "    }\n",
       "\n",
       "    .dataframe tbody tr th {\n",
       "        vertical-align: top;\n",
       "    }\n",
       "\n",
       "    .dataframe thead th {\n",
       "        text-align: right;\n",
       "    }\n",
       "</style>\n",
       "<table border=\"1\" class=\"dataframe\">\n",
       "  <thead>\n",
       "    <tr style=\"text-align: right;\">\n",
       "      <th></th>\n",
       "      <th>sMAPE_score_cv</th>\n",
       "      <th>sMAPE_score_test</th>\n",
       "    </tr>\n",
       "  </thead>\n",
       "  <tbody>\n",
       "    <tr>\n",
       "      <th>Linear Regression</th>\n",
       "      <td>6.566644</td>\n",
       "      <td>4.347553</td>\n",
       "    </tr>\n",
       "    <tr>\n",
       "      <th>Decision Tree</th>\n",
       "      <td>7.759402</td>\n",
       "      <td>6.004223</td>\n",
       "    </tr>\n",
       "    <tr>\n",
       "      <th>Random Forest</th>\n",
       "      <td>7.579238</td>\n",
       "      <td>5.999854</td>\n",
       "    </tr>\n",
       "    <tr>\n",
       "      <th>Gradient Boosting</th>\n",
       "      <td>6.193615</td>\n",
       "      <td>3.686114</td>\n",
       "    </tr>\n",
       "  </tbody>\n",
       "</table>\n",
       "</div>"
      ],
      "text/plain": [
       "                   sMAPE_score_cv  sMAPE_score_test\n",
       "Linear Regression        6.566644          4.347553\n",
       "Decision Tree            7.759402          6.004223\n",
       "Random Forest            7.579238          5.999854\n",
       "Gradient Boosting        6.193615          3.686114"
      ]
     },
     "execution_count": 78,
     "metadata": {},
     "output_type": "execute_result"
    }
   ],
   "source": [
    "pd.DataFrame(\n",
    "    {\n",
    "        'sMAPE_score_cv': [rougher_LR_score_cv, rougher_DT_score_cv, rougher_RF_score_cv, rougher_GB_score_cv],\n",
    "        'sMAPE_score_test': [rougher_LR_score_test, rougher_DT_score_test, rougher_RF_score_test, rougher_GB_score_test],\n",
    "    },\n",
    "    index=['Linear Regression', 'Decision Tree', 'Random Forest', 'Gradient Boosting']\n",
    ")"
   ]
  },
  {
   "cell_type": "markdown",
   "metadata": {},
   "source": [
    "**Вывод**\n",
    "\n",
    "При прогнозировании эффективности обогащения чернового концентрата лучший результат на кросс-валидации и тестовой выборке показал градиентный бустинг"
   ]
  },
  {
   "cell_type": "markdown",
   "metadata": {},
   "source": [
    "#### Final"
   ]
  },
  {
   "cell_type": "markdown",
   "metadata": {},
   "source": [
    "##### Линейная регрессия"
   ]
  },
  {
   "cell_type": "code",
   "execution_count": 79,
   "metadata": {},
   "outputs": [
    {
     "name": "stdout",
     "output_type": "stream",
     "text": [
      "CPU times: user 353 ms, sys: 261 ms, total: 614 ms\n",
      "Wall time: 565 ms\n"
     ]
    }
   ],
   "source": [
    "%%time\n",
    "final_LR_model, final_LR_score_cv, final_LR_score_test = linear(\n",
    "    features_train_scaled_final,\n",
    "    target_train_final,\n",
    "    features_test_scaled_final,\n",
    "    target_test_final\n",
    ")"
   ]
  },
  {
   "cell_type": "code",
   "execution_count": 80,
   "metadata": {},
   "outputs": [
    {
     "data": {
      "text/plain": [
       "9.210592791943245"
      ]
     },
     "execution_count": 80,
     "metadata": {},
     "output_type": "execute_result"
    }
   ],
   "source": [
    "final_LR_score_cv"
   ]
  },
  {
   "cell_type": "code",
   "execution_count": 81,
   "metadata": {},
   "outputs": [
    {
     "data": {
      "text/plain": [
       "7.76637113520686"
      ]
     },
     "execution_count": 81,
     "metadata": {},
     "output_type": "execute_result"
    }
   ],
   "source": [
    "final_LR_score_test"
   ]
  },
  {
   "cell_type": "markdown",
   "metadata": {},
   "source": [
    "##### Decision Tree"
   ]
  },
  {
   "cell_type": "code",
   "execution_count": 82,
   "metadata": {},
   "outputs": [
    {
     "name": "stdout",
     "output_type": "stream",
     "text": [
      "CPU times: user 2.53 s, sys: 0 ns, total: 2.53 s\n",
      "Wall time: 2.55 s\n"
     ]
    }
   ],
   "source": [
    "%%time\n",
    "final_DT_model, final_DT_depth, final_DT_score_cv, final_DT_score_test = decision_tree(\n",
    "    features_train_scaled_final,\n",
    "    target_train_final,\n",
    "    features_test_scaled_final,\n",
    "    target_test_final\n",
    ")"
   ]
  },
  {
   "cell_type": "code",
   "execution_count": 83,
   "metadata": {},
   "outputs": [
    {
     "data": {
      "text/plain": [
       "5"
      ]
     },
     "execution_count": 83,
     "metadata": {},
     "output_type": "execute_result"
    }
   ],
   "source": [
    "final_DT_depth"
   ]
  },
  {
   "cell_type": "code",
   "execution_count": 84,
   "metadata": {},
   "outputs": [
    {
     "data": {
      "text/plain": [
       "12.759460538595093"
      ]
     },
     "execution_count": 84,
     "metadata": {},
     "output_type": "execute_result"
    }
   ],
   "source": [
    "final_DT_score_cv"
   ]
  },
  {
   "cell_type": "code",
   "execution_count": 85,
   "metadata": {},
   "outputs": [
    {
     "data": {
      "text/plain": [
       "10.846793886239766"
      ]
     },
     "execution_count": 85,
     "metadata": {},
     "output_type": "execute_result"
    }
   ],
   "source": [
    "final_DT_score_test"
   ]
  },
  {
   "cell_type": "markdown",
   "metadata": {},
   "source": [
    "##### Random Forest"
   ]
  },
  {
   "cell_type": "code",
   "execution_count": 86,
   "metadata": {},
   "outputs": [
    {
     "name": "stdout",
     "output_type": "stream",
     "text": [
      "CPU times: user 3min 26s, sys: 127 ms, total: 3min 26s\n",
      "Wall time: 3min 26s\n"
     ]
    }
   ],
   "source": [
    "%%time\n",
    "final_RF_model, final_RF_est, final_RF_depth, final_RF_score_cv, final_RF_score_test = random_forest(\n",
    "    features_train_scaled_final,\n",
    "    target_train_final,\n",
    "    features_test_scaled_final,\n",
    "    target_test_final\n",
    ")"
   ]
  },
  {
   "cell_type": "code",
   "execution_count": 87,
   "metadata": {},
   "outputs": [
    {
     "data": {
      "text/plain": [
       "30"
      ]
     },
     "execution_count": 87,
     "metadata": {},
     "output_type": "execute_result"
    }
   ],
   "source": [
    "final_RF_est"
   ]
  },
  {
   "cell_type": "code",
   "execution_count": 88,
   "metadata": {},
   "outputs": [
    {
     "data": {
      "text/plain": [
       "5"
      ]
     },
     "execution_count": 88,
     "metadata": {},
     "output_type": "execute_result"
    }
   ],
   "source": [
    "final_RF_depth"
   ]
  },
  {
   "cell_type": "code",
   "execution_count": 89,
   "metadata": {},
   "outputs": [
    {
     "data": {
      "text/plain": [
       "11.258084335080687"
      ]
     },
     "execution_count": 89,
     "metadata": {},
     "output_type": "execute_result"
    }
   ],
   "source": [
    "final_RF_score_cv"
   ]
  },
  {
   "cell_type": "code",
   "execution_count": 90,
   "metadata": {
    "scrolled": true
   },
   "outputs": [
    {
     "data": {
      "text/plain": [
       "10.107549324503207"
      ]
     },
     "execution_count": 90,
     "metadata": {},
     "output_type": "execute_result"
    }
   ],
   "source": [
    "final_RF_score_test"
   ]
  },
  {
   "cell_type": "markdown",
   "metadata": {},
   "source": [
    "##### Gradient Boosting"
   ]
  },
  {
   "cell_type": "code",
   "execution_count": 91,
   "metadata": {},
   "outputs": [
    {
     "name": "stdout",
     "output_type": "stream",
     "text": [
      "CPU times: user 56.9 s, sys: 75.8 ms, total: 57 s\n",
      "Wall time: 57 s\n"
     ]
    }
   ],
   "source": [
    "%%time\n",
    "final_GB_model, final_GB_score_cv, final_GB_score_test = gradient_boosting(\n",
    "    features_train_scaled_final,\n",
    "    target_train_final,\n",
    "    features_test_scaled_final,\n",
    "    target_test_final\n",
    ")"
   ]
  },
  {
   "cell_type": "code",
   "execution_count": 92,
   "metadata": {},
   "outputs": [
    {
     "data": {
      "text/plain": [
       "10.80133096795907"
      ]
     },
     "execution_count": 92,
     "metadata": {},
     "output_type": "execute_result"
    }
   ],
   "source": [
    "final_GB_score_cv"
   ]
  },
  {
   "cell_type": "code",
   "execution_count": 93,
   "metadata": {},
   "outputs": [
    {
     "data": {
      "text/plain": [
       "9.162480245130588"
      ]
     },
     "execution_count": 93,
     "metadata": {},
     "output_type": "execute_result"
    }
   ],
   "source": [
    "final_GB_score_test"
   ]
  },
  {
   "cell_type": "markdown",
   "metadata": {},
   "source": [
    "##### Сводная таблица"
   ]
  },
  {
   "cell_type": "code",
   "execution_count": 94,
   "metadata": {
    "scrolled": true
   },
   "outputs": [
    {
     "data": {
      "text/html": [
       "<div>\n",
       "<style scoped>\n",
       "    .dataframe tbody tr th:only-of-type {\n",
       "        vertical-align: middle;\n",
       "    }\n",
       "\n",
       "    .dataframe tbody tr th {\n",
       "        vertical-align: top;\n",
       "    }\n",
       "\n",
       "    .dataframe thead th {\n",
       "        text-align: right;\n",
       "    }\n",
       "</style>\n",
       "<table border=\"1\" class=\"dataframe\">\n",
       "  <thead>\n",
       "    <tr style=\"text-align: right;\">\n",
       "      <th></th>\n",
       "      <th>sMAPE_score_cv</th>\n",
       "      <th>sMAPE_score_test</th>\n",
       "    </tr>\n",
       "  </thead>\n",
       "  <tbody>\n",
       "    <tr>\n",
       "      <th>Linear Regression</th>\n",
       "      <td>9.210593</td>\n",
       "      <td>7.766371</td>\n",
       "    </tr>\n",
       "    <tr>\n",
       "      <th>Decision Tree</th>\n",
       "      <td>12.759461</td>\n",
       "      <td>10.846794</td>\n",
       "    </tr>\n",
       "    <tr>\n",
       "      <th>Random Forest</th>\n",
       "      <td>11.258084</td>\n",
       "      <td>10.107549</td>\n",
       "    </tr>\n",
       "    <tr>\n",
       "      <th>Gradient Boosting</th>\n",
       "      <td>10.801331</td>\n",
       "      <td>9.162480</td>\n",
       "    </tr>\n",
       "  </tbody>\n",
       "</table>\n",
       "</div>"
      ],
      "text/plain": [
       "                   sMAPE_score_cv  sMAPE_score_test\n",
       "Linear Regression        9.210593          7.766371\n",
       "Decision Tree           12.759461         10.846794\n",
       "Random Forest           11.258084         10.107549\n",
       "Gradient Boosting       10.801331          9.162480"
      ]
     },
     "execution_count": 94,
     "metadata": {},
     "output_type": "execute_result"
    }
   ],
   "source": [
    "pd.DataFrame(\n",
    "    {\n",
    "        'sMAPE_score_cv': [final_LR_score_cv, final_DT_score_cv, final_RF_score_cv, final_GB_score_cv],\n",
    "        'sMAPE_score_test': [final_LR_score_test, final_DT_score_test, final_RF_score_test, final_GB_score_test],\n",
    "    },\n",
    "    index=['Linear Regression', 'Decision Tree', 'Random Forest', 'Gradient Boosting']\n",
    ")"
   ]
  },
  {
   "cell_type": "markdown",
   "metadata": {},
   "source": [
    "**Вывод**\n",
    "\n",
    "При прогнозировании эффективности обогащения финального концентрата лучший результат на кросс-валидации и тестовой выборке\n",
    "показала линейная регрессия"
   ]
  },
  {
   "cell_type": "markdown",
   "metadata": {},
   "source": [
    "### Итоговая метрика sMAPE"
   ]
  },
  {
   "cell_type": "markdown",
   "metadata": {},
   "source": [
    "При расчете итоговой метрики sMAPE вопользуемся комбинацией результатов моделей градиентного бустинга и линейной регрессии"
   ]
  },
  {
   "cell_type": "code",
   "execution_count": 95,
   "metadata": {
    "scrolled": true
   },
   "outputs": [
    {
     "data": {
      "text/html": [
       "<div>\n",
       "<style scoped>\n",
       "    .dataframe tbody tr th:only-of-type {\n",
       "        vertical-align: middle;\n",
       "    }\n",
       "\n",
       "    .dataframe tbody tr th {\n",
       "        vertical-align: top;\n",
       "    }\n",
       "\n",
       "    .dataframe thead th {\n",
       "        text-align: right;\n",
       "    }\n",
       "</style>\n",
       "<table border=\"1\" class=\"dataframe\">\n",
       "  <thead>\n",
       "    <tr style=\"text-align: right;\">\n",
       "      <th></th>\n",
       "      <th>sMAPE_score_cv</th>\n",
       "      <th>sMAPE_score_test</th>\n",
       "    </tr>\n",
       "  </thead>\n",
       "  <tbody>\n",
       "    <tr>\n",
       "      <th>rougher</th>\n",
       "      <td>6.193615</td>\n",
       "      <td>3.686114</td>\n",
       "    </tr>\n",
       "    <tr>\n",
       "      <th>final</th>\n",
       "      <td>9.210593</td>\n",
       "      <td>7.766371</td>\n",
       "    </tr>\n",
       "    <tr>\n",
       "      <th>concluded</th>\n",
       "      <td>8.456348</td>\n",
       "      <td>6.746307</td>\n",
       "    </tr>\n",
       "  </tbody>\n",
       "</table>\n",
       "</div>"
      ],
      "text/plain": [
       "           sMAPE_score_cv  sMAPE_score_test\n",
       "rougher          6.193615          3.686114\n",
       "final            9.210593          7.766371\n",
       "concluded        8.456348          6.746307"
      ]
     },
     "execution_count": 95,
     "metadata": {},
     "output_type": "execute_result"
    }
   ],
   "source": [
    "smape_score_cv_concluded = get_smape_score_concluded(rougher_GB_score_cv, final_LR_score_cv)\n",
    "smape_score_test_concluded = get_smape_score_concluded(rougher_GB_score_test, final_LR_score_test)\n",
    "\n",
    "pd.DataFrame(\n",
    "    {\n",
    "        'sMAPE_score_cv': [rougher_GB_score_cv, final_LR_score_cv, smape_score_cv_concluded],\n",
    "        'sMAPE_score_test': [rougher_GB_score_test, final_LR_score_test, smape_score_test_concluded]\n",
    "    },\n",
    "    index=['rougher', 'final', 'concluded']\n",
    ")"
   ]
  },
  {
   "cell_type": "markdown",
   "metadata": {},
   "source": [
    "Итоговая метрика sMAPE линейной регрессии на тестовой выборке 6.74"
   ]
  },
  {
   "cell_type": "markdown",
   "metadata": {},
   "source": [
    "### Проверка на адекватность"
   ]
  },
  {
   "cell_type": "markdown",
   "metadata": {},
   "source": [
    "Проверим модель на вменяемость с помощью DummyRegressor везде предсказывающий среднее значение эфективности обогащения концентрата."
   ]
  },
  {
   "cell_type": "code",
   "execution_count": 96,
   "metadata": {
    "scrolled": true
   },
   "outputs": [
    {
     "data": {
      "text/html": [
       "<div>\n",
       "<style scoped>\n",
       "    .dataframe tbody tr th:only-of-type {\n",
       "        vertical-align: middle;\n",
       "    }\n",
       "\n",
       "    .dataframe tbody tr th {\n",
       "        vertical-align: top;\n",
       "    }\n",
       "\n",
       "    .dataframe thead th {\n",
       "        text-align: right;\n",
       "    }\n",
       "</style>\n",
       "<table border=\"1\" class=\"dataframe\">\n",
       "  <thead>\n",
       "    <tr style=\"text-align: right;\">\n",
       "      <th></th>\n",
       "      <th>sMAPE_score_cv</th>\n",
       "      <th>sMAPE_score_test</th>\n",
       "    </tr>\n",
       "  </thead>\n",
       "  <tbody>\n",
       "    <tr>\n",
       "      <th>rougher</th>\n",
       "      <td>7.585481</td>\n",
       "      <td>5.004276</td>\n",
       "    </tr>\n",
       "    <tr>\n",
       "      <th>final</th>\n",
       "      <td>9.970446</td>\n",
       "      <td>8.294207</td>\n",
       "    </tr>\n",
       "    <tr>\n",
       "      <th>concluded</th>\n",
       "      <td>9.374205</td>\n",
       "      <td>7.471724</td>\n",
       "    </tr>\n",
       "  </tbody>\n",
       "</table>\n",
       "</div>"
      ],
      "text/plain": [
       "           sMAPE_score_cv  sMAPE_score_test\n",
       "rougher          7.585481          5.004276\n",
       "final            9.970446          8.294207\n",
       "concluded        9.374205          7.471724"
      ]
     },
     "execution_count": 96,
     "metadata": {},
     "output_type": "execute_result"
    }
   ],
   "source": [
    "DR_model = DummyRegressor(strategy='mean')\n",
    "\n",
    "rougher_DR_score_cv = abs( cross_val_score(DR_model, features_train_scaled_rougher, target_train_rougher, cv=5, scoring=scorer).mean() )\n",
    "final_DR_score_cv = abs( cross_val_score(DR_model, features_train_scaled_final, target_train_final, cv=5, scoring=scorer).mean() )\n",
    "\n",
    "DR_model.fit(features_train_scaled_rougher, target_train_rougher)    \n",
    "rougher_DR_predictions = DR_model.predict(features_test_scaled_rougher)\n",
    "rougher_DR_score_test = get_smape_score(target_test_rougher, rougher_DR_predictions)\n",
    "\n",
    "DR_model.fit(features_train_scaled_final, target_train_final)    \n",
    "final_DR_predictions = DR_model.predict(features_test_scaled_final)\n",
    "final_DR_score_test = get_smape_score(target_test_final, final_DR_predictions)\n",
    "\n",
    "DR_score_cv_concluded = get_smape_score_concluded(rougher_DR_score_cv, final_DR_score_cv)\n",
    "DR_score_test_concluded = get_smape_score_concluded(rougher_DR_score_test, final_DR_score_test)\n",
    "\n",
    "pd.DataFrame(\n",
    "    {\n",
    "        'sMAPE_score_cv': [rougher_DR_score_cv, final_DR_score_cv, DR_score_cv_concluded],\n",
    "        'sMAPE_score_test': [rougher_DR_score_test, final_DR_score_test, DR_score_test_concluded]\n",
    "    },\n",
    "    index=['rougher', 'final', 'concluded']\n",
    ")"
   ]
  },
  {
   "cell_type": "markdown",
   "metadata": {},
   "source": [
    "Итоговая метрика sMAPE DummyRegressor на тестовой выборке 7.47, что выше (хуже) чем у линейной регрессии"
   ]
  },
  {
   "cell_type": "markdown",
   "metadata": {},
   "source": [
    "## Вывод"
   ]
  },
  {
   "cell_type": "markdown",
   "metadata": {},
   "source": [
    "* Наибольшая корреляция для обоих целевых признаков наблюдается с переменной primary_cleaner.input.sulfate\n",
    "* На различных этапах очистки наблюдается рост доли золота в концентрате. Доля остальных металлов при этом снижается либо остается на прежнем уровне\n",
    "* Распределения гранул сырья в тестовом и обучающем датасете в целом похожи, однако для тестовой выборки пик значений приходится на меньшие значения\n",
    "* Распределения суммарной концентрации всех веществ на разных этапах похожи на нормальные, однако наблюдаются выбросы - значения близкие и равные 0, что, вероятно может свидетельствовать об ошибке при выгрузке данных. Принято решение удалить строки с аномальными значениями\n",
    "* При прогнозировании эффективности обогащения чернового концентрата лучший результат на кросс-валидации и тестовой выборке показала линейная регрессия\n",
    "* При прогнозировании эффективности обогащения финального концентрата лучший результат на кросс-валидации и тестовой выборке также показала линейная регрессия\n",
    "* Итоговая метрика sMAPE линейной регрессии на тестовой выборке 5.82"
   ]
  }
 ],
 "metadata": {
  "ExecuteTimeLog": [
   {
    "duration": 426,
    "start_time": "2022-04-26T02:42:57.016Z"
   },
   {
    "duration": 280,
    "start_time": "2022-04-26T02:43:43.148Z"
   },
   {
    "duration": 18,
    "start_time": "2022-04-26T02:44:17.862Z"
   },
   {
    "duration": 197,
    "start_time": "2022-04-26T02:44:41.872Z"
   },
   {
    "duration": 282,
    "start_time": "2022-04-26T02:46:44.159Z"
   },
   {
    "duration": 61,
    "start_time": "2022-04-26T02:46:56.970Z"
   },
   {
    "duration": 4,
    "start_time": "2022-04-26T02:47:03.183Z"
   },
   {
    "duration": 17,
    "start_time": "2022-04-26T02:47:12.553Z"
   },
   {
    "duration": 233,
    "start_time": "2022-04-26T02:47:17.522Z"
   },
   {
    "duration": 91,
    "start_time": "2022-04-26T02:47:39.486Z"
   },
   {
    "duration": 4,
    "start_time": "2022-04-26T02:47:59.345Z"
   },
   {
    "duration": 13,
    "start_time": "2022-04-26T02:48:08.290Z"
   },
   {
    "duration": 106,
    "start_time": "2022-04-26T02:48:20.590Z"
   },
   {
    "duration": 357,
    "start_time": "2022-04-26T02:48:59.234Z"
   },
   {
    "duration": 4,
    "start_time": "2022-04-26T02:49:11.149Z"
   },
   {
    "duration": 19,
    "start_time": "2022-04-26T02:49:43.093Z"
   },
   {
    "duration": 209,
    "start_time": "2022-04-26T02:49:54.308Z"
   },
   {
    "duration": 3,
    "start_time": "2022-04-26T03:25:53.122Z"
   },
   {
    "duration": 18,
    "start_time": "2022-04-26T03:27:22.199Z"
   },
   {
    "duration": 114,
    "start_time": "2022-04-26T03:32:33.319Z"
   },
   {
    "duration": 4,
    "start_time": "2022-04-26T03:49:10.622Z"
   },
   {
    "duration": 19,
    "start_time": "2022-04-26T03:50:15.078Z"
   },
   {
    "duration": 68,
    "start_time": "2022-04-26T03:51:26.242Z"
   },
   {
    "duration": 275,
    "start_time": "2022-04-26T03:51:45.616Z"
   },
   {
    "duration": 286,
    "start_time": "2022-04-26T03:51:57.509Z"
   },
   {
    "duration": 332,
    "start_time": "2022-04-26T03:54:23.557Z"
   },
   {
    "duration": 7,
    "start_time": "2022-04-26T04:00:29.243Z"
   },
   {
    "duration": 4,
    "start_time": "2022-04-26T04:00:31.872Z"
   },
   {
    "duration": 70,
    "start_time": "2022-04-26T04:00:33.663Z"
   },
   {
    "duration": 47,
    "start_time": "2022-04-27T02:15:51.290Z"
   },
   {
    "duration": 6,
    "start_time": "2022-04-27T02:15:54.358Z"
   },
   {
    "duration": 412,
    "start_time": "2022-04-27T02:16:08.095Z"
   },
   {
    "duration": 266,
    "start_time": "2022-04-27T02:16:08.509Z"
   },
   {
    "duration": 4,
    "start_time": "2022-04-27T02:16:08.777Z"
   },
   {
    "duration": 13,
    "start_time": "2022-04-27T02:16:08.784Z"
   },
   {
    "duration": 38,
    "start_time": "2022-04-27T02:16:08.799Z"
   },
   {
    "duration": 202,
    "start_time": "2022-04-27T02:16:08.838Z"
   },
   {
    "duration": 87,
    "start_time": "2022-04-27T02:16:09.042Z"
   },
   {
    "duration": 5,
    "start_time": "2022-04-27T02:16:09.130Z"
   },
   {
    "duration": 14,
    "start_time": "2022-04-27T02:16:09.136Z"
   },
   {
    "duration": 128,
    "start_time": "2022-04-27T02:16:09.152Z"
   },
   {
    "duration": 342,
    "start_time": "2022-04-27T02:16:09.282Z"
   },
   {
    "duration": 4,
    "start_time": "2022-04-27T02:16:09.626Z"
   },
   {
    "duration": 19,
    "start_time": "2022-04-27T02:16:09.632Z"
   },
   {
    "duration": 256,
    "start_time": "2022-04-27T02:16:09.653Z"
   },
   {
    "duration": 11,
    "start_time": "2022-04-27T02:16:09.912Z"
   },
   {
    "duration": 129,
    "start_time": "2022-04-27T02:16:09.925Z"
   },
   {
    "duration": 10,
    "start_time": "2022-04-27T02:16:42.773Z"
   },
   {
    "duration": 4,
    "start_time": "2022-04-27T02:26:39.258Z"
   },
   {
    "duration": 86,
    "start_time": "2022-04-27T02:26:42.355Z"
   },
   {
    "duration": 4,
    "start_time": "2022-04-27T02:28:38.614Z"
   },
   {
    "duration": 606,
    "start_time": "2022-04-27T02:28:40.461Z"
   },
   {
    "duration": 608,
    "start_time": "2022-04-27T02:28:49.946Z"
   },
   {
    "duration": 726,
    "start_time": "2022-04-27T02:32:34.241Z"
   },
   {
    "duration": 41,
    "start_time": "2022-04-27T02:33:36.997Z"
   },
   {
    "duration": 5,
    "start_time": "2022-04-27T02:34:37.638Z"
   },
   {
    "duration": 5,
    "start_time": "2022-04-27T02:34:58.930Z"
   },
   {
    "duration": 107,
    "start_time": "2022-04-27T02:48:32.556Z"
   },
   {
    "duration": 6,
    "start_time": "2022-04-27T02:48:44.571Z"
   },
   {
    "duration": 110,
    "start_time": "2022-04-27T02:53:33.677Z"
   },
   {
    "duration": 12,
    "start_time": "2022-04-27T02:53:38.365Z"
   },
   {
    "duration": 11,
    "start_time": "2022-04-27T02:53:53.830Z"
   },
   {
    "duration": 5,
    "start_time": "2022-04-27T02:54:04.344Z"
   },
   {
    "duration": 4,
    "start_time": "2022-04-27T02:54:14.914Z"
   },
   {
    "duration": 6,
    "start_time": "2022-04-27T02:54:34.762Z"
   },
   {
    "duration": 17,
    "start_time": "2022-04-27T02:54:50.855Z"
   },
   {
    "duration": 5,
    "start_time": "2022-04-27T03:05:22.477Z"
   },
   {
    "duration": 5,
    "start_time": "2022-04-27T03:05:26.381Z"
   },
   {
    "duration": 12,
    "start_time": "2022-04-27T03:05:35.552Z"
   },
   {
    "duration": 1698,
    "start_time": "2022-04-27T03:05:36.033Z"
   },
   {
    "duration": 1161,
    "start_time": "2022-04-27T03:05:55.635Z"
   },
   {
    "duration": 275,
    "start_time": "2022-04-27T03:05:56.798Z"
   },
   {
    "duration": 4,
    "start_time": "2022-04-27T03:05:57.074Z"
   },
   {
    "duration": 19,
    "start_time": "2022-04-27T03:05:57.080Z"
   },
   {
    "duration": 217,
    "start_time": "2022-04-27T03:05:57.101Z"
   },
   {
    "duration": 83,
    "start_time": "2022-04-27T03:05:57.320Z"
   },
   {
    "duration": 3,
    "start_time": "2022-04-27T03:05:57.405Z"
   },
   {
    "duration": 20,
    "start_time": "2022-04-27T03:05:57.410Z"
   },
   {
    "duration": 121,
    "start_time": "2022-04-27T03:05:57.431Z"
   },
   {
    "duration": 338,
    "start_time": "2022-04-27T03:05:57.554Z"
   },
   {
    "duration": 4,
    "start_time": "2022-04-27T03:05:57.894Z"
   },
   {
    "duration": 33,
    "start_time": "2022-04-27T03:05:57.899Z"
   },
   {
    "duration": 224,
    "start_time": "2022-04-27T03:05:57.933Z"
   },
   {
    "duration": 5,
    "start_time": "2022-04-27T03:05:58.159Z"
   },
   {
    "duration": 17,
    "start_time": "2022-04-27T03:05:58.165Z"
   },
   {
    "duration": 519,
    "start_time": "2022-04-27T03:05:58.183Z"
   },
   {
    "duration": 5,
    "start_time": "2022-04-27T03:05:58.703Z"
   },
   {
    "duration": 14,
    "start_time": "2022-04-27T03:05:58.710Z"
   },
   {
    "duration": 104,
    "start_time": "2022-04-27T03:05:58.726Z"
   },
   {
    "duration": 0,
    "start_time": "2022-04-27T03:05:58.832Z"
   },
   {
    "duration": 0,
    "start_time": "2022-04-27T03:05:58.833Z"
   },
   {
    "duration": 5,
    "start_time": "2022-04-27T03:06:25.449Z"
   },
   {
    "duration": 5,
    "start_time": "2022-04-27T03:07:31.840Z"
   },
   {
    "duration": 5,
    "start_time": "2022-04-27T03:09:32.901Z"
   },
   {
    "duration": 471,
    "start_time": "2022-04-27T03:09:43.352Z"
   },
   {
    "duration": 1023,
    "start_time": "2022-04-27T03:10:03.936Z"
   },
   {
    "duration": 3,
    "start_time": "2022-04-27T03:14:58.237Z"
   },
   {
    "duration": 3,
    "start_time": "2022-04-27T03:16:01.477Z"
   },
   {
    "duration": 343,
    "start_time": "2022-04-27T03:16:03.153Z"
   },
   {
    "duration": 21,
    "start_time": "2022-04-27T03:16:21.939Z"
   },
   {
    "duration": 5,
    "start_time": "2022-04-27T03:16:33.527Z"
   },
   {
    "duration": 3,
    "start_time": "2022-04-27T03:17:04.736Z"
   },
   {
    "duration": 333,
    "start_time": "2022-04-27T03:17:05.562Z"
   },
   {
    "duration": 3,
    "start_time": "2022-04-27T03:18:11.962Z"
   },
   {
    "duration": 319,
    "start_time": "2022-04-27T03:18:13.657Z"
   },
   {
    "duration": 3,
    "start_time": "2022-04-27T03:18:43.847Z"
   },
   {
    "duration": 328,
    "start_time": "2022-04-27T03:18:44.878Z"
   },
   {
    "duration": 5,
    "start_time": "2022-04-27T03:18:48.126Z"
   },
   {
    "duration": 6,
    "start_time": "2022-04-27T03:26:45.642Z"
   },
   {
    "duration": 5,
    "start_time": "2022-04-27T03:26:54.582Z"
   },
   {
    "duration": 311,
    "start_time": "2022-04-27T03:27:30.524Z"
   },
   {
    "duration": 9,
    "start_time": "2022-04-27T03:27:50.169Z"
   },
   {
    "duration": 6,
    "start_time": "2022-04-27T03:28:10.549Z"
   },
   {
    "duration": 25,
    "start_time": "2022-04-27T03:30:50.593Z"
   },
   {
    "duration": 6,
    "start_time": "2022-04-27T03:38:42.845Z"
   },
   {
    "duration": 21,
    "start_time": "2022-04-27T03:38:45.018Z"
   },
   {
    "duration": 1103,
    "start_time": "2022-04-27T03:41:17.327Z"
   },
   {
    "duration": 270,
    "start_time": "2022-04-27T03:41:18.432Z"
   },
   {
    "duration": 3,
    "start_time": "2022-04-27T03:41:18.704Z"
   },
   {
    "duration": 26,
    "start_time": "2022-04-27T03:41:18.709Z"
   },
   {
    "duration": 209,
    "start_time": "2022-04-27T03:41:18.737Z"
   },
   {
    "duration": 92,
    "start_time": "2022-04-27T03:41:18.947Z"
   },
   {
    "duration": 3,
    "start_time": "2022-04-27T03:41:19.041Z"
   },
   {
    "duration": 14,
    "start_time": "2022-04-27T03:41:19.046Z"
   },
   {
    "duration": 124,
    "start_time": "2022-04-27T03:41:19.061Z"
   },
   {
    "duration": 362,
    "start_time": "2022-04-27T03:41:19.187Z"
   },
   {
    "duration": 4,
    "start_time": "2022-04-27T03:41:19.550Z"
   },
   {
    "duration": 22,
    "start_time": "2022-04-27T03:41:19.555Z"
   },
   {
    "duration": 227,
    "start_time": "2022-04-27T03:41:19.579Z"
   },
   {
    "duration": 3,
    "start_time": "2022-04-27T03:41:19.808Z"
   },
   {
    "duration": 625,
    "start_time": "2022-04-27T03:41:19.812Z"
   },
   {
    "duration": 6,
    "start_time": "2022-04-27T03:41:20.439Z"
   },
   {
    "duration": 9,
    "start_time": "2022-04-27T03:41:20.447Z"
   },
   {
    "duration": 20,
    "start_time": "2022-04-27T03:41:20.458Z"
   },
   {
    "duration": 20,
    "start_time": "2022-04-27T03:44:21.334Z"
   },
   {
    "duration": 1136,
    "start_time": "2022-04-27T03:47:23.526Z"
   },
   {
    "duration": 283,
    "start_time": "2022-04-27T03:47:24.664Z"
   },
   {
    "duration": 5,
    "start_time": "2022-04-27T03:47:24.949Z"
   },
   {
    "duration": 20,
    "start_time": "2022-04-27T03:47:24.957Z"
   },
   {
    "duration": 223,
    "start_time": "2022-04-27T03:47:24.979Z"
   },
   {
    "duration": 93,
    "start_time": "2022-04-27T03:47:25.204Z"
   },
   {
    "duration": 5,
    "start_time": "2022-04-27T03:47:25.299Z"
   },
   {
    "duration": 25,
    "start_time": "2022-04-27T03:47:25.306Z"
   },
   {
    "duration": 120,
    "start_time": "2022-04-27T03:47:25.333Z"
   },
   {
    "duration": 344,
    "start_time": "2022-04-27T03:47:25.455Z"
   },
   {
    "duration": 4,
    "start_time": "2022-04-27T03:47:25.800Z"
   },
   {
    "duration": 28,
    "start_time": "2022-04-27T03:47:25.805Z"
   },
   {
    "duration": 214,
    "start_time": "2022-04-27T03:47:25.835Z"
   },
   {
    "duration": 3,
    "start_time": "2022-04-27T03:47:26.050Z"
   },
   {
    "duration": 607,
    "start_time": "2022-04-27T03:47:26.055Z"
   },
   {
    "duration": 5,
    "start_time": "2022-04-27T03:47:26.664Z"
   },
   {
    "duration": 15,
    "start_time": "2022-04-27T03:47:26.670Z"
   },
   {
    "duration": 26,
    "start_time": "2022-04-27T03:47:26.687Z"
   },
   {
    "duration": 2,
    "start_time": "2022-04-27T03:47:26.723Z"
   },
   {
    "duration": 21,
    "start_time": "2022-04-27T03:47:44.932Z"
   },
   {
    "duration": 16,
    "start_time": "2022-04-27T03:52:39.802Z"
   },
   {
    "duration": 23,
    "start_time": "2022-04-27T03:52:50.344Z"
   },
   {
    "duration": 1493,
    "start_time": "2022-04-28T03:13:20.577Z"
   },
   {
    "duration": 373,
    "start_time": "2022-04-28T03:13:22.073Z"
   },
   {
    "duration": 6,
    "start_time": "2022-04-28T03:13:22.448Z"
   },
   {
    "duration": 42,
    "start_time": "2022-04-28T03:13:22.458Z"
   },
   {
    "duration": 337,
    "start_time": "2022-04-28T03:13:22.502Z"
   },
   {
    "duration": 125,
    "start_time": "2022-04-28T03:13:22.841Z"
   },
   {
    "duration": 12,
    "start_time": "2022-04-28T03:13:22.969Z"
   },
   {
    "duration": 19,
    "start_time": "2022-04-28T03:13:22.984Z"
   },
   {
    "duration": 206,
    "start_time": "2022-04-28T03:13:23.005Z"
   },
   {
    "duration": 470,
    "start_time": "2022-04-28T03:13:23.214Z"
   },
   {
    "duration": 5,
    "start_time": "2022-04-28T03:13:23.686Z"
   },
   {
    "duration": 29,
    "start_time": "2022-04-28T03:13:23.693Z"
   },
   {
    "duration": 365,
    "start_time": "2022-04-28T03:13:23.724Z"
   },
   {
    "duration": 4,
    "start_time": "2022-04-28T03:13:24.091Z"
   },
   {
    "duration": 1252,
    "start_time": "2022-04-28T03:13:24.098Z"
   },
   {
    "duration": 8,
    "start_time": "2022-04-28T03:13:25.352Z"
   },
   {
    "duration": 30,
    "start_time": "2022-04-28T03:13:25.362Z"
   },
   {
    "duration": 35,
    "start_time": "2022-04-28T03:13:25.394Z"
   },
   {
    "duration": 61,
    "start_time": "2022-04-28T03:13:25.431Z"
   },
   {
    "duration": 1429,
    "start_time": "2022-04-28T03:57:27.929Z"
   },
   {
    "duration": 373,
    "start_time": "2022-04-28T03:57:29.361Z"
   },
   {
    "duration": 6,
    "start_time": "2022-04-28T03:57:29.736Z"
   },
   {
    "duration": 47,
    "start_time": "2022-04-28T03:57:29.745Z"
   },
   {
    "duration": 326,
    "start_time": "2022-04-28T03:57:29.795Z"
   },
   {
    "duration": 166,
    "start_time": "2022-04-28T03:57:30.123Z"
   },
   {
    "duration": 5,
    "start_time": "2022-04-28T03:57:30.292Z"
   },
   {
    "duration": 34,
    "start_time": "2022-04-28T03:57:30.299Z"
   },
   {
    "duration": 330,
    "start_time": "2022-04-28T03:57:30.383Z"
   },
   {
    "duration": 978,
    "start_time": "2022-04-28T03:57:30.717Z"
   },
   {
    "duration": 5,
    "start_time": "2022-04-28T03:57:31.697Z"
   },
   {
    "duration": 81,
    "start_time": "2022-04-28T03:57:31.704Z"
   },
   {
    "duration": 696,
    "start_time": "2022-04-28T03:57:31.787Z"
   },
   {
    "duration": 5,
    "start_time": "2022-04-28T03:57:32.485Z"
   },
   {
    "duration": 1216,
    "start_time": "2022-04-28T03:57:32.492Z"
   },
   {
    "duration": 6,
    "start_time": "2022-04-28T03:57:33.711Z"
   },
   {
    "duration": 16,
    "start_time": "2022-04-28T03:57:33.719Z"
   },
   {
    "duration": 53,
    "start_time": "2022-04-28T03:57:33.737Z"
   },
   {
    "duration": 37,
    "start_time": "2022-04-28T03:57:33.792Z"
   },
   {
    "duration": 17,
    "start_time": "2022-04-28T04:03:12.006Z"
   },
   {
    "duration": 42,
    "start_time": "2022-04-28T04:03:22.598Z"
   },
   {
    "duration": 133,
    "start_time": "2022-04-28T04:32:55.613Z"
   },
   {
    "duration": 11,
    "start_time": "2022-04-28T04:33:13.299Z"
   },
   {
    "duration": 19,
    "start_time": "2022-04-28T04:33:18.063Z"
   },
   {
    "duration": 233,
    "start_time": "2022-04-28T04:34:17.271Z"
   },
   {
    "duration": 328,
    "start_time": "2022-04-28T04:34:44.703Z"
   },
   {
    "duration": 260,
    "start_time": "2022-04-28T04:34:52.979Z"
   },
   {
    "duration": 264,
    "start_time": "2022-04-28T04:35:09.732Z"
   },
   {
    "duration": 18,
    "start_time": "2022-04-28T04:35:52.180Z"
   },
   {
    "duration": 272,
    "start_time": "2022-04-28T04:35:52.383Z"
   },
   {
    "duration": 303,
    "start_time": "2022-04-28T04:43:30.344Z"
   },
   {
    "duration": 242,
    "start_time": "2022-04-28T04:43:39.237Z"
   },
   {
    "duration": 262,
    "start_time": "2022-04-28T04:43:49.868Z"
   },
   {
    "duration": 241,
    "start_time": "2022-04-28T04:48:50.951Z"
   },
   {
    "duration": 245,
    "start_time": "2022-04-28T04:49:18.597Z"
   },
   {
    "duration": 274,
    "start_time": "2022-04-28T04:49:35.255Z"
   },
   {
    "duration": 247,
    "start_time": "2022-04-28T04:49:46.840Z"
   },
   {
    "duration": 274,
    "start_time": "2022-04-28T04:51:02.966Z"
   },
   {
    "duration": 271,
    "start_time": "2022-04-28T04:52:30.756Z"
   },
   {
    "duration": 275,
    "start_time": "2022-04-28T04:53:37.839Z"
   },
   {
    "duration": 276,
    "start_time": "2022-04-28T04:55:29.419Z"
   },
   {
    "duration": 270,
    "start_time": "2022-04-28T04:56:08.603Z"
   },
   {
    "duration": 371,
    "start_time": "2022-04-28T04:56:13.731Z"
   },
   {
    "duration": 279,
    "start_time": "2022-04-28T04:56:23.410Z"
   },
   {
    "duration": 294,
    "start_time": "2022-04-28T04:58:53.523Z"
   },
   {
    "duration": 285,
    "start_time": "2022-04-28T04:59:10.601Z"
   },
   {
    "duration": 127,
    "start_time": "2022-04-28T05:10:47.210Z"
   },
   {
    "duration": 158,
    "start_time": "2022-04-28T05:11:12.610Z"
   },
   {
    "duration": 29,
    "start_time": "2022-04-28T05:11:41.766Z"
   },
   {
    "duration": 1991,
    "start_time": "2022-04-28T05:17:15.761Z"
   },
   {
    "duration": 497,
    "start_time": "2022-04-28T05:17:38.131Z"
   },
   {
    "duration": 28,
    "start_time": "2022-04-28T05:19:08.776Z"
   },
   {
    "duration": 1504,
    "start_time": "2022-04-28T05:19:32.149Z"
   },
   {
    "duration": 373,
    "start_time": "2022-04-28T05:19:33.656Z"
   },
   {
    "duration": 6,
    "start_time": "2022-04-28T05:19:34.031Z"
   },
   {
    "duration": 48,
    "start_time": "2022-04-28T05:19:34.042Z"
   },
   {
    "duration": 328,
    "start_time": "2022-04-28T05:19:34.093Z"
   },
   {
    "duration": 127,
    "start_time": "2022-04-28T05:19:34.425Z"
   },
   {
    "duration": 7,
    "start_time": "2022-04-28T05:19:34.555Z"
   },
   {
    "duration": 22,
    "start_time": "2022-04-28T05:19:34.581Z"
   },
   {
    "duration": 205,
    "start_time": "2022-04-28T05:19:34.605Z"
   },
   {
    "duration": 472,
    "start_time": "2022-04-28T05:19:34.814Z"
   },
   {
    "duration": 6,
    "start_time": "2022-04-28T05:19:35.288Z"
   },
   {
    "duration": 36,
    "start_time": "2022-04-28T05:19:35.296Z"
   },
   {
    "duration": 358,
    "start_time": "2022-04-28T05:19:35.334Z"
   },
   {
    "duration": 4,
    "start_time": "2022-04-28T05:19:35.695Z"
   },
   {
    "duration": 996,
    "start_time": "2022-04-28T05:19:35.702Z"
   },
   {
    "duration": 8,
    "start_time": "2022-04-28T05:19:36.700Z"
   },
   {
    "duration": 15,
    "start_time": "2022-04-28T05:19:36.710Z"
   },
   {
    "duration": 55,
    "start_time": "2022-04-28T05:19:36.727Z"
   },
   {
    "duration": 36,
    "start_time": "2022-04-28T05:19:36.785Z"
   },
   {
    "duration": 63,
    "start_time": "2022-04-28T05:19:36.823Z"
   },
   {
    "duration": 18,
    "start_time": "2022-04-28T05:19:36.889Z"
   },
   {
    "duration": 292,
    "start_time": "2022-04-28T05:19:36.910Z"
   },
   {
    "duration": 298,
    "start_time": "2022-04-28T05:19:37.204Z"
   },
   {
    "duration": 19,
    "start_time": "2022-04-28T05:19:37.504Z"
   },
   {
    "duration": 527,
    "start_time": "2022-04-28T05:19:37.525Z"
   },
   {
    "duration": 25,
    "start_time": "2022-04-28T05:20:55.256Z"
   },
   {
    "duration": 175,
    "start_time": "2022-04-28T05:21:07.885Z"
   },
   {
    "duration": 19,
    "start_time": "2022-04-28T05:21:27.181Z"
   },
   {
    "duration": 177,
    "start_time": "2022-04-28T05:23:17.702Z"
   },
   {
    "duration": 23,
    "start_time": "2022-04-28T05:23:38.979Z"
   },
   {
    "duration": 23,
    "start_time": "2022-04-28T05:24:54.081Z"
   },
   {
    "duration": 27,
    "start_time": "2022-04-28T05:28:44.343Z"
   },
   {
    "duration": 24,
    "start_time": "2022-04-28T05:29:11.244Z"
   },
   {
    "duration": 1090,
    "start_time": "2022-04-29T02:13:30.482Z"
   },
   {
    "duration": 305,
    "start_time": "2022-04-29T02:13:31.574Z"
   },
   {
    "duration": 4,
    "start_time": "2022-04-29T02:13:31.881Z"
   },
   {
    "duration": 20,
    "start_time": "2022-04-29T02:13:31.888Z"
   },
   {
    "duration": 255,
    "start_time": "2022-04-29T02:13:31.910Z"
   },
   {
    "duration": 97,
    "start_time": "2022-04-29T02:13:32.167Z"
   },
   {
    "duration": 4,
    "start_time": "2022-04-29T02:13:32.266Z"
   },
   {
    "duration": 18,
    "start_time": "2022-04-29T02:13:32.273Z"
   },
   {
    "duration": 147,
    "start_time": "2022-04-29T02:13:32.293Z"
   },
   {
    "duration": 371,
    "start_time": "2022-04-29T02:13:32.443Z"
   },
   {
    "duration": 5,
    "start_time": "2022-04-29T02:13:32.816Z"
   },
   {
    "duration": 20,
    "start_time": "2022-04-29T02:13:32.832Z"
   },
   {
    "duration": 267,
    "start_time": "2022-04-29T02:13:32.854Z"
   },
   {
    "duration": 11,
    "start_time": "2022-04-29T02:13:33.123Z"
   },
   {
    "duration": 856,
    "start_time": "2022-04-29T02:13:33.136Z"
   },
   {
    "duration": 7,
    "start_time": "2022-04-29T02:13:33.994Z"
   },
   {
    "duration": 35,
    "start_time": "2022-04-29T02:13:34.003Z"
   },
   {
    "duration": 30,
    "start_time": "2022-04-29T02:13:34.039Z"
   },
   {
    "duration": 31,
    "start_time": "2022-04-29T02:13:34.071Z"
   },
   {
    "duration": 60,
    "start_time": "2022-04-29T02:13:34.104Z"
   },
   {
    "duration": 16,
    "start_time": "2022-04-29T02:13:34.166Z"
   },
   {
    "duration": 196,
    "start_time": "2022-04-29T02:13:34.183Z"
   },
   {
    "duration": 201,
    "start_time": "2022-04-29T02:13:34.381Z"
   },
   {
    "duration": 129,
    "start_time": "2022-04-29T02:13:34.584Z"
   },
   {
    "duration": 25,
    "start_time": "2022-04-29T02:21:34.599Z"
   },
   {
    "duration": 18,
    "start_time": "2022-04-29T02:22:04.097Z"
   },
   {
    "duration": 17,
    "start_time": "2022-04-29T02:22:51.194Z"
   },
   {
    "duration": 5,
    "start_time": "2022-04-29T02:22:58.426Z"
   },
   {
    "duration": 6,
    "start_time": "2022-04-29T02:24:03.816Z"
   },
   {
    "duration": 8,
    "start_time": "2022-04-29T02:24:05.397Z"
   },
   {
    "duration": 17,
    "start_time": "2022-04-29T02:26:37.976Z"
   },
   {
    "duration": 4,
    "start_time": "2022-04-29T02:26:40.523Z"
   },
   {
    "duration": 28,
    "start_time": "2022-04-29T02:27:22.762Z"
   },
   {
    "duration": 9,
    "start_time": "2022-04-29T02:27:23.877Z"
   },
   {
    "duration": 17,
    "start_time": "2022-04-29T02:27:39.000Z"
   },
   {
    "duration": 26,
    "start_time": "2022-04-29T02:27:51.537Z"
   },
   {
    "duration": 19,
    "start_time": "2022-04-29T02:27:52.035Z"
   },
   {
    "duration": 27,
    "start_time": "2022-04-29T02:29:04.104Z"
   },
   {
    "duration": 10,
    "start_time": "2022-04-29T02:29:04.264Z"
   },
   {
    "duration": 356,
    "start_time": "2022-04-29T02:29:16.541Z"
   },
   {
    "duration": 476,
    "start_time": "2022-04-29T02:29:37.913Z"
   },
   {
    "duration": 497,
    "start_time": "2022-04-29T02:29:54.188Z"
   },
   {
    "duration": 40,
    "start_time": "2022-04-29T02:30:53.622Z"
   },
   {
    "duration": 179,
    "start_time": "2022-04-29T02:32:39.470Z"
   },
   {
    "duration": 218,
    "start_time": "2022-04-29T02:32:54.149Z"
   },
   {
    "duration": 567,
    "start_time": "2022-04-29T02:35:15.929Z"
   },
   {
    "duration": 31,
    "start_time": "2022-04-29T02:41:16.898Z"
   },
   {
    "duration": 17,
    "start_time": "2022-04-29T02:42:52.482Z"
   },
   {
    "duration": 16,
    "start_time": "2022-04-29T02:43:57.005Z"
   },
   {
    "duration": 4,
    "start_time": "2022-04-29T03:04:31.071Z"
   },
   {
    "duration": 1055,
    "start_time": "2022-04-29T03:08:34.463Z"
   },
   {
    "duration": 10,
    "start_time": "2022-04-29T03:14:05.273Z"
   },
   {
    "duration": 4,
    "start_time": "2022-04-29T03:14:07.676Z"
   },
   {
    "duration": 20,
    "start_time": "2022-04-29T03:14:08.032Z"
   },
   {
    "duration": 3,
    "start_time": "2022-04-29T03:14:14.589Z"
   },
   {
    "duration": 1188,
    "start_time": "2022-04-29T03:14:15.100Z"
   },
   {
    "duration": 25,
    "start_time": "2022-04-29T03:14:25.995Z"
   },
   {
    "duration": 26,
    "start_time": "2022-04-29T03:16:44.265Z"
   },
   {
    "duration": 1116,
    "start_time": "2022-04-29T03:16:55.692Z"
   },
   {
    "duration": 297,
    "start_time": "2022-04-29T03:16:56.810Z"
   },
   {
    "duration": 4,
    "start_time": "2022-04-29T03:16:57.108Z"
   },
   {
    "duration": 27,
    "start_time": "2022-04-29T03:16:57.114Z"
   },
   {
    "duration": 241,
    "start_time": "2022-04-29T03:16:57.143Z"
   },
   {
    "duration": 97,
    "start_time": "2022-04-29T03:16:57.385Z"
   },
   {
    "duration": 4,
    "start_time": "2022-04-29T03:16:57.484Z"
   },
   {
    "duration": 17,
    "start_time": "2022-04-29T03:16:57.489Z"
   },
   {
    "duration": 145,
    "start_time": "2022-04-29T03:16:57.507Z"
   },
   {
    "duration": 378,
    "start_time": "2022-04-29T03:16:57.653Z"
   },
   {
    "duration": 4,
    "start_time": "2022-04-29T03:16:58.032Z"
   },
   {
    "duration": 24,
    "start_time": "2022-04-29T03:16:58.037Z"
   },
   {
    "duration": 269,
    "start_time": "2022-04-29T03:16:58.063Z"
   },
   {
    "duration": 5,
    "start_time": "2022-04-29T03:16:58.334Z"
   },
   {
    "duration": 668,
    "start_time": "2022-04-29T03:16:58.340Z"
   },
   {
    "duration": 6,
    "start_time": "2022-04-29T03:16:59.010Z"
   },
   {
    "duration": 11,
    "start_time": "2022-04-29T03:16:59.034Z"
   },
   {
    "duration": 23,
    "start_time": "2022-04-29T03:16:59.047Z"
   },
   {
    "duration": 28,
    "start_time": "2022-04-29T03:16:59.072Z"
   },
   {
    "duration": 62,
    "start_time": "2022-04-29T03:16:59.102Z"
   },
   {
    "duration": 17,
    "start_time": "2022-04-29T03:16:59.166Z"
   },
   {
    "duration": 202,
    "start_time": "2022-04-29T03:16:59.185Z"
   },
   {
    "duration": 208,
    "start_time": "2022-04-29T03:16:59.388Z"
   },
   {
    "duration": 3,
    "start_time": "2022-04-29T03:16:59.598Z"
   },
   {
    "duration": 1201,
    "start_time": "2022-04-29T03:16:59.604Z"
   },
   {
    "duration": 28,
    "start_time": "2022-04-29T03:17:00.808Z"
   },
   {
    "duration": 32,
    "start_time": "2022-04-29T03:17:00.838Z"
   },
   {
    "duration": 1182,
    "start_time": "2022-04-29T03:17:00.872Z"
   },
   {
    "duration": 582,
    "start_time": "2022-04-29T03:17:02.055Z"
   },
   {
    "duration": 140,
    "start_time": "2022-04-29T03:17:02.639Z"
   },
   {
    "duration": 36,
    "start_time": "2022-04-29T03:18:39.020Z"
   },
   {
    "duration": 13,
    "start_time": "2022-04-29T03:19:44.104Z"
   },
   {
    "duration": 13,
    "start_time": "2022-04-29T03:20:06.407Z"
   },
   {
    "duration": 12,
    "start_time": "2022-04-29T03:20:32.125Z"
   },
   {
    "duration": 13,
    "start_time": "2022-04-29T03:21:10.692Z"
   },
   {
    "duration": 12,
    "start_time": "2022-04-29T03:21:19.543Z"
   },
   {
    "duration": 37,
    "start_time": "2022-04-29T03:22:20.668Z"
   },
   {
    "duration": 29,
    "start_time": "2022-04-29T03:22:39.955Z"
   },
   {
    "duration": 178,
    "start_time": "2022-04-29T03:24:27.781Z"
   },
   {
    "duration": 156,
    "start_time": "2022-04-29T03:25:04.278Z"
   },
   {
    "duration": 16,
    "start_time": "2022-04-29T03:25:11.231Z"
   },
   {
    "duration": 15,
    "start_time": "2022-04-29T03:25:29.723Z"
   },
   {
    "duration": 7,
    "start_time": "2022-04-29T03:29:48.151Z"
   },
   {
    "duration": 6,
    "start_time": "2022-04-29T03:30:01.845Z"
   },
   {
    "duration": 11,
    "start_time": "2022-04-29T03:30:13.316Z"
   },
   {
    "duration": 8,
    "start_time": "2022-04-29T03:30:24.311Z"
   },
   {
    "duration": 6,
    "start_time": "2022-04-29T03:30:47.810Z"
   },
   {
    "duration": 4,
    "start_time": "2022-04-29T03:31:00.631Z"
   },
   {
    "duration": 12,
    "start_time": "2022-04-29T03:41:36.488Z"
   },
   {
    "duration": 11,
    "start_time": "2022-04-29T03:44:22.673Z"
   },
   {
    "duration": 7,
    "start_time": "2022-04-29T03:44:32.623Z"
   },
   {
    "duration": 14,
    "start_time": "2022-04-29T03:44:44.334Z"
   },
   {
    "duration": 6,
    "start_time": "2022-04-29T03:48:12.359Z"
   },
   {
    "duration": 18,
    "start_time": "2022-04-29T03:48:27.331Z"
   },
   {
    "duration": 13,
    "start_time": "2022-04-29T03:50:26.523Z"
   },
   {
    "duration": 17,
    "start_time": "2022-04-29T03:51:52.554Z"
   },
   {
    "duration": 13,
    "start_time": "2022-04-29T03:52:36.229Z"
   },
   {
    "duration": 6,
    "start_time": "2022-04-29T03:52:44.475Z"
   },
   {
    "duration": 12,
    "start_time": "2022-04-29T03:52:44.633Z"
   },
   {
    "duration": 144,
    "start_time": "2022-04-29T04:22:59.164Z"
   },
   {
    "duration": 258,
    "start_time": "2022-04-29T04:23:01.609Z"
   },
   {
    "duration": 4,
    "start_time": "2022-04-29T04:23:22.233Z"
   },
   {
    "duration": 17,
    "start_time": "2022-04-29T04:30:21.222Z"
   },
   {
    "duration": 19,
    "start_time": "2022-04-29T04:31:11.377Z"
   },
   {
    "duration": 19,
    "start_time": "2022-04-29T04:32:51.195Z"
   },
   {
    "duration": 19,
    "start_time": "2022-04-29T04:33:15.491Z"
   },
   {
    "duration": 19,
    "start_time": "2022-04-29T04:33:33.641Z"
   },
   {
    "duration": 19,
    "start_time": "2022-04-29T04:33:47.104Z"
   },
   {
    "duration": 19,
    "start_time": "2022-04-29T04:34:12.185Z"
   },
   {
    "duration": 18,
    "start_time": "2022-04-29T04:34:16.277Z"
   },
   {
    "duration": 19,
    "start_time": "2022-04-29T04:35:23.601Z"
   },
   {
    "duration": 11,
    "start_time": "2022-04-29T04:38:02.637Z"
   },
   {
    "duration": 1207,
    "start_time": "2022-04-29T04:38:13.679Z"
   },
   {
    "duration": 324,
    "start_time": "2022-04-29T04:38:14.889Z"
   },
   {
    "duration": 5,
    "start_time": "2022-04-29T04:38:15.215Z"
   },
   {
    "duration": 23,
    "start_time": "2022-04-29T04:38:15.232Z"
   },
   {
    "duration": 304,
    "start_time": "2022-04-29T04:38:15.258Z"
   },
   {
    "duration": 108,
    "start_time": "2022-04-29T04:38:15.564Z"
   },
   {
    "duration": 4,
    "start_time": "2022-04-29T04:38:15.674Z"
   },
   {
    "duration": 16,
    "start_time": "2022-04-29T04:38:15.680Z"
   },
   {
    "duration": 176,
    "start_time": "2022-04-29T04:38:15.698Z"
   },
   {
    "duration": 388,
    "start_time": "2022-04-29T04:38:15.876Z"
   },
   {
    "duration": 5,
    "start_time": "2022-04-29T04:38:16.266Z"
   },
   {
    "duration": 31,
    "start_time": "2022-04-29T04:38:16.273Z"
   },
   {
    "duration": 296,
    "start_time": "2022-04-29T04:38:16.306Z"
   },
   {
    "duration": 3,
    "start_time": "2022-04-29T04:38:16.604Z"
   },
   {
    "duration": 743,
    "start_time": "2022-04-29T04:38:16.609Z"
   },
   {
    "duration": 7,
    "start_time": "2022-04-29T04:38:17.353Z"
   },
   {
    "duration": 17,
    "start_time": "2022-04-29T04:38:17.361Z"
   },
   {
    "duration": 28,
    "start_time": "2022-04-29T04:38:17.380Z"
   },
   {
    "duration": 47,
    "start_time": "2022-04-29T04:38:17.410Z"
   },
   {
    "duration": 35,
    "start_time": "2022-04-29T04:38:17.459Z"
   },
   {
    "duration": 48,
    "start_time": "2022-04-29T04:38:17.496Z"
   },
   {
    "duration": 200,
    "start_time": "2022-04-29T04:38:17.546Z"
   },
   {
    "duration": 205,
    "start_time": "2022-04-29T04:38:17.748Z"
   },
   {
    "duration": 4,
    "start_time": "2022-04-29T04:38:17.955Z"
   },
   {
    "duration": 1321,
    "start_time": "2022-04-29T04:38:17.961Z"
   },
   {
    "duration": 24,
    "start_time": "2022-04-29T04:38:19.284Z"
   },
   {
    "duration": 32,
    "start_time": "2022-04-29T04:38:19.309Z"
   },
   {
    "duration": 662,
    "start_time": "2022-04-29T04:38:19.344Z"
   },
   {
    "duration": 363,
    "start_time": "2022-04-29T04:38:20.007Z"
   },
   {
    "duration": 22,
    "start_time": "2022-04-29T04:38:20.371Z"
   },
   {
    "duration": 22,
    "start_time": "2022-04-29T04:38:20.394Z"
   },
   {
    "duration": 238,
    "start_time": "2022-04-29T04:38:20.418Z"
   },
   {
    "duration": 5,
    "start_time": "2022-04-29T04:38:20.658Z"
   },
   {
    "duration": 5,
    "start_time": "2022-04-29T04:38:36.259Z"
   },
   {
    "duration": 1154,
    "start_time": "2022-04-29T04:39:20.182Z"
   },
   {
    "duration": 314,
    "start_time": "2022-04-29T04:39:21.338Z"
   },
   {
    "duration": 4,
    "start_time": "2022-04-29T04:39:21.654Z"
   },
   {
    "duration": 43,
    "start_time": "2022-04-29T04:39:21.660Z"
   },
   {
    "duration": 253,
    "start_time": "2022-04-29T04:39:21.705Z"
   },
   {
    "duration": 102,
    "start_time": "2022-04-29T04:39:21.961Z"
   },
   {
    "duration": 4,
    "start_time": "2022-04-29T04:39:22.064Z"
   },
   {
    "duration": 19,
    "start_time": "2022-04-29T04:39:22.070Z"
   },
   {
    "duration": 156,
    "start_time": "2022-04-29T04:39:22.091Z"
   },
   {
    "duration": 373,
    "start_time": "2022-04-29T04:39:22.250Z"
   },
   {
    "duration": 4,
    "start_time": "2022-04-29T04:39:22.625Z"
   },
   {
    "duration": 36,
    "start_time": "2022-04-29T04:39:22.634Z"
   },
   {
    "duration": 270,
    "start_time": "2022-04-29T04:39:22.672Z"
   },
   {
    "duration": 4,
    "start_time": "2022-04-29T04:39:22.943Z"
   },
   {
    "duration": 775,
    "start_time": "2022-04-29T04:39:22.948Z"
   },
   {
    "duration": 10,
    "start_time": "2022-04-29T04:39:23.726Z"
   },
   {
    "duration": 15,
    "start_time": "2022-04-29T04:39:23.738Z"
   },
   {
    "duration": 28,
    "start_time": "2022-04-29T04:39:23.754Z"
   },
   {
    "duration": 32,
    "start_time": "2022-04-29T04:39:23.784Z"
   },
   {
    "duration": 33,
    "start_time": "2022-04-29T04:39:23.833Z"
   },
   {
    "duration": 14,
    "start_time": "2022-04-29T04:39:23.868Z"
   },
   {
    "duration": 214,
    "start_time": "2022-04-29T04:39:23.884Z"
   },
   {
    "duration": 210,
    "start_time": "2022-04-29T04:39:24.100Z"
   },
   {
    "duration": 4,
    "start_time": "2022-04-29T04:39:24.312Z"
   },
   {
    "duration": 1263,
    "start_time": "2022-04-29T04:39:24.318Z"
   },
   {
    "duration": 25,
    "start_time": "2022-04-29T04:39:25.583Z"
   },
   {
    "duration": 32,
    "start_time": "2022-04-29T04:39:25.609Z"
   },
   {
    "duration": 617,
    "start_time": "2022-04-29T04:39:25.645Z"
   },
   {
    "duration": 338,
    "start_time": "2022-04-29T04:39:26.264Z"
   },
   {
    "duration": 30,
    "start_time": "2022-04-29T04:39:26.604Z"
   },
   {
    "duration": 14,
    "start_time": "2022-04-29T04:39:26.636Z"
   },
   {
    "duration": 9,
    "start_time": "2022-04-29T04:39:26.652Z"
   },
   {
    "duration": 278,
    "start_time": "2022-04-29T04:39:26.663Z"
   },
   {
    "duration": 4,
    "start_time": "2022-04-29T04:39:26.942Z"
   },
   {
    "duration": 597,
    "start_time": "2022-04-29T04:43:25.666Z"
   },
   {
    "duration": 114,
    "start_time": "2022-04-29T04:44:58.520Z"
   },
   {
    "duration": 23,
    "start_time": "2022-04-29T04:45:40.821Z"
   },
   {
    "duration": 44,
    "start_time": "2022-04-29T04:50:47.358Z"
   },
   {
    "duration": 1092,
    "start_time": "2022-04-29T04:51:19.902Z"
   },
   {
    "duration": 325,
    "start_time": "2022-04-29T04:51:20.997Z"
   },
   {
    "duration": 4,
    "start_time": "2022-04-29T04:51:21.324Z"
   },
   {
    "duration": 28,
    "start_time": "2022-04-29T04:51:21.335Z"
   },
   {
    "duration": 262,
    "start_time": "2022-04-29T04:51:21.365Z"
   },
   {
    "duration": 111,
    "start_time": "2022-04-29T04:51:21.633Z"
   },
   {
    "duration": 4,
    "start_time": "2022-04-29T04:51:21.746Z"
   },
   {
    "duration": 16,
    "start_time": "2022-04-29T04:51:21.752Z"
   },
   {
    "duration": 152,
    "start_time": "2022-04-29T04:51:21.770Z"
   },
   {
    "duration": 387,
    "start_time": "2022-04-29T04:51:21.934Z"
   },
   {
    "duration": 4,
    "start_time": "2022-04-29T04:51:22.323Z"
   },
   {
    "duration": 36,
    "start_time": "2022-04-29T04:51:22.328Z"
   },
   {
    "duration": 284,
    "start_time": "2022-04-29T04:51:22.366Z"
   },
   {
    "duration": 3,
    "start_time": "2022-04-29T04:51:22.651Z"
   },
   {
    "duration": 699,
    "start_time": "2022-04-29T04:51:22.656Z"
   },
   {
    "duration": 5,
    "start_time": "2022-04-29T04:51:23.356Z"
   },
   {
    "duration": 12,
    "start_time": "2022-04-29T04:51:23.363Z"
   },
   {
    "duration": 28,
    "start_time": "2022-04-29T04:51:23.377Z"
   },
   {
    "duration": 54,
    "start_time": "2022-04-29T04:51:23.406Z"
   },
   {
    "duration": 31,
    "start_time": "2022-04-29T04:51:23.462Z"
   },
   {
    "duration": 14,
    "start_time": "2022-04-29T04:51:23.495Z"
   },
   {
    "duration": 212,
    "start_time": "2022-04-29T04:51:23.511Z"
   },
   {
    "duration": 222,
    "start_time": "2022-04-29T04:51:23.725Z"
   },
   {
    "duration": 3,
    "start_time": "2022-04-29T04:51:23.949Z"
   },
   {
    "duration": 1320,
    "start_time": "2022-04-29T04:51:23.954Z"
   },
   {
    "duration": 23,
    "start_time": "2022-04-29T04:51:25.276Z"
   },
   {
    "duration": 43,
    "start_time": "2022-04-29T04:51:25.300Z"
   },
   {
    "duration": 635,
    "start_time": "2022-04-29T04:51:25.347Z"
   },
   {
    "duration": 350,
    "start_time": "2022-04-29T04:51:25.984Z"
   },
   {
    "duration": 25,
    "start_time": "2022-04-29T04:51:26.336Z"
   },
   {
    "duration": 14,
    "start_time": "2022-04-29T04:51:26.363Z"
   },
   {
    "duration": 4,
    "start_time": "2022-04-29T04:51:26.378Z"
   },
   {
    "duration": 648,
    "start_time": "2022-04-29T04:51:26.383Z"
   },
   {
    "duration": 46,
    "start_time": "2022-04-29T04:51:27.032Z"
   },
   {
    "duration": 4,
    "start_time": "2022-04-29T04:51:27.080Z"
   },
   {
    "duration": 18,
    "start_time": "2022-04-29T04:51:47.232Z"
   },
   {
    "duration": 26,
    "start_time": "2022-04-29T04:52:29.111Z"
   },
   {
    "duration": 144,
    "start_time": "2022-04-29T04:55:22.073Z"
   },
   {
    "duration": 19,
    "start_time": "2022-04-29T04:55:45.788Z"
   },
   {
    "duration": 23,
    "start_time": "2022-04-29T04:55:47.358Z"
   },
   {
    "duration": 17,
    "start_time": "2022-04-29T04:55:53.042Z"
   },
   {
    "duration": 4,
    "start_time": "2022-04-29T04:56:20.462Z"
   },
   {
    "duration": 13,
    "start_time": "2022-04-29T04:58:26.425Z"
   },
   {
    "duration": 4,
    "start_time": "2022-04-29T04:58:26.783Z"
   },
   {
    "duration": 4,
    "start_time": "2022-04-29T05:17:29.299Z"
   },
   {
    "duration": 1205,
    "start_time": "2022-04-29T05:31:58.616Z"
   },
   {
    "duration": 331,
    "start_time": "2022-04-29T05:31:59.823Z"
   },
   {
    "duration": 5,
    "start_time": "2022-04-29T05:32:00.156Z"
   },
   {
    "duration": 27,
    "start_time": "2022-04-29T05:32:00.162Z"
   },
   {
    "duration": 279,
    "start_time": "2022-04-29T05:32:00.191Z"
   },
   {
    "duration": 104,
    "start_time": "2022-04-29T05:32:00.472Z"
   },
   {
    "duration": 4,
    "start_time": "2022-04-29T05:32:00.578Z"
   },
   {
    "duration": 26,
    "start_time": "2022-04-29T05:32:00.583Z"
   },
   {
    "duration": 148,
    "start_time": "2022-04-29T05:32:00.611Z"
   },
   {
    "duration": 410,
    "start_time": "2022-04-29T05:32:00.762Z"
   },
   {
    "duration": 4,
    "start_time": "2022-04-29T05:32:01.174Z"
   },
   {
    "duration": 25,
    "start_time": "2022-04-29T05:32:01.180Z"
   },
   {
    "duration": 292,
    "start_time": "2022-04-29T05:32:01.207Z"
   },
   {
    "duration": 4,
    "start_time": "2022-04-29T05:32:01.502Z"
   },
   {
    "duration": 766,
    "start_time": "2022-04-29T05:32:01.508Z"
   },
   {
    "duration": 6,
    "start_time": "2022-04-29T05:32:02.276Z"
   },
   {
    "duration": 14,
    "start_time": "2022-04-29T05:32:02.284Z"
   },
   {
    "duration": 51,
    "start_time": "2022-04-29T05:32:02.300Z"
   },
   {
    "duration": 31,
    "start_time": "2022-04-29T05:32:02.353Z"
   },
   {
    "duration": 60,
    "start_time": "2022-04-29T05:32:02.386Z"
   },
   {
    "duration": 15,
    "start_time": "2022-04-29T05:32:02.448Z"
   },
   {
    "duration": 214,
    "start_time": "2022-04-29T05:32:02.464Z"
   },
   {
    "duration": 219,
    "start_time": "2022-04-29T05:32:02.680Z"
   },
   {
    "duration": 3,
    "start_time": "2022-04-29T05:32:02.901Z"
   },
   {
    "duration": 1339,
    "start_time": "2022-04-29T05:32:02.906Z"
   },
   {
    "duration": 26,
    "start_time": "2022-04-29T05:32:04.247Z"
   },
   {
    "duration": 22,
    "start_time": "2022-04-29T05:32:04.275Z"
   },
   {
    "duration": 653,
    "start_time": "2022-04-29T05:32:04.299Z"
   },
   {
    "duration": 339,
    "start_time": "2022-04-29T05:32:04.955Z"
   },
   {
    "duration": 21,
    "start_time": "2022-04-29T05:32:05.295Z"
   },
   {
    "duration": 39,
    "start_time": "2022-04-29T05:32:05.318Z"
   },
   {
    "duration": 6,
    "start_time": "2022-04-29T05:32:05.359Z"
   },
   {
    "duration": 968,
    "start_time": "2022-04-29T05:32:05.367Z"
   },
   {
    "duration": 144,
    "start_time": "2022-04-29T05:32:06.338Z"
   },
   {
    "duration": 0,
    "start_time": "2022-04-29T05:32:06.484Z"
   },
   {
    "duration": 0,
    "start_time": "2022-04-29T05:32:06.485Z"
   },
   {
    "duration": 0,
    "start_time": "2022-04-29T05:32:06.486Z"
   },
   {
    "duration": 0,
    "start_time": "2022-04-29T05:32:06.487Z"
   },
   {
    "duration": 31,
    "start_time": "2022-04-29T05:32:21.128Z"
   },
   {
    "duration": 4,
    "start_time": "2022-04-29T05:32:22.484Z"
   },
   {
    "duration": 14,
    "start_time": "2022-04-29T05:32:24.360Z"
   },
   {
    "duration": 4,
    "start_time": "2022-04-29T05:32:25.867Z"
   },
   {
    "duration": 3,
    "start_time": "2022-04-29T05:33:15.193Z"
   },
   {
    "duration": 3,
    "start_time": "2022-04-29T05:33:59.292Z"
   },
   {
    "duration": 4,
    "start_time": "2022-04-29T05:44:09.246Z"
   },
   {
    "duration": 1456,
    "start_time": "2022-05-01T05:24:27.875Z"
   },
   {
    "duration": 359,
    "start_time": "2022-05-01T05:24:29.334Z"
   },
   {
    "duration": 6,
    "start_time": "2022-05-01T05:24:29.695Z"
   },
   {
    "duration": 49,
    "start_time": "2022-05-01T05:24:29.703Z"
   },
   {
    "duration": 326,
    "start_time": "2022-05-01T05:24:29.756Z"
   },
   {
    "duration": 122,
    "start_time": "2022-05-01T05:24:30.084Z"
   },
   {
    "duration": 5,
    "start_time": "2022-05-01T05:24:30.208Z"
   },
   {
    "duration": 36,
    "start_time": "2022-05-01T05:24:30.216Z"
   },
   {
    "duration": 191,
    "start_time": "2022-05-01T05:24:30.254Z"
   },
   {
    "duration": 457,
    "start_time": "2022-05-01T05:24:30.447Z"
   },
   {
    "duration": 6,
    "start_time": "2022-05-01T05:24:30.906Z"
   },
   {
    "duration": 47,
    "start_time": "2022-05-01T05:24:30.914Z"
   },
   {
    "duration": 339,
    "start_time": "2022-05-01T05:24:30.964Z"
   },
   {
    "duration": 4,
    "start_time": "2022-05-01T05:24:31.307Z"
   },
   {
    "duration": 1237,
    "start_time": "2022-05-01T05:24:31.314Z"
   },
   {
    "duration": 9,
    "start_time": "2022-05-01T05:24:32.554Z"
   },
   {
    "duration": 49,
    "start_time": "2022-05-01T05:24:32.565Z"
   },
   {
    "duration": 48,
    "start_time": "2022-05-01T05:24:32.616Z"
   },
   {
    "duration": 39,
    "start_time": "2022-05-01T05:24:32.666Z"
   },
   {
    "duration": 66,
    "start_time": "2022-05-01T05:24:32.707Z"
   },
   {
    "duration": 20,
    "start_time": "2022-05-01T05:24:32.775Z"
   },
   {
    "duration": 283,
    "start_time": "2022-05-01T05:24:32.797Z"
   },
   {
    "duration": 294,
    "start_time": "2022-05-01T05:24:33.083Z"
   },
   {
    "duration": 5,
    "start_time": "2022-05-01T05:24:33.379Z"
   },
   {
    "duration": 2008,
    "start_time": "2022-05-01T05:24:33.386Z"
   },
   {
    "duration": 33,
    "start_time": "2022-05-01T05:24:35.396Z"
   },
   {
    "duration": 41,
    "start_time": "2022-05-01T05:24:35.431Z"
   },
   {
    "duration": 992,
    "start_time": "2022-05-01T05:24:35.473Z"
   },
   {
    "duration": 391,
    "start_time": "2022-05-01T05:24:36.467Z"
   },
   {
    "duration": 30,
    "start_time": "2022-05-01T05:24:36.860Z"
   },
   {
    "duration": 20,
    "start_time": "2022-05-01T05:24:36.893Z"
   },
   {
    "duration": 5,
    "start_time": "2022-05-01T05:24:36.915Z"
   },
   {
    "duration": 919,
    "start_time": "2022-05-01T05:24:36.922Z"
   },
   {
    "duration": 36,
    "start_time": "2022-05-01T05:24:37.844Z"
   },
   {
    "duration": 5,
    "start_time": "2022-05-01T05:24:37.883Z"
   },
   {
    "duration": 28,
    "start_time": "2022-05-01T05:24:37.890Z"
   },
   {
    "duration": 11,
    "start_time": "2022-05-01T05:24:37.920Z"
   },
   {
    "duration": 8,
    "start_time": "2022-05-01T05:24:37.951Z"
   },
   {
    "duration": 152,
    "start_time": "2022-05-01T05:24:37.961Z"
   },
   {
    "duration": 1453,
    "start_time": "2022-05-01T05:26:44.200Z"
   },
   {
    "duration": 367,
    "start_time": "2022-05-01T05:26:45.656Z"
   },
   {
    "duration": 5,
    "start_time": "2022-05-01T05:26:46.025Z"
   },
   {
    "duration": 40,
    "start_time": "2022-05-01T05:26:46.032Z"
   },
   {
    "duration": 324,
    "start_time": "2022-05-01T05:26:46.075Z"
   },
   {
    "duration": 121,
    "start_time": "2022-05-01T05:26:46.402Z"
   },
   {
    "duration": 5,
    "start_time": "2022-05-01T05:26:46.525Z"
   },
   {
    "duration": 33,
    "start_time": "2022-05-01T05:26:46.532Z"
   },
   {
    "duration": 192,
    "start_time": "2022-05-01T05:26:46.568Z"
   },
   {
    "duration": 451,
    "start_time": "2022-05-01T05:26:46.762Z"
   },
   {
    "duration": 6,
    "start_time": "2022-05-01T05:26:47.216Z"
   },
   {
    "duration": 49,
    "start_time": "2022-05-01T05:26:47.225Z"
   },
   {
    "duration": 339,
    "start_time": "2022-05-01T05:26:47.277Z"
   },
   {
    "duration": 4,
    "start_time": "2022-05-01T05:26:47.622Z"
   },
   {
    "duration": 918,
    "start_time": "2022-05-01T05:26:47.629Z"
   },
   {
    "duration": 9,
    "start_time": "2022-05-01T05:26:48.552Z"
   },
   {
    "duration": 25,
    "start_time": "2022-05-01T05:26:48.563Z"
   },
   {
    "duration": 33,
    "start_time": "2022-05-01T05:26:48.590Z"
   },
   {
    "duration": 55,
    "start_time": "2022-05-01T05:26:48.626Z"
   },
   {
    "duration": 37,
    "start_time": "2022-05-01T05:26:48.683Z"
   },
   {
    "duration": 39,
    "start_time": "2022-05-01T05:26:48.722Z"
   },
   {
    "duration": 287,
    "start_time": "2022-05-01T05:26:48.763Z"
   },
   {
    "duration": 295,
    "start_time": "2022-05-01T05:26:49.053Z"
   },
   {
    "duration": 5,
    "start_time": "2022-05-01T05:26:49.352Z"
   },
   {
    "duration": 2068,
    "start_time": "2022-05-01T05:26:49.360Z"
   },
   {
    "duration": 37,
    "start_time": "2022-05-01T05:26:51.431Z"
   },
   {
    "duration": 32,
    "start_time": "2022-05-01T05:26:51.470Z"
   },
   {
    "duration": 894,
    "start_time": "2022-05-01T05:26:51.504Z"
   },
   {
    "duration": 454,
    "start_time": "2022-05-01T05:26:52.400Z"
   },
   {
    "duration": 29,
    "start_time": "2022-05-01T05:26:52.856Z"
   },
   {
    "duration": 20,
    "start_time": "2022-05-01T05:26:52.887Z"
   },
   {
    "duration": 5,
    "start_time": "2022-05-01T05:26:52.910Z"
   },
   {
    "duration": 934,
    "start_time": "2022-05-01T05:26:52.917Z"
   },
   {
    "duration": 34,
    "start_time": "2022-05-01T05:26:53.854Z"
   },
   {
    "duration": 20,
    "start_time": "2022-05-01T05:26:53.891Z"
   },
   {
    "duration": 27,
    "start_time": "2022-05-01T05:26:53.913Z"
   },
   {
    "duration": 17,
    "start_time": "2022-05-01T05:26:53.943Z"
   },
   {
    "duration": 17,
    "start_time": "2022-05-01T05:26:53.963Z"
   },
   {
    "duration": 165,
    "start_time": "2022-05-01T05:26:53.983Z"
   },
   {
    "duration": 13,
    "start_time": "2022-05-01T05:28:17.215Z"
   },
   {
    "duration": 12,
    "start_time": "2022-05-01T05:28:32.454Z"
   },
   {
    "duration": 36,
    "start_time": "2022-05-01T05:28:37.838Z"
   },
   {
    "duration": 1542,
    "start_time": "2022-05-01T05:31:24.721Z"
   },
   {
    "duration": 361,
    "start_time": "2022-05-01T05:31:26.265Z"
   },
   {
    "duration": 5,
    "start_time": "2022-05-01T05:31:26.629Z"
   },
   {
    "duration": 26,
    "start_time": "2022-05-01T05:31:26.652Z"
   },
   {
    "duration": 326,
    "start_time": "2022-05-01T05:31:26.680Z"
   },
   {
    "duration": 126,
    "start_time": "2022-05-01T05:31:27.008Z"
   },
   {
    "duration": 6,
    "start_time": "2022-05-01T05:31:27.137Z"
   },
   {
    "duration": 22,
    "start_time": "2022-05-01T05:31:27.152Z"
   },
   {
    "duration": 208,
    "start_time": "2022-05-01T05:31:27.177Z"
   },
   {
    "duration": 456,
    "start_time": "2022-05-01T05:31:27.391Z"
   },
   {
    "duration": 5,
    "start_time": "2022-05-01T05:31:27.852Z"
   },
   {
    "duration": 27,
    "start_time": "2022-05-01T05:31:27.860Z"
   },
   {
    "duration": 346,
    "start_time": "2022-05-01T05:31:27.890Z"
   },
   {
    "duration": 5,
    "start_time": "2022-05-01T05:31:28.238Z"
   },
   {
    "duration": 924,
    "start_time": "2022-05-01T05:31:28.252Z"
   },
   {
    "duration": 8,
    "start_time": "2022-05-01T05:31:29.178Z"
   },
   {
    "duration": 37,
    "start_time": "2022-05-01T05:31:29.188Z"
   },
   {
    "duration": 10,
    "start_time": "2022-05-01T05:31:29.252Z"
   },
   {
    "duration": 176,
    "start_time": "2022-05-01T05:31:29.265Z"
   },
   {
    "duration": 0,
    "start_time": "2022-05-01T05:31:29.451Z"
   },
   {
    "duration": 0,
    "start_time": "2022-05-01T05:31:29.452Z"
   },
   {
    "duration": 0,
    "start_time": "2022-05-01T05:31:29.454Z"
   },
   {
    "duration": 0,
    "start_time": "2022-05-01T05:31:29.455Z"
   },
   {
    "duration": 0,
    "start_time": "2022-05-01T05:31:29.457Z"
   },
   {
    "duration": 0,
    "start_time": "2022-05-01T05:31:29.459Z"
   },
   {
    "duration": 0,
    "start_time": "2022-05-01T05:31:29.460Z"
   },
   {
    "duration": 0,
    "start_time": "2022-05-01T05:31:29.461Z"
   },
   {
    "duration": 0,
    "start_time": "2022-05-01T05:31:29.463Z"
   },
   {
    "duration": 0,
    "start_time": "2022-05-01T05:31:29.464Z"
   },
   {
    "duration": 0,
    "start_time": "2022-05-01T05:31:29.466Z"
   },
   {
    "duration": 0,
    "start_time": "2022-05-01T05:31:29.467Z"
   },
   {
    "duration": 0,
    "start_time": "2022-05-01T05:31:29.468Z"
   },
   {
    "duration": 0,
    "start_time": "2022-05-01T05:31:29.469Z"
   },
   {
    "duration": 0,
    "start_time": "2022-05-01T05:31:29.471Z"
   },
   {
    "duration": 0,
    "start_time": "2022-05-01T05:31:29.472Z"
   },
   {
    "duration": 0,
    "start_time": "2022-05-01T05:31:29.473Z"
   },
   {
    "duration": 0,
    "start_time": "2022-05-01T05:31:29.474Z"
   },
   {
    "duration": 0,
    "start_time": "2022-05-01T05:31:29.476Z"
   },
   {
    "duration": 0,
    "start_time": "2022-05-01T05:31:29.477Z"
   },
   {
    "duration": 1478,
    "start_time": "2022-05-01T05:32:29.477Z"
   },
   {
    "duration": 358,
    "start_time": "2022-05-01T05:32:30.958Z"
   },
   {
    "duration": 5,
    "start_time": "2022-05-01T05:32:31.318Z"
   },
   {
    "duration": 48,
    "start_time": "2022-05-01T05:32:31.327Z"
   },
   {
    "duration": 325,
    "start_time": "2022-05-01T05:32:31.377Z"
   },
   {
    "duration": 123,
    "start_time": "2022-05-01T05:32:31.704Z"
   },
   {
    "duration": 4,
    "start_time": "2022-05-01T05:32:31.829Z"
   },
   {
    "duration": 32,
    "start_time": "2022-05-01T05:32:31.835Z"
   },
   {
    "duration": 193,
    "start_time": "2022-05-01T05:32:31.869Z"
   },
   {
    "duration": 450,
    "start_time": "2022-05-01T05:32:32.065Z"
   },
   {
    "duration": 5,
    "start_time": "2022-05-01T05:32:32.517Z"
   },
   {
    "duration": 46,
    "start_time": "2022-05-01T05:32:32.524Z"
   },
   {
    "duration": 336,
    "start_time": "2022-05-01T05:32:32.572Z"
   },
   {
    "duration": 5,
    "start_time": "2022-05-01T05:32:32.910Z"
   },
   {
    "duration": 936,
    "start_time": "2022-05-01T05:32:32.917Z"
   },
   {
    "duration": 7,
    "start_time": "2022-05-01T05:32:33.855Z"
   },
   {
    "duration": 39,
    "start_time": "2022-05-01T05:32:33.865Z"
   },
   {
    "duration": 10,
    "start_time": "2022-05-01T05:32:33.907Z"
   },
   {
    "duration": 55,
    "start_time": "2022-05-01T05:32:33.919Z"
   },
   {
    "duration": 39,
    "start_time": "2022-05-01T05:32:33.976Z"
   },
   {
    "duration": 48,
    "start_time": "2022-05-01T05:32:34.018Z"
   },
   {
    "duration": 276,
    "start_time": "2022-05-01T05:32:34.068Z"
   },
   {
    "duration": 291,
    "start_time": "2022-05-01T05:32:34.346Z"
   },
   {
    "duration": 13,
    "start_time": "2022-05-01T05:32:34.639Z"
   },
   {
    "duration": 2056,
    "start_time": "2022-05-01T05:32:34.654Z"
   },
   {
    "duration": 39,
    "start_time": "2022-05-01T05:32:36.713Z"
   },
   {
    "duration": 23,
    "start_time": "2022-05-01T05:32:36.754Z"
   },
   {
    "duration": 950,
    "start_time": "2022-05-01T05:32:36.781Z"
   },
   {
    "duration": 376,
    "start_time": "2022-05-01T05:32:37.733Z"
   },
   {
    "duration": 40,
    "start_time": "2022-05-01T05:32:38.111Z"
   },
   {
    "duration": 19,
    "start_time": "2022-05-01T05:32:38.153Z"
   },
   {
    "duration": 5,
    "start_time": "2022-05-01T05:32:38.175Z"
   },
   {
    "duration": 859,
    "start_time": "2022-05-01T05:32:38.182Z"
   },
   {
    "duration": 39,
    "start_time": "2022-05-01T05:32:39.043Z"
   },
   {
    "duration": 6,
    "start_time": "2022-05-01T05:32:39.085Z"
   },
   {
    "duration": 30,
    "start_time": "2022-05-01T05:32:39.093Z"
   },
   {
    "duration": 8,
    "start_time": "2022-05-01T05:32:39.125Z"
   },
   {
    "duration": 5,
    "start_time": "2022-05-01T05:32:39.153Z"
   },
   {
    "duration": 162,
    "start_time": "2022-05-01T05:32:39.160Z"
   },
   {
    "duration": 41,
    "start_time": "2022-05-01T05:35:48.357Z"
   },
   {
    "duration": 36,
    "start_time": "2022-05-01T05:36:25.121Z"
   },
   {
    "duration": 181,
    "start_time": "2022-05-01T05:37:17.370Z"
   },
   {
    "duration": 166,
    "start_time": "2022-05-01T05:37:47.520Z"
   },
   {
    "duration": 9,
    "start_time": "2022-05-01T05:38:14.595Z"
   },
   {
    "duration": 9,
    "start_time": "2022-05-01T05:38:42.812Z"
   },
   {
    "duration": 7,
    "start_time": "2022-05-01T05:38:53.787Z"
   },
   {
    "duration": 21,
    "start_time": "2022-05-01T05:46:04.773Z"
   },
   {
    "duration": 45,
    "start_time": "2022-05-01T05:50:13.220Z"
   },
   {
    "duration": 18,
    "start_time": "2022-05-01T05:50:20.436Z"
   },
   {
    "duration": 5,
    "start_time": "2022-05-01T06:01:17.194Z"
   },
   {
    "duration": 172,
    "start_time": "2022-05-01T06:03:04.298Z"
   },
   {
    "duration": 8,
    "start_time": "2022-05-01T06:03:04.772Z"
   },
   {
    "duration": 40,
    "start_time": "2022-05-01T06:03:05.378Z"
   },
   {
    "duration": 1590,
    "start_time": "2022-05-01T06:05:03.554Z"
   },
   {
    "duration": 356,
    "start_time": "2022-05-01T06:05:05.146Z"
   },
   {
    "duration": 5,
    "start_time": "2022-05-01T06:05:05.504Z"
   },
   {
    "duration": 45,
    "start_time": "2022-05-01T06:05:05.513Z"
   },
   {
    "duration": 334,
    "start_time": "2022-05-01T06:05:05.561Z"
   },
   {
    "duration": 121,
    "start_time": "2022-05-01T06:05:05.898Z"
   },
   {
    "duration": 6,
    "start_time": "2022-05-01T06:05:06.021Z"
   },
   {
    "duration": 35,
    "start_time": "2022-05-01T06:05:06.029Z"
   },
   {
    "duration": 185,
    "start_time": "2022-05-01T06:05:06.066Z"
   },
   {
    "duration": 438,
    "start_time": "2022-05-01T06:05:06.255Z"
   },
   {
    "duration": 5,
    "start_time": "2022-05-01T06:05:06.696Z"
   },
   {
    "duration": 50,
    "start_time": "2022-05-01T06:05:06.703Z"
   },
   {
    "duration": 347,
    "start_time": "2022-05-01T06:05:06.755Z"
   },
   {
    "duration": 4,
    "start_time": "2022-05-01T06:05:07.104Z"
   },
   {
    "duration": 956,
    "start_time": "2022-05-01T06:05:07.110Z"
   },
   {
    "duration": 8,
    "start_time": "2022-05-01T06:05:08.068Z"
   },
   {
    "duration": 175,
    "start_time": "2022-05-01T06:05:08.078Z"
   },
   {
    "duration": 8,
    "start_time": "2022-05-01T06:05:08.255Z"
   },
   {
    "duration": 41,
    "start_time": "2022-05-01T06:05:08.264Z"
   },
   {
    "duration": 62,
    "start_time": "2022-05-01T06:05:08.307Z"
   },
   {
    "duration": 9,
    "start_time": "2022-05-01T06:05:08.371Z"
   },
   {
    "duration": 34,
    "start_time": "2022-05-01T06:05:08.382Z"
   },
   {
    "duration": 43,
    "start_time": "2022-05-01T06:05:08.418Z"
   },
   {
    "duration": 271,
    "start_time": "2022-05-01T06:05:08.463Z"
   },
   {
    "duration": 295,
    "start_time": "2022-05-01T06:05:08.736Z"
   },
   {
    "duration": 5,
    "start_time": "2022-05-01T06:05:09.033Z"
   },
   {
    "duration": 2000,
    "start_time": "2022-05-01T06:05:09.052Z"
   },
   {
    "duration": 31,
    "start_time": "2022-05-01T06:05:11.058Z"
   },
   {
    "duration": 32,
    "start_time": "2022-05-01T06:05:11.092Z"
   },
   {
    "duration": 986,
    "start_time": "2022-05-01T06:05:11.126Z"
   },
   {
    "duration": 390,
    "start_time": "2022-05-01T06:05:12.114Z"
   },
   {
    "duration": 29,
    "start_time": "2022-05-01T06:05:12.506Z"
   },
   {
    "duration": 37,
    "start_time": "2022-05-01T06:05:12.537Z"
   },
   {
    "duration": 5,
    "start_time": "2022-05-01T06:05:12.576Z"
   },
   {
    "duration": 1085,
    "start_time": "2022-05-01T06:05:12.583Z"
   },
   {
    "duration": 89,
    "start_time": "2022-05-01T06:05:13.670Z"
   },
   {
    "duration": 5,
    "start_time": "2022-05-01T06:05:13.762Z"
   },
   {
    "duration": 20,
    "start_time": "2022-05-01T06:05:13.769Z"
   },
   {
    "duration": 4,
    "start_time": "2022-05-01T06:05:13.792Z"
   },
   {
    "duration": 5,
    "start_time": "2022-05-01T06:05:13.852Z"
   },
   {
    "duration": 21,
    "start_time": "2022-05-01T06:05:13.860Z"
   },
   {
    "duration": 309,
    "start_time": "2022-05-01T06:05:13.883Z"
   },
   {
    "duration": 0,
    "start_time": "2022-05-01T06:05:14.194Z"
   },
   {
    "duration": 423,
    "start_time": "2022-05-01T06:05:35.771Z"
   },
   {
    "duration": 11,
    "start_time": "2022-05-01T06:07:28.091Z"
   },
   {
    "duration": 4,
    "start_time": "2022-05-01T06:07:40.853Z"
   },
   {
    "duration": 655,
    "start_time": "2022-05-01T06:07:46.133Z"
   },
   {
    "duration": 34,
    "start_time": "2022-05-01T06:12:23.944Z"
   },
   {
    "duration": 1826,
    "start_time": "2022-05-01T06:12:30.376Z"
   },
   {
    "duration": 349,
    "start_time": "2022-05-01T06:12:32.205Z"
   },
   {
    "duration": 5,
    "start_time": "2022-05-01T06:12:32.556Z"
   },
   {
    "duration": 31,
    "start_time": "2022-05-01T06:12:32.564Z"
   },
   {
    "duration": 334,
    "start_time": "2022-05-01T06:12:32.597Z"
   },
   {
    "duration": 115,
    "start_time": "2022-05-01T06:12:32.933Z"
   },
   {
    "duration": 5,
    "start_time": "2022-05-01T06:12:33.052Z"
   },
   {
    "duration": 20,
    "start_time": "2022-05-01T06:12:33.059Z"
   },
   {
    "duration": 196,
    "start_time": "2022-05-01T06:12:33.081Z"
   },
   {
    "duration": 417,
    "start_time": "2022-05-01T06:12:33.281Z"
   },
   {
    "duration": 6,
    "start_time": "2022-05-01T06:12:33.700Z"
   },
   {
    "duration": 48,
    "start_time": "2022-05-01T06:12:33.708Z"
   },
   {
    "duration": 329,
    "start_time": "2022-05-01T06:12:33.759Z"
   },
   {
    "duration": 5,
    "start_time": "2022-05-01T06:12:34.090Z"
   },
   {
    "duration": 589,
    "start_time": "2022-05-01T06:12:34.097Z"
   },
   {
    "duration": 8,
    "start_time": "2022-05-01T06:12:34.688Z"
   },
   {
    "duration": 56,
    "start_time": "2022-05-01T06:12:34.698Z"
   },
   {
    "duration": 172,
    "start_time": "2022-05-01T06:12:34.756Z"
   },
   {
    "duration": 8,
    "start_time": "2022-05-01T06:12:34.930Z"
   },
   {
    "duration": 37,
    "start_time": "2022-05-01T06:12:34.952Z"
   },
   {
    "duration": 10,
    "start_time": "2022-05-01T06:12:34.991Z"
   },
   {
    "duration": 50,
    "start_time": "2022-05-01T06:12:35.003Z"
   },
   {
    "duration": 19,
    "start_time": "2022-05-01T06:12:35.056Z"
   },
   {
    "duration": 282,
    "start_time": "2022-05-01T06:12:35.077Z"
   },
   {
    "duration": 284,
    "start_time": "2022-05-01T06:12:35.361Z"
   },
   {
    "duration": 5,
    "start_time": "2022-05-01T06:12:35.652Z"
   },
   {
    "duration": 2010,
    "start_time": "2022-05-01T06:12:35.659Z"
   },
   {
    "duration": 81,
    "start_time": "2022-05-01T06:12:37.673Z"
   },
   {
    "duration": 27,
    "start_time": "2022-05-01T06:12:37.756Z"
   },
   {
    "duration": 1894,
    "start_time": "2022-05-01T06:12:37.786Z"
   },
   {
    "duration": 770,
    "start_time": "2022-05-01T06:12:39.682Z"
   },
   {
    "duration": 30,
    "start_time": "2022-05-01T06:12:40.454Z"
   },
   {
    "duration": 70,
    "start_time": "2022-05-01T06:12:40.486Z"
   },
   {
    "duration": 5,
    "start_time": "2022-05-01T06:12:40.559Z"
   },
   {
    "duration": 891,
    "start_time": "2022-05-01T06:12:40.566Z"
   },
   {
    "duration": 35,
    "start_time": "2022-05-01T06:12:41.459Z"
   },
   {
    "duration": 5,
    "start_time": "2022-05-01T06:12:41.496Z"
   },
   {
    "duration": 22,
    "start_time": "2022-05-01T06:12:41.503Z"
   },
   {
    "duration": 6,
    "start_time": "2022-05-01T06:12:41.551Z"
   },
   {
    "duration": 11,
    "start_time": "2022-05-01T06:12:41.559Z"
   },
   {
    "duration": 26,
    "start_time": "2022-05-01T06:12:41.572Z"
   },
   {
    "duration": 164,
    "start_time": "2022-05-01T06:12:41.600Z"
   },
   {
    "duration": 0,
    "start_time": "2022-05-01T06:12:41.766Z"
   },
   {
    "duration": 165,
    "start_time": "2022-05-01T06:14:31.061Z"
   },
   {
    "duration": 23,
    "start_time": "2022-05-01T06:14:31.229Z"
   },
   {
    "duration": 37,
    "start_time": "2022-05-01T06:14:32.319Z"
   },
   {
    "duration": 163,
    "start_time": "2022-05-01T06:28:47.320Z"
   },
   {
    "duration": 8,
    "start_time": "2022-05-01T06:28:47.487Z"
   },
   {
    "duration": 42,
    "start_time": "2022-05-01T06:28:49.034Z"
   },
   {
    "duration": 7,
    "start_time": "2022-05-01T06:30:38.896Z"
   },
   {
    "duration": 9,
    "start_time": "2022-05-01T06:30:47.907Z"
   },
   {
    "duration": 7,
    "start_time": "2022-05-01T06:30:51.469Z"
   },
   {
    "duration": 236,
    "start_time": "2022-05-01T06:30:56.532Z"
   },
   {
    "duration": 325,
    "start_time": "2022-05-01T06:31:42.411Z"
   },
   {
    "duration": 324,
    "start_time": "2022-05-01T06:33:23.019Z"
   },
   {
    "duration": 303,
    "start_time": "2022-05-01T06:33:43.999Z"
   },
   {
    "duration": 329,
    "start_time": "2022-05-01T06:33:49.157Z"
   },
   {
    "duration": 172,
    "start_time": "2022-05-01T06:34:38.591Z"
   },
   {
    "duration": 1028,
    "start_time": "2022-05-01T06:35:13.057Z"
   },
   {
    "duration": 3177,
    "start_time": "2022-05-01T06:36:52.943Z"
   },
   {
    "duration": 3363,
    "start_time": "2022-05-01T06:37:05.407Z"
   },
   {
    "duration": 216,
    "start_time": "2022-05-01T06:37:45.689Z"
   },
   {
    "duration": 401,
    "start_time": "2022-05-01T06:38:22.434Z"
   },
   {
    "duration": 395,
    "start_time": "2022-05-01T06:38:42.090Z"
   },
   {
    "duration": 234,
    "start_time": "2022-05-01T06:49:10.453Z"
   },
   {
    "duration": 177,
    "start_time": "2022-05-01T06:50:25.312Z"
   },
   {
    "duration": 244,
    "start_time": "2022-05-01T06:51:05.355Z"
   },
   {
    "duration": 242,
    "start_time": "2022-05-01T06:51:16.657Z"
   },
   {
    "duration": 564,
    "start_time": "2022-05-01T06:54:55.055Z"
   },
   {
    "duration": 197,
    "start_time": "2022-05-01T06:54:58.423Z"
   },
   {
    "duration": 8,
    "start_time": "2022-05-01T07:05:54.763Z"
   },
   {
    "duration": 8,
    "start_time": "2022-05-01T07:06:10.724Z"
   },
   {
    "duration": 8,
    "start_time": "2022-05-01T07:06:20.362Z"
   },
   {
    "duration": 7,
    "start_time": "2022-05-01T07:06:22.832Z"
   },
   {
    "duration": 8,
    "start_time": "2022-05-01T07:06:45.224Z"
   },
   {
    "duration": 131,
    "start_time": "2022-05-01T07:09:04.642Z"
   },
   {
    "duration": 193,
    "start_time": "2022-05-01T07:09:27.486Z"
   },
   {
    "duration": 250,
    "start_time": "2022-05-01T07:17:52.970Z"
   },
   {
    "duration": 450,
    "start_time": "2022-05-01T07:18:10.762Z"
   },
   {
    "duration": 5,
    "start_time": "2022-05-01T07:25:18.588Z"
   },
   {
    "duration": 317,
    "start_time": "2022-05-01T07:25:46.225Z"
   },
   {
    "duration": 219,
    "start_time": "2022-05-01T07:26:07.598Z"
   },
   {
    "duration": 7,
    "start_time": "2022-05-01T07:26:38.428Z"
   },
   {
    "duration": 308,
    "start_time": "2022-05-01T07:26:39.403Z"
   },
   {
    "duration": 311,
    "start_time": "2022-05-01T07:27:56.881Z"
   },
   {
    "duration": 215,
    "start_time": "2022-05-01T07:28:02.201Z"
   },
   {
    "duration": 80,
    "start_time": "2022-05-01T07:28:25.026Z"
   },
   {
    "duration": 5,
    "start_time": "2022-05-01T07:29:31.196Z"
   },
   {
    "duration": 188,
    "start_time": "2022-05-01T07:29:31.854Z"
   },
   {
    "duration": 5,
    "start_time": "2022-05-01T07:29:57.890Z"
   },
   {
    "duration": 280,
    "start_time": "2022-05-01T07:29:58.585Z"
   },
   {
    "duration": 5,
    "start_time": "2022-05-01T07:30:09.329Z"
   },
   {
    "duration": 230,
    "start_time": "2022-05-01T07:30:10.053Z"
   },
   {
    "duration": 6,
    "start_time": "2022-05-01T07:30:51.848Z"
   },
   {
    "duration": 208,
    "start_time": "2022-05-01T07:30:52.279Z"
   },
   {
    "duration": 5,
    "start_time": "2022-05-01T07:31:06.181Z"
   },
   {
    "duration": 241,
    "start_time": "2022-05-01T07:31:08.653Z"
   },
   {
    "duration": 6,
    "start_time": "2022-05-01T07:31:24.792Z"
   },
   {
    "duration": 208,
    "start_time": "2022-05-01T07:31:25.080Z"
   },
   {
    "duration": 5,
    "start_time": "2022-05-01T07:31:34.895Z"
   },
   {
    "duration": 220,
    "start_time": "2022-05-01T07:31:35.270Z"
   },
   {
    "duration": 5,
    "start_time": "2022-05-01T07:31:44.299Z"
   },
   {
    "duration": 213,
    "start_time": "2022-05-01T07:31:44.702Z"
   },
   {
    "duration": 5,
    "start_time": "2022-05-01T07:32:47.679Z"
   },
   {
    "duration": 218,
    "start_time": "2022-05-01T07:32:48.023Z"
   },
   {
    "duration": 7,
    "start_time": "2022-05-01T07:36:24.770Z"
   },
   {
    "duration": 6,
    "start_time": "2022-05-01T07:36:31.846Z"
   },
   {
    "duration": 318,
    "start_time": "2022-05-01T07:36:32.517Z"
   },
   {
    "duration": 6,
    "start_time": "2022-05-01T07:36:54.056Z"
   },
   {
    "duration": 215,
    "start_time": "2022-05-01T07:36:54.185Z"
   },
   {
    "duration": 5,
    "start_time": "2022-05-01T07:37:26.144Z"
   },
   {
    "duration": 355,
    "start_time": "2022-05-01T07:37:26.732Z"
   },
   {
    "duration": 2008,
    "start_time": "2022-05-01T07:37:38.168Z"
   },
   {
    "duration": 369,
    "start_time": "2022-05-01T07:37:40.179Z"
   },
   {
    "duration": 11,
    "start_time": "2022-05-01T07:37:40.551Z"
   },
   {
    "duration": 37,
    "start_time": "2022-05-01T07:37:40.565Z"
   },
   {
    "duration": 338,
    "start_time": "2022-05-01T07:37:40.605Z"
   },
   {
    "duration": 137,
    "start_time": "2022-05-01T07:37:40.945Z"
   },
   {
    "duration": 7,
    "start_time": "2022-05-01T07:37:41.085Z"
   },
   {
    "duration": 20,
    "start_time": "2022-05-01T07:37:41.094Z"
   },
   {
    "duration": 211,
    "start_time": "2022-05-01T07:37:41.117Z"
   },
   {
    "duration": 461,
    "start_time": "2022-05-01T07:37:41.330Z"
   },
   {
    "duration": 6,
    "start_time": "2022-05-01T07:37:41.793Z"
   },
   {
    "duration": 28,
    "start_time": "2022-05-01T07:37:41.801Z"
   },
   {
    "duration": 374,
    "start_time": "2022-05-01T07:37:41.831Z"
   },
   {
    "duration": 4,
    "start_time": "2022-05-01T07:37:42.212Z"
   },
   {
    "duration": 632,
    "start_time": "2022-05-01T07:37:42.219Z"
   },
   {
    "duration": 8,
    "start_time": "2022-05-01T07:37:42.853Z"
   },
   {
    "duration": 56,
    "start_time": "2022-05-01T07:37:42.863Z"
   },
   {
    "duration": 10,
    "start_time": "2022-05-01T07:37:42.921Z"
   },
   {
    "duration": 30,
    "start_time": "2022-05-01T07:37:42.952Z"
   },
   {
    "duration": 194,
    "start_time": "2022-05-01T07:37:42.984Z"
   },
   {
    "duration": 9,
    "start_time": "2022-05-01T07:37:43.181Z"
   },
   {
    "duration": 80,
    "start_time": "2022-05-01T07:37:43.193Z"
   },
   {
    "duration": 8,
    "start_time": "2022-05-01T07:37:43.276Z"
   },
   {
    "duration": 5547,
    "start_time": "2022-05-01T07:37:43.286Z"
   },
   {
    "duration": 558,
    "start_time": "2022-05-01T07:37:48.835Z"
   },
   {
    "duration": 5,
    "start_time": "2022-05-01T07:37:49.395Z"
   },
   {
    "duration": 191,
    "start_time": "2022-05-01T07:37:49.403Z"
   },
   {
    "duration": 0,
    "start_time": "2022-05-01T07:37:49.597Z"
   },
   {
    "duration": 0,
    "start_time": "2022-05-01T07:37:49.598Z"
   },
   {
    "duration": 0,
    "start_time": "2022-05-01T07:37:49.600Z"
   },
   {
    "duration": 0,
    "start_time": "2022-05-01T07:37:49.602Z"
   },
   {
    "duration": 0,
    "start_time": "2022-05-01T07:37:49.603Z"
   },
   {
    "duration": 0,
    "start_time": "2022-05-01T07:37:49.604Z"
   },
   {
    "duration": 0,
    "start_time": "2022-05-01T07:37:49.606Z"
   },
   {
    "duration": 0,
    "start_time": "2022-05-01T07:37:49.607Z"
   },
   {
    "duration": 0,
    "start_time": "2022-05-01T07:37:49.608Z"
   },
   {
    "duration": 0,
    "start_time": "2022-05-01T07:37:49.610Z"
   },
   {
    "duration": 0,
    "start_time": "2022-05-01T07:37:49.611Z"
   },
   {
    "duration": 0,
    "start_time": "2022-05-01T07:37:49.612Z"
   },
   {
    "duration": 0,
    "start_time": "2022-05-01T07:37:49.614Z"
   },
   {
    "duration": 0,
    "start_time": "2022-05-01T07:37:49.615Z"
   },
   {
    "duration": 0,
    "start_time": "2022-05-01T07:37:49.617Z"
   },
   {
    "duration": 0,
    "start_time": "2022-05-01T07:37:49.619Z"
   },
   {
    "duration": 0,
    "start_time": "2022-05-01T07:37:49.651Z"
   },
   {
    "duration": 0,
    "start_time": "2022-05-01T07:37:49.652Z"
   },
   {
    "duration": 0,
    "start_time": "2022-05-01T07:37:49.654Z"
   },
   {
    "duration": 0,
    "start_time": "2022-05-01T07:37:49.655Z"
   },
   {
    "duration": 0,
    "start_time": "2022-05-01T07:37:49.656Z"
   },
   {
    "duration": 0,
    "start_time": "2022-05-01T07:37:49.657Z"
   },
   {
    "duration": 195,
    "start_time": "2022-05-01T07:38:05.495Z"
   },
   {
    "duration": 7,
    "start_time": "2022-05-01T07:38:16.997Z"
   },
   {
    "duration": 196,
    "start_time": "2022-05-01T07:38:17.256Z"
   },
   {
    "duration": 6,
    "start_time": "2022-05-01T07:38:45.801Z"
   },
   {
    "duration": 215,
    "start_time": "2022-05-01T07:38:46.125Z"
   },
   {
    "duration": 298,
    "start_time": "2022-05-01T07:42:18.779Z"
   },
   {
    "duration": 6,
    "start_time": "2022-05-01T07:42:34.746Z"
   },
   {
    "duration": 248,
    "start_time": "2022-05-01T07:42:42.629Z"
   },
   {
    "duration": 119,
    "start_time": "2022-05-01T07:43:15.470Z"
   },
   {
    "duration": 251,
    "start_time": "2022-05-01T07:43:19.407Z"
   },
   {
    "duration": 290,
    "start_time": "2022-05-01T07:45:16.182Z"
   },
   {
    "duration": 46,
    "start_time": "2022-05-01T07:45:23.025Z"
   },
   {
    "duration": 1010,
    "start_time": "2022-05-01T07:48:14.725Z"
   },
   {
    "duration": 1058,
    "start_time": "2022-05-01T07:48:46.786Z"
   },
   {
    "duration": 27,
    "start_time": "2022-05-01T08:01:56.347Z"
   },
   {
    "duration": 23,
    "start_time": "2022-05-01T08:02:05.425Z"
   },
   {
    "duration": 23,
    "start_time": "2022-05-01T08:02:10.953Z"
   },
   {
    "duration": 6,
    "start_time": "2022-05-01T08:10:32.762Z"
   },
   {
    "duration": 6,
    "start_time": "2022-05-01T08:11:24.412Z"
   },
   {
    "duration": 229,
    "start_time": "2022-05-01T08:12:00.387Z"
   },
   {
    "duration": 45,
    "start_time": "2022-05-01T08:12:06.229Z"
   },
   {
    "duration": 19,
    "start_time": "2022-05-01T08:12:23.716Z"
   },
   {
    "duration": 6,
    "start_time": "2022-05-01T08:13:22.330Z"
   },
   {
    "duration": 133,
    "start_time": "2022-05-01T08:13:22.468Z"
   },
   {
    "duration": 5,
    "start_time": "2022-05-01T08:13:22.604Z"
   },
   {
    "duration": 19,
    "start_time": "2022-05-01T08:13:38.134Z"
   },
   {
    "duration": 5,
    "start_time": "2022-05-01T08:13:47.436Z"
   },
   {
    "duration": 1572,
    "start_time": "2022-05-02T04:37:12.728Z"
   },
   {
    "duration": 271,
    "start_time": "2022-05-02T04:37:14.302Z"
   },
   {
    "duration": 3,
    "start_time": "2022-05-02T04:37:14.577Z"
   },
   {
    "duration": 31,
    "start_time": "2022-05-02T04:37:14.581Z"
   },
   {
    "duration": 190,
    "start_time": "2022-05-02T04:37:14.613Z"
   },
   {
    "duration": 89,
    "start_time": "2022-05-02T04:37:14.804Z"
   },
   {
    "duration": 5,
    "start_time": "2022-05-02T04:37:14.895Z"
   },
   {
    "duration": 13,
    "start_time": "2022-05-02T04:37:14.902Z"
   },
   {
    "duration": 116,
    "start_time": "2022-05-02T04:37:14.918Z"
   },
   {
    "duration": 352,
    "start_time": "2022-05-02T04:37:15.035Z"
   },
   {
    "duration": 11,
    "start_time": "2022-05-02T04:37:15.389Z"
   },
   {
    "duration": 15,
    "start_time": "2022-05-02T04:37:15.402Z"
   },
   {
    "duration": 211,
    "start_time": "2022-05-02T04:37:15.418Z"
   },
   {
    "duration": 3,
    "start_time": "2022-05-02T04:37:15.631Z"
   },
   {
    "duration": 345,
    "start_time": "2022-05-02T04:37:15.635Z"
   },
   {
    "duration": 4,
    "start_time": "2022-05-02T04:37:15.982Z"
   },
   {
    "duration": 31,
    "start_time": "2022-05-02T04:37:15.988Z"
   },
   {
    "duration": 8,
    "start_time": "2022-05-02T04:37:16.021Z"
   },
   {
    "duration": 18,
    "start_time": "2022-05-02T04:37:16.030Z"
   },
   {
    "duration": 120,
    "start_time": "2022-05-02T04:37:16.050Z"
   },
   {
    "duration": 6,
    "start_time": "2022-05-02T04:37:16.171Z"
   },
   {
    "duration": 45,
    "start_time": "2022-05-02T04:37:16.178Z"
   },
   {
    "duration": 5,
    "start_time": "2022-05-02T04:37:16.225Z"
   },
   {
    "duration": 2286,
    "start_time": "2022-05-02T04:37:16.231Z"
   },
   {
    "duration": 286,
    "start_time": "2022-05-02T04:37:18.518Z"
   },
   {
    "duration": 131,
    "start_time": "2022-05-02T04:37:18.806Z"
   },
   {
    "duration": 17,
    "start_time": "2022-05-02T04:37:18.941Z"
   },
   {
    "duration": 5,
    "start_time": "2022-05-02T04:37:18.959Z"
   },
   {
    "duration": 169,
    "start_time": "2022-05-02T04:37:18.966Z"
   },
   {
    "duration": 11,
    "start_time": "2022-05-02T04:37:19.137Z"
   },
   {
    "duration": 3,
    "start_time": "2022-05-02T04:37:19.149Z"
   },
   {
    "duration": 14,
    "start_time": "2022-05-02T04:37:19.153Z"
   },
   {
    "duration": 153,
    "start_time": "2022-05-02T04:37:19.169Z"
   },
   {
    "duration": 156,
    "start_time": "2022-05-02T04:37:19.323Z"
   },
   {
    "duration": 3,
    "start_time": "2022-05-02T04:37:19.481Z"
   },
   {
    "duration": 1217,
    "start_time": "2022-05-02T04:37:19.485Z"
   },
   {
    "duration": 19,
    "start_time": "2022-05-02T04:37:20.703Z"
   },
   {
    "duration": 18,
    "start_time": "2022-05-02T04:37:20.723Z"
   },
   {
    "duration": 461,
    "start_time": "2022-05-02T04:37:20.742Z"
   },
   {
    "duration": 200,
    "start_time": "2022-05-02T04:37:21.205Z"
   },
   {
    "duration": 16,
    "start_time": "2022-05-02T04:37:21.407Z"
   },
   {
    "duration": 11,
    "start_time": "2022-05-02T04:37:21.424Z"
   },
   {
    "duration": 4,
    "start_time": "2022-05-02T04:37:21.436Z"
   },
   {
    "duration": 466,
    "start_time": "2022-05-02T04:37:21.441Z"
   },
   {
    "duration": 23,
    "start_time": "2022-05-02T04:37:21.909Z"
   },
   {
    "duration": 3,
    "start_time": "2022-05-02T04:37:21.934Z"
   },
   {
    "duration": 14,
    "start_time": "2022-05-02T04:37:21.939Z"
   },
   {
    "duration": 3,
    "start_time": "2022-05-02T04:37:21.955Z"
   },
   {
    "duration": 5,
    "start_time": "2022-05-02T04:37:21.960Z"
   },
   {
    "duration": 112,
    "start_time": "2022-05-02T04:37:21.966Z"
   },
   {
    "duration": 105,
    "start_time": "2022-05-02T04:37:22.080Z"
   },
   {
    "duration": 0,
    "start_time": "2022-05-02T04:37:22.187Z"
   },
   {
    "duration": 3,
    "start_time": "2022-05-02T04:39:10.129Z"
   },
   {
    "duration": 93,
    "start_time": "2022-05-02T04:39:12.827Z"
   },
   {
    "duration": 4,
    "start_time": "2022-05-02T04:39:18.809Z"
   },
   {
    "duration": 4,
    "start_time": "2022-05-02T04:40:42.726Z"
   },
   {
    "duration": 95,
    "start_time": "2022-05-02T04:40:44.124Z"
   },
   {
    "duration": 27,
    "start_time": "2022-05-02T04:40:44.957Z"
   },
   {
    "duration": 18,
    "start_time": "2022-05-02T04:40:53.113Z"
   },
   {
    "duration": 4,
    "start_time": "2022-05-02T04:41:07.274Z"
   },
   {
    "duration": 103,
    "start_time": "2022-05-02T04:41:07.280Z"
   },
   {
    "duration": 4,
    "start_time": "2022-05-02T04:42:21.931Z"
   },
   {
    "duration": 93,
    "start_time": "2022-05-02T04:42:22.285Z"
   },
   {
    "duration": 3,
    "start_time": "2022-05-02T04:44:17.828Z"
   },
   {
    "duration": 91,
    "start_time": "2022-05-02T04:44:18.163Z"
   },
   {
    "duration": 17,
    "start_time": "2022-05-02T04:44:19.041Z"
   },
   {
    "duration": 4,
    "start_time": "2022-05-02T04:44:43.519Z"
   },
   {
    "duration": 91,
    "start_time": "2022-05-02T04:44:43.877Z"
   },
   {
    "duration": 8,
    "start_time": "2022-05-02T04:44:44.366Z"
   },
   {
    "duration": 4,
    "start_time": "2022-05-02T04:44:49.046Z"
   },
   {
    "duration": 4,
    "start_time": "2022-05-02T04:47:07.428Z"
   },
   {
    "duration": 102,
    "start_time": "2022-05-02T04:47:07.434Z"
   },
   {
    "duration": 3,
    "start_time": "2022-05-02T04:47:15.339Z"
   },
   {
    "duration": 93,
    "start_time": "2022-05-02T04:47:15.463Z"
   },
   {
    "duration": 3,
    "start_time": "2022-05-02T04:47:18.624Z"
   },
   {
    "duration": 92,
    "start_time": "2022-05-02T04:47:43.241Z"
   },
   {
    "duration": 3,
    "start_time": "2022-05-02T04:47:48.178Z"
   },
   {
    "duration": 95,
    "start_time": "2022-05-02T04:47:58.213Z"
   },
   {
    "duration": 4,
    "start_time": "2022-05-02T04:47:59.032Z"
   },
   {
    "duration": 99,
    "start_time": "2022-05-02T04:48:17.401Z"
   },
   {
    "duration": 27,
    "start_time": "2022-05-02T04:49:59.160Z"
   },
   {
    "duration": 6,
    "start_time": "2022-05-02T04:50:19.344Z"
   },
   {
    "duration": 27,
    "start_time": "2022-05-02T04:50:26.750Z"
   },
   {
    "duration": 4,
    "start_time": "2022-05-02T04:50:36.855Z"
   },
   {
    "duration": 140,
    "start_time": "2022-05-02T04:50:38.839Z"
   },
   {
    "duration": 4,
    "start_time": "2022-05-02T04:50:42.189Z"
   },
   {
    "duration": 3,
    "start_time": "2022-05-02T04:51:41.052Z"
   },
   {
    "duration": 136,
    "start_time": "2022-05-02T04:51:41.447Z"
   },
   {
    "duration": 4,
    "start_time": "2022-05-02T04:51:44.024Z"
   },
   {
    "duration": 4,
    "start_time": "2022-05-02T04:53:54.049Z"
   },
   {
    "duration": 151,
    "start_time": "2022-05-02T04:53:54.282Z"
   },
   {
    "duration": 3,
    "start_time": "2022-05-02T04:56:43.738Z"
   },
   {
    "duration": 138,
    "start_time": "2022-05-02T04:56:43.887Z"
   },
   {
    "duration": 3,
    "start_time": "2022-05-02T04:56:45.060Z"
   },
   {
    "duration": 139,
    "start_time": "2022-05-02T04:57:47.139Z"
   },
   {
    "duration": 11,
    "start_time": "2022-05-02T04:58:04.863Z"
   },
   {
    "duration": 138,
    "start_time": "2022-05-02T04:58:23.918Z"
   },
   {
    "duration": 138,
    "start_time": "2022-05-02T04:59:59.732Z"
   },
   {
    "duration": 15,
    "start_time": "2022-05-02T05:06:10.971Z"
   },
   {
    "duration": 8,
    "start_time": "2022-05-02T05:08:33.729Z"
   },
   {
    "duration": 18,
    "start_time": "2022-05-02T05:08:38.477Z"
   },
   {
    "duration": 12,
    "start_time": "2022-05-02T05:08:57.735Z"
   },
   {
    "duration": 126,
    "start_time": "2022-05-02T05:11:07.998Z"
   },
   {
    "duration": 120,
    "start_time": "2022-05-02T05:12:13.780Z"
   },
   {
    "duration": 120,
    "start_time": "2022-05-02T05:12:43.811Z"
   },
   {
    "duration": 126,
    "start_time": "2022-05-02T05:12:56.864Z"
   },
   {
    "duration": 118,
    "start_time": "2022-05-02T05:13:10.742Z"
   },
   {
    "duration": 125,
    "start_time": "2022-05-02T05:13:34.466Z"
   },
   {
    "duration": 12,
    "start_time": "2022-05-02T05:20:01.906Z"
   },
   {
    "duration": 1443,
    "start_time": "2022-05-02T05:20:49.094Z"
   },
   {
    "duration": 267,
    "start_time": "2022-05-02T05:20:50.539Z"
   },
   {
    "duration": 3,
    "start_time": "2022-05-02T05:20:50.808Z"
   },
   {
    "duration": 18,
    "start_time": "2022-05-02T05:20:50.813Z"
   },
   {
    "duration": 203,
    "start_time": "2022-05-02T05:20:50.832Z"
   },
   {
    "duration": 86,
    "start_time": "2022-05-02T05:20:51.036Z"
   },
   {
    "duration": 4,
    "start_time": "2022-05-02T05:20:51.123Z"
   },
   {
    "duration": 14,
    "start_time": "2022-05-02T05:20:51.128Z"
   },
   {
    "duration": 107,
    "start_time": "2022-05-02T05:20:51.143Z"
   },
   {
    "duration": 325,
    "start_time": "2022-05-02T05:20:51.253Z"
   },
   {
    "duration": 3,
    "start_time": "2022-05-02T05:20:51.579Z"
   },
   {
    "duration": 21,
    "start_time": "2022-05-02T05:20:51.584Z"
   },
   {
    "duration": 205,
    "start_time": "2022-05-02T05:20:51.607Z"
   },
   {
    "duration": 3,
    "start_time": "2022-05-02T05:20:51.814Z"
   },
   {
    "duration": 330,
    "start_time": "2022-05-02T05:20:51.818Z"
   },
   {
    "duration": 5,
    "start_time": "2022-05-02T05:20:52.149Z"
   },
   {
    "duration": 33,
    "start_time": "2022-05-02T05:20:52.155Z"
   },
   {
    "duration": 94,
    "start_time": "2022-05-02T05:20:52.189Z"
   },
   {
    "duration": 5,
    "start_time": "2022-05-02T05:20:52.285Z"
   },
   {
    "duration": 28,
    "start_time": "2022-05-02T05:20:52.299Z"
   },
   {
    "duration": 4,
    "start_time": "2022-05-02T05:20:52.329Z"
   },
   {
    "duration": 2245,
    "start_time": "2022-05-02T05:20:52.335Z"
   },
   {
    "duration": 4,
    "start_time": "2022-05-02T05:20:54.582Z"
   },
   {
    "duration": 161,
    "start_time": "2022-05-02T05:20:54.587Z"
   },
   {
    "duration": 138,
    "start_time": "2022-05-02T05:20:54.750Z"
   },
   {
    "duration": 133,
    "start_time": "2022-05-02T05:20:54.890Z"
   },
   {
    "duration": 8,
    "start_time": "2022-05-02T05:20:55.025Z"
   },
   {
    "duration": 18,
    "start_time": "2022-05-02T05:20:55.037Z"
   },
   {
    "duration": 13,
    "start_time": "2022-05-02T05:20:55.057Z"
   },
   {
    "duration": 11,
    "start_time": "2022-05-02T05:20:55.100Z"
   },
   {
    "duration": 13,
    "start_time": "2022-05-02T05:20:55.113Z"
   },
   {
    "duration": 154,
    "start_time": "2022-05-02T05:20:55.128Z"
   },
   {
    "duration": 161,
    "start_time": "2022-05-02T05:20:55.284Z"
   },
   {
    "duration": 3,
    "start_time": "2022-05-02T05:20:55.447Z"
   },
   {
    "duration": 1082,
    "start_time": "2022-05-02T05:20:55.452Z"
   },
   {
    "duration": 19,
    "start_time": "2022-05-02T05:20:56.535Z"
   },
   {
    "duration": 31,
    "start_time": "2022-05-02T05:20:56.556Z"
   },
   {
    "duration": 560,
    "start_time": "2022-05-02T05:20:56.601Z"
   },
   {
    "duration": 207,
    "start_time": "2022-05-02T05:20:57.163Z"
   },
   {
    "duration": 18,
    "start_time": "2022-05-02T05:20:57.372Z"
   },
   {
    "duration": 17,
    "start_time": "2022-05-02T05:20:57.401Z"
   },
   {
    "duration": 8,
    "start_time": "2022-05-02T05:20:57.419Z"
   },
   {
    "duration": 467,
    "start_time": "2022-05-02T05:20:57.428Z"
   },
   {
    "duration": 22,
    "start_time": "2022-05-02T05:20:57.900Z"
   },
   {
    "duration": 5,
    "start_time": "2022-05-02T05:20:57.924Z"
   },
   {
    "duration": 13,
    "start_time": "2022-05-02T05:20:57.930Z"
   },
   {
    "duration": 4,
    "start_time": "2022-05-02T05:20:57.944Z"
   },
   {
    "duration": 5,
    "start_time": "2022-05-02T05:20:57.949Z"
   },
   {
    "duration": 12,
    "start_time": "2022-05-02T05:20:57.955Z"
   },
   {
    "duration": 203,
    "start_time": "2022-05-02T05:20:57.968Z"
   },
   {
    "duration": 0,
    "start_time": "2022-05-02T05:20:58.172Z"
   },
   {
    "duration": 11,
    "start_time": "2022-05-02T05:21:58.706Z"
   },
   {
    "duration": 11,
    "start_time": "2022-05-02T05:22:22.195Z"
   },
   {
    "duration": 11,
    "start_time": "2022-05-02T05:22:28.322Z"
   },
   {
    "duration": 2,
    "start_time": "2022-05-02T05:23:26.304Z"
   },
   {
    "duration": 3,
    "start_time": "2022-05-02T05:26:46.811Z"
   },
   {
    "duration": 12,
    "start_time": "2022-05-02T05:27:19.878Z"
   },
   {
    "duration": 1417,
    "start_time": "2022-05-02T05:28:16.068Z"
   },
   {
    "duration": 266,
    "start_time": "2022-05-02T05:28:17.486Z"
   },
   {
    "duration": 3,
    "start_time": "2022-05-02T05:28:17.754Z"
   },
   {
    "duration": 17,
    "start_time": "2022-05-02T05:28:17.759Z"
   },
   {
    "duration": 208,
    "start_time": "2022-05-02T05:28:17.777Z"
   },
   {
    "duration": 87,
    "start_time": "2022-05-02T05:28:17.986Z"
   },
   {
    "duration": 3,
    "start_time": "2022-05-02T05:28:18.074Z"
   },
   {
    "duration": 13,
    "start_time": "2022-05-02T05:28:18.078Z"
   },
   {
    "duration": 104,
    "start_time": "2022-05-02T05:28:18.100Z"
   },
   {
    "duration": 330,
    "start_time": "2022-05-02T05:28:18.206Z"
   },
   {
    "duration": 4,
    "start_time": "2022-05-02T05:28:18.538Z"
   },
   {
    "duration": 16,
    "start_time": "2022-05-02T05:28:18.544Z"
   },
   {
    "duration": 212,
    "start_time": "2022-05-02T05:28:18.562Z"
   },
   {
    "duration": 4,
    "start_time": "2022-05-02T05:28:18.776Z"
   },
   {
    "duration": 343,
    "start_time": "2022-05-02T05:28:18.781Z"
   },
   {
    "duration": 6,
    "start_time": "2022-05-02T05:28:19.126Z"
   },
   {
    "duration": 25,
    "start_time": "2022-05-02T05:28:19.133Z"
   },
   {
    "duration": 105,
    "start_time": "2022-05-02T05:28:19.160Z"
   },
   {
    "duration": 5,
    "start_time": "2022-05-02T05:28:19.267Z"
   },
   {
    "duration": 39,
    "start_time": "2022-05-02T05:28:19.273Z"
   },
   {
    "duration": 5,
    "start_time": "2022-05-02T05:28:19.313Z"
   },
   {
    "duration": 2205,
    "start_time": "2022-05-02T05:28:19.319Z"
   },
   {
    "duration": 3,
    "start_time": "2022-05-02T05:28:21.526Z"
   },
   {
    "duration": 147,
    "start_time": "2022-05-02T05:28:21.530Z"
   },
   {
    "duration": 130,
    "start_time": "2022-05-02T05:28:21.678Z"
   },
   {
    "duration": 127,
    "start_time": "2022-05-02T05:28:21.810Z"
   },
   {
    "duration": 7,
    "start_time": "2022-05-02T05:28:21.938Z"
   },
   {
    "duration": 17,
    "start_time": "2022-05-02T05:28:21.949Z"
   },
   {
    "duration": 11,
    "start_time": "2022-05-02T05:28:21.967Z"
   },
   {
    "duration": 11,
    "start_time": "2022-05-02T05:28:22.000Z"
   },
   {
    "duration": 14,
    "start_time": "2022-05-02T05:28:22.013Z"
   },
   {
    "duration": 155,
    "start_time": "2022-05-02T05:28:22.029Z"
   },
   {
    "duration": 154,
    "start_time": "2022-05-02T05:28:22.186Z"
   },
   {
    "duration": 3,
    "start_time": "2022-05-02T05:28:22.341Z"
   },
   {
    "duration": 1104,
    "start_time": "2022-05-02T05:28:22.345Z"
   },
   {
    "duration": 18,
    "start_time": "2022-05-02T05:28:23.451Z"
   },
   {
    "duration": 32,
    "start_time": "2022-05-02T05:28:23.470Z"
   },
   {
    "duration": 471,
    "start_time": "2022-05-02T05:28:23.504Z"
   },
   {
    "duration": 201,
    "start_time": "2022-05-02T05:28:23.976Z"
   },
   {
    "duration": 25,
    "start_time": "2022-05-02T05:28:24.179Z"
   },
   {
    "duration": 14,
    "start_time": "2022-05-02T05:28:24.206Z"
   },
   {
    "duration": 3,
    "start_time": "2022-05-02T05:28:24.221Z"
   },
   {
    "duration": 463,
    "start_time": "2022-05-02T05:28:24.226Z"
   },
   {
    "duration": 26,
    "start_time": "2022-05-02T05:28:24.690Z"
   },
   {
    "duration": 3,
    "start_time": "2022-05-02T05:28:24.718Z"
   },
   {
    "duration": 13,
    "start_time": "2022-05-02T05:28:24.722Z"
   },
   {
    "duration": 3,
    "start_time": "2022-05-02T05:28:24.737Z"
   },
   {
    "duration": 6,
    "start_time": "2022-05-02T05:28:24.741Z"
   },
   {
    "duration": 11,
    "start_time": "2022-05-02T05:28:24.749Z"
   },
   {
    "duration": 10,
    "start_time": "2022-05-02T05:28:24.761Z"
   },
   {
    "duration": 9,
    "start_time": "2022-05-02T05:28:24.800Z"
   },
   {
    "duration": 11,
    "start_time": "2022-05-02T05:28:24.810Z"
   },
   {
    "duration": 2,
    "start_time": "2022-05-02T05:28:24.822Z"
   },
   {
    "duration": 113,
    "start_time": "2022-05-02T05:28:24.825Z"
   },
   {
    "duration": 10,
    "start_time": "2022-05-02T05:50:17.759Z"
   },
   {
    "duration": 10,
    "start_time": "2022-05-02T05:51:39.605Z"
   },
   {
    "duration": 13,
    "start_time": "2022-05-02T05:51:39.746Z"
   },
   {
    "duration": 9,
    "start_time": "2022-05-02T06:04:43.866Z"
   },
   {
    "duration": 4,
    "start_time": "2022-05-02T06:04:49.357Z"
   },
   {
    "duration": 3,
    "start_time": "2022-05-02T06:04:55.224Z"
   },
   {
    "duration": 2,
    "start_time": "2022-05-02T06:06:50.099Z"
   },
   {
    "duration": 168,
    "start_time": "2022-05-02T06:06:56.702Z"
   },
   {
    "duration": 322,
    "start_time": "2022-05-02T06:07:13.286Z"
   },
   {
    "duration": 599,
    "start_time": "2022-05-02T06:09:44.009Z"
   },
   {
    "duration": 3,
    "start_time": "2022-05-02T06:17:20.177Z"
   },
   {
    "duration": 2,
    "start_time": "2022-05-02T06:17:37.557Z"
   },
   {
    "duration": 514,
    "start_time": "2022-05-02T06:17:38.695Z"
   },
   {
    "duration": 1473,
    "start_time": "2022-05-02T06:19:30.417Z"
   },
   {
    "duration": 267,
    "start_time": "2022-05-02T06:19:31.891Z"
   },
   {
    "duration": 4,
    "start_time": "2022-05-02T06:19:32.159Z"
   },
   {
    "duration": 23,
    "start_time": "2022-05-02T06:19:32.166Z"
   },
   {
    "duration": 199,
    "start_time": "2022-05-02T06:19:32.190Z"
   },
   {
    "duration": 90,
    "start_time": "2022-05-02T06:19:32.390Z"
   },
   {
    "duration": 5,
    "start_time": "2022-05-02T06:19:32.481Z"
   },
   {
    "duration": 20,
    "start_time": "2022-05-02T06:19:32.487Z"
   },
   {
    "duration": 164,
    "start_time": "2022-05-02T06:19:32.508Z"
   },
   {
    "duration": 519,
    "start_time": "2022-05-02T06:19:32.675Z"
   },
   {
    "duration": 4,
    "start_time": "2022-05-02T06:19:33.199Z"
   },
   {
    "duration": 22,
    "start_time": "2022-05-02T06:19:33.204Z"
   },
   {
    "duration": 214,
    "start_time": "2022-05-02T06:19:33.227Z"
   },
   {
    "duration": 2,
    "start_time": "2022-05-02T06:19:33.443Z"
   },
   {
    "duration": 349,
    "start_time": "2022-05-02T06:19:33.447Z"
   },
   {
    "duration": 5,
    "start_time": "2022-05-02T06:19:33.799Z"
   },
   {
    "duration": 32,
    "start_time": "2022-05-02T06:19:33.806Z"
   },
   {
    "duration": 102,
    "start_time": "2022-05-02T06:19:33.839Z"
   },
   {
    "duration": 5,
    "start_time": "2022-05-02T06:19:33.942Z"
   },
   {
    "duration": 33,
    "start_time": "2022-05-02T06:19:33.948Z"
   },
   {
    "duration": 6,
    "start_time": "2022-05-02T06:19:33.982Z"
   },
   {
    "duration": 2217,
    "start_time": "2022-05-02T06:19:34.000Z"
   },
   {
    "duration": 3,
    "start_time": "2022-05-02T06:19:36.218Z"
   },
   {
    "duration": 153,
    "start_time": "2022-05-02T06:19:36.224Z"
   },
   {
    "duration": 166,
    "start_time": "2022-05-02T06:19:36.379Z"
   },
   {
    "duration": 136,
    "start_time": "2022-05-02T06:19:36.547Z"
   },
   {
    "duration": 17,
    "start_time": "2022-05-02T06:19:36.685Z"
   },
   {
    "duration": 18,
    "start_time": "2022-05-02T06:19:36.706Z"
   },
   {
    "duration": 13,
    "start_time": "2022-05-02T06:19:36.726Z"
   },
   {
    "duration": 11,
    "start_time": "2022-05-02T06:19:36.741Z"
   },
   {
    "duration": 47,
    "start_time": "2022-05-02T06:19:36.754Z"
   },
   {
    "duration": 160,
    "start_time": "2022-05-02T06:19:36.803Z"
   },
   {
    "duration": 171,
    "start_time": "2022-05-02T06:19:36.965Z"
   },
   {
    "duration": 4,
    "start_time": "2022-05-02T06:19:37.138Z"
   },
   {
    "duration": 1088,
    "start_time": "2022-05-02T06:19:37.143Z"
   },
   {
    "duration": 19,
    "start_time": "2022-05-02T06:19:38.232Z"
   },
   {
    "duration": 27,
    "start_time": "2022-05-02T06:19:38.253Z"
   },
   {
    "duration": 474,
    "start_time": "2022-05-02T06:19:38.282Z"
   },
   {
    "duration": 203,
    "start_time": "2022-05-02T06:19:38.758Z"
   },
   {
    "duration": 19,
    "start_time": "2022-05-02T06:19:38.963Z"
   },
   {
    "duration": 29,
    "start_time": "2022-05-02T06:19:38.983Z"
   },
   {
    "duration": 4,
    "start_time": "2022-05-02T06:19:39.013Z"
   },
   {
    "duration": 467,
    "start_time": "2022-05-02T06:19:39.019Z"
   },
   {
    "duration": 31,
    "start_time": "2022-05-02T06:19:39.488Z"
   },
   {
    "duration": 4,
    "start_time": "2022-05-02T06:19:39.521Z"
   },
   {
    "duration": 16,
    "start_time": "2022-05-02T06:19:39.526Z"
   },
   {
    "duration": 4,
    "start_time": "2022-05-02T06:19:39.543Z"
   },
   {
    "duration": 5,
    "start_time": "2022-05-02T06:19:39.548Z"
   },
   {
    "duration": 14,
    "start_time": "2022-05-02T06:19:39.555Z"
   },
   {
    "duration": 35,
    "start_time": "2022-05-02T06:19:39.570Z"
   },
   {
    "duration": 10,
    "start_time": "2022-05-02T06:19:39.607Z"
   },
   {
    "duration": 14,
    "start_time": "2022-05-02T06:19:39.618Z"
   },
   {
    "duration": 4,
    "start_time": "2022-05-02T06:19:39.633Z"
   },
   {
    "duration": 12,
    "start_time": "2022-05-02T06:19:39.638Z"
   },
   {
    "duration": 12,
    "start_time": "2022-05-02T06:19:39.651Z"
   },
   {
    "duration": 3,
    "start_time": "2022-05-02T06:19:39.664Z"
   },
   {
    "duration": 1033,
    "start_time": "2022-05-02T06:19:39.668Z"
   },
   {
    "duration": 830,
    "start_time": "2022-05-02T06:25:59.676Z"
   },
   {
    "duration": 1004,
    "start_time": "2022-05-02T06:26:51.200Z"
   },
   {
    "duration": 885,
    "start_time": "2022-05-02T06:27:00.922Z"
   },
   {
    "duration": 4,
    "start_time": "2022-05-02T06:27:17.482Z"
   },
   {
    "duration": 376,
    "start_time": "2022-05-02T06:27:22.136Z"
   },
   {
    "duration": 3,
    "start_time": "2022-05-02T06:27:52.744Z"
   },
   {
    "duration": 832,
    "start_time": "2022-05-02T06:28:04.570Z"
   },
   {
    "duration": 302,
    "start_time": "2022-05-02T06:28:08.106Z"
   },
   {
    "duration": 5,
    "start_time": "2022-05-02T06:28:30.412Z"
   },
   {
    "duration": 20,
    "start_time": "2022-05-02T06:30:18.767Z"
   },
   {
    "duration": 3,
    "start_time": "2022-05-02T06:31:52.015Z"
   },
   {
    "duration": 4,
    "start_time": "2022-05-02T06:36:01.945Z"
   },
   {
    "duration": 1228,
    "start_time": "2022-05-02T06:46:13.775Z"
   },
   {
    "duration": 5,
    "start_time": "2022-05-02T07:02:07.354Z"
   },
   {
    "duration": 10,
    "start_time": "2022-05-02T07:06:17.078Z"
   },
   {
    "duration": 4,
    "start_time": "2022-05-02T07:07:56.781Z"
   },
   {
    "duration": 4,
    "start_time": "2022-05-02T07:10:23.666Z"
   },
   {
    "duration": 3,
    "start_time": "2022-05-02T07:12:10.463Z"
   },
   {
    "duration": 3,
    "start_time": "2022-05-02T07:13:24.283Z"
   },
   {
    "duration": 484,
    "start_time": "2022-05-02T07:15:08.191Z"
   },
   {
    "duration": 4,
    "start_time": "2022-05-02T07:15:39.805Z"
   },
   {
    "duration": 4,
    "start_time": "2022-05-02T07:15:40.083Z"
   },
   {
    "duration": 3,
    "start_time": "2022-05-02T07:15:40.623Z"
   },
   {
    "duration": 408,
    "start_time": "2022-05-02T07:15:42.935Z"
   },
   {
    "duration": 4,
    "start_time": "2022-05-02T07:15:51.557Z"
   },
   {
    "duration": 4,
    "start_time": "2022-05-02T07:15:57.515Z"
   },
   {
    "duration": 498,
    "start_time": "2022-05-02T07:16:37.001Z"
   },
   {
    "duration": 556,
    "start_time": "2022-05-02T07:17:26.654Z"
   },
   {
    "duration": 1341,
    "start_time": "2022-05-02T07:17:45.177Z"
   },
   {
    "duration": 4,
    "start_time": "2022-05-02T07:20:24.182Z"
   },
   {
    "duration": 1320,
    "start_time": "2022-05-02T07:20:28.626Z"
   },
   {
    "duration": 4,
    "start_time": "2022-05-02T07:21:01.388Z"
   },
   {
    "duration": 1276,
    "start_time": "2022-05-02T07:21:04.359Z"
   },
   {
    "duration": 1502,
    "start_time": "2022-05-02T07:21:13.922Z"
   },
   {
    "duration": 291,
    "start_time": "2022-05-02T07:21:15.426Z"
   },
   {
    "duration": 5,
    "start_time": "2022-05-02T07:21:15.718Z"
   },
   {
    "duration": 18,
    "start_time": "2022-05-02T07:21:15.725Z"
   },
   {
    "duration": 207,
    "start_time": "2022-05-02T07:21:15.744Z"
   },
   {
    "duration": 91,
    "start_time": "2022-05-02T07:21:15.953Z"
   },
   {
    "duration": 5,
    "start_time": "2022-05-02T07:21:16.045Z"
   },
   {
    "duration": 18,
    "start_time": "2022-05-02T07:21:16.051Z"
   },
   {
    "duration": 130,
    "start_time": "2022-05-02T07:21:16.070Z"
   },
   {
    "duration": 360,
    "start_time": "2022-05-02T07:21:16.203Z"
   },
   {
    "duration": 4,
    "start_time": "2022-05-02T07:21:16.564Z"
   },
   {
    "duration": 19,
    "start_time": "2022-05-02T07:21:16.569Z"
   },
   {
    "duration": 196,
    "start_time": "2022-05-02T07:21:16.600Z"
   },
   {
    "duration": 2,
    "start_time": "2022-05-02T07:21:16.801Z"
   },
   {
    "duration": 348,
    "start_time": "2022-05-02T07:21:16.805Z"
   },
   {
    "duration": 5,
    "start_time": "2022-05-02T07:21:17.155Z"
   },
   {
    "duration": 41,
    "start_time": "2022-05-02T07:21:17.162Z"
   },
   {
    "duration": 97,
    "start_time": "2022-05-02T07:21:17.205Z"
   },
   {
    "duration": 6,
    "start_time": "2022-05-02T07:21:17.304Z"
   },
   {
    "duration": 28,
    "start_time": "2022-05-02T07:21:17.312Z"
   },
   {
    "duration": 5,
    "start_time": "2022-05-02T07:21:17.342Z"
   },
   {
    "duration": 2271,
    "start_time": "2022-05-02T07:21:17.349Z"
   },
   {
    "duration": 7,
    "start_time": "2022-05-02T07:21:19.629Z"
   },
   {
    "duration": 179,
    "start_time": "2022-05-02T07:21:19.638Z"
   },
   {
    "duration": 127,
    "start_time": "2022-05-02T07:21:19.819Z"
   },
   {
    "duration": 131,
    "start_time": "2022-05-02T07:21:19.948Z"
   },
   {
    "duration": 7,
    "start_time": "2022-05-02T07:21:20.081Z"
   },
   {
    "duration": 18,
    "start_time": "2022-05-02T07:21:20.100Z"
   },
   {
    "duration": 12,
    "start_time": "2022-05-02T07:21:20.119Z"
   },
   {
    "duration": 10,
    "start_time": "2022-05-02T07:21:20.132Z"
   },
   {
    "duration": 11,
    "start_time": "2022-05-02T07:21:20.144Z"
   },
   {
    "duration": 167,
    "start_time": "2022-05-02T07:21:20.156Z"
   },
   {
    "duration": 157,
    "start_time": "2022-05-02T07:21:20.324Z"
   },
   {
    "duration": 3,
    "start_time": "2022-05-02T07:21:20.482Z"
   },
   {
    "duration": 1097,
    "start_time": "2022-05-02T07:21:20.486Z"
   },
   {
    "duration": 23,
    "start_time": "2022-05-02T07:21:21.584Z"
   },
   {
    "duration": 21,
    "start_time": "2022-05-02T07:21:21.609Z"
   },
   {
    "duration": 471,
    "start_time": "2022-05-02T07:21:21.631Z"
   },
   {
    "duration": 197,
    "start_time": "2022-05-02T07:21:22.103Z"
   },
   {
    "duration": 19,
    "start_time": "2022-05-02T07:21:22.301Z"
   },
   {
    "duration": 14,
    "start_time": "2022-05-02T07:21:22.321Z"
   },
   {
    "duration": 3,
    "start_time": "2022-05-02T07:21:22.336Z"
   },
   {
    "duration": 462,
    "start_time": "2022-05-02T07:21:22.341Z"
   },
   {
    "duration": 22,
    "start_time": "2022-05-02T07:21:22.805Z"
   },
   {
    "duration": 4,
    "start_time": "2022-05-02T07:21:22.828Z"
   },
   {
    "duration": 13,
    "start_time": "2022-05-02T07:21:22.833Z"
   },
   {
    "duration": 4,
    "start_time": "2022-05-02T07:21:22.848Z"
   },
   {
    "duration": 6,
    "start_time": "2022-05-02T07:21:22.853Z"
   },
   {
    "duration": 11,
    "start_time": "2022-05-02T07:21:22.861Z"
   },
   {
    "duration": 101,
    "start_time": "2022-05-02T07:21:22.899Z"
   },
   {
    "duration": 13,
    "start_time": "2022-05-02T07:21:23.002Z"
   },
   {
    "duration": 10,
    "start_time": "2022-05-02T07:21:23.017Z"
   },
   {
    "duration": 5,
    "start_time": "2022-05-02T07:21:23.029Z"
   },
   {
    "duration": 11,
    "start_time": "2022-05-02T07:21:23.036Z"
   },
   {
    "duration": 14,
    "start_time": "2022-05-02T07:21:23.048Z"
   },
   {
    "duration": 4,
    "start_time": "2022-05-02T07:21:23.064Z"
   },
   {
    "duration": 30,
    "start_time": "2022-05-02T07:21:23.070Z"
   },
   {
    "duration": 4,
    "start_time": "2022-05-02T07:21:23.102Z"
   },
   {
    "duration": 4,
    "start_time": "2022-05-02T07:21:23.108Z"
   },
   {
    "duration": 267,
    "start_time": "2022-05-02T07:21:23.114Z"
   },
   {
    "duration": 8,
    "start_time": "2022-05-02T07:21:23.383Z"
   },
   {
    "duration": 0,
    "start_time": "2022-05-02T07:21:23.392Z"
   },
   {
    "duration": 0,
    "start_time": "2022-05-02T07:21:23.393Z"
   },
   {
    "duration": 3,
    "start_time": "2022-05-02T07:21:49.529Z"
   },
   {
    "duration": 592,
    "start_time": "2022-05-02T07:21:51.908Z"
   },
   {
    "duration": 3,
    "start_time": "2022-05-02T07:21:56.420Z"
   },
   {
    "duration": 3,
    "start_time": "2022-05-02T07:21:57.871Z"
   },
   {
    "duration": 115,
    "start_time": "2022-05-02T07:22:24.265Z"
   },
   {
    "duration": 4,
    "start_time": "2022-05-02T07:22:52.862Z"
   },
   {
    "duration": 1265,
    "start_time": "2022-05-02T07:22:55.859Z"
   },
   {
    "duration": 3,
    "start_time": "2022-05-02T07:23:11.081Z"
   },
   {
    "duration": 3,
    "start_time": "2022-05-02T07:23:11.207Z"
   },
   {
    "duration": 4,
    "start_time": "2022-05-02T07:23:11.346Z"
   },
   {
    "duration": 1567,
    "start_time": "2022-05-03T01:35:37.134Z"
   },
   {
    "duration": 291,
    "start_time": "2022-05-03T01:35:38.703Z"
   },
   {
    "duration": 4,
    "start_time": "2022-05-03T01:35:38.995Z"
   },
   {
    "duration": 19,
    "start_time": "2022-05-03T01:35:39.006Z"
   },
   {
    "duration": 242,
    "start_time": "2022-05-03T01:35:39.026Z"
   },
   {
    "duration": 92,
    "start_time": "2022-05-03T01:35:39.269Z"
   },
   {
    "duration": 4,
    "start_time": "2022-05-03T01:35:39.363Z"
   },
   {
    "duration": 13,
    "start_time": "2022-05-03T01:35:39.369Z"
   },
   {
    "duration": 142,
    "start_time": "2022-05-03T01:35:39.383Z"
   },
   {
    "duration": 349,
    "start_time": "2022-05-03T01:35:39.528Z"
   },
   {
    "duration": 4,
    "start_time": "2022-05-03T01:35:39.879Z"
   },
   {
    "duration": 33,
    "start_time": "2022-05-03T01:35:39.884Z"
   },
   {
    "duration": 252,
    "start_time": "2022-05-03T01:35:39.919Z"
   },
   {
    "duration": 3,
    "start_time": "2022-05-03T01:35:40.173Z"
   },
   {
    "duration": 373,
    "start_time": "2022-05-03T01:35:40.177Z"
   },
   {
    "duration": 6,
    "start_time": "2022-05-03T01:35:40.552Z"
   },
   {
    "duration": 28,
    "start_time": "2022-05-03T01:35:40.559Z"
   },
   {
    "duration": 120,
    "start_time": "2022-05-03T01:35:40.588Z"
   },
   {
    "duration": 6,
    "start_time": "2022-05-03T01:35:40.710Z"
   },
   {
    "duration": 31,
    "start_time": "2022-05-03T01:35:40.717Z"
   },
   {
    "duration": 5,
    "start_time": "2022-05-03T01:35:40.750Z"
   },
   {
    "duration": 2663,
    "start_time": "2022-05-03T01:35:40.757Z"
   },
   {
    "duration": 4,
    "start_time": "2022-05-03T01:35:43.422Z"
   },
   {
    "duration": 165,
    "start_time": "2022-05-03T01:35:43.428Z"
   },
   {
    "duration": 144,
    "start_time": "2022-05-03T01:35:43.595Z"
   },
   {
    "duration": 149,
    "start_time": "2022-05-03T01:35:43.740Z"
   },
   {
    "duration": 16,
    "start_time": "2022-05-03T01:35:43.891Z"
   },
   {
    "duration": 20,
    "start_time": "2022-05-03T01:35:43.912Z"
   },
   {
    "duration": 13,
    "start_time": "2022-05-03T01:35:43.934Z"
   },
   {
    "duration": 12,
    "start_time": "2022-05-03T01:35:43.949Z"
   },
   {
    "duration": 13,
    "start_time": "2022-05-03T01:35:43.963Z"
   },
   {
    "duration": 178,
    "start_time": "2022-05-03T01:35:44.008Z"
   },
   {
    "duration": 186,
    "start_time": "2022-05-03T01:35:44.187Z"
   },
   {
    "duration": 3,
    "start_time": "2022-05-03T01:35:44.375Z"
   },
   {
    "duration": 1178,
    "start_time": "2022-05-03T01:35:44.379Z"
   },
   {
    "duration": 22,
    "start_time": "2022-05-03T01:35:45.558Z"
   },
   {
    "duration": 37,
    "start_time": "2022-05-03T01:35:45.581Z"
   },
   {
    "duration": 566,
    "start_time": "2022-05-03T01:35:45.620Z"
   },
   {
    "duration": 230,
    "start_time": "2022-05-03T01:35:46.187Z"
   },
   {
    "duration": 19,
    "start_time": "2022-05-03T01:35:46.418Z"
   },
   {
    "duration": 15,
    "start_time": "2022-05-03T01:35:46.438Z"
   },
   {
    "duration": 3,
    "start_time": "2022-05-03T01:35:46.455Z"
   },
   {
    "duration": 567,
    "start_time": "2022-05-03T01:35:46.459Z"
   },
   {
    "duration": 24,
    "start_time": "2022-05-03T01:35:47.027Z"
   },
   {
    "duration": 5,
    "start_time": "2022-05-03T01:35:47.052Z"
   },
   {
    "duration": 14,
    "start_time": "2022-05-03T01:35:47.058Z"
   },
   {
    "duration": 5,
    "start_time": "2022-05-03T01:35:47.073Z"
   },
   {
    "duration": 29,
    "start_time": "2022-05-03T01:35:47.080Z"
   },
   {
    "duration": 16,
    "start_time": "2022-05-03T01:35:47.111Z"
   },
   {
    "duration": 111,
    "start_time": "2022-05-03T01:35:47.129Z"
   },
   {
    "duration": 11,
    "start_time": "2022-05-03T01:35:47.242Z"
   },
   {
    "duration": 11,
    "start_time": "2022-05-03T01:35:47.254Z"
   },
   {
    "duration": 2,
    "start_time": "2022-05-03T01:35:47.267Z"
   },
   {
    "duration": 36,
    "start_time": "2022-05-03T01:35:47.271Z"
   },
   {
    "duration": 13,
    "start_time": "2022-05-03T01:35:47.309Z"
   },
   {
    "duration": 5,
    "start_time": "2022-05-03T01:35:47.323Z"
   },
   {
    "duration": 7,
    "start_time": "2022-05-03T01:35:47.329Z"
   },
   {
    "duration": 6,
    "start_time": "2022-05-03T01:35:47.338Z"
   },
   {
    "duration": 4,
    "start_time": "2022-05-03T01:35:47.346Z"
   },
   {
    "duration": 1155,
    "start_time": "2022-05-03T01:35:47.352Z"
   },
   {
    "duration": 3,
    "start_time": "2022-05-03T01:35:48.510Z"
   },
   {
    "duration": 4,
    "start_time": "2022-05-03T01:35:48.515Z"
   },
   {
    "duration": 1571,
    "start_time": "2022-05-03T01:35:48.520Z"
   },
   {
    "duration": 5,
    "start_time": "2022-05-03T01:35:50.092Z"
   },
   {
    "duration": 11,
    "start_time": "2022-05-03T01:35:50.098Z"
   },
   {
    "duration": 4,
    "start_time": "2022-05-03T01:35:50.111Z"
   },
   {
    "duration": 5,
    "start_time": "2022-05-03T01:37:20.826Z"
   },
   {
    "duration": 763,
    "start_time": "2022-05-03T01:37:59.202Z"
   },
   {
    "duration": 4,
    "start_time": "2022-05-03T01:38:15.288Z"
   },
   {
    "duration": 679,
    "start_time": "2022-05-03T01:38:21.480Z"
   },
   {
    "duration": 5,
    "start_time": "2022-05-03T01:38:33.729Z"
   },
   {
    "duration": 120448,
    "start_time": "2022-05-03T01:38:37.391Z"
   },
   {
    "duration": 4,
    "start_time": "2022-05-03T01:43:46.472Z"
   },
   {
    "duration": 4,
    "start_time": "2022-05-03T01:43:49.763Z"
   },
   {
    "duration": 4,
    "start_time": "2022-05-03T01:43:55.409Z"
   },
   {
    "duration": 4,
    "start_time": "2022-05-03T01:43:59.946Z"
   },
   {
    "duration": 4,
    "start_time": "2022-05-03T01:44:07.052Z"
   },
   {
    "duration": 8,
    "start_time": "2022-05-03T01:48:15.452Z"
   },
   {
    "duration": 9,
    "start_time": "2022-05-03T01:50:00.340Z"
   },
   {
    "duration": 1204,
    "start_time": "2022-05-03T01:55:40.608Z"
   },
   {
    "duration": 4,
    "start_time": "2022-05-03T01:55:42.825Z"
   },
   {
    "duration": 3,
    "start_time": "2022-05-03T01:55:43.525Z"
   },
   {
    "duration": 2310,
    "start_time": "2022-05-03T01:56:59.252Z"
   },
   {
    "duration": 4,
    "start_time": "2022-05-03T01:57:15.571Z"
   },
   {
    "duration": 1415,
    "start_time": "2022-05-03T01:57:19.743Z"
   },
   {
    "duration": 4,
    "start_time": "2022-05-03T01:57:22.655Z"
   },
   {
    "duration": 4,
    "start_time": "2022-05-03T01:57:23.200Z"
   },
   {
    "duration": 4,
    "start_time": "2022-05-03T01:57:24.623Z"
   },
   {
    "duration": 2299,
    "start_time": "2022-05-03T01:57:30.614Z"
   },
   {
    "duration": 5,
    "start_time": "2022-05-03T01:57:44.534Z"
   },
   {
    "duration": 3,
    "start_time": "2022-05-03T01:57:45.131Z"
   },
   {
    "duration": 4,
    "start_time": "2022-05-03T01:57:46.182Z"
   },
   {
    "duration": 195982,
    "start_time": "2022-05-03T01:58:54.065Z"
   },
   {
    "duration": 4,
    "start_time": "2022-05-03T02:05:11.872Z"
   },
   {
    "duration": 4,
    "start_time": "2022-05-03T02:05:12.019Z"
   },
   {
    "duration": 4,
    "start_time": "2022-05-03T02:05:18.791Z"
   },
   {
    "duration": 3,
    "start_time": "2022-05-03T02:05:24.649Z"
   },
   {
    "duration": 9,
    "start_time": "2022-05-03T02:06:15.637Z"
   },
   {
    "duration": 10,
    "start_time": "2022-05-03T02:14:36.219Z"
   },
   {
    "duration": 3,
    "start_time": "2022-05-03T02:18:40.998Z"
   },
   {
    "duration": 30,
    "start_time": "2022-05-03T02:27:14.545Z"
   },
   {
    "duration": 55,
    "start_time": "2022-05-03T02:33:18.145Z"
   },
   {
    "duration": 52,
    "start_time": "2022-05-03T02:36:23.451Z"
   },
   {
    "duration": 10,
    "start_time": "2022-05-03T02:38:44.921Z"
   },
   {
    "duration": 10,
    "start_time": "2022-05-03T02:39:40.994Z"
   },
   {
    "duration": 1188,
    "start_time": "2022-05-03T02:39:46.220Z"
   },
   {
    "duration": 4,
    "start_time": "2022-05-03T02:39:49.942Z"
   },
   {
    "duration": 4,
    "start_time": "2022-05-03T02:39:50.905Z"
   },
   {
    "duration": 983,
    "start_time": "2022-05-03T02:39:55.533Z"
   },
   {
    "duration": 4,
    "start_time": "2022-05-03T02:39:56.609Z"
   },
   {
    "duration": 3,
    "start_time": "2022-05-03T02:39:56.741Z"
   },
   {
    "duration": 9,
    "start_time": "2022-05-03T02:40:00.860Z"
   },
   {
    "duration": 1533,
    "start_time": "2022-05-03T03:00:07.982Z"
   },
   {
    "duration": 301,
    "start_time": "2022-05-03T03:00:09.517Z"
   },
   {
    "duration": 5,
    "start_time": "2022-05-03T03:00:09.819Z"
   },
   {
    "duration": 21,
    "start_time": "2022-05-03T03:00:09.826Z"
   },
   {
    "duration": 263,
    "start_time": "2022-05-03T03:00:09.849Z"
   },
   {
    "duration": 97,
    "start_time": "2022-05-03T03:00:10.113Z"
   },
   {
    "duration": 4,
    "start_time": "2022-05-03T03:00:10.212Z"
   },
   {
    "duration": 15,
    "start_time": "2022-05-03T03:00:10.217Z"
   },
   {
    "duration": 155,
    "start_time": "2022-05-03T03:00:10.233Z"
   },
   {
    "duration": 387,
    "start_time": "2022-05-03T03:00:10.391Z"
   },
   {
    "duration": 4,
    "start_time": "2022-05-03T03:00:10.780Z"
   },
   {
    "duration": 29,
    "start_time": "2022-05-03T03:00:10.786Z"
   },
   {
    "duration": 265,
    "start_time": "2022-05-03T03:00:10.817Z"
   },
   {
    "duration": 3,
    "start_time": "2022-05-03T03:00:11.084Z"
   },
   {
    "duration": 407,
    "start_time": "2022-05-03T03:00:11.089Z"
   },
   {
    "duration": 11,
    "start_time": "2022-05-03T03:00:11.498Z"
   },
   {
    "duration": 32,
    "start_time": "2022-05-03T03:00:11.511Z"
   },
   {
    "duration": 123,
    "start_time": "2022-05-03T03:00:11.545Z"
   },
   {
    "duration": 6,
    "start_time": "2022-05-03T03:00:11.670Z"
   },
   {
    "duration": 45,
    "start_time": "2022-05-03T03:00:11.678Z"
   },
   {
    "duration": 6,
    "start_time": "2022-05-03T03:00:11.724Z"
   },
   {
    "duration": 2724,
    "start_time": "2022-05-03T03:00:11.732Z"
   },
   {
    "duration": 5,
    "start_time": "2022-05-03T03:00:14.457Z"
   },
   {
    "duration": 172,
    "start_time": "2022-05-03T03:00:14.463Z"
   },
   {
    "duration": 155,
    "start_time": "2022-05-03T03:00:14.637Z"
   },
   {
    "duration": 153,
    "start_time": "2022-05-03T03:00:14.794Z"
   },
   {
    "duration": 9,
    "start_time": "2022-05-03T03:00:14.949Z"
   },
   {
    "duration": 22,
    "start_time": "2022-05-03T03:00:14.963Z"
   },
   {
    "duration": 15,
    "start_time": "2022-05-03T03:00:15.007Z"
   },
   {
    "duration": 13,
    "start_time": "2022-05-03T03:00:15.024Z"
   },
   {
    "duration": 15,
    "start_time": "2022-05-03T03:00:15.039Z"
   },
   {
    "duration": 205,
    "start_time": "2022-05-03T03:00:15.055Z"
   },
   {
    "duration": 199,
    "start_time": "2022-05-03T03:00:15.262Z"
   },
   {
    "duration": 3,
    "start_time": "2022-05-03T03:00:15.463Z"
   },
   {
    "duration": 1250,
    "start_time": "2022-05-03T03:00:15.468Z"
   },
   {
    "duration": 22,
    "start_time": "2022-05-03T03:00:16.720Z"
   },
   {
    "duration": 25,
    "start_time": "2022-05-03T03:00:16.744Z"
   },
   {
    "duration": 596,
    "start_time": "2022-05-03T03:00:16.770Z"
   },
   {
    "duration": 249,
    "start_time": "2022-05-03T03:00:17.367Z"
   },
   {
    "duration": 21,
    "start_time": "2022-05-03T03:00:17.617Z"
   },
   {
    "duration": 17,
    "start_time": "2022-05-03T03:00:17.639Z"
   },
   {
    "duration": 4,
    "start_time": "2022-05-03T03:00:17.657Z"
   },
   {
    "duration": 597,
    "start_time": "2022-05-03T03:00:17.662Z"
   },
   {
    "duration": 26,
    "start_time": "2022-05-03T03:00:18.260Z"
   },
   {
    "duration": 3,
    "start_time": "2022-05-03T03:00:18.288Z"
   },
   {
    "duration": 24,
    "start_time": "2022-05-03T03:00:18.293Z"
   },
   {
    "duration": 4,
    "start_time": "2022-05-03T03:00:18.319Z"
   },
   {
    "duration": 15,
    "start_time": "2022-05-03T03:00:18.324Z"
   },
   {
    "duration": 124,
    "start_time": "2022-05-03T03:00:18.341Z"
   },
   {
    "duration": 13,
    "start_time": "2022-05-03T03:00:18.467Z"
   },
   {
    "duration": 29,
    "start_time": "2022-05-03T03:00:18.482Z"
   },
   {
    "duration": 13,
    "start_time": "2022-05-03T03:00:18.512Z"
   },
   {
    "duration": 4,
    "start_time": "2022-05-03T03:00:18.527Z"
   },
   {
    "duration": 12,
    "start_time": "2022-05-03T03:00:18.533Z"
   },
   {
    "duration": 14,
    "start_time": "2022-05-03T03:00:18.547Z"
   },
   {
    "duration": 5,
    "start_time": "2022-05-03T03:00:18.562Z"
   },
   {
    "duration": 5,
    "start_time": "2022-05-03T03:00:18.568Z"
   },
   {
    "duration": 37,
    "start_time": "2022-05-03T03:00:18.575Z"
   },
   {
    "duration": 7,
    "start_time": "2022-05-03T03:00:18.613Z"
   },
   {
    "duration": 591,
    "start_time": "2022-05-03T03:00:18.622Z"
   },
   {
    "duration": 94,
    "start_time": "2022-05-03T03:00:19.215Z"
   },
   {
    "duration": 16,
    "start_time": "2022-05-03T03:00:19.311Z"
   },
   {
    "duration": 1475,
    "start_time": "2022-05-03T03:00:19.329Z"
   },
   {
    "duration": 4,
    "start_time": "2022-05-03T03:00:20.806Z"
   },
   {
    "duration": 11,
    "start_time": "2022-05-03T03:00:20.812Z"
   },
   {
    "duration": 8,
    "start_time": "2022-05-03T03:00:20.824Z"
   },
   {
    "duration": 121304,
    "start_time": "2022-05-03T03:00:20.834Z"
   },
   {
    "duration": 4,
    "start_time": "2022-05-03T03:02:22.139Z"
   },
   {
    "duration": 6,
    "start_time": "2022-05-03T03:02:22.145Z"
   },
   {
    "duration": 4,
    "start_time": "2022-05-03T03:02:22.153Z"
   },
   {
    "duration": 10,
    "start_time": "2022-05-03T03:02:22.159Z"
   },
   {
    "duration": 10,
    "start_time": "2022-05-03T03:02:22.170Z"
   },
   {
    "duration": 1428,
    "start_time": "2022-05-03T03:02:22.182Z"
   },
   {
    "duration": 5,
    "start_time": "2022-05-03T03:02:23.612Z"
   },
   {
    "duration": 6,
    "start_time": "2022-05-03T03:02:23.618Z"
   },
   {
    "duration": 2442,
    "start_time": "2022-05-03T03:02:23.626Z"
   },
   {
    "duration": 4,
    "start_time": "2022-05-03T03:02:26.070Z"
   },
   {
    "duration": 4,
    "start_time": "2022-05-03T03:02:26.076Z"
   },
   {
    "duration": 5,
    "start_time": "2022-05-03T03:02:26.082Z"
   },
   {
    "duration": 196042,
    "start_time": "2022-05-03T03:02:26.089Z"
   },
   {
    "duration": 3,
    "start_time": "2022-05-03T03:05:42.133Z"
   },
   {
    "duration": 3,
    "start_time": "2022-05-03T03:05:42.142Z"
   },
   {
    "duration": 5,
    "start_time": "2022-05-03T03:05:42.146Z"
   },
   {
    "duration": 5,
    "start_time": "2022-05-03T03:05:42.153Z"
   },
   {
    "duration": 9,
    "start_time": "2022-05-03T03:05:42.159Z"
   },
   {
    "duration": 38,
    "start_time": "2022-05-03T03:05:42.170Z"
   },
   {
    "duration": 54,
    "start_time": "2022-05-03T03:05:42.210Z"
   },
   {
    "duration": 168460,
    "start_time": "2022-05-03T07:10:50.229Z"
   },
   {
    "duration": 409,
    "start_time": "2022-05-03T07:13:38.692Z"
   },
   {
    "duration": 5,
    "start_time": "2022-05-03T07:13:39.103Z"
   },
   {
    "duration": 19,
    "start_time": "2022-05-03T07:13:39.154Z"
   },
   {
    "duration": 243,
    "start_time": "2022-05-03T07:13:39.175Z"
   },
   {
    "duration": 104,
    "start_time": "2022-05-03T07:13:39.420Z"
   },
   {
    "duration": 4,
    "start_time": "2022-05-03T07:13:39.525Z"
   },
   {
    "duration": 62,
    "start_time": "2022-05-03T07:13:39.531Z"
   },
   {
    "duration": 167,
    "start_time": "2022-05-03T07:13:39.596Z"
   },
   {
    "duration": 417,
    "start_time": "2022-05-03T07:13:39.767Z"
   },
   {
    "duration": 5,
    "start_time": "2022-05-03T07:13:40.185Z"
   },
   {
    "duration": 79,
    "start_time": "2022-05-03T07:13:40.192Z"
   },
   {
    "duration": 341,
    "start_time": "2022-05-03T07:13:40.274Z"
   },
   {
    "duration": 3,
    "start_time": "2022-05-03T07:13:40.617Z"
   },
   {
    "duration": 437,
    "start_time": "2022-05-03T07:13:40.622Z"
   },
   {
    "duration": 5,
    "start_time": "2022-05-03T07:13:41.061Z"
   },
   {
    "duration": 59,
    "start_time": "2022-05-03T07:13:41.067Z"
   },
   {
    "duration": 112,
    "start_time": "2022-05-03T07:14:23.754Z"
   },
   {
    "duration": 13,
    "start_time": "2022-05-03T07:14:24.532Z"
   },
   {
    "duration": 168,
    "start_time": "2022-05-03T07:14:33.776Z"
   },
   {
    "duration": 6,
    "start_time": "2022-05-03T07:14:34.439Z"
   },
   {
    "duration": 31,
    "start_time": "2022-05-03T07:14:35.471Z"
   },
   {
    "duration": 6,
    "start_time": "2022-05-03T07:14:36.976Z"
   },
   {
    "duration": 2372,
    "start_time": "2022-05-03T07:14:37.175Z"
   },
   {
    "duration": 4,
    "start_time": "2022-05-03T07:14:39.554Z"
   },
   {
    "duration": 204,
    "start_time": "2022-05-03T07:14:39.560Z"
   },
   {
    "duration": 149,
    "start_time": "2022-05-03T07:14:39.766Z"
   },
   {
    "duration": 145,
    "start_time": "2022-05-03T07:14:39.917Z"
   },
   {
    "duration": 10,
    "start_time": "2022-05-03T07:14:40.771Z"
   },
   {
    "duration": 20,
    "start_time": "2022-05-03T07:14:41.382Z"
   },
   {
    "duration": 15,
    "start_time": "2022-05-03T07:14:41.757Z"
   },
   {
    "duration": 13,
    "start_time": "2022-05-03T07:14:42.431Z"
   },
   {
    "duration": 14,
    "start_time": "2022-05-03T07:15:24.060Z"
   },
   {
    "duration": 155,
    "start_time": "2022-05-03T07:15:24.634Z"
   },
   {
    "duration": 166,
    "start_time": "2022-05-03T07:15:57.657Z"
   },
   {
    "duration": 4,
    "start_time": "2022-05-03T07:16:24.244Z"
   },
   {
    "duration": 1138,
    "start_time": "2022-05-03T07:16:24.903Z"
   },
   {
    "duration": 25,
    "start_time": "2022-05-03T07:16:26.043Z"
   },
   {
    "duration": 22,
    "start_time": "2022-05-03T07:16:26.170Z"
   },
   {
    "duration": 518,
    "start_time": "2022-05-03T07:16:27.799Z"
   },
   {
    "duration": 205,
    "start_time": "2022-05-03T07:16:28.419Z"
   },
   {
    "duration": 21,
    "start_time": "2022-05-03T07:16:29.953Z"
   },
   {
    "duration": 17,
    "start_time": "2022-05-03T07:16:32.858Z"
   },
   {
    "duration": 4,
    "start_time": "2022-05-03T07:16:33.315Z"
   },
   {
    "duration": 586,
    "start_time": "2022-05-03T07:16:34.698Z"
   },
   {
    "duration": 25,
    "start_time": "2022-05-03T07:16:35.558Z"
   },
   {
    "duration": 5,
    "start_time": "2022-05-03T07:16:35.763Z"
   },
   {
    "duration": 13,
    "start_time": "2022-05-03T07:16:36.015Z"
   },
   {
    "duration": 4,
    "start_time": "2022-05-03T07:16:36.242Z"
   },
   {
    "duration": 4,
    "start_time": "2022-05-03T07:17:09.974Z"
   },
   {
    "duration": 10,
    "start_time": "2022-05-03T08:12:09.260Z"
   },
   {
    "duration": 12,
    "start_time": "2022-05-03T08:12:30.708Z"
   },
   {
    "duration": 15,
    "start_time": "2022-05-03T08:12:31.590Z"
   },
   {
    "duration": 3,
    "start_time": "2022-05-03T08:12:32.388Z"
   },
   {
    "duration": 7,
    "start_time": "2022-05-03T08:12:33.241Z"
   },
   {
    "duration": 7,
    "start_time": "2022-05-03T08:12:43.546Z"
   },
   {
    "duration": 116,
    "start_time": "2022-05-04T02:19:52.466Z"
   },
   {
    "duration": 49,
    "start_time": "2022-05-04T02:53:49.292Z"
   },
   {
    "duration": 8,
    "start_time": "2022-05-04T02:53:57.566Z"
   },
   {
    "duration": 2554,
    "start_time": "2022-05-04T02:54:00.967Z"
   },
   {
    "duration": 529,
    "start_time": "2022-05-04T02:54:04.254Z"
   },
   {
    "duration": 71,
    "start_time": "2022-05-04T02:54:09.268Z"
   },
   {
    "duration": 116,
    "start_time": "2022-05-04T02:54:42.766Z"
   },
   {
    "duration": 129,
    "start_time": "2022-05-04T02:55:07.896Z"
   },
   {
    "duration": 75,
    "start_time": "2022-05-04T02:55:11.586Z"
   },
   {
    "duration": 71,
    "start_time": "2022-05-04T02:55:23.257Z"
   },
   {
    "duration": 73,
    "start_time": "2022-05-04T02:55:34.003Z"
   },
   {
    "duration": 73,
    "start_time": "2022-05-04T02:56:27.576Z"
   },
   {
    "duration": 15,
    "start_time": "2022-05-04T02:57:05.763Z"
   },
   {
    "duration": 386,
    "start_time": "2022-05-04T02:57:15.030Z"
   },
   {
    "duration": 18,
    "start_time": "2022-05-04T02:57:40.674Z"
   },
   {
    "duration": 66,
    "start_time": "2022-05-04T02:57:45.072Z"
   },
   {
    "duration": 81,
    "start_time": "2022-05-04T02:58:01.892Z"
   },
   {
    "duration": 63,
    "start_time": "2022-05-04T02:58:11.259Z"
   },
   {
    "duration": 65,
    "start_time": "2022-05-04T02:58:22.547Z"
   },
   {
    "duration": 56,
    "start_time": "2022-05-04T02:58:47.011Z"
   },
   {
    "duration": 54,
    "start_time": "2022-05-04T02:59:14.135Z"
   },
   {
    "duration": 5,
    "start_time": "2022-05-04T03:06:10.356Z"
   },
   {
    "duration": 1880,
    "start_time": "2022-05-04T03:06:21.608Z"
   },
   {
    "duration": 3,
    "start_time": "2022-05-04T03:06:53.818Z"
   },
   {
    "duration": 1201,
    "start_time": "2022-05-04T03:07:35.881Z"
   },
   {
    "duration": 56,
    "start_time": "2022-05-04T03:07:38.150Z"
   },
   {
    "duration": 14,
    "start_time": "2022-05-04T03:07:39.212Z"
   },
   {
    "duration": 1815,
    "start_time": "2022-05-04T03:08:30.911Z"
   },
   {
    "duration": 14,
    "start_time": "2022-05-04T03:08:48.050Z"
   },
   {
    "duration": 13,
    "start_time": "2022-05-04T03:09:19.487Z"
   },
   {
    "duration": 14,
    "start_time": "2022-05-04T03:09:40.602Z"
   },
   {
    "duration": 38,
    "start_time": "2022-05-04T03:10:48.283Z"
   },
   {
    "duration": 31,
    "start_time": "2022-05-04T03:11:46.756Z"
   },
   {
    "duration": 30,
    "start_time": "2022-05-04T03:12:05.131Z"
   },
   {
    "duration": 106,
    "start_time": "2022-05-04T03:12:40.745Z"
   },
   {
    "duration": 102,
    "start_time": "2022-05-04T03:25:42.903Z"
   },
   {
    "duration": 1929,
    "start_time": "2022-05-04T03:51:38.968Z"
   },
   {
    "duration": 404,
    "start_time": "2022-05-04T03:51:40.899Z"
   },
   {
    "duration": 4,
    "start_time": "2022-05-04T03:51:41.305Z"
   },
   {
    "duration": 22,
    "start_time": "2022-05-04T03:51:41.312Z"
   },
   {
    "duration": 289,
    "start_time": "2022-05-04T03:51:41.335Z"
   },
   {
    "duration": 127,
    "start_time": "2022-05-04T03:51:41.626Z"
   },
   {
    "duration": 4,
    "start_time": "2022-05-04T03:51:41.755Z"
   },
   {
    "duration": 15,
    "start_time": "2022-05-04T03:51:41.760Z"
   },
   {
    "duration": 131,
    "start_time": "2022-05-04T03:51:41.777Z"
   },
   {
    "duration": 355,
    "start_time": "2022-05-04T03:51:41.911Z"
   },
   {
    "duration": 4,
    "start_time": "2022-05-04T03:51:42.267Z"
   },
   {
    "duration": 28,
    "start_time": "2022-05-04T03:51:42.273Z"
   },
   {
    "duration": 236,
    "start_time": "2022-05-04T03:51:42.303Z"
   },
   {
    "duration": 4,
    "start_time": "2022-05-04T03:51:42.540Z"
   },
   {
    "duration": 386,
    "start_time": "2022-05-04T03:51:42.545Z"
   },
   {
    "duration": 5,
    "start_time": "2022-05-04T03:51:42.933Z"
   },
   {
    "duration": 28,
    "start_time": "2022-05-04T03:51:42.939Z"
   },
   {
    "duration": 114,
    "start_time": "2022-05-04T03:51:42.969Z"
   },
   {
    "duration": 9,
    "start_time": "2022-05-04T03:51:43.085Z"
   },
   {
    "duration": 37,
    "start_time": "2022-05-04T03:51:43.095Z"
   },
   {
    "duration": 6,
    "start_time": "2022-05-04T03:51:43.134Z"
   },
   {
    "duration": 2476,
    "start_time": "2022-05-04T03:51:43.141Z"
   },
   {
    "duration": 3,
    "start_time": "2022-05-04T03:51:45.619Z"
   },
   {
    "duration": 269,
    "start_time": "2022-05-04T03:51:45.624Z"
   },
   {
    "duration": 147,
    "start_time": "2022-05-04T03:51:45.895Z"
   },
   {
    "duration": 146,
    "start_time": "2022-05-04T03:51:46.044Z"
   },
   {
    "duration": 8,
    "start_time": "2022-05-04T03:51:46.192Z"
   },
   {
    "duration": 19,
    "start_time": "2022-05-04T03:51:46.205Z"
   },
   {
    "duration": 13,
    "start_time": "2022-05-04T03:51:46.225Z"
   },
   {
    "duration": 11,
    "start_time": "2022-05-04T03:51:46.240Z"
   },
   {
    "duration": 46,
    "start_time": "2022-05-04T03:51:46.253Z"
   },
   {
    "duration": 159,
    "start_time": "2022-05-04T03:51:46.301Z"
   },
   {
    "duration": 173,
    "start_time": "2022-05-04T03:51:46.461Z"
   },
   {
    "duration": 3,
    "start_time": "2022-05-04T03:51:46.636Z"
   },
   {
    "duration": 1222,
    "start_time": "2022-05-04T03:51:46.641Z"
   },
   {
    "duration": 28,
    "start_time": "2022-05-04T03:51:47.865Z"
   },
   {
    "duration": 22,
    "start_time": "2022-05-04T03:51:47.894Z"
   },
   {
    "duration": 523,
    "start_time": "2022-05-04T03:51:47.917Z"
   },
   {
    "duration": 225,
    "start_time": "2022-05-04T03:51:48.442Z"
   },
   {
    "duration": 30,
    "start_time": "2022-05-04T03:51:48.669Z"
   },
   {
    "duration": 17,
    "start_time": "2022-05-04T03:51:48.701Z"
   },
   {
    "duration": 4,
    "start_time": "2022-05-04T03:51:48.720Z"
   },
   {
    "duration": 535,
    "start_time": "2022-05-04T03:51:48.726Z"
   },
   {
    "duration": 37,
    "start_time": "2022-05-04T03:51:49.263Z"
   },
   {
    "duration": 5,
    "start_time": "2022-05-04T03:51:49.302Z"
   },
   {
    "duration": 15,
    "start_time": "2022-05-04T03:51:49.309Z"
   },
   {
    "duration": 4,
    "start_time": "2022-05-04T03:51:49.326Z"
   },
   {
    "duration": 1222,
    "start_time": "2022-05-04T03:51:49.332Z"
   },
   {
    "duration": 140,
    "start_time": "2022-05-04T03:51:50.556Z"
   },
   {
    "duration": 4,
    "start_time": "2022-05-04T03:51:50.698Z"
   },
   {
    "duration": 17,
    "start_time": "2022-05-04T03:51:50.704Z"
   },
   {
    "duration": 14,
    "start_time": "2022-05-04T03:51:50.723Z"
   },
   {
    "duration": 13,
    "start_time": "2022-05-04T03:51:50.739Z"
   },
   {
    "duration": 43,
    "start_time": "2022-05-04T03:51:50.754Z"
   },
   {
    "duration": 4,
    "start_time": "2022-05-04T03:51:50.799Z"
   },
   {
    "duration": 10,
    "start_time": "2022-05-04T03:51:50.805Z"
   },
   {
    "duration": 14,
    "start_time": "2022-05-04T03:51:50.817Z"
   },
   {
    "duration": 11,
    "start_time": "2022-05-04T03:51:50.833Z"
   },
   {
    "duration": 5,
    "start_time": "2022-05-04T03:51:50.846Z"
   },
   {
    "duration": 11,
    "start_time": "2022-05-04T03:51:50.852Z"
   },
   {
    "duration": 3,
    "start_time": "2022-05-04T03:51:50.893Z"
   },
   {
    "duration": 10,
    "start_time": "2022-05-04T03:51:50.898Z"
   },
   {
    "duration": 585,
    "start_time": "2022-05-04T03:51:50.910Z"
   },
   {
    "duration": 5,
    "start_time": "2022-05-04T03:51:51.497Z"
   },
   {
    "duration": 8,
    "start_time": "2022-05-04T03:51:51.592Z"
   },
   {
    "duration": 1419,
    "start_time": "2022-05-04T03:51:51.602Z"
   },
   {
    "duration": 3,
    "start_time": "2022-05-04T03:51:53.023Z"
   },
   {
    "duration": 6,
    "start_time": "2022-05-04T03:51:53.028Z"
   },
   {
    "duration": 5,
    "start_time": "2022-05-04T03:51:53.035Z"
   },
   {
    "duration": 120826,
    "start_time": "2022-05-04T03:51:53.042Z"
   },
   {
    "duration": 5,
    "start_time": "2022-05-04T03:53:53.869Z"
   },
   {
    "duration": 16,
    "start_time": "2022-05-04T03:53:53.876Z"
   },
   {
    "duration": 4,
    "start_time": "2022-05-04T03:53:53.894Z"
   },
   {
    "duration": 4,
    "start_time": "2022-05-04T03:53:53.900Z"
   },
   {
    "duration": 14,
    "start_time": "2022-05-04T03:53:53.906Z"
   },
   {
    "duration": 1372,
    "start_time": "2022-05-04T03:53:53.922Z"
   },
   {
    "duration": 4,
    "start_time": "2022-05-04T03:53:55.296Z"
   },
   {
    "duration": 6,
    "start_time": "2022-05-04T03:53:55.302Z"
   },
   {
    "duration": 2335,
    "start_time": "2022-05-04T03:53:55.309Z"
   },
   {
    "duration": 5,
    "start_time": "2022-05-04T03:53:57.645Z"
   },
   {
    "duration": 5,
    "start_time": "2022-05-04T03:53:57.651Z"
   },
   {
    "duration": 3,
    "start_time": "2022-05-04T03:53:57.662Z"
   },
   {
    "duration": 206625,
    "start_time": "2022-05-04T03:53:57.667Z"
   },
   {
    "duration": 4,
    "start_time": "2022-05-04T03:57:24.295Z"
   },
   {
    "duration": 6,
    "start_time": "2022-05-04T03:57:24.301Z"
   },
   {
    "duration": 6,
    "start_time": "2022-05-04T03:57:24.308Z"
   },
   {
    "duration": 5,
    "start_time": "2022-05-04T03:57:24.316Z"
   },
   {
    "duration": 9,
    "start_time": "2022-05-04T03:57:24.323Z"
   },
   {
    "duration": 11,
    "start_time": "2022-05-04T03:57:24.334Z"
   },
   {
    "duration": 96,
    "start_time": "2022-05-04T03:57:24.347Z"
   },
   {
    "duration": 72,
    "start_time": "2022-05-04T07:50:49.068Z"
   },
   {
    "duration": 7,
    "start_time": "2022-05-04T07:52:02.276Z"
   },
   {
    "duration": 2805,
    "start_time": "2022-05-04T07:52:06.021Z"
   },
   {
    "duration": 6,
    "start_time": "2022-05-04T07:52:10.399Z"
   },
   {
    "duration": 562,
    "start_time": "2022-05-04T07:52:13.419Z"
   },
   {
    "duration": 138,
    "start_time": "2022-05-04T07:55:23.726Z"
   },
   {
    "duration": 3308,
    "start_time": "2022-05-04T07:56:26.945Z"
   },
   {
    "duration": 22,
    "start_time": "2022-05-04T07:57:28.916Z"
   },
   {
    "duration": 20,
    "start_time": "2022-05-04T07:57:44.188Z"
   },
   {
    "duration": 339,
    "start_time": "2022-05-04T07:59:33.428Z"
   },
   {
    "duration": 359,
    "start_time": "2022-05-04T07:59:48.509Z"
   },
   {
    "duration": 345,
    "start_time": "2022-05-04T07:59:54.572Z"
   },
   {
    "duration": 1522,
    "start_time": "2022-05-04T08:37:46.474Z"
   },
   {
    "duration": 310,
    "start_time": "2022-05-04T08:37:47.998Z"
   },
   {
    "duration": 6,
    "start_time": "2022-05-04T08:37:48.310Z"
   },
   {
    "duration": 21,
    "start_time": "2022-05-04T08:37:48.318Z"
   },
   {
    "duration": 270,
    "start_time": "2022-05-04T08:37:48.341Z"
   },
   {
    "duration": 96,
    "start_time": "2022-05-04T08:37:48.612Z"
   },
   {
    "duration": 4,
    "start_time": "2022-05-04T08:37:48.710Z"
   },
   {
    "duration": 17,
    "start_time": "2022-05-04T08:37:48.716Z"
   },
   {
    "duration": 153,
    "start_time": "2022-05-04T08:37:48.735Z"
   },
   {
    "duration": 376,
    "start_time": "2022-05-04T08:37:48.891Z"
   },
   {
    "duration": 4,
    "start_time": "2022-05-04T08:37:49.269Z"
   },
   {
    "duration": 42,
    "start_time": "2022-05-04T08:37:49.275Z"
   },
   {
    "duration": 318,
    "start_time": "2022-05-04T08:37:49.319Z"
   },
   {
    "duration": 4,
    "start_time": "2022-05-04T08:37:49.638Z"
   },
   {
    "duration": 417,
    "start_time": "2022-05-04T08:37:49.643Z"
   },
   {
    "duration": 6,
    "start_time": "2022-05-04T08:37:50.062Z"
   },
   {
    "duration": 52,
    "start_time": "2022-05-04T08:37:50.069Z"
   },
   {
    "duration": 111,
    "start_time": "2022-05-04T08:37:50.122Z"
   },
   {
    "duration": 8,
    "start_time": "2022-05-04T08:37:50.235Z"
   },
   {
    "duration": 34,
    "start_time": "2022-05-04T08:37:50.245Z"
   },
   {
    "duration": 27,
    "start_time": "2022-05-04T08:37:50.281Z"
   },
   {
    "duration": 2841,
    "start_time": "2022-05-04T08:37:50.311Z"
   },
   {
    "duration": 4,
    "start_time": "2022-05-04T08:37:53.154Z"
   },
   {
    "duration": 180,
    "start_time": "2022-05-04T08:37:53.160Z"
   },
   {
    "duration": 160,
    "start_time": "2022-05-04T08:37:53.341Z"
   },
   {
    "duration": 156,
    "start_time": "2022-05-04T08:37:53.503Z"
   },
   {
    "duration": 8,
    "start_time": "2022-05-04T08:37:53.661Z"
   },
   {
    "duration": 37,
    "start_time": "2022-05-04T08:37:53.676Z"
   },
   {
    "duration": 15,
    "start_time": "2022-05-04T08:37:53.716Z"
   },
   {
    "duration": 13,
    "start_time": "2022-05-04T08:37:53.733Z"
   },
   {
    "duration": 13,
    "start_time": "2022-05-04T08:37:53.748Z"
   },
   {
    "duration": 220,
    "start_time": "2022-05-04T08:37:53.763Z"
   },
   {
    "duration": 202,
    "start_time": "2022-05-04T08:37:53.986Z"
   },
   {
    "duration": 4,
    "start_time": "2022-05-04T08:37:54.190Z"
   },
   {
    "duration": 1353,
    "start_time": "2022-05-04T08:37:54.207Z"
   },
   {
    "duration": 24,
    "start_time": "2022-05-04T08:37:55.562Z"
   },
   {
    "duration": 38,
    "start_time": "2022-05-04T08:37:55.587Z"
   },
   {
    "duration": 599,
    "start_time": "2022-05-04T08:37:55.626Z"
   },
   {
    "duration": 254,
    "start_time": "2022-05-04T08:37:56.227Z"
   },
   {
    "duration": 40,
    "start_time": "2022-05-04T08:37:56.483Z"
   },
   {
    "duration": 18,
    "start_time": "2022-05-04T08:37:56.525Z"
   },
   {
    "duration": 5,
    "start_time": "2022-05-04T08:37:56.544Z"
   },
   {
    "duration": 620,
    "start_time": "2022-05-04T08:37:56.551Z"
   },
   {
    "duration": 41,
    "start_time": "2022-05-04T08:37:57.173Z"
   },
   {
    "duration": 4,
    "start_time": "2022-05-04T08:37:57.216Z"
   },
   {
    "duration": 17,
    "start_time": "2022-05-04T08:37:57.223Z"
   },
   {
    "duration": 4,
    "start_time": "2022-05-04T08:37:57.242Z"
   },
   {
    "duration": 1391,
    "start_time": "2022-05-04T08:37:57.248Z"
   },
   {
    "duration": 147,
    "start_time": "2022-05-04T08:37:58.641Z"
   },
   {
    "duration": 6,
    "start_time": "2022-05-04T08:37:58.790Z"
   },
   {
    "duration": 24,
    "start_time": "2022-05-04T08:37:58.798Z"
   },
   {
    "duration": 16,
    "start_time": "2022-05-04T08:37:58.825Z"
   },
   {
    "duration": 13,
    "start_time": "2022-05-04T08:37:58.843Z"
   },
   {
    "duration": 13,
    "start_time": "2022-05-04T08:37:58.858Z"
   },
   {
    "duration": 4,
    "start_time": "2022-05-04T08:37:58.908Z"
   },
   {
    "duration": 14,
    "start_time": "2022-05-04T08:37:58.915Z"
   },
   {
    "duration": 16,
    "start_time": "2022-05-04T08:37:58.931Z"
   },
   {
    "duration": 7,
    "start_time": "2022-05-04T08:37:58.949Z"
   },
   {
    "duration": 7,
    "start_time": "2022-05-04T08:37:58.958Z"
   },
   {
    "duration": 4,
    "start_time": "2022-05-04T08:37:58.967Z"
   },
   {
    "duration": 8,
    "start_time": "2022-05-04T08:37:59.008Z"
   },
   {
    "duration": 303,
    "start_time": "2022-05-04T08:37:59.018Z"
   },
   {
    "duration": 85,
    "start_time": "2022-05-04T08:37:59.324Z"
   },
   {
    "duration": 5,
    "start_time": "2022-05-04T08:37:59.411Z"
   },
   {
    "duration": 1611,
    "start_time": "2022-05-04T08:37:59.419Z"
   },
   {
    "duration": 0,
    "start_time": "2022-05-04T08:38:01.032Z"
   },
   {
    "duration": 0,
    "start_time": "2022-05-04T08:38:01.035Z"
   },
   {
    "duration": 0,
    "start_time": "2022-05-04T08:38:01.036Z"
   },
   {
    "duration": 0,
    "start_time": "2022-05-04T08:38:01.038Z"
   },
   {
    "duration": 0,
    "start_time": "2022-05-04T08:38:01.040Z"
   },
   {
    "duration": 0,
    "start_time": "2022-05-04T08:38:01.041Z"
   },
   {
    "duration": 0,
    "start_time": "2022-05-04T08:38:01.043Z"
   },
   {
    "duration": 1,
    "start_time": "2022-05-04T08:38:01.044Z"
   },
   {
    "duration": 0,
    "start_time": "2022-05-04T08:38:01.046Z"
   },
   {
    "duration": 0,
    "start_time": "2022-05-04T08:38:01.048Z"
   },
   {
    "duration": 0,
    "start_time": "2022-05-04T08:38:01.049Z"
   },
   {
    "duration": 0,
    "start_time": "2022-05-04T08:38:01.051Z"
   },
   {
    "duration": 0,
    "start_time": "2022-05-04T08:38:01.052Z"
   },
   {
    "duration": 0,
    "start_time": "2022-05-04T08:38:01.053Z"
   },
   {
    "duration": 0,
    "start_time": "2022-05-04T08:38:01.054Z"
   },
   {
    "duration": 0,
    "start_time": "2022-05-04T08:38:01.057Z"
   },
   {
    "duration": 0,
    "start_time": "2022-05-04T08:38:01.058Z"
   },
   {
    "duration": 1,
    "start_time": "2022-05-04T08:38:01.059Z"
   },
   {
    "duration": 0,
    "start_time": "2022-05-04T08:38:01.061Z"
   },
   {
    "duration": 0,
    "start_time": "2022-05-04T08:38:01.063Z"
   },
   {
    "duration": 0,
    "start_time": "2022-05-04T08:38:01.065Z"
   },
   {
    "duration": 0,
    "start_time": "2022-05-04T08:38:01.108Z"
   },
   {
    "duration": 0,
    "start_time": "2022-05-04T08:38:01.110Z"
   },
   {
    "duration": 0,
    "start_time": "2022-05-04T08:38:01.111Z"
   },
   {
    "duration": 1564,
    "start_time": "2022-05-04T08:55:48.824Z"
   },
   {
    "duration": 288,
    "start_time": "2022-05-04T08:55:50.390Z"
   },
   {
    "duration": 4,
    "start_time": "2022-05-04T08:55:50.680Z"
   },
   {
    "duration": 34,
    "start_time": "2022-05-04T08:55:50.687Z"
   },
   {
    "duration": 281,
    "start_time": "2022-05-04T08:55:50.723Z"
   },
   {
    "duration": 118,
    "start_time": "2022-05-04T08:55:51.005Z"
   },
   {
    "duration": 4,
    "start_time": "2022-05-04T08:55:51.125Z"
   },
   {
    "duration": 17,
    "start_time": "2022-05-04T08:55:51.131Z"
   },
   {
    "duration": 159,
    "start_time": "2022-05-04T08:55:51.150Z"
   },
   {
    "duration": 359,
    "start_time": "2022-05-04T08:55:51.312Z"
   },
   {
    "duration": 4,
    "start_time": "2022-05-04T08:55:51.673Z"
   },
   {
    "duration": 38,
    "start_time": "2022-05-04T08:55:51.679Z"
   },
   {
    "duration": 299,
    "start_time": "2022-05-04T08:55:51.719Z"
   },
   {
    "duration": 4,
    "start_time": "2022-05-04T08:55:52.020Z"
   },
   {
    "duration": 424,
    "start_time": "2022-05-04T08:55:52.026Z"
   },
   {
    "duration": 6,
    "start_time": "2022-05-04T08:55:52.452Z"
   },
   {
    "duration": 49,
    "start_time": "2022-05-04T08:55:52.460Z"
   },
   {
    "duration": 115,
    "start_time": "2022-05-04T08:55:52.510Z"
   },
   {
    "duration": 7,
    "start_time": "2022-05-04T08:55:52.627Z"
   },
   {
    "duration": 36,
    "start_time": "2022-05-04T08:55:52.636Z"
   },
   {
    "duration": 6,
    "start_time": "2022-05-04T08:55:52.674Z"
   },
   {
    "duration": 2810,
    "start_time": "2022-05-04T08:55:52.682Z"
   },
   {
    "duration": 5,
    "start_time": "2022-05-04T08:55:55.493Z"
   },
   {
    "duration": 182,
    "start_time": "2022-05-04T08:55:55.500Z"
   },
   {
    "duration": 151,
    "start_time": "2022-05-04T08:55:55.684Z"
   },
   {
    "duration": 161,
    "start_time": "2022-05-04T08:55:55.837Z"
   },
   {
    "duration": 13,
    "start_time": "2022-05-04T08:55:56.000Z"
   },
   {
    "duration": 22,
    "start_time": "2022-05-04T08:55:56.018Z"
   },
   {
    "duration": 14,
    "start_time": "2022-05-04T08:55:56.042Z"
   },
   {
    "duration": 16,
    "start_time": "2022-05-04T08:55:56.058Z"
   },
   {
    "duration": 45,
    "start_time": "2022-05-04T08:55:56.076Z"
   },
   {
    "duration": 214,
    "start_time": "2022-05-04T08:55:56.123Z"
   },
   {
    "duration": 212,
    "start_time": "2022-05-04T08:55:56.340Z"
   },
   {
    "duration": 4,
    "start_time": "2022-05-04T08:55:56.554Z"
   },
   {
    "duration": 1316,
    "start_time": "2022-05-04T08:55:56.560Z"
   },
   {
    "duration": 39,
    "start_time": "2022-05-04T08:55:57.878Z"
   },
   {
    "duration": 26,
    "start_time": "2022-05-04T08:55:57.920Z"
   },
   {
    "duration": 659,
    "start_time": "2022-05-04T08:55:57.948Z"
   },
   {
    "duration": 263,
    "start_time": "2022-05-04T08:55:58.609Z"
   },
   {
    "duration": 21,
    "start_time": "2022-05-04T08:55:58.874Z"
   },
   {
    "duration": 18,
    "start_time": "2022-05-04T08:55:58.909Z"
   },
   {
    "duration": 4,
    "start_time": "2022-05-04T08:55:58.929Z"
   },
   {
    "duration": 634,
    "start_time": "2022-05-04T08:55:58.935Z"
   },
   {
    "duration": 39,
    "start_time": "2022-05-04T08:55:59.571Z"
   },
   {
    "duration": 4,
    "start_time": "2022-05-04T08:55:59.612Z"
   },
   {
    "duration": 14,
    "start_time": "2022-05-04T08:55:59.618Z"
   },
   {
    "duration": 5,
    "start_time": "2022-05-04T08:55:59.634Z"
   },
   {
    "duration": 1338,
    "start_time": "2022-05-04T08:55:59.641Z"
   },
   {
    "duration": 143,
    "start_time": "2022-05-04T08:56:00.980Z"
   },
   {
    "duration": 5,
    "start_time": "2022-05-04T08:56:01.125Z"
   },
   {
    "duration": 29,
    "start_time": "2022-05-04T08:56:01.132Z"
   },
   {
    "duration": 21,
    "start_time": "2022-05-04T08:56:01.163Z"
   },
   {
    "duration": 29,
    "start_time": "2022-05-04T08:56:01.187Z"
   },
   {
    "duration": 22,
    "start_time": "2022-05-04T08:56:01.218Z"
   },
   {
    "duration": 10,
    "start_time": "2022-05-04T08:56:01.243Z"
   },
   {
    "duration": 52,
    "start_time": "2022-05-04T08:56:01.255Z"
   },
   {
    "duration": 33,
    "start_time": "2022-05-04T08:56:01.309Z"
   },
   {
    "duration": 9,
    "start_time": "2022-05-04T08:56:01.344Z"
   },
   {
    "duration": 52,
    "start_time": "2022-05-04T08:56:01.355Z"
   },
   {
    "duration": 19,
    "start_time": "2022-05-04T08:56:01.409Z"
   },
   {
    "duration": 15,
    "start_time": "2022-05-04T08:56:01.429Z"
   },
   {
    "duration": 366,
    "start_time": "2022-05-04T08:56:01.445Z"
   },
   {
    "duration": 90,
    "start_time": "2022-05-04T08:56:01.818Z"
   },
   {
    "duration": 5,
    "start_time": "2022-05-04T08:56:01.910Z"
   },
   {
    "duration": 1473,
    "start_time": "2022-05-04T08:56:01.917Z"
   },
   {
    "duration": 4,
    "start_time": "2022-05-04T08:56:03.392Z"
   },
   {
    "duration": 17,
    "start_time": "2022-05-04T08:56:03.398Z"
   },
   {
    "duration": 9,
    "start_time": "2022-05-04T08:56:03.417Z"
   },
   {
    "duration": 124522,
    "start_time": "2022-05-04T08:56:03.428Z"
   },
   {
    "duration": 5,
    "start_time": "2022-05-04T08:58:07.952Z"
   },
   {
    "duration": 7,
    "start_time": "2022-05-04T08:58:07.958Z"
   },
   {
    "duration": 7,
    "start_time": "2022-05-04T08:58:07.967Z"
   },
   {
    "duration": 11,
    "start_time": "2022-05-04T08:58:07.976Z"
   },
   {
    "duration": 11,
    "start_time": "2022-05-04T08:58:08.008Z"
   },
   {
    "duration": 1509,
    "start_time": "2022-05-04T08:58:08.021Z"
   },
   {
    "duration": 6,
    "start_time": "2022-05-04T08:58:09.609Z"
   },
   {
    "duration": 6,
    "start_time": "2022-05-04T08:58:09.617Z"
   },
   {
    "duration": 2573,
    "start_time": "2022-05-04T08:58:09.626Z"
   },
   {
    "duration": 7,
    "start_time": "2022-05-04T08:58:12.202Z"
   },
   {
    "duration": 7,
    "start_time": "2022-05-04T08:58:12.211Z"
   },
   {
    "duration": 12,
    "start_time": "2022-05-04T08:58:12.220Z"
   },
   {
    "duration": 208971,
    "start_time": "2022-05-04T08:58:12.239Z"
   },
   {
    "duration": 5,
    "start_time": "2022-05-04T09:01:41.212Z"
   },
   {
    "duration": 8,
    "start_time": "2022-05-04T09:01:41.219Z"
   },
   {
    "duration": 5,
    "start_time": "2022-05-04T09:01:41.228Z"
   },
   {
    "duration": 5,
    "start_time": "2022-05-04T09:01:41.235Z"
   },
   {
    "duration": 12,
    "start_time": "2022-05-04T09:01:41.242Z"
   },
   {
    "duration": 53,
    "start_time": "2022-05-04T09:01:41.256Z"
   },
   {
    "duration": 58,
    "start_time": "2022-05-04T09:01:41.311Z"
   },
   {
    "duration": 5,
    "start_time": "2022-05-04T09:07:39.329Z"
   },
   {
    "duration": 4,
    "start_time": "2022-05-04T09:10:27.227Z"
   },
   {
    "duration": 33445,
    "start_time": "2022-05-04T09:11:46.260Z"
   },
   {
    "duration": 10,
    "start_time": "2022-05-04T09:12:19.708Z"
   },
   {
    "duration": 0,
    "start_time": "2022-05-04T09:12:19.720Z"
   },
   {
    "duration": 4,
    "start_time": "2022-05-04T09:13:03.897Z"
   },
   {
    "duration": 32630,
    "start_time": "2022-05-04T09:13:15.525Z"
   },
   {
    "duration": 4,
    "start_time": "2022-05-04T09:13:48.157Z"
   },
   {
    "duration": 6,
    "start_time": "2022-05-04T09:13:48.163Z"
   },
   {
    "duration": 12,
    "start_time": "2022-05-04T09:15:27.403Z"
   },
   {
    "duration": 59780,
    "start_time": "2022-05-04T09:17:11.948Z"
   },
   {
    "duration": 5,
    "start_time": "2022-05-04T09:18:11.731Z"
   },
   {
    "duration": 7,
    "start_time": "2022-05-04T09:18:11.738Z"
   },
   {
    "duration": 11,
    "start_time": "2022-05-04T09:18:11.748Z"
   },
   {
    "duration": 9,
    "start_time": "2022-05-04T09:21:00.919Z"
   },
   {
    "duration": 9,
    "start_time": "2022-05-04T09:22:27.168Z"
   },
   {
    "duration": 58,
    "start_time": "2022-05-04T09:23:13.049Z"
   },
   {
    "duration": 1587,
    "start_time": "2022-05-04T09:30:28.270Z"
   },
   {
    "duration": 294,
    "start_time": "2022-05-04T09:30:29.859Z"
   },
   {
    "duration": 5,
    "start_time": "2022-05-04T09:30:30.155Z"
   },
   {
    "duration": 24,
    "start_time": "2022-05-04T09:30:30.162Z"
   },
   {
    "duration": 265,
    "start_time": "2022-05-04T09:30:30.189Z"
   },
   {
    "duration": 96,
    "start_time": "2022-05-04T09:30:30.456Z"
   },
   {
    "duration": 5,
    "start_time": "2022-05-04T09:30:30.554Z"
   },
   {
    "duration": 19,
    "start_time": "2022-05-04T09:30:30.561Z"
   },
   {
    "duration": 169,
    "start_time": "2022-05-04T09:30:30.582Z"
   },
   {
    "duration": 363,
    "start_time": "2022-05-04T09:30:30.753Z"
   },
   {
    "duration": 5,
    "start_time": "2022-05-04T09:30:31.117Z"
   },
   {
    "duration": 23,
    "start_time": "2022-05-04T09:30:31.124Z"
   },
   {
    "duration": 282,
    "start_time": "2022-05-04T09:30:31.149Z"
   },
   {
    "duration": 4,
    "start_time": "2022-05-04T09:30:31.436Z"
   },
   {
    "duration": 420,
    "start_time": "2022-05-04T09:30:31.442Z"
   },
   {
    "duration": 6,
    "start_time": "2022-05-04T09:30:31.863Z"
   },
   {
    "duration": 46,
    "start_time": "2022-05-04T09:30:31.871Z"
   },
   {
    "duration": 108,
    "start_time": "2022-05-04T09:30:31.919Z"
   },
   {
    "duration": 7,
    "start_time": "2022-05-04T09:30:32.029Z"
   },
   {
    "duration": 31,
    "start_time": "2022-05-04T09:30:32.038Z"
   },
   {
    "duration": 6,
    "start_time": "2022-05-04T09:30:32.071Z"
   },
   {
    "duration": 2770,
    "start_time": "2022-05-04T09:30:32.078Z"
   },
   {
    "duration": 3,
    "start_time": "2022-05-04T09:30:34.850Z"
   },
   {
    "duration": 171,
    "start_time": "2022-05-04T09:30:34.856Z"
   },
   {
    "duration": 153,
    "start_time": "2022-05-04T09:30:35.029Z"
   },
   {
    "duration": 159,
    "start_time": "2022-05-04T09:30:35.185Z"
   },
   {
    "duration": 10,
    "start_time": "2022-05-04T09:30:35.346Z"
   },
   {
    "duration": 21,
    "start_time": "2022-05-04T09:30:35.357Z"
   },
   {
    "duration": 37,
    "start_time": "2022-05-04T09:30:35.379Z"
   },
   {
    "duration": 13,
    "start_time": "2022-05-04T09:30:35.418Z"
   },
   {
    "duration": 15,
    "start_time": "2022-05-04T09:30:35.433Z"
   },
   {
    "duration": 208,
    "start_time": "2022-05-04T09:30:35.451Z"
   },
   {
    "duration": 201,
    "start_time": "2022-05-04T09:30:35.661Z"
   },
   {
    "duration": 3,
    "start_time": "2022-05-04T09:30:35.864Z"
   },
   {
    "duration": 1260,
    "start_time": "2022-05-04T09:30:35.869Z"
   },
   {
    "duration": 21,
    "start_time": "2022-05-04T09:30:37.131Z"
   },
   {
    "duration": 26,
    "start_time": "2022-05-04T09:30:37.154Z"
   },
   {
    "duration": 610,
    "start_time": "2022-05-04T09:30:37.182Z"
   },
   {
    "duration": 253,
    "start_time": "2022-05-04T09:30:37.794Z"
   },
   {
    "duration": 21,
    "start_time": "2022-05-04T09:30:38.049Z"
   },
   {
    "duration": 45,
    "start_time": "2022-05-04T09:30:38.075Z"
   },
   {
    "duration": 5,
    "start_time": "2022-05-04T09:30:38.121Z"
   },
   {
    "duration": 612,
    "start_time": "2022-05-04T09:30:38.129Z"
   },
   {
    "duration": 27,
    "start_time": "2022-05-04T09:30:38.743Z"
   },
   {
    "duration": 5,
    "start_time": "2022-05-04T09:30:38.772Z"
   },
   {
    "duration": 39,
    "start_time": "2022-05-04T09:30:38.779Z"
   },
   {
    "duration": 6,
    "start_time": "2022-05-04T09:30:38.821Z"
   },
   {
    "duration": 1302,
    "start_time": "2022-05-04T09:30:38.829Z"
   },
   {
    "duration": 139,
    "start_time": "2022-05-04T09:30:40.133Z"
   },
   {
    "duration": 4,
    "start_time": "2022-05-04T09:30:40.273Z"
   },
   {
    "duration": 28,
    "start_time": "2022-05-04T09:30:40.279Z"
   },
   {
    "duration": 17,
    "start_time": "2022-05-04T09:30:40.310Z"
   },
   {
    "duration": 18,
    "start_time": "2022-05-04T09:30:40.328Z"
   },
   {
    "duration": 16,
    "start_time": "2022-05-04T09:30:40.348Z"
   },
   {
    "duration": 4,
    "start_time": "2022-05-04T09:30:40.366Z"
   },
   {
    "duration": 17,
    "start_time": "2022-05-04T09:30:40.407Z"
   },
   {
    "duration": 17,
    "start_time": "2022-05-04T09:30:40.427Z"
   },
   {
    "duration": 5,
    "start_time": "2022-05-04T09:30:40.446Z"
   },
   {
    "duration": 13,
    "start_time": "2022-05-04T09:30:40.453Z"
   },
   {
    "duration": 5,
    "start_time": "2022-05-04T09:30:40.468Z"
   },
   {
    "duration": 34,
    "start_time": "2022-05-04T09:30:40.474Z"
   },
   {
    "duration": 6,
    "start_time": "2022-05-04T09:30:40.510Z"
   },
   {
    "duration": 491,
    "start_time": "2022-05-04T09:30:40.518Z"
   },
   {
    "duration": 5,
    "start_time": "2022-05-04T09:30:41.011Z"
   },
   {
    "duration": 91,
    "start_time": "2022-05-04T09:30:41.018Z"
   },
   {
    "duration": 1403,
    "start_time": "2022-05-04T09:30:41.112Z"
   },
   {
    "duration": 4,
    "start_time": "2022-05-04T09:30:42.517Z"
   },
   {
    "duration": 5,
    "start_time": "2022-05-04T09:30:42.524Z"
   },
   {
    "duration": 5,
    "start_time": "2022-05-04T09:30:42.532Z"
   },
   {
    "duration": 121207,
    "start_time": "2022-05-04T09:30:42.539Z"
   },
   {
    "duration": 4,
    "start_time": "2022-05-04T09:32:43.748Z"
   },
   {
    "duration": 7,
    "start_time": "2022-05-04T09:32:43.754Z"
   },
   {
    "duration": 6,
    "start_time": "2022-05-04T09:32:43.762Z"
   },
   {
    "duration": 6,
    "start_time": "2022-05-04T09:32:43.770Z"
   },
   {
    "duration": 33045,
    "start_time": "2022-05-04T09:32:43.777Z"
   },
   {
    "duration": 5,
    "start_time": "2022-05-04T09:33:16.824Z"
   },
   {
    "duration": 6,
    "start_time": "2022-05-04T09:33:16.831Z"
   },
   {
    "duration": 10,
    "start_time": "2022-05-04T09:33:16.839Z"
   },
   {
    "duration": 657,
    "start_time": "2022-05-04T09:33:16.851Z"
   },
   {
    "duration": 5,
    "start_time": "2022-05-04T09:33:17.511Z"
   },
   {
    "duration": 91,
    "start_time": "2022-05-04T09:33:17.518Z"
   },
   {
    "duration": 2553,
    "start_time": "2022-05-04T09:33:17.611Z"
   },
   {
    "duration": 5,
    "start_time": "2022-05-04T09:33:20.166Z"
   },
   {
    "duration": 7,
    "start_time": "2022-05-04T09:33:20.173Z"
   },
   {
    "duration": 6,
    "start_time": "2022-05-04T09:33:20.183Z"
   },
   {
    "duration": 206899,
    "start_time": "2022-05-04T09:33:20.208Z"
   },
   {
    "duration": 5,
    "start_time": "2022-05-04T09:36:47.109Z"
   },
   {
    "duration": 7,
    "start_time": "2022-05-04T09:36:47.116Z"
   },
   {
    "duration": 6,
    "start_time": "2022-05-04T09:36:47.125Z"
   },
   {
    "duration": 5,
    "start_time": "2022-05-04T09:36:47.133Z"
   },
   {
    "duration": 57019,
    "start_time": "2022-05-04T09:36:47.140Z"
   },
   {
    "duration": 5,
    "start_time": "2022-05-04T09:37:44.160Z"
   },
   {
    "duration": 6,
    "start_time": "2022-05-04T09:37:44.167Z"
   },
   {
    "duration": 11,
    "start_time": "2022-05-04T09:37:44.175Z"
   },
   {
    "duration": 10,
    "start_time": "2022-05-04T09:37:44.207Z"
   },
   {
    "duration": 57,
    "start_time": "2022-05-04T09:37:44.219Z"
   }
  ],
  "kernelspec": {
   "display_name": "Python 3 (ipykernel)",
   "language": "python",
   "name": "python3"
  },
  "language_info": {
   "codemirror_mode": {
    "name": "ipython",
    "version": 3
   },
   "file_extension": ".py",
   "mimetype": "text/x-python",
   "name": "python",
   "nbconvert_exporter": "python",
   "pygments_lexer": "ipython3",
   "version": "3.9.5"
  },
  "toc": {
   "base_numbering": 1,
   "nav_menu": {},
   "number_sections": true,
   "sideBar": true,
   "skip_h1_title": true,
   "title_cell": "Содержание",
   "title_sidebar": "Contents",
   "toc_cell": true,
   "toc_position": {
    "height": "calc(100% - 180px)",
    "left": "10px",
    "top": "150px",
    "width": "289.587px"
   },
   "toc_section_display": true,
   "toc_window_display": true
  }
 },
 "nbformat": 4,
 "nbformat_minor": 2
}
