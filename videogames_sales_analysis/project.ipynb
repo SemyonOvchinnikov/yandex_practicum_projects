{
 "cells": [
  {
   "cell_type": "markdown",
   "id": "4c5f52a7",
   "metadata": {},
   "source": [
    "# Анализ данных о продажах видеоигр"
   ]
  },
  {
   "cell_type": "markdown",
   "id": "1db8449d",
   "metadata": {},
   "source": [
    "## Введение"
   ]
  },
  {
   "cell_type": "markdown",
   "id": "6c6b7d0f",
   "metadata": {},
   "source": [
    "Интернет-магазин «Стримчик» продаёт по всему миру\n",
    "компьютерные игры. Из открытых источников доступны исторические данные о\n",
    "продажах игр, оценки пользователей и экспертов, жанры и платформы\n",
    "(например, Xbox или PlayStation). Необходимо выявить определяющие успешность\n",
    "игры закономерности. Это позволит сделать ставку на потенциально популярный\n",
    "продукт и спланировать рекламные кампании.\n",
    "Предоставлены данные до 2016 года, сейчас декабрь 2016 г., и планируется кампания на 2017-й.\n",
    "\n",
    "Примечание:\n",
    "В наборе данных попадается аббревиатура ESRB (Entertainment Software Rating\n",
    "Board) — это ассоциация, определяющая возрастной рейтинг компьютерных\n",
    "игр. ESRB оценивает игровой контент и присваивает ему подходящую возрастную\n",
    "категорию, например, «Для взрослых», «Для детей младшего возраста» или «Для\n",
    "подростков»."
   ]
  },
  {
   "cell_type": "markdown",
   "id": "d8bfb02c",
   "metadata": {},
   "source": [
    "\n",
    "План исследования:\n",
    "* Подготовка данных;\n",
    "* Исследование данных в разрезе периодов, платформ;\n",
    "* Выбор актуального периода для анализа и поиск наиболее перспективных платформ и жанров;\n",
    "* Портрет пользователя по регионам;\n",
    "* Проверка гипотез."
   ]
  },
  {
   "cell_type": "markdown",
   "id": "3be5d084",
   "metadata": {},
   "source": [
    "## Изучение данных"
   ]
  },
  {
   "cell_type": "code",
   "execution_count": 1,
   "id": "c9c5e17a",
   "metadata": {},
   "outputs": [],
   "source": [
    "import pandas as pd\n",
    "import re\n",
    "import datetime as dt\n",
    "import numpy as np\n",
    "\n",
    "import matplotlib.pyplot as plt\n",
    "import seaborn as sns\n",
    "\n",
    "from scipy import stats as st"
   ]
  },
  {
   "cell_type": "code",
   "execution_count": null,
   "id": "54eb7a73",
   "metadata": {},
   "outputs": [
    {
     "data": {
      "text/html": [
       "<div>\n",
       "<style scoped>\n",
       "    .dataframe tbody tr th:only-of-type {\n",
       "        vertical-align: middle;\n",
       "    }\n",
       "\n",
       "    .dataframe tbody tr th {\n",
       "        vertical-align: top;\n",
       "    }\n",
       "\n",
       "    .dataframe thead th {\n",
       "        text-align: right;\n",
       "    }\n",
       "</style>\n",
       "<table border=\"1\" class=\"dataframe\">\n",
       "  <thead>\n",
       "    <tr style=\"text-align: right;\">\n",
       "      <th></th>\n",
       "      <th>Name</th>\n",
       "      <th>Platform</th>\n",
       "      <th>Year_of_Release</th>\n",
       "      <th>Genre</th>\n",
       "      <th>NA_sales</th>\n",
       "      <th>EU_sales</th>\n",
       "      <th>JP_sales</th>\n",
       "      <th>Other_sales</th>\n",
       "      <th>Critic_Score</th>\n",
       "      <th>User_Score</th>\n",
       "      <th>Rating</th>\n",
       "    </tr>\n",
       "  </thead>\n",
       "  <tbody>\n",
       "    <tr>\n",
       "      <td>0</td>\n",
       "      <td>Wii Sports</td>\n",
       "      <td>Wii</td>\n",
       "      <td>2006.0</td>\n",
       "      <td>Sports</td>\n",
       "      <td>41.36</td>\n",
       "      <td>28.96</td>\n",
       "      <td>3.77</td>\n",
       "      <td>8.45</td>\n",
       "      <td>76.0</td>\n",
       "      <td>8</td>\n",
       "      <td>E</td>\n",
       "    </tr>\n",
       "    <tr>\n",
       "      <td>1</td>\n",
       "      <td>Super Mario Bros.</td>\n",
       "      <td>NES</td>\n",
       "      <td>1985.0</td>\n",
       "      <td>Platform</td>\n",
       "      <td>29.08</td>\n",
       "      <td>3.58</td>\n",
       "      <td>6.81</td>\n",
       "      <td>0.77</td>\n",
       "      <td>NaN</td>\n",
       "      <td>NaN</td>\n",
       "      <td>NaN</td>\n",
       "    </tr>\n",
       "    <tr>\n",
       "      <td>2</td>\n",
       "      <td>Mario Kart Wii</td>\n",
       "      <td>Wii</td>\n",
       "      <td>2008.0</td>\n",
       "      <td>Racing</td>\n",
       "      <td>15.68</td>\n",
       "      <td>12.76</td>\n",
       "      <td>3.79</td>\n",
       "      <td>3.29</td>\n",
       "      <td>82.0</td>\n",
       "      <td>8.3</td>\n",
       "      <td>E</td>\n",
       "    </tr>\n",
       "    <tr>\n",
       "      <td>3</td>\n",
       "      <td>Wii Sports Resort</td>\n",
       "      <td>Wii</td>\n",
       "      <td>2009.0</td>\n",
       "      <td>Sports</td>\n",
       "      <td>15.61</td>\n",
       "      <td>10.93</td>\n",
       "      <td>3.28</td>\n",
       "      <td>2.95</td>\n",
       "      <td>80.0</td>\n",
       "      <td>8</td>\n",
       "      <td>E</td>\n",
       "    </tr>\n",
       "    <tr>\n",
       "      <td>4</td>\n",
       "      <td>Pokemon Red/Pokemon Blue</td>\n",
       "      <td>GB</td>\n",
       "      <td>1996.0</td>\n",
       "      <td>Role-Playing</td>\n",
       "      <td>11.27</td>\n",
       "      <td>8.89</td>\n",
       "      <td>10.22</td>\n",
       "      <td>1.00</td>\n",
       "      <td>NaN</td>\n",
       "      <td>NaN</td>\n",
       "      <td>NaN</td>\n",
       "    </tr>\n",
       "  </tbody>\n",
       "</table>\n",
       "</div>"
      ],
      "text/plain": [
       "                       Name Platform  Year_of_Release         Genre  NA_sales  \\\n",
       "0                Wii Sports      Wii           2006.0        Sports     41.36   \n",
       "1         Super Mario Bros.      NES           1985.0      Platform     29.08   \n",
       "2            Mario Kart Wii      Wii           2008.0        Racing     15.68   \n",
       "3         Wii Sports Resort      Wii           2009.0        Sports     15.61   \n",
       "4  Pokemon Red/Pokemon Blue       GB           1996.0  Role-Playing     11.27   \n",
       "\n",
       "   EU_sales  JP_sales  Other_sales  Critic_Score User_Score Rating  \n",
       "0     28.96      3.77         8.45          76.0          8      E  \n",
       "1      3.58      6.81         0.77           NaN        NaN    NaN  \n",
       "2     12.76      3.79         3.29          82.0        8.3      E  \n",
       "3     10.93      3.28         2.95          80.0          8      E  \n",
       "4      8.89     10.22         1.00           NaN        NaN    NaN  "
      ]
     },
     "execution_count": 2,
     "metadata": {},
     "output_type": "execute_result"
    }
   ],
   "source": [
    "data = pd.read_csv('/datasets/games.csv')\n",
    "data.head()"
   ]
  },
  {
   "cell_type": "code",
   "execution_count": 3,
   "id": "a7d40d3b",
   "metadata": {},
   "outputs": [
    {
     "name": "stdout",
     "output_type": "stream",
     "text": [
      "<class 'pandas.core.frame.DataFrame'>\n",
      "RangeIndex: 16715 entries, 0 to 16714\n",
      "Data columns (total 11 columns):\n",
      "Name               16713 non-null object\n",
      "Platform           16715 non-null object\n",
      "Year_of_Release    16446 non-null float64\n",
      "Genre              16713 non-null object\n",
      "NA_sales           16715 non-null float64\n",
      "EU_sales           16715 non-null float64\n",
      "JP_sales           16715 non-null float64\n",
      "Other_sales        16715 non-null float64\n",
      "Critic_Score       8137 non-null float64\n",
      "User_Score         10014 non-null object\n",
      "Rating             9949 non-null object\n",
      "dtypes: float64(6), object(5)\n",
      "memory usage: 1.4+ MB\n"
     ]
    }
   ],
   "source": [
    "data.info()"
   ]
  },
  {
   "cell_type": "markdown",
   "id": "8804d5ff",
   "metadata": {},
   "source": [
    "**Вывод**\n",
    "\n",
    "Итак, в таблице 11 столбцов. Согласно документации:\n",
    "* `Name` — название игры\n",
    "* `Platform` — платформа\n",
    "* `Year_of_Release` — год выпуска\n",
    "* `Genre` — жанр игры\n",
    "* `NA_sales` — продажи в Северной Америке (миллионы проданных копий)\n",
    "* `EU_sales` — продажи в Европе (миллионы проданных копий)\n",
    "* `JP_sales` — продажи в Японии (миллионы проданных копий)\n",
    "* `Other_sales` — продажи в других странах (миллионы проданных копий)\n",
    "* `Critic_Score` — оценка критиков (максимум 100)\n",
    "* `User_Score` — оценка пользователей (максимум 10)\n",
    "* `Rating` — рейтинг от организации ESRB (англ. Entertainment Software Rating\n",
    "Board). Эта ассоциация определяет рейтинг компьютерных игр и присваивает\n",
    "им подходящую возрастную категорию.\n",
    "\n",
    "Основные наблюдения:\n",
    "* Для столбцов `Year_of_Release`, `Critic_Score`, `User_Score` явно используются не подходящие типы данных\n",
    "* Количество значений в столбцах различается. Значит, в данных есть пропущенные значения.\n",
    "* Названия столбцов не соответствует нотации"
   ]
  },
  {
   "cell_type": "markdown",
   "id": "68651cef",
   "metadata": {},
   "source": [
    "## Предобработка данных"
   ]
  },
  {
   "cell_type": "markdown",
   "id": "f5e2d64e",
   "metadata": {},
   "source": [
    "### Форматирование таблицы"
   ]
  },
  {
   "cell_type": "code",
   "execution_count": 4,
   "id": "94e9d0a6",
   "metadata": {},
   "outputs": [
    {
     "data": {
      "text/plain": [
       "Index(['name', 'platform', 'year_of_release', 'genre', 'na_sales', 'eu_sales',\n",
       "       'jp_sales', 'other_sales', 'critic_score', 'user_score', 'rating'],\n",
       "      dtype='object')"
      ]
     },
     "execution_count": 4,
     "metadata": {},
     "output_type": "execute_result"
    }
   ],
   "source": [
    "data.columns = data.columns.str.lower()\n",
    "data.columns"
   ]
  },
  {
   "cell_type": "markdown",
   "id": "eee15634",
   "metadata": {},
   "source": [
    "### Обработка пропусков"
   ]
  },
  {
   "cell_type": "code",
   "execution_count": 5,
   "id": "52dbe422",
   "metadata": {
    "scrolled": false
   },
   "outputs": [
    {
     "data": {
      "text/plain": [
       "name                  2\n",
       "platform              0\n",
       "year_of_release     269\n",
       "genre                 2\n",
       "na_sales              0\n",
       "eu_sales              0\n",
       "jp_sales              0\n",
       "other_sales           0\n",
       "critic_score       8578\n",
       "user_score         6701\n",
       "rating             6766\n",
       "dtype: int64"
      ]
     },
     "execution_count": 5,
     "metadata": {},
     "output_type": "execute_result"
    }
   ],
   "source": [
    "data.isna().sum()"
   ]
  },
  {
   "cell_type": "code",
   "execution_count": 6,
   "id": "a3e28bde",
   "metadata": {},
   "outputs": [
    {
     "data": {
      "text/html": [
       "<div>\n",
       "<style scoped>\n",
       "    .dataframe tbody tr th:only-of-type {\n",
       "        vertical-align: middle;\n",
       "    }\n",
       "\n",
       "    .dataframe tbody tr th {\n",
       "        vertical-align: top;\n",
       "    }\n",
       "\n",
       "    .dataframe thead th {\n",
       "        text-align: right;\n",
       "    }\n",
       "</style>\n",
       "<table border=\"1\" class=\"dataframe\">\n",
       "  <thead>\n",
       "    <tr style=\"text-align: right;\">\n",
       "      <th></th>\n",
       "      <th>name</th>\n",
       "      <th>platform</th>\n",
       "      <th>year_of_release</th>\n",
       "      <th>genre</th>\n",
       "      <th>na_sales</th>\n",
       "      <th>eu_sales</th>\n",
       "      <th>jp_sales</th>\n",
       "      <th>other_sales</th>\n",
       "      <th>critic_score</th>\n",
       "      <th>user_score</th>\n",
       "      <th>rating</th>\n",
       "    </tr>\n",
       "  </thead>\n",
       "  <tbody>\n",
       "    <tr>\n",
       "      <td>183</td>\n",
       "      <td>Madden NFL 2004</td>\n",
       "      <td>PS2</td>\n",
       "      <td>NaN</td>\n",
       "      <td>Sports</td>\n",
       "      <td>4.26</td>\n",
       "      <td>0.26</td>\n",
       "      <td>0.01</td>\n",
       "      <td>0.71</td>\n",
       "      <td>94.0</td>\n",
       "      <td>8.5</td>\n",
       "      <td>E</td>\n",
       "    </tr>\n",
       "    <tr>\n",
       "      <td>377</td>\n",
       "      <td>FIFA Soccer 2004</td>\n",
       "      <td>PS2</td>\n",
       "      <td>NaN</td>\n",
       "      <td>Sports</td>\n",
       "      <td>0.59</td>\n",
       "      <td>2.36</td>\n",
       "      <td>0.04</td>\n",
       "      <td>0.51</td>\n",
       "      <td>84.0</td>\n",
       "      <td>6.4</td>\n",
       "      <td>E</td>\n",
       "    </tr>\n",
       "    <tr>\n",
       "      <td>456</td>\n",
       "      <td>LEGO Batman: The Videogame</td>\n",
       "      <td>Wii</td>\n",
       "      <td>NaN</td>\n",
       "      <td>Action</td>\n",
       "      <td>1.80</td>\n",
       "      <td>0.97</td>\n",
       "      <td>0.00</td>\n",
       "      <td>0.29</td>\n",
       "      <td>74.0</td>\n",
       "      <td>7.9</td>\n",
       "      <td>E10+</td>\n",
       "    </tr>\n",
       "    <tr>\n",
       "      <td>475</td>\n",
       "      <td>wwe Smackdown vs. Raw 2006</td>\n",
       "      <td>PS2</td>\n",
       "      <td>NaN</td>\n",
       "      <td>Fighting</td>\n",
       "      <td>1.57</td>\n",
       "      <td>1.02</td>\n",
       "      <td>0.00</td>\n",
       "      <td>0.41</td>\n",
       "      <td>NaN</td>\n",
       "      <td>NaN</td>\n",
       "      <td>NaN</td>\n",
       "    </tr>\n",
       "    <tr>\n",
       "      <td>609</td>\n",
       "      <td>Space Invaders</td>\n",
       "      <td>2600</td>\n",
       "      <td>NaN</td>\n",
       "      <td>Shooter</td>\n",
       "      <td>2.36</td>\n",
       "      <td>0.14</td>\n",
       "      <td>0.00</td>\n",
       "      <td>0.03</td>\n",
       "      <td>NaN</td>\n",
       "      <td>NaN</td>\n",
       "      <td>NaN</td>\n",
       "    </tr>\n",
       "    <tr>\n",
       "      <td>...</td>\n",
       "      <td>...</td>\n",
       "      <td>...</td>\n",
       "      <td>...</td>\n",
       "      <td>...</td>\n",
       "      <td>...</td>\n",
       "      <td>...</td>\n",
       "      <td>...</td>\n",
       "      <td>...</td>\n",
       "      <td>...</td>\n",
       "      <td>...</td>\n",
       "      <td>...</td>\n",
       "    </tr>\n",
       "    <tr>\n",
       "      <td>16373</td>\n",
       "      <td>PDC World Championship Darts 2008</td>\n",
       "      <td>PSP</td>\n",
       "      <td>NaN</td>\n",
       "      <td>Sports</td>\n",
       "      <td>0.01</td>\n",
       "      <td>0.00</td>\n",
       "      <td>0.00</td>\n",
       "      <td>0.00</td>\n",
       "      <td>43.0</td>\n",
       "      <td>tbd</td>\n",
       "      <td>E10+</td>\n",
       "    </tr>\n",
       "    <tr>\n",
       "      <td>16405</td>\n",
       "      <td>Freaky Flyers</td>\n",
       "      <td>GC</td>\n",
       "      <td>NaN</td>\n",
       "      <td>Racing</td>\n",
       "      <td>0.01</td>\n",
       "      <td>0.00</td>\n",
       "      <td>0.00</td>\n",
       "      <td>0.00</td>\n",
       "      <td>69.0</td>\n",
       "      <td>6.5</td>\n",
       "      <td>T</td>\n",
       "    </tr>\n",
       "    <tr>\n",
       "      <td>16448</td>\n",
       "      <td>Inversion</td>\n",
       "      <td>PC</td>\n",
       "      <td>NaN</td>\n",
       "      <td>Shooter</td>\n",
       "      <td>0.01</td>\n",
       "      <td>0.00</td>\n",
       "      <td>0.00</td>\n",
       "      <td>0.00</td>\n",
       "      <td>59.0</td>\n",
       "      <td>6.7</td>\n",
       "      <td>M</td>\n",
       "    </tr>\n",
       "    <tr>\n",
       "      <td>16458</td>\n",
       "      <td>Hakuouki: Shinsengumi Kitan</td>\n",
       "      <td>PS3</td>\n",
       "      <td>NaN</td>\n",
       "      <td>Adventure</td>\n",
       "      <td>0.01</td>\n",
       "      <td>0.00</td>\n",
       "      <td>0.00</td>\n",
       "      <td>0.00</td>\n",
       "      <td>NaN</td>\n",
       "      <td>NaN</td>\n",
       "      <td>NaN</td>\n",
       "    </tr>\n",
       "    <tr>\n",
       "      <td>16522</td>\n",
       "      <td>Virtua Quest</td>\n",
       "      <td>GC</td>\n",
       "      <td>NaN</td>\n",
       "      <td>Role-Playing</td>\n",
       "      <td>0.01</td>\n",
       "      <td>0.00</td>\n",
       "      <td>0.00</td>\n",
       "      <td>0.00</td>\n",
       "      <td>55.0</td>\n",
       "      <td>5.5</td>\n",
       "      <td>T</td>\n",
       "    </tr>\n",
       "  </tbody>\n",
       "</table>\n",
       "<p>271 rows × 11 columns</p>\n",
       "</div>"
      ],
      "text/plain": [
       "                                    name platform  year_of_release  \\\n",
       "183                      Madden NFL 2004      PS2              NaN   \n",
       "377                     FIFA Soccer 2004      PS2              NaN   \n",
       "456           LEGO Batman: The Videogame      Wii              NaN   \n",
       "475           wwe Smackdown vs. Raw 2006      PS2              NaN   \n",
       "609                       Space Invaders     2600              NaN   \n",
       "...                                  ...      ...              ...   \n",
       "16373  PDC World Championship Darts 2008      PSP              NaN   \n",
       "16405                      Freaky Flyers       GC              NaN   \n",
       "16448                          Inversion       PC              NaN   \n",
       "16458        Hakuouki: Shinsengumi Kitan      PS3              NaN   \n",
       "16522                       Virtua Quest       GC              NaN   \n",
       "\n",
       "              genre  na_sales  eu_sales  jp_sales  other_sales  critic_score  \\\n",
       "183          Sports      4.26      0.26      0.01         0.71          94.0   \n",
       "377          Sports      0.59      2.36      0.04         0.51          84.0   \n",
       "456          Action      1.80      0.97      0.00         0.29          74.0   \n",
       "475        Fighting      1.57      1.02      0.00         0.41           NaN   \n",
       "609         Shooter      2.36      0.14      0.00         0.03           NaN   \n",
       "...             ...       ...       ...       ...          ...           ...   \n",
       "16373        Sports      0.01      0.00      0.00         0.00          43.0   \n",
       "16405        Racing      0.01      0.00      0.00         0.00          69.0   \n",
       "16448       Shooter      0.01      0.00      0.00         0.00          59.0   \n",
       "16458     Adventure      0.01      0.00      0.00         0.00           NaN   \n",
       "16522  Role-Playing      0.01      0.00      0.00         0.00          55.0   \n",
       "\n",
       "      user_score rating  \n",
       "183          8.5      E  \n",
       "377          6.4      E  \n",
       "456          7.9   E10+  \n",
       "475          NaN    NaN  \n",
       "609          NaN    NaN  \n",
       "...          ...    ...  \n",
       "16373        tbd   E10+  \n",
       "16405        6.5      T  \n",
       "16448        6.7      M  \n",
       "16458        NaN    NaN  \n",
       "16522        5.5      T  \n",
       "\n",
       "[271 rows x 11 columns]"
      ]
     },
     "execution_count": 6,
     "metadata": {},
     "output_type": "execute_result"
    }
   ],
   "source": [
    "data.loc[data['year_of_release'].isna() | data['name'].isna() | data['genre'].isna()]"
   ]
  },
  {
   "cell_type": "markdown",
   "id": "bd37dc67",
   "metadata": {},
   "source": [
    "Видно, что в строках с пропусками года релиза есть еще пропуски в других параметрах. Общее количество пропусков в этих колонках 1.6%. С учетом задачи определить актуальный период для анализа принято решение удалить пропущенные значения в столбцах `name`, `genre`, `year_of_release`."
   ]
  },
  {
   "cell_type": "code",
   "execution_count": 7,
   "id": "c7765ee9",
   "metadata": {},
   "outputs": [],
   "source": [
    "data.dropna(subset=['name', 'genre', 'year_of_release'], inplace=True)"
   ]
  },
  {
   "cell_type": "code",
   "execution_count": 8,
   "id": "f8d4349b",
   "metadata": {},
   "outputs": [
    {
     "data": {
      "text/plain": [
       "name                  0\n",
       "platform              0\n",
       "year_of_release       0\n",
       "genre                 0\n",
       "na_sales              0\n",
       "eu_sales              0\n",
       "jp_sales              0\n",
       "other_sales           0\n",
       "critic_score       8461\n",
       "user_score         6605\n",
       "rating             6676\n",
       "dtype: int64"
      ]
     },
     "execution_count": 8,
     "metadata": {},
     "output_type": "execute_result"
    }
   ],
   "source": [
    "data.isna().sum()"
   ]
  },
  {
   "cell_type": "markdown",
   "id": "af024858",
   "metadata": {},
   "source": [
    "В столбцах `critic_score`, `user_score` присутствует большое количество пропусков, удаление их нецелесообразно, заполнить их исходя из имеющихся данных невозможно. \n",
    "Кроме того в столбце `user_score` помимо явных пропусков содержатся аббревиатуры 'tbd' (будет определена позднее), для наших целей это равносильно NaN. \n",
    "Таким образом, принято решение заменить пропуски по данным столбцам на -1."
   ]
  },
  {
   "cell_type": "code",
   "execution_count": 9,
   "id": "25b334a6",
   "metadata": {},
   "outputs": [],
   "source": [
    "data['user_score'].fillna(-1, inplace=True)\n",
    "data['critic_score'].fillna(-1, inplace=True)\n",
    "data.replace('tbd', -1, inplace=True)"
   ]
  },
  {
   "cell_type": "markdown",
   "id": "fc475aa8",
   "metadata": {},
   "source": [
    "В столбце `rating` во-первых присутствуют старые обозначения K-A (kids to Adults), для которых в настоящее время используется обозначение E (Everyone). Во-вторых, присутствует много пропусков, вероятно, так как рейтинг предназначен для США и Канады. Пропуски можно заменить на RP (Rating Pending)"
   ]
  },
  {
   "cell_type": "code",
   "execution_count": 10,
   "id": "00d80c05",
   "metadata": {},
   "outputs": [],
   "source": [
    "data['rating'].replace('K-A', 'E', inplace=True)\n",
    "data['rating'].fillna('RP', inplace=True)"
   ]
  },
  {
   "cell_type": "code",
   "execution_count": 11,
   "id": "3c506498",
   "metadata": {
    "scrolled": true
   },
   "outputs": [
    {
     "data": {
      "text/plain": [
       "RP      6677\n",
       "E       3924\n",
       "T       2905\n",
       "M       1536\n",
       "E10+    1393\n",
       "EC         8\n",
       "AO         1\n",
       "Name: rating, dtype: int64"
      ]
     },
     "execution_count": 11,
     "metadata": {},
     "output_type": "execute_result"
    }
   ],
   "source": [
    "data['rating'].value_counts()"
   ]
  },
  {
   "cell_type": "code",
   "execution_count": 12,
   "id": "6da4bc4f",
   "metadata": {},
   "outputs": [
    {
     "data": {
      "text/plain": [
       "name               0\n",
       "platform           0\n",
       "year_of_release    0\n",
       "genre              0\n",
       "na_sales           0\n",
       "eu_sales           0\n",
       "jp_sales           0\n",
       "other_sales        0\n",
       "critic_score       0\n",
       "user_score         0\n",
       "rating             0\n",
       "dtype: int64"
      ]
     },
     "execution_count": 12,
     "metadata": {},
     "output_type": "execute_result"
    }
   ],
   "source": [
    "data.isna().sum()"
   ]
  },
  {
   "cell_type": "markdown",
   "id": "345d5289",
   "metadata": {},
   "source": [
    "### Преобразование типов данных"
   ]
  },
  {
   "cell_type": "code",
   "execution_count": 13,
   "id": "d645962b",
   "metadata": {},
   "outputs": [
    {
     "name": "stdout",
     "output_type": "stream",
     "text": [
      "<class 'pandas.core.frame.DataFrame'>\n",
      "Int64Index: 16444 entries, 0 to 16714\n",
      "Data columns (total 11 columns):\n",
      "name               16444 non-null object\n",
      "platform           16444 non-null object\n",
      "year_of_release    16444 non-null float64\n",
      "genre              16444 non-null object\n",
      "na_sales           16444 non-null float64\n",
      "eu_sales           16444 non-null float64\n",
      "jp_sales           16444 non-null float64\n",
      "other_sales        16444 non-null float64\n",
      "critic_score       16444 non-null float64\n",
      "user_score         16444 non-null object\n",
      "rating             16444 non-null object\n",
      "dtypes: float64(6), object(5)\n",
      "memory usage: 1.5+ MB\n"
     ]
    }
   ],
   "source": [
    "data.info()"
   ]
  },
  {
   "cell_type": "markdown",
   "id": "ec304b44",
   "metadata": {},
   "source": [
    "Приведем столбец `user_score` к типу `float` для возможности совершать арифметические операции."
   ]
  },
  {
   "cell_type": "code",
   "execution_count": 14,
   "id": "aa101f3c",
   "metadata": {},
   "outputs": [],
   "source": [
    "data['user_score'] = data['user_score'].astype('float32')"
   ]
  },
  {
   "cell_type": "markdown",
   "id": "a881f795",
   "metadata": {},
   "source": [
    "Приведем столбец `critic_score` к типу `int`:"
   ]
  },
  {
   "cell_type": "code",
   "execution_count": 15,
   "id": "578f47ee",
   "metadata": {},
   "outputs": [],
   "source": [
    "data['critic_score'] = data['critic_score'].astype('int32')"
   ]
  },
  {
   "cell_type": "markdown",
   "id": "e97f5eca",
   "metadata": {},
   "source": [
    "Приведем столбец `year_of_release` к целочисленному типу, так как он хранит информацию только о годе выпуска"
   ]
  },
  {
   "cell_type": "code",
   "execution_count": 16,
   "id": "d3940e68",
   "metadata": {},
   "outputs": [],
   "source": [
    "data['year_of_release'] = data['year_of_release'].astype('int32')"
   ]
  },
  {
   "cell_type": "markdown",
   "id": "4b49da6a",
   "metadata": {},
   "source": [
    "Столбцы `platform`, `genre` и `rating` хранят очень ограниченное количество значений, повторяющихся тысячи раз. Для оптимизации памяти приведем эти к столбцы к типу `category`"
   ]
  },
  {
   "cell_type": "code",
   "execution_count": 17,
   "id": "bb4f228b",
   "metadata": {},
   "outputs": [
    {
     "data": {
      "text/plain": [
       "31"
      ]
     },
     "execution_count": 17,
     "metadata": {},
     "output_type": "execute_result"
    }
   ],
   "source": [
    "data['platform'].nunique()"
   ]
  },
  {
   "cell_type": "code",
   "execution_count": 18,
   "id": "1d6bd2ee",
   "metadata": {},
   "outputs": [
    {
     "data": {
      "text/plain": [
       "12"
      ]
     },
     "execution_count": 18,
     "metadata": {},
     "output_type": "execute_result"
    }
   ],
   "source": [
    "data['genre'].nunique()"
   ]
  },
  {
   "cell_type": "code",
   "execution_count": 19,
   "id": "818c26cf",
   "metadata": {},
   "outputs": [
    {
     "data": {
      "text/plain": [
       "7"
      ]
     },
     "execution_count": 19,
     "metadata": {},
     "output_type": "execute_result"
    }
   ],
   "source": [
    "data['rating'].nunique()"
   ]
  },
  {
   "cell_type": "code",
   "execution_count": 20,
   "id": "dfa896b5",
   "metadata": {},
   "outputs": [],
   "source": [
    "data['platform'] = data['platform'].astype('category')\n",
    "data['genre'] = data['genre'].astype('category')\n",
    "data['rating'] = data['rating'].astype('category')"
   ]
  },
  {
   "cell_type": "markdown",
   "id": "c86a29c3",
   "metadata": {},
   "source": [
    "Посмотрим что получилось в результате преобразований:"
   ]
  },
  {
   "cell_type": "code",
   "execution_count": 21,
   "id": "b9db3961",
   "metadata": {},
   "outputs": [
    {
     "name": "stdout",
     "output_type": "stream",
     "text": [
      "<class 'pandas.core.frame.DataFrame'>\n",
      "Int64Index: 16444 entries, 0 to 16714\n",
      "Data columns (total 11 columns):\n",
      "name               16444 non-null object\n",
      "platform           16444 non-null category\n",
      "year_of_release    16444 non-null int32\n",
      "genre              16444 non-null category\n",
      "na_sales           16444 non-null float64\n",
      "eu_sales           16444 non-null float64\n",
      "jp_sales           16444 non-null float64\n",
      "other_sales        16444 non-null float64\n",
      "critic_score       16444 non-null int32\n",
      "user_score         16444 non-null float32\n",
      "rating             16444 non-null category\n",
      "dtypes: category(3), float32(1), float64(4), int32(2), object(1)\n",
      "memory usage: 1014.0+ KB\n"
     ]
    }
   ],
   "source": [
    "data.info()"
   ]
  },
  {
   "cell_type": "markdown",
   "id": "2aa48ed6",
   "metadata": {},
   "source": [
    "### Расчет вспомогательных значений"
   ]
  },
  {
   "cell_type": "markdown",
   "id": "c5451419",
   "metadata": {},
   "source": [
    "Посчитаем суммарные продажи по игре во всех регионах и запишим их в отдельный столбец."
   ]
  },
  {
   "cell_type": "code",
   "execution_count": 22,
   "id": "6f3f13b7",
   "metadata": {},
   "outputs": [],
   "source": [
    "data['total_sales'] = data.apply(lambda row: row['na_sales'] + row['eu_sales'] + row['jp_sales'] + row['other_sales'], axis=1)"
   ]
  },
  {
   "cell_type": "code",
   "execution_count": 23,
   "id": "d9fcb5e9",
   "metadata": {},
   "outputs": [
    {
     "data": {
      "text/html": [
       "<div>\n",
       "<style scoped>\n",
       "    .dataframe tbody tr th:only-of-type {\n",
       "        vertical-align: middle;\n",
       "    }\n",
       "\n",
       "    .dataframe tbody tr th {\n",
       "        vertical-align: top;\n",
       "    }\n",
       "\n",
       "    .dataframe thead th {\n",
       "        text-align: right;\n",
       "    }\n",
       "</style>\n",
       "<table border=\"1\" class=\"dataframe\">\n",
       "  <thead>\n",
       "    <tr style=\"text-align: right;\">\n",
       "      <th></th>\n",
       "      <th>name</th>\n",
       "      <th>platform</th>\n",
       "      <th>year_of_release</th>\n",
       "      <th>genre</th>\n",
       "      <th>na_sales</th>\n",
       "      <th>eu_sales</th>\n",
       "      <th>jp_sales</th>\n",
       "      <th>other_sales</th>\n",
       "      <th>critic_score</th>\n",
       "      <th>user_score</th>\n",
       "      <th>rating</th>\n",
       "      <th>total_sales</th>\n",
       "    </tr>\n",
       "  </thead>\n",
       "  <tbody>\n",
       "    <tr>\n",
       "      <td>0</td>\n",
       "      <td>Wii Sports</td>\n",
       "      <td>Wii</td>\n",
       "      <td>2006</td>\n",
       "      <td>Sports</td>\n",
       "      <td>41.36</td>\n",
       "      <td>28.96</td>\n",
       "      <td>3.77</td>\n",
       "      <td>8.45</td>\n",
       "      <td>76</td>\n",
       "      <td>8.0</td>\n",
       "      <td>E</td>\n",
       "      <td>82.54</td>\n",
       "    </tr>\n",
       "    <tr>\n",
       "      <td>1</td>\n",
       "      <td>Super Mario Bros.</td>\n",
       "      <td>NES</td>\n",
       "      <td>1985</td>\n",
       "      <td>Platform</td>\n",
       "      <td>29.08</td>\n",
       "      <td>3.58</td>\n",
       "      <td>6.81</td>\n",
       "      <td>0.77</td>\n",
       "      <td>-1</td>\n",
       "      <td>-1.0</td>\n",
       "      <td>RP</td>\n",
       "      <td>40.24</td>\n",
       "    </tr>\n",
       "    <tr>\n",
       "      <td>2</td>\n",
       "      <td>Mario Kart Wii</td>\n",
       "      <td>Wii</td>\n",
       "      <td>2008</td>\n",
       "      <td>Racing</td>\n",
       "      <td>15.68</td>\n",
       "      <td>12.76</td>\n",
       "      <td>3.79</td>\n",
       "      <td>3.29</td>\n",
       "      <td>82</td>\n",
       "      <td>8.3</td>\n",
       "      <td>E</td>\n",
       "      <td>35.52</td>\n",
       "    </tr>\n",
       "    <tr>\n",
       "      <td>3</td>\n",
       "      <td>Wii Sports Resort</td>\n",
       "      <td>Wii</td>\n",
       "      <td>2009</td>\n",
       "      <td>Sports</td>\n",
       "      <td>15.61</td>\n",
       "      <td>10.93</td>\n",
       "      <td>3.28</td>\n",
       "      <td>2.95</td>\n",
       "      <td>80</td>\n",
       "      <td>8.0</td>\n",
       "      <td>E</td>\n",
       "      <td>32.77</td>\n",
       "    </tr>\n",
       "    <tr>\n",
       "      <td>4</td>\n",
       "      <td>Pokemon Red/Pokemon Blue</td>\n",
       "      <td>GB</td>\n",
       "      <td>1996</td>\n",
       "      <td>Role-Playing</td>\n",
       "      <td>11.27</td>\n",
       "      <td>8.89</td>\n",
       "      <td>10.22</td>\n",
       "      <td>1.00</td>\n",
       "      <td>-1</td>\n",
       "      <td>-1.0</td>\n",
       "      <td>RP</td>\n",
       "      <td>31.38</td>\n",
       "    </tr>\n",
       "    <tr>\n",
       "      <td>5</td>\n",
       "      <td>Tetris</td>\n",
       "      <td>GB</td>\n",
       "      <td>1989</td>\n",
       "      <td>Puzzle</td>\n",
       "      <td>23.20</td>\n",
       "      <td>2.26</td>\n",
       "      <td>4.22</td>\n",
       "      <td>0.58</td>\n",
       "      <td>-1</td>\n",
       "      <td>-1.0</td>\n",
       "      <td>RP</td>\n",
       "      <td>30.26</td>\n",
       "    </tr>\n",
       "    <tr>\n",
       "      <td>6</td>\n",
       "      <td>New Super Mario Bros.</td>\n",
       "      <td>DS</td>\n",
       "      <td>2006</td>\n",
       "      <td>Platform</td>\n",
       "      <td>11.28</td>\n",
       "      <td>9.14</td>\n",
       "      <td>6.50</td>\n",
       "      <td>2.88</td>\n",
       "      <td>89</td>\n",
       "      <td>8.5</td>\n",
       "      <td>E</td>\n",
       "      <td>29.80</td>\n",
       "    </tr>\n",
       "    <tr>\n",
       "      <td>7</td>\n",
       "      <td>Wii Play</td>\n",
       "      <td>Wii</td>\n",
       "      <td>2006</td>\n",
       "      <td>Misc</td>\n",
       "      <td>13.96</td>\n",
       "      <td>9.18</td>\n",
       "      <td>2.93</td>\n",
       "      <td>2.84</td>\n",
       "      <td>58</td>\n",
       "      <td>6.6</td>\n",
       "      <td>E</td>\n",
       "      <td>28.91</td>\n",
       "    </tr>\n",
       "    <tr>\n",
       "      <td>8</td>\n",
       "      <td>New Super Mario Bros. Wii</td>\n",
       "      <td>Wii</td>\n",
       "      <td>2009</td>\n",
       "      <td>Platform</td>\n",
       "      <td>14.44</td>\n",
       "      <td>6.94</td>\n",
       "      <td>4.70</td>\n",
       "      <td>2.24</td>\n",
       "      <td>87</td>\n",
       "      <td>8.4</td>\n",
       "      <td>E</td>\n",
       "      <td>28.32</td>\n",
       "    </tr>\n",
       "    <tr>\n",
       "      <td>9</td>\n",
       "      <td>Duck Hunt</td>\n",
       "      <td>NES</td>\n",
       "      <td>1984</td>\n",
       "      <td>Shooter</td>\n",
       "      <td>26.93</td>\n",
       "      <td>0.63</td>\n",
       "      <td>0.28</td>\n",
       "      <td>0.47</td>\n",
       "      <td>-1</td>\n",
       "      <td>-1.0</td>\n",
       "      <td>RP</td>\n",
       "      <td>28.31</td>\n",
       "    </tr>\n",
       "  </tbody>\n",
       "</table>\n",
       "</div>"
      ],
      "text/plain": [
       "                        name platform  year_of_release         genre  \\\n",
       "0                 Wii Sports      Wii             2006        Sports   \n",
       "1          Super Mario Bros.      NES             1985      Platform   \n",
       "2             Mario Kart Wii      Wii             2008        Racing   \n",
       "3          Wii Sports Resort      Wii             2009        Sports   \n",
       "4   Pokemon Red/Pokemon Blue       GB             1996  Role-Playing   \n",
       "5                     Tetris       GB             1989        Puzzle   \n",
       "6      New Super Mario Bros.       DS             2006      Platform   \n",
       "7                   Wii Play      Wii             2006          Misc   \n",
       "8  New Super Mario Bros. Wii      Wii             2009      Platform   \n",
       "9                  Duck Hunt      NES             1984       Shooter   \n",
       "\n",
       "   na_sales  eu_sales  jp_sales  other_sales  critic_score  user_score rating  \\\n",
       "0     41.36     28.96      3.77         8.45            76         8.0      E   \n",
       "1     29.08      3.58      6.81         0.77            -1        -1.0     RP   \n",
       "2     15.68     12.76      3.79         3.29            82         8.3      E   \n",
       "3     15.61     10.93      3.28         2.95            80         8.0      E   \n",
       "4     11.27      8.89     10.22         1.00            -1        -1.0     RP   \n",
       "5     23.20      2.26      4.22         0.58            -1        -1.0     RP   \n",
       "6     11.28      9.14      6.50         2.88            89         8.5      E   \n",
       "7     13.96      9.18      2.93         2.84            58         6.6      E   \n",
       "8     14.44      6.94      4.70         2.24            87         8.4      E   \n",
       "9     26.93      0.63      0.28         0.47            -1        -1.0     RP   \n",
       "\n",
       "   total_sales  \n",
       "0        82.54  \n",
       "1        40.24  \n",
       "2        35.52  \n",
       "3        32.77  \n",
       "4        31.38  \n",
       "5        30.26  \n",
       "6        29.80  \n",
       "7        28.91  \n",
       "8        28.32  \n",
       "9        28.31  "
      ]
     },
     "execution_count": 23,
     "metadata": {},
     "output_type": "execute_result"
    }
   ],
   "source": [
    "data.head(10)"
   ]
  },
  {
   "cell_type": "markdown",
   "id": "b280e584",
   "metadata": {},
   "source": [
    "## Исследовательский анализ данных"
   ]
  },
  {
   "cell_type": "markdown",
   "id": "0e455187",
   "metadata": {},
   "source": [
    "### Рассмотрим выпуск игр по годам"
   ]
  },
  {
   "cell_type": "code",
   "execution_count": 24,
   "id": "f07a8c8d",
   "metadata": {},
   "outputs": [
    {
     "data": {
      "text/plain": [
       "<matplotlib.axes._subplots.AxesSubplot at 0x7fdb1da85550>"
      ]
     },
     "execution_count": 24,
     "metadata": {},
     "output_type": "execute_result"
    },
    {
     "data": {
      "image/png": "[encoded data removed]",
      "text/plain": [
       "<Figure size 432x288 with 1 Axes>"
      ]
     },
     "metadata": {
      "needs_background": "light"
     },
     "output_type": "display_data"
    }
   ],
   "source": [
    "data.groupby('year_of_release')['name'].count().plot(kind='bar')"
   ]
  },
  {
   "cell_type": "markdown",
   "id": "6d922156",
   "metadata": {},
   "source": [
    "Начиная от 1980 и до 2009 количество выпускаемых игр в год росло и на пике, в 2008-2009, выпускалось до 1400 игр. Однако затем, количество игр снизилось. Возможная причина - в следствии удорожания разработки."
   ]
  },
  {
   "cell_type": "markdown",
   "id": "53e34bdd",
   "metadata": {},
   "source": [
    "### Рассмотрим продажи по платформам"
   ]
  },
  {
   "cell_type": "markdown",
   "id": "5b986427",
   "metadata": {},
   "source": [
    "Найдем лидеров по суммарным продажам за все время"
   ]
  },
  {
   "cell_type": "code",
   "execution_count": 25,
   "id": "fb8fba03",
   "metadata": {
    "scrolled": true
   },
   "outputs": [
    {
     "data": {
      "text/plain": [
       "<matplotlib.axes._subplots.AxesSubplot at 0x7fdb1d987790>"
      ]
     },
     "execution_count": 25,
     "metadata": {},
     "output_type": "execute_result"
    },
    {
     "data": {
      "image/png": "[encoded data removed]",
      "text/plain": [
       "<Figure size 432x288 with 1 Axes>"
      ]
     },
     "metadata": {
      "needs_background": "light"
     },
     "output_type": "display_data"
    }
   ],
   "source": [
    "data.groupby('platform')['total_sales'].sum().sort_values(ascending=False).plot(kind='bar')"
   ]
  },
  {
   "cell_type": "markdown",
   "id": "b1dcc038",
   "metadata": {},
   "source": [
    "Игры на платформах\n",
    "* PS2\n",
    "* X360\n",
    "* PS3\n",
    "* Wii\n",
    "* DS\n",
    "* PS\n",
    "\n",
    "с большим отрывом являются лидерами по суммарным продажам"
   ]
  },
  {
   "cell_type": "markdown",
   "id": "e48dc65c",
   "metadata": {},
   "source": [
    "Далее построим сводную таблицу продаж по годам, отсортируем по суммарным продажам и выберим платформы с суммарными продажами более 200 млн проданных копий."
   ]
  },
  {
   "cell_type": "code",
   "execution_count": 26,
   "id": "9871c587",
   "metadata": {
    "scrolled": false
   },
   "outputs": [
    {
     "data": {
      "text/html": [
       "<div>\n",
       "<style scoped>\n",
       "    .dataframe tbody tr th:only-of-type {\n",
       "        vertical-align: middle;\n",
       "    }\n",
       "\n",
       "    .dataframe tbody tr th {\n",
       "        vertical-align: top;\n",
       "    }\n",
       "\n",
       "    .dataframe thead th {\n",
       "        text-align: right;\n",
       "    }\n",
       "</style>\n",
       "<table border=\"1\" class=\"dataframe\">\n",
       "  <thead>\n",
       "    <tr style=\"text-align: right;\">\n",
       "      <th>year_of_release</th>\n",
       "      <th>1980</th>\n",
       "      <th>1981</th>\n",
       "      <th>1982</th>\n",
       "      <th>1983</th>\n",
       "      <th>1984</th>\n",
       "      <th>1985</th>\n",
       "      <th>1986</th>\n",
       "      <th>1987</th>\n",
       "      <th>1988</th>\n",
       "      <th>1989</th>\n",
       "      <th>...</th>\n",
       "      <th>2007</th>\n",
       "      <th>2008</th>\n",
       "      <th>2009</th>\n",
       "      <th>2010</th>\n",
       "      <th>2011</th>\n",
       "      <th>2012</th>\n",
       "      <th>2013</th>\n",
       "      <th>2014</th>\n",
       "      <th>2015</th>\n",
       "      <th>2016</th>\n",
       "    </tr>\n",
       "    <tr>\n",
       "      <th>platform</th>\n",
       "      <th></th>\n",
       "      <th></th>\n",
       "      <th></th>\n",
       "      <th></th>\n",
       "      <th></th>\n",
       "      <th></th>\n",
       "      <th></th>\n",
       "      <th></th>\n",
       "      <th></th>\n",
       "      <th></th>\n",
       "      <th></th>\n",
       "      <th></th>\n",
       "      <th></th>\n",
       "      <th></th>\n",
       "      <th></th>\n",
       "      <th></th>\n",
       "      <th></th>\n",
       "      <th></th>\n",
       "      <th></th>\n",
       "      <th></th>\n",
       "      <th></th>\n",
       "    </tr>\n",
       "  </thead>\n",
       "  <tbody>\n",
       "    <tr>\n",
       "      <td>PS2</td>\n",
       "      <td>0.0</td>\n",
       "      <td>0.0</td>\n",
       "      <td>0.0</td>\n",
       "      <td>0.00</td>\n",
       "      <td>0.00</td>\n",
       "      <td>0.00</td>\n",
       "      <td>0.00</td>\n",
       "      <td>0.00</td>\n",
       "      <td>0.00</td>\n",
       "      <td>0.00</td>\n",
       "      <td>...</td>\n",
       "      <td>75.99</td>\n",
       "      <td>53.90</td>\n",
       "      <td>26.40</td>\n",
       "      <td>5.64</td>\n",
       "      <td>0.45</td>\n",
       "      <td>0.00</td>\n",
       "      <td>0.00</td>\n",
       "      <td>0.00</td>\n",
       "      <td>0.00</td>\n",
       "      <td>0.00</td>\n",
       "    </tr>\n",
       "    <tr>\n",
       "      <td>X360</td>\n",
       "      <td>0.0</td>\n",
       "      <td>0.0</td>\n",
       "      <td>0.0</td>\n",
       "      <td>0.00</td>\n",
       "      <td>0.00</td>\n",
       "      <td>0.00</td>\n",
       "      <td>0.00</td>\n",
       "      <td>0.00</td>\n",
       "      <td>0.00</td>\n",
       "      <td>0.00</td>\n",
       "      <td>...</td>\n",
       "      <td>95.41</td>\n",
       "      <td>135.26</td>\n",
       "      <td>120.29</td>\n",
       "      <td>170.03</td>\n",
       "      <td>143.84</td>\n",
       "      <td>99.74</td>\n",
       "      <td>88.58</td>\n",
       "      <td>34.74</td>\n",
       "      <td>11.96</td>\n",
       "      <td>1.52</td>\n",
       "    </tr>\n",
       "    <tr>\n",
       "      <td>PS3</td>\n",
       "      <td>0.0</td>\n",
       "      <td>0.0</td>\n",
       "      <td>0.0</td>\n",
       "      <td>0.00</td>\n",
       "      <td>0.00</td>\n",
       "      <td>0.00</td>\n",
       "      <td>0.00</td>\n",
       "      <td>0.00</td>\n",
       "      <td>0.00</td>\n",
       "      <td>0.00</td>\n",
       "      <td>...</td>\n",
       "      <td>73.19</td>\n",
       "      <td>118.52</td>\n",
       "      <td>130.93</td>\n",
       "      <td>142.17</td>\n",
       "      <td>156.78</td>\n",
       "      <td>107.36</td>\n",
       "      <td>113.25</td>\n",
       "      <td>47.76</td>\n",
       "      <td>16.82</td>\n",
       "      <td>3.60</td>\n",
       "    </tr>\n",
       "    <tr>\n",
       "      <td>Wii</td>\n",
       "      <td>0.0</td>\n",
       "      <td>0.0</td>\n",
       "      <td>0.0</td>\n",
       "      <td>0.00</td>\n",
       "      <td>0.00</td>\n",
       "      <td>0.00</td>\n",
       "      <td>0.00</td>\n",
       "      <td>0.00</td>\n",
       "      <td>0.00</td>\n",
       "      <td>0.00</td>\n",
       "      <td>...</td>\n",
       "      <td>152.77</td>\n",
       "      <td>171.32</td>\n",
       "      <td>206.97</td>\n",
       "      <td>127.95</td>\n",
       "      <td>59.65</td>\n",
       "      <td>21.71</td>\n",
       "      <td>8.59</td>\n",
       "      <td>3.75</td>\n",
       "      <td>1.14</td>\n",
       "      <td>0.18</td>\n",
       "    </tr>\n",
       "    <tr>\n",
       "      <td>DS</td>\n",
       "      <td>0.0</td>\n",
       "      <td>0.0</td>\n",
       "      <td>0.0</td>\n",
       "      <td>0.00</td>\n",
       "      <td>0.00</td>\n",
       "      <td>0.02</td>\n",
       "      <td>0.00</td>\n",
       "      <td>0.00</td>\n",
       "      <td>0.00</td>\n",
       "      <td>0.00</td>\n",
       "      <td>...</td>\n",
       "      <td>146.94</td>\n",
       "      <td>145.31</td>\n",
       "      <td>119.54</td>\n",
       "      <td>85.02</td>\n",
       "      <td>26.18</td>\n",
       "      <td>11.01</td>\n",
       "      <td>1.54</td>\n",
       "      <td>0.00</td>\n",
       "      <td>0.00</td>\n",
       "      <td>0.00</td>\n",
       "    </tr>\n",
       "    <tr>\n",
       "      <td>PS</td>\n",
       "      <td>0.0</td>\n",
       "      <td>0.0</td>\n",
       "      <td>0.0</td>\n",
       "      <td>0.00</td>\n",
       "      <td>0.00</td>\n",
       "      <td>0.00</td>\n",
       "      <td>0.00</td>\n",
       "      <td>0.00</td>\n",
       "      <td>0.00</td>\n",
       "      <td>0.00</td>\n",
       "      <td>...</td>\n",
       "      <td>0.00</td>\n",
       "      <td>0.00</td>\n",
       "      <td>0.00</td>\n",
       "      <td>0.00</td>\n",
       "      <td>0.00</td>\n",
       "      <td>0.00</td>\n",
       "      <td>0.00</td>\n",
       "      <td>0.00</td>\n",
       "      <td>0.00</td>\n",
       "      <td>0.00</td>\n",
       "    </tr>\n",
       "    <tr>\n",
       "      <td>PS4</td>\n",
       "      <td>0.0</td>\n",
       "      <td>0.0</td>\n",
       "      <td>0.0</td>\n",
       "      <td>0.00</td>\n",
       "      <td>0.00</td>\n",
       "      <td>0.00</td>\n",
       "      <td>0.00</td>\n",
       "      <td>0.00</td>\n",
       "      <td>0.00</td>\n",
       "      <td>0.00</td>\n",
       "      <td>...</td>\n",
       "      <td>0.00</td>\n",
       "      <td>0.00</td>\n",
       "      <td>0.00</td>\n",
       "      <td>0.00</td>\n",
       "      <td>0.00</td>\n",
       "      <td>0.00</td>\n",
       "      <td>25.99</td>\n",
       "      <td>100.00</td>\n",
       "      <td>118.90</td>\n",
       "      <td>69.25</td>\n",
       "    </tr>\n",
       "    <tr>\n",
       "      <td>GBA</td>\n",
       "      <td>0.0</td>\n",
       "      <td>0.0</td>\n",
       "      <td>0.0</td>\n",
       "      <td>0.00</td>\n",
       "      <td>0.00</td>\n",
       "      <td>0.00</td>\n",
       "      <td>0.00</td>\n",
       "      <td>0.00</td>\n",
       "      <td>0.00</td>\n",
       "      <td>0.00</td>\n",
       "      <td>...</td>\n",
       "      <td>3.40</td>\n",
       "      <td>0.00</td>\n",
       "      <td>0.00</td>\n",
       "      <td>0.00</td>\n",
       "      <td>0.00</td>\n",
       "      <td>0.00</td>\n",
       "      <td>0.00</td>\n",
       "      <td>0.00</td>\n",
       "      <td>0.00</td>\n",
       "      <td>0.00</td>\n",
       "    </tr>\n",
       "    <tr>\n",
       "      <td>PSP</td>\n",
       "      <td>0.0</td>\n",
       "      <td>0.0</td>\n",
       "      <td>0.0</td>\n",
       "      <td>0.00</td>\n",
       "      <td>0.00</td>\n",
       "      <td>0.00</td>\n",
       "      <td>0.00</td>\n",
       "      <td>0.00</td>\n",
       "      <td>0.00</td>\n",
       "      <td>0.00</td>\n",
       "      <td>...</td>\n",
       "      <td>46.93</td>\n",
       "      <td>34.55</td>\n",
       "      <td>37.78</td>\n",
       "      <td>35.04</td>\n",
       "      <td>17.82</td>\n",
       "      <td>7.69</td>\n",
       "      <td>3.14</td>\n",
       "      <td>0.24</td>\n",
       "      <td>0.12</td>\n",
       "      <td>0.00</td>\n",
       "    </tr>\n",
       "    <tr>\n",
       "      <td>3DS</td>\n",
       "      <td>0.0</td>\n",
       "      <td>0.0</td>\n",
       "      <td>0.0</td>\n",
       "      <td>0.00</td>\n",
       "      <td>0.00</td>\n",
       "      <td>0.00</td>\n",
       "      <td>0.00</td>\n",
       "      <td>0.00</td>\n",
       "      <td>0.00</td>\n",
       "      <td>0.00</td>\n",
       "      <td>...</td>\n",
       "      <td>0.00</td>\n",
       "      <td>0.00</td>\n",
       "      <td>0.00</td>\n",
       "      <td>0.00</td>\n",
       "      <td>63.20</td>\n",
       "      <td>51.36</td>\n",
       "      <td>56.57</td>\n",
       "      <td>43.76</td>\n",
       "      <td>27.78</td>\n",
       "      <td>15.14</td>\n",
       "    </tr>\n",
       "    <tr>\n",
       "      <td>PC</td>\n",
       "      <td>0.0</td>\n",
       "      <td>0.0</td>\n",
       "      <td>0.0</td>\n",
       "      <td>0.00</td>\n",
       "      <td>0.00</td>\n",
       "      <td>0.04</td>\n",
       "      <td>0.00</td>\n",
       "      <td>0.00</td>\n",
       "      <td>0.03</td>\n",
       "      <td>0.00</td>\n",
       "      <td>...</td>\n",
       "      <td>9.28</td>\n",
       "      <td>12.42</td>\n",
       "      <td>16.91</td>\n",
       "      <td>24.28</td>\n",
       "      <td>35.03</td>\n",
       "      <td>23.22</td>\n",
       "      <td>12.38</td>\n",
       "      <td>13.28</td>\n",
       "      <td>8.52</td>\n",
       "      <td>5.25</td>\n",
       "    </tr>\n",
       "    <tr>\n",
       "      <td>GB</td>\n",
       "      <td>0.0</td>\n",
       "      <td>0.0</td>\n",
       "      <td>0.0</td>\n",
       "      <td>0.00</td>\n",
       "      <td>0.00</td>\n",
       "      <td>0.00</td>\n",
       "      <td>0.00</td>\n",
       "      <td>0.00</td>\n",
       "      <td>1.43</td>\n",
       "      <td>64.97</td>\n",
       "      <td>...</td>\n",
       "      <td>0.00</td>\n",
       "      <td>0.00</td>\n",
       "      <td>0.00</td>\n",
       "      <td>0.00</td>\n",
       "      <td>0.00</td>\n",
       "      <td>0.00</td>\n",
       "      <td>0.00</td>\n",
       "      <td>0.00</td>\n",
       "      <td>0.00</td>\n",
       "      <td>0.00</td>\n",
       "    </tr>\n",
       "    <tr>\n",
       "      <td>XB</td>\n",
       "      <td>0.0</td>\n",
       "      <td>0.0</td>\n",
       "      <td>0.0</td>\n",
       "      <td>0.00</td>\n",
       "      <td>0.00</td>\n",
       "      <td>0.00</td>\n",
       "      <td>0.00</td>\n",
       "      <td>0.00</td>\n",
       "      <td>0.00</td>\n",
       "      <td>0.00</td>\n",
       "      <td>...</td>\n",
       "      <td>0.55</td>\n",
       "      <td>0.18</td>\n",
       "      <td>0.00</td>\n",
       "      <td>0.00</td>\n",
       "      <td>0.00</td>\n",
       "      <td>0.00</td>\n",
       "      <td>0.00</td>\n",
       "      <td>0.00</td>\n",
       "      <td>0.00</td>\n",
       "      <td>0.00</td>\n",
       "    </tr>\n",
       "    <tr>\n",
       "      <td>NES</td>\n",
       "      <td>0.0</td>\n",
       "      <td>0.0</td>\n",
       "      <td>0.0</td>\n",
       "      <td>10.96</td>\n",
       "      <td>50.08</td>\n",
       "      <td>53.44</td>\n",
       "      <td>36.41</td>\n",
       "      <td>19.76</td>\n",
       "      <td>45.01</td>\n",
       "      <td>7.85</td>\n",
       "      <td>...</td>\n",
       "      <td>0.00</td>\n",
       "      <td>0.00</td>\n",
       "      <td>0.00</td>\n",
       "      <td>0.00</td>\n",
       "      <td>0.00</td>\n",
       "      <td>0.00</td>\n",
       "      <td>0.00</td>\n",
       "      <td>0.00</td>\n",
       "      <td>0.00</td>\n",
       "      <td>0.00</td>\n",
       "    </tr>\n",
       "    <tr>\n",
       "      <td>N64</td>\n",
       "      <td>0.0</td>\n",
       "      <td>0.0</td>\n",
       "      <td>0.0</td>\n",
       "      <td>0.00</td>\n",
       "      <td>0.00</td>\n",
       "      <td>0.00</td>\n",
       "      <td>0.00</td>\n",
       "      <td>0.00</td>\n",
       "      <td>0.00</td>\n",
       "      <td>0.00</td>\n",
       "      <td>...</td>\n",
       "      <td>0.00</td>\n",
       "      <td>0.00</td>\n",
       "      <td>0.00</td>\n",
       "      <td>0.00</td>\n",
       "      <td>0.00</td>\n",
       "      <td>0.00</td>\n",
       "      <td>0.00</td>\n",
       "      <td>0.00</td>\n",
       "      <td>0.00</td>\n",
       "      <td>0.00</td>\n",
       "    </tr>\n",
       "    <tr>\n",
       "      <td>SNES</td>\n",
       "      <td>0.0</td>\n",
       "      <td>0.0</td>\n",
       "      <td>0.0</td>\n",
       "      <td>0.00</td>\n",
       "      <td>0.00</td>\n",
       "      <td>0.00</td>\n",
       "      <td>0.00</td>\n",
       "      <td>0.00</td>\n",
       "      <td>0.00</td>\n",
       "      <td>0.00</td>\n",
       "      <td>...</td>\n",
       "      <td>0.00</td>\n",
       "      <td>0.00</td>\n",
       "      <td>0.00</td>\n",
       "      <td>0.00</td>\n",
       "      <td>0.00</td>\n",
       "      <td>0.00</td>\n",
       "      <td>0.00</td>\n",
       "      <td>0.00</td>\n",
       "      <td>0.00</td>\n",
       "      <td>0.00</td>\n",
       "    </tr>\n",
       "  </tbody>\n",
       "</table>\n",
       "<p>16 rows × 37 columns</p>\n",
       "</div>"
      ],
      "text/plain": [
       "year_of_release  1980  1981  1982   1983   1984   1985   1986   1987   1988  \\\n",
       "platform                                                                      \n",
       "PS2               0.0   0.0   0.0   0.00   0.00   0.00   0.00   0.00   0.00   \n",
       "X360              0.0   0.0   0.0   0.00   0.00   0.00   0.00   0.00   0.00   \n",
       "PS3               0.0   0.0   0.0   0.00   0.00   0.00   0.00   0.00   0.00   \n",
       "Wii               0.0   0.0   0.0   0.00   0.00   0.00   0.00   0.00   0.00   \n",
       "DS                0.0   0.0   0.0   0.00   0.00   0.02   0.00   0.00   0.00   \n",
       "PS                0.0   0.0   0.0   0.00   0.00   0.00   0.00   0.00   0.00   \n",
       "PS4               0.0   0.0   0.0   0.00   0.00   0.00   0.00   0.00   0.00   \n",
       "GBA               0.0   0.0   0.0   0.00   0.00   0.00   0.00   0.00   0.00   \n",
       "PSP               0.0   0.0   0.0   0.00   0.00   0.00   0.00   0.00   0.00   \n",
       "3DS               0.0   0.0   0.0   0.00   0.00   0.00   0.00   0.00   0.00   \n",
       "PC                0.0   0.0   0.0   0.00   0.00   0.04   0.00   0.00   0.03   \n",
       "GB                0.0   0.0   0.0   0.00   0.00   0.00   0.00   0.00   1.43   \n",
       "XB                0.0   0.0   0.0   0.00   0.00   0.00   0.00   0.00   0.00   \n",
       "NES               0.0   0.0   0.0  10.96  50.08  53.44  36.41  19.76  45.01   \n",
       "N64               0.0   0.0   0.0   0.00   0.00   0.00   0.00   0.00   0.00   \n",
       "SNES              0.0   0.0   0.0   0.00   0.00   0.00   0.00   0.00   0.00   \n",
       "\n",
       "year_of_release   1989  ...    2007    2008    2009    2010    2011    2012  \\\n",
       "platform                ...                                                   \n",
       "PS2               0.00  ...   75.99   53.90   26.40    5.64    0.45    0.00   \n",
       "X360              0.00  ...   95.41  135.26  120.29  170.03  143.84   99.74   \n",
       "PS3               0.00  ...   73.19  118.52  130.93  142.17  156.78  107.36   \n",
       "Wii               0.00  ...  152.77  171.32  206.97  127.95   59.65   21.71   \n",
       "DS                0.00  ...  146.94  145.31  119.54   85.02   26.18   11.01   \n",
       "PS                0.00  ...    0.00    0.00    0.00    0.00    0.00    0.00   \n",
       "PS4               0.00  ...    0.00    0.00    0.00    0.00    0.00    0.00   \n",
       "GBA               0.00  ...    3.40    0.00    0.00    0.00    0.00    0.00   \n",
       "PSP               0.00  ...   46.93   34.55   37.78   35.04   17.82    7.69   \n",
       "3DS               0.00  ...    0.00    0.00    0.00    0.00   63.20   51.36   \n",
       "PC                0.00  ...    9.28   12.42   16.91   24.28   35.03   23.22   \n",
       "GB               64.97  ...    0.00    0.00    0.00    0.00    0.00    0.00   \n",
       "XB                0.00  ...    0.55    0.18    0.00    0.00    0.00    0.00   \n",
       "NES               7.85  ...    0.00    0.00    0.00    0.00    0.00    0.00   \n",
       "N64               0.00  ...    0.00    0.00    0.00    0.00    0.00    0.00   \n",
       "SNES              0.00  ...    0.00    0.00    0.00    0.00    0.00    0.00   \n",
       "\n",
       "year_of_release    2013    2014    2015   2016  \n",
       "platform                                        \n",
       "PS2                0.00    0.00    0.00   0.00  \n",
       "X360              88.58   34.74   11.96   1.52  \n",
       "PS3              113.25   47.76   16.82   3.60  \n",
       "Wii                8.59    3.75    1.14   0.18  \n",
       "DS                 1.54    0.00    0.00   0.00  \n",
       "PS                 0.00    0.00    0.00   0.00  \n",
       "PS4               25.99  100.00  118.90  69.25  \n",
       "GBA                0.00    0.00    0.00   0.00  \n",
       "PSP                3.14    0.24    0.12   0.00  \n",
       "3DS               56.57   43.76   27.78  15.14  \n",
       "PC                12.38   13.28    8.52   5.25  \n",
       "GB                 0.00    0.00    0.00   0.00  \n",
       "XB                 0.00    0.00    0.00   0.00  \n",
       "NES                0.00    0.00    0.00   0.00  \n",
       "N64                0.00    0.00    0.00   0.00  \n",
       "SNES               0.00    0.00    0.00   0.00  \n",
       "\n",
       "[16 rows x 37 columns]"
      ]
     },
     "execution_count": 26,
     "metadata": {},
     "output_type": "execute_result"
    }
   ],
   "source": [
    "data_pivot = data.pivot_table(index='platform', columns='year_of_release', values='total_sales', aggfunc='sum', margins=True, fill_value=0).sort_values(by='All', ascending=False).query('(All > 200)').drop('All').drop(columns=['All'])\n",
    "data_pivot"
   ]
  },
  {
   "cell_type": "code",
   "execution_count": 27,
   "id": "8a74de34",
   "metadata": {},
   "outputs": [
    {
     "data": {
      "text/plain": [
       "<matplotlib.axes._subplots.AxesSubplot at 0x7fdb1d82b450>"
      ]
     },
     "execution_count": 27,
     "metadata": {},
     "output_type": "execute_result"
    },
    {
     "data": {
      "image/png": "[encoded data removed]",
      "text/plain": [
       "<Figure size 1080x504 with 1 Axes>"
      ]
     },
     "metadata": {
      "needs_background": "light"
     },
     "output_type": "display_data"
    }
   ],
   "source": [
    "data_pivot.T.plot(figsize=(15,7))"
   ]
  },
  {
   "cell_type": "markdown",
   "id": "21d11d7b",
   "metadata": {},
   "source": [
    "**Вывод** \n",
    "\n",
    "В топе продаж игры на платформах PS2, PS3 и X360. Однако, как видно на графике, по ним и другим платформам уходящего поколения наблюдается существенно снижение продаж к 2016 году. При этом игры на платформах более нового поколения (PS4 и 3DS) закономерно имеют большие продажи к 2016 году. Кроме них, существенные продажи имеет платформа PC.\n",
    "\n",
    "Исходя из графика срок жизни платформы составляет около 5 лет. Для отдельных платформ (X360, PS2, PS3, Wii) этот срок составляет 7-10 лет."
   ]
  },
  {
   "cell_type": "markdown",
   "id": "f38b69ac",
   "metadata": {},
   "source": [
    "Очевидно, что тренды и вкусы потребителей существенно менялись за десятилетия разработки игр, и то, что было успешно в 80х или 90х маловероятно будет пользоваться большим спросом в 2017. Кроме того, \"срок жизни\" даже для топовых платформы составляет около 10 лет, а для большинства платформ не превышает нескольких лет. Таким образом, для дальнейшего анализа и прогнозирования бизнеса с учетом актуальных трендов целесообразней взять данные за 2 года."
   ]
  },
  {
   "cell_type": "code",
   "execution_count": 28,
   "id": "b0987281",
   "metadata": {},
   "outputs": [
    {
     "data": {
      "text/plain": [
       "1108"
      ]
     },
     "execution_count": 28,
     "metadata": {},
     "output_type": "execute_result"
    }
   ],
   "source": [
    "data_actual = data.query('year_of_release >= 2015')\n",
    "data_actual.shape[0]"
   ]
  },
  {
   "cell_type": "markdown",
   "id": "1f6dff8a",
   "metadata": {},
   "source": [
    "Определим топ платформ по суммарным продажам игр за последние 2 года"
   ]
  },
  {
   "cell_type": "code",
   "execution_count": 29,
   "id": "1b2167a2",
   "metadata": {
    "scrolled": true
   },
   "outputs": [
    {
     "data": {
      "text/plain": [
       "<matplotlib.axes._subplots.AxesSubplot at 0x7fdb1d4dd950>"
      ]
     },
     "execution_count": 29,
     "metadata": {},
     "output_type": "execute_result"
    },
    {
     "data": {
      "image/png": "[encoded data removed]",
      "text/plain": [
       "<Figure size 432x288 with 1 Axes>"
      ]
     },
     "metadata": {
      "needs_background": "light"
     },
     "output_type": "display_data"
    }
   ],
   "source": [
    "data_actual.groupby('platform')['total_sales'].sum().sort_values(ascending=False).plot(kind='bar')"
   ]
  },
  {
   "cell_type": "markdown",
   "id": "60212da1",
   "metadata": {},
   "source": [
    "Построим boxplot по глобальным продажам игр в разбивке по платформам"
   ]
  },
  {
   "cell_type": "code",
   "execution_count": 30,
   "id": "25810634",
   "metadata": {},
   "outputs": [
    {
     "data": {
      "text/plain": [
       "[Text(0.5, 1.0, 'Глобальные продажи игр по платформам 2015-2016')]"
      ]
     },
     "execution_count": 30,
     "metadata": {},
     "output_type": "execute_result"
    },
    {
     "data": {
      "image/png": "[encoded data removed]",
      "text/plain": [
       "<Figure size 1152x432 with 1 Axes>"
      ]
     },
     "metadata": {
      "needs_background": "light"
     },
     "output_type": "display_data"
    }
   ],
   "source": [
    "plt.figure(figsize=(16, 6))\n",
    "my_order = data_actual.groupby('platform')['total_sales'].median().sort_values(ascending=False).dropna().index\n",
    "ax = sns.boxplot(x=\"platform\", y=\"total_sales\", data=data_actual, order=my_order)\n",
    "ax.set(title='Глобальные продажи игр по платформам 2015-2016')"
   ]
  },
  {
   "cell_type": "code",
   "execution_count": 31,
   "id": "77aac7fb",
   "metadata": {},
   "outputs": [
    {
     "data": {
      "text/plain": [
       "[(0, 1.4)]"
      ]
     },
     "execution_count": 31,
     "metadata": {},
     "output_type": "execute_result"
    },
    {
     "data": {
      "image/png": "[encoded data removed]",
      "text/plain": [
       "<Figure size 1152x432 with 1 Axes>"
      ]
     },
     "metadata": {
      "needs_background": "light"
     },
     "output_type": "display_data"
    }
   ],
   "source": [
    "plt.figure(figsize=(16, 6))\n",
    "my_order = data_actual.groupby('platform')['total_sales'].median().sort_values(ascending=False).dropna().index\n",
    "ax = sns.boxplot(x=\"platform\", y=\"total_sales\", data=data_actual, order=my_order)\n",
    "ax.set(title='Глобальные продажи игр по платформам 2015-2016')\n",
    "ax.set(ylim=(0,1.4))"
   ]
  },
  {
   "cell_type": "markdown",
   "id": "4e7bc725",
   "metadata": {},
   "source": [
    "**Вывод**\n",
    "\n",
    "Подавляющее большинство игр на всех платформах имеют продажи менее 200 тыс копий (медианное значение). При этом наблюдается большое количество выбросов, игр, продажи которых, существенно превышают остальные. Чем более популярна платформа, тем больший разброс наблюдается по продажам, так как вероятно большее количество игровых студий заняты выпуском игр разного бюджета и качества. Несмотря на то, что платформа PS4 является лидером по суммарным продажам игр за последние два года, по медианному значению продаж она находится только на 4м месте. Это обусловлено бОльшим количеством выбросов  по сравнению с другими платформами (вплоть до $14.6 млн)"
   ]
  },
  {
   "cell_type": "markdown",
   "id": "d73b5e45",
   "metadata": {},
   "source": [
    "### Влияние отзывов пользователей и критиков  на продажи"
   ]
  },
  {
   "cell_type": "markdown",
   "id": "f1562445",
   "metadata": {},
   "source": [
    "Рассмотрим, как влияют на продажи внутри самой популярной платформы (PS4) отзывы пользователей и критиков."
   ]
  },
  {
   "cell_type": "markdown",
   "id": "50d50290",
   "metadata": {},
   "source": [
    "Сделаем срез данных по платформе PS4"
   ]
  },
  {
   "cell_type": "code",
   "execution_count": 32,
   "id": "0114ea5a",
   "metadata": {},
   "outputs": [],
   "source": [
    "ps4 = data_actual.query('(platform == \"PS4\") & (critic_score > 0) & (user_score > 0)')"
   ]
  },
  {
   "cell_type": "markdown",
   "id": "93754203",
   "metadata": {},
   "source": [
    "Посчитаем коэффициент корреляции и построим диаграмму рассеяния для оценок критиков"
   ]
  },
  {
   "cell_type": "code",
   "execution_count": 33,
   "id": "8e7d8dc7",
   "metadata": {},
   "outputs": [
    {
     "data": {
      "text/plain": [
       "0.3920741369660568"
      ]
     },
     "execution_count": 33,
     "metadata": {},
     "output_type": "execute_result"
    }
   ],
   "source": [
    "ps4['total_sales'].corr(ps4['critic_score'])"
   ]
  },
  {
   "cell_type": "code",
   "execution_count": 34,
   "id": "3b817800",
   "metadata": {},
   "outputs": [
    {
     "data": {
      "text/plain": [
       "<matplotlib.axes._subplots.AxesSubplot at 0x7fdb14409850>"
      ]
     },
     "execution_count": 34,
     "metadata": {},
     "output_type": "execute_result"
    },
    {
     "data": {
      "image/png": "[encoded data removed]",
      "text/plain": [
       "<Figure size 432x288 with 1 Axes>"
      ]
     },
     "metadata": {
      "needs_background": "light"
     },
     "output_type": "display_data"
    }
   ],
   "source": [
    "ps4.plot(x='critic_score', y='total_sales', kind='scatter')"
   ]
  },
  {
   "cell_type": "markdown",
   "id": "d6612647",
   "metadata": {},
   "source": [
    "Слабая зависимость прослеживается при оценках выше 70"
   ]
  },
  {
   "cell_type": "code",
   "execution_count": 35,
   "id": "43130281",
   "metadata": {},
   "outputs": [
    {
     "data": {
      "text/plain": [
       "-0.06436843180510407"
      ]
     },
     "execution_count": 35,
     "metadata": {},
     "output_type": "execute_result"
    }
   ],
   "source": [
    "ps4['total_sales'].corr(ps4['user_score'])"
   ]
  },
  {
   "cell_type": "code",
   "execution_count": 36,
   "id": "a56ee1e2",
   "metadata": {},
   "outputs": [
    {
     "data": {
      "text/plain": [
       "<matplotlib.axes._subplots.AxesSubplot at 0x7fdb14362710>"
      ]
     },
     "execution_count": 36,
     "metadata": {},
     "output_type": "execute_result"
    },
    {
     "data": {
      "image/png": "[encoded data removed]",
      "text/plain": [
       "<Figure size 432x288 with 1 Axes>"
      ]
     },
     "metadata": {
      "needs_background": "light"
     },
     "output_type": "display_data"
    }
   ],
   "source": [
    "ps4.plot(x='user_score', y='total_sales', kind='scatter')"
   ]
  },
  {
   "cell_type": "markdown",
   "id": "57ff4651",
   "metadata": {},
   "source": [
    "Корреляция между оценками пользователей и продажами очень низкая или отсутствует"
   ]
  },
  {
   "cell_type": "markdown",
   "id": "637068c8",
   "metadata": {},
   "source": [
    "Проверим корреляцию для нескольких других платформ"
   ]
  },
  {
   "cell_type": "code",
   "execution_count": 37,
   "id": "19dea52e",
   "metadata": {},
   "outputs": [
    {
     "data": {
      "text/html": [
       "<div>\n",
       "<style scoped>\n",
       "    .dataframe tbody tr th:only-of-type {\n",
       "        vertical-align: middle;\n",
       "    }\n",
       "\n",
       "    .dataframe tbody tr th {\n",
       "        vertical-align: top;\n",
       "    }\n",
       "\n",
       "    .dataframe thead th {\n",
       "        text-align: right;\n",
       "    }\n",
       "</style>\n",
       "<table border=\"1\" class=\"dataframe\">\n",
       "  <thead>\n",
       "    <tr style=\"text-align: right;\">\n",
       "      <th></th>\n",
       "      <th>XOne</th>\n",
       "      <th>3DS</th>\n",
       "      <th>WiiU</th>\n",
       "    </tr>\n",
       "  </thead>\n",
       "  <tbody>\n",
       "    <tr>\n",
       "      <td>Корреляция между оценками пользователей и продажами</td>\n",
       "      <td>-0.068684</td>\n",
       "      <td>0.240477</td>\n",
       "      <td>0.354987</td>\n",
       "    </tr>\n",
       "    <tr>\n",
       "      <td>Корреляция между оценками критиками и продажами</td>\n",
       "      <td>0.422519</td>\n",
       "      <td>0.177575</td>\n",
       "      <td>0.325674</td>\n",
       "    </tr>\n",
       "  </tbody>\n",
       "</table>\n",
       "</div>"
      ],
      "text/plain": [
       "                                                        XOne       3DS  \\\n",
       "Корреляция между оценками пользователей и прода... -0.068684  0.240477   \n",
       "Корреляция между оценками критиками и продажами     0.422519  0.177575   \n",
       "\n",
       "                                                        WiiU  \n",
       "Корреляция между оценками пользователей и прода...  0.354987  \n",
       "Корреляция между оценками критиками и продажами     0.325674  "
      ]
     },
     "execution_count": 37,
     "metadata": {},
     "output_type": "execute_result"
    },
    {
     "data": {
      "image/png": "[encoded data removed]",
      "text/plain": [
       "<Figure size 432x288 with 1 Axes>"
      ]
     },
     "metadata": {
      "needs_background": "light"
     },
     "output_type": "display_data"
    },
    {
     "data": {
      "image/png": "[encoded data removed]",
      "text/plain": [
       "<Figure size 432x288 with 1 Axes>"
      ]
     },
     "metadata": {
      "needs_background": "light"
     },
     "output_type": "display_data"
    },
    {
     "data": {
      "image/png": "[encoded data removed]",
      "text/plain": [
       "<Figure size 432x288 with 1 Axes>"
      ]
     },
     "metadata": {
      "needs_background": "light"
     },
     "output_type": "display_data"
    },
    {
     "data": {
      "image/png": "[encoded data removed]",
      "text/plain": [
       "<Figure size 432x288 with 1 Axes>"
      ]
     },
     "metadata": {
      "needs_background": "light"
     },
     "output_type": "display_data"
    },
    {
     "data": {
      "image/png": "[encoded data removed]",
      "text/plain": [
       "<Figure size 432x288 with 1 Axes>"
      ]
     },
     "metadata": {
      "needs_background": "light"
     },
     "output_type": "display_data"
    },
    {
     "data": {
      "image/png": "[encoded data removed]",
      "text/plain": [
       "<Figure size 432x288 with 1 Axes>"
      ]
     },
     "metadata": {
      "needs_background": "light"
     },
     "output_type": "display_data"
    }
   ],
   "source": [
    "platforms = ['XOne', '3DS', 'WiiU']\n",
    "platforms_user_score_corr = []\n",
    "platforms_critic_score_corr = []\n",
    "for platform in platforms:\n",
    "    platform_data = data_actual.query('(platform == @platform) & (critic_score > 0) & (user_score > 0)')\n",
    "    \n",
    "    platform_data.plot(x='user_score', y='total_sales', kind='scatter', title=platform)\n",
    "    platform_data.plot(x='critic_score', y='total_sales', kind='scatter', title=platform)\n",
    "    \n",
    "    platforms_user_score_corr.append(platform_data['total_sales'].corr(platform_data['user_score']))\n",
    "    platforms_critic_score_corr.append(platform_data['total_sales'].corr(platform_data['critic_score']))\n",
    "\n",
    "pd.DataFrame(\n",
    "    [platforms_user_score_corr, platforms_critic_score_corr],\n",
    "    columns=platforms,\n",
    "    index=['Корреляция между оценками пользователей и продажами', 'Корреляция между оценками критиками и продажами']\n",
    ")"
   ]
  },
  {
   "cell_type": "markdown",
   "id": "f951f588",
   "metadata": {},
   "source": [
    "**Вывод**\n",
    "\n",
    "Оценки критиков и пользователей слабо влияют на суммарные продажи игры"
   ]
  },
  {
   "cell_type": "markdown",
   "id": "e017930b",
   "metadata": {},
   "source": [
    "### Рассмотрим продажи по жанрам игр"
   ]
  },
  {
   "cell_type": "markdown",
   "id": "ea73fad7",
   "metadata": {},
   "source": [
    "Посмотрим на общее распределение игр по жанрам в контексте суммарных продаж по ним"
   ]
  },
  {
   "cell_type": "code",
   "execution_count": 38,
   "id": "e952e00f",
   "metadata": {
    "scrolled": true
   },
   "outputs": [
    {
     "data": {
      "text/plain": [
       "<matplotlib.axes._subplots.AxesSubplot at 0x7fdb140d4c10>"
      ]
     },
     "execution_count": 38,
     "metadata": {},
     "output_type": "execute_result"
    },
    {
     "data": {
      "image/png": "[encoded data removed]",
      "text/plain": [
       "<Figure size 864x360 with 1 Axes>"
      ]
     },
     "metadata": {
      "needs_background": "light"
     },
     "output_type": "display_data"
    }
   ],
   "source": [
    "data_actual.pivot_table(index='genre', values='total_sales', aggfunc=['sum', 'count']).sort_values(('sum','total_sales'), ascending=False).plot(kind='bar', figsize=(12,5))"
   ]
  },
  {
   "cell_type": "code",
   "execution_count": 39,
   "id": "7dffea54",
   "metadata": {},
   "outputs": [
    {
     "data": {
      "text/plain": [
       "<matplotlib.axes._subplots.AxesSubplot at 0x7fdb0efdf490>"
      ]
     },
     "execution_count": 39,
     "metadata": {},
     "output_type": "execute_result"
    },
    {
     "data": {
      "image/png": "[encoded data removed]",
      "text/plain": [
       "<Figure size 864x360 with 1 Axes>"
      ]
     },
     "metadata": {
      "needs_background": "light"
     },
     "output_type": "display_data"
    }
   ],
   "source": [
    "data_actual.pivot_table(index='genre', values='total_sales', aggfunc=['mean']).sort_values(('mean','total_sales'), ascending=False).plot(kind='bar', figsize=(12,5))"
   ]
  },
  {
   "cell_type": "code",
   "execution_count": 40,
   "id": "762cb0f5",
   "metadata": {
    "scrolled": false
   },
   "outputs": [
    {
     "data": {
      "text/plain": [
       "<matplotlib.axes._subplots.AxesSubplot at 0x7fdb0ef0db10>"
      ]
     },
     "execution_count": 40,
     "metadata": {},
     "output_type": "execute_result"
    },
    {
     "data": {
      "image/png": "[encoded data removed]",
      "text/plain": [
       "<Figure size 1152x432 with 1 Axes>"
      ]
     },
     "metadata": {
      "needs_background": "light"
     },
     "output_type": "display_data"
    }
   ],
   "source": [
    "plt.figure(figsize=(16, 6))\n",
    "sns.boxplot(x=\"genre\", y=\"total_sales\", data=data_actual)"
   ]
  },
  {
   "cell_type": "code",
   "execution_count": 41,
   "id": "ea0a3034",
   "metadata": {},
   "outputs": [
    {
     "data": {
      "text/plain": [
       "[(0, 4)]"
      ]
     },
     "execution_count": 41,
     "metadata": {},
     "output_type": "execute_result"
    },
    {
     "data": {
      "image/png": "[encoded data removed]",
      "text/plain": [
       "<Figure size 1152x432 with 1 Axes>"
      ]
     },
     "metadata": {
      "needs_background": "light"
     },
     "output_type": "display_data"
    }
   ],
   "source": [
    "plt.figure(figsize=(16, 6))\n",
    "ax = sns.boxplot(x=\"genre\", y=\"total_sales\", data=data_actual)\n",
    "ax.set(ylim=(0, 4))"
   ]
  },
  {
   "cell_type": "markdown",
   "id": "aec02c02",
   "metadata": {},
   "source": [
    "**Вывод** \n",
    "\n",
    "Самым популярным жанром является Action. Однако жанр Shooter опережает его по суммарным и удельным продажам. Несмотря на то, что для жанра Shooter наблюдаются выбросы вплоть до $14млн, медианные продажи и продажи 75% игр в этом жанре существенно превышают аналогичные показатели по остальным жанрам. Наименее прибыльные и малопопулярными являются жанры Strategy и Puzzle.\n"
   ]
  },
  {
   "cell_type": "markdown",
   "id": "68631aae",
   "metadata": {},
   "source": [
    "## Портрет пользователя"
   ]
  },
  {
   "cell_type": "markdown",
   "id": "8a4843a6",
   "metadata": {},
   "source": [
    "Рассмотрим представленные данные в разрезе регионов (NA, EU, JP)"
   ]
  },
  {
   "cell_type": "markdown",
   "id": "a32a0bfb",
   "metadata": {},
   "source": [
    "### Популярные платформы"
   ]
  },
  {
   "cell_type": "markdown",
   "id": "dc0c2e8c",
   "metadata": {},
   "source": [
    "**Регион NA**"
   ]
  },
  {
   "cell_type": "code",
   "execution_count": 42,
   "id": "3b337d14",
   "metadata": {
    "scrolled": true
   },
   "outputs": [
    {
     "data": {
      "text/html": [
       "<div>\n",
       "<style scoped>\n",
       "    .dataframe tbody tr th:only-of-type {\n",
       "        vertical-align: middle;\n",
       "    }\n",
       "\n",
       "    .dataframe tbody tr th {\n",
       "        vertical-align: top;\n",
       "    }\n",
       "\n",
       "    .dataframe thead th {\n",
       "        text-align: right;\n",
       "    }\n",
       "</style>\n",
       "<table border=\"1\" class=\"dataframe\">\n",
       "  <thead>\n",
       "    <tr style=\"text-align: right;\">\n",
       "      <th></th>\n",
       "      <th>na_sales</th>\n",
       "      <th>na_sales %</th>\n",
       "    </tr>\n",
       "    <tr>\n",
       "      <th>platform</th>\n",
       "      <th></th>\n",
       "      <th></th>\n",
       "    </tr>\n",
       "  </thead>\n",
       "  <tbody>\n",
       "    <tr>\n",
       "      <td>PS4</td>\n",
       "      <td>63.86</td>\n",
       "      <td>42.1</td>\n",
       "    </tr>\n",
       "    <tr>\n",
       "      <td>XOne</td>\n",
       "      <td>50.30</td>\n",
       "      <td>33.1</td>\n",
       "    </tr>\n",
       "    <tr>\n",
       "      <td>other platform</td>\n",
       "      <td>10.41</td>\n",
       "      <td>6.9</td>\n",
       "    </tr>\n",
       "    <tr>\n",
       "      <td>3DS</td>\n",
       "      <td>10.31</td>\n",
       "      <td>6.8</td>\n",
       "    </tr>\n",
       "    <tr>\n",
       "      <td>WiiU</td>\n",
       "      <td>8.86</td>\n",
       "      <td>5.8</td>\n",
       "    </tr>\n",
       "    <tr>\n",
       "      <td>X360</td>\n",
       "      <td>8.05</td>\n",
       "      <td>5.3</td>\n",
       "    </tr>\n",
       "  </tbody>\n",
       "</table>\n",
       "</div>"
      ],
      "text/plain": [
       "                na_sales  na_sales %\n",
       "platform                            \n",
       "PS4                63.86        42.1\n",
       "XOne               50.30        33.1\n",
       "other platform     10.41         6.9\n",
       "3DS                10.31         6.8\n",
       "WiiU                8.86         5.8\n",
       "X360                8.05         5.3"
      ]
     },
     "execution_count": 42,
     "metadata": {},
     "output_type": "execute_result"
    }
   ],
   "source": [
    "na_sales_by_platform = data_actual.groupby('platform')['na_sales'].sum().sort_values(ascending=False).reset_index()\n",
    "na_sales_by_platform['platform'] = na_sales_by_platform['platform'].astype('object')\n",
    "na_sales_by_platform['platform'].where(~(na_sales_by_platform['platform'].index > 4), 'other platform', inplace=True)\n",
    "na_sales_by_platform = na_sales_by_platform.groupby('platform').sum()\n",
    "na_sales_by_platform['na_sales %'] = na_sales_by_platform.apply(lambda x: round(x/x.sum()*100,1))\n",
    "na_sales_by_platform.sort_values(by='na_sales', ascending=False)"
   ]
  },
  {
   "cell_type": "code",
   "execution_count": 43,
   "id": "a569ef0c",
   "metadata": {},
   "outputs": [
    {
     "data": {
      "text/plain": [
       "Text(0.5, 1.0, 'na_sales by platform')"
      ]
     },
     "execution_count": 43,
     "metadata": {},
     "output_type": "execute_result"
    },
    {
     "data": {
      "image/png": "[encoded data removed]",
      "text/plain": [
       "<Figure size 432x288 with 1 Axes>"
      ]
     },
     "metadata": {},
     "output_type": "display_data"
    }
   ],
   "source": [
    "ax = na_sales_by_platform.groupby('platform').sum().plot.pie(y='na_sales', radius=1.5,)\n",
    "plt.legend(\n",
    "    bbox_to_anchor=(1.5,0), \n",
    ")\n",
    "plt.title('na_sales by platform', pad=50)"
   ]
  },
  {
   "cell_type": "markdown",
   "id": "3728dd9f",
   "metadata": {},
   "source": [
    "Как и ожидалось в северной америке большой популярностью пользуются родные приставки от Microsoft (XBox). Однако игры для японской платформы PS4 имеют наибольшие продажи. В целом игры для платформ японских производителей Sony и Nintendo суммарно имеют больший рынок в регионе"
   ]
  },
  {
   "cell_type": "markdown",
   "id": "4704ec90",
   "metadata": {},
   "source": [
    "**Регион EU**"
   ]
  },
  {
   "cell_type": "code",
   "execution_count": 44,
   "id": "a573112d",
   "metadata": {},
   "outputs": [
    {
     "data": {
      "text/html": [
       "<div>\n",
       "<style scoped>\n",
       "    .dataframe tbody tr th:only-of-type {\n",
       "        vertical-align: middle;\n",
       "    }\n",
       "\n",
       "    .dataframe tbody tr th {\n",
       "        vertical-align: top;\n",
       "    }\n",
       "\n",
       "    .dataframe thead th {\n",
       "        text-align: right;\n",
       "    }\n",
       "</style>\n",
       "<table border=\"1\" class=\"dataframe\">\n",
       "  <thead>\n",
       "    <tr style=\"text-align: right;\">\n",
       "      <th></th>\n",
       "      <th>eu_sales</th>\n",
       "      <th>eu_sales %</th>\n",
       "    </tr>\n",
       "    <tr>\n",
       "      <th>platform</th>\n",
       "      <th></th>\n",
       "      <th></th>\n",
       "    </tr>\n",
       "  </thead>\n",
       "  <tbody>\n",
       "    <tr>\n",
       "      <td>PS4</td>\n",
       "      <td>83.54</td>\n",
       "      <td>56.5</td>\n",
       "    </tr>\n",
       "    <tr>\n",
       "      <td>XOne</td>\n",
       "      <td>28.10</td>\n",
       "      <td>19.0</td>\n",
       "    </tr>\n",
       "    <tr>\n",
       "      <td>other platform</td>\n",
       "      <td>12.51</td>\n",
       "      <td>8.5</td>\n",
       "    </tr>\n",
       "    <tr>\n",
       "      <td>PC</td>\n",
       "      <td>9.10</td>\n",
       "      <td>6.2</td>\n",
       "    </tr>\n",
       "    <tr>\n",
       "      <td>3DS</td>\n",
       "      <td>7.39</td>\n",
       "      <td>5.0</td>\n",
       "    </tr>\n",
       "    <tr>\n",
       "      <td>PS3</td>\n",
       "      <td>7.30</td>\n",
       "      <td>4.9</td>\n",
       "    </tr>\n",
       "  </tbody>\n",
       "</table>\n",
       "</div>"
      ],
      "text/plain": [
       "                eu_sales  eu_sales %\n",
       "platform                            \n",
       "PS4                83.54        56.5\n",
       "XOne               28.10        19.0\n",
       "other platform     12.51         8.5\n",
       "PC                  9.10         6.2\n",
       "3DS                 7.39         5.0\n",
       "PS3                 7.30         4.9"
      ]
     },
     "execution_count": 44,
     "metadata": {},
     "output_type": "execute_result"
    }
   ],
   "source": [
    "eu_sales_by_platform = data_actual.groupby('platform')['eu_sales'].sum().sort_values(ascending=False).reset_index()\n",
    "eu_sales_by_platform['platform'] = eu_sales_by_platform['platform'].astype('object')\n",
    "eu_sales_by_platform['platform'].where(~(eu_sales_by_platform['platform'].index > 4), 'other platform', inplace=True)\n",
    "eu_sales_by_platform = eu_sales_by_platform.groupby('platform').sum()\n",
    "eu_sales_by_platform['eu_sales %'] = eu_sales_by_platform.apply(lambda x: round(x/x.sum()*100,1))\n",
    "eu_sales_by_platform.sort_values(by='eu_sales', ascending=False)"
   ]
  },
  {
   "cell_type": "code",
   "execution_count": 45,
   "id": "6b0637b5",
   "metadata": {},
   "outputs": [
    {
     "data": {
      "text/plain": [
       "Text(0.5, 1.0, 'eu_sales by platform')"
      ]
     },
     "execution_count": 45,
     "metadata": {},
     "output_type": "execute_result"
    },
    {
     "data": {
      "image/png": "[encoded data removed]",
      "text/plain": [
       "<Figure size 432x288 with 1 Axes>"
      ]
     },
     "metadata": {},
     "output_type": "display_data"
    }
   ],
   "source": [
    "ax = eu_sales_by_platform.groupby('platform').sum().plot.pie(y='eu_sales', radius=1.5,)\n",
    "plt.legend(\n",
    "    bbox_to_anchor=(1.5,0), \n",
    ")\n",
    "plt.title('eu_sales by platform', pad=50)"
   ]
  },
  {
   "cell_type": "markdown",
   "id": "62588d1d",
   "metadata": {},
   "source": [
    "В регионе EU платформа PS4 занимает еще большую долю рынка по сравнению с NA. Примечательно, что вместо платформы старого поколения от Microsoft (X360) в Европе попала в топ платформа старого поколения от Sony (PS3). Кроме того, в регионе EU игры для других платформ и PC имеют значительно большее распростанение по сравнению с NA."
   ]
  },
  {
   "cell_type": "markdown",
   "id": "784e6544",
   "metadata": {},
   "source": [
    "**Регион JP**"
   ]
  },
  {
   "cell_type": "code",
   "execution_count": 46,
   "id": "e6e85052",
   "metadata": {},
   "outputs": [
    {
     "data": {
      "text/html": [
       "<div>\n",
       "<style scoped>\n",
       "    .dataframe tbody tr th:only-of-type {\n",
       "        vertical-align: middle;\n",
       "    }\n",
       "\n",
       "    .dataframe tbody tr th {\n",
       "        vertical-align: top;\n",
       "    }\n",
       "\n",
       "    .dataframe thead th {\n",
       "        text-align: right;\n",
       "    }\n",
       "</style>\n",
       "<table border=\"1\" class=\"dataframe\">\n",
       "  <thead>\n",
       "    <tr style=\"text-align: right;\">\n",
       "      <th></th>\n",
       "      <th>jp_sales</th>\n",
       "      <th>jp_sales %</th>\n",
       "    </tr>\n",
       "    <tr>\n",
       "      <th>platform</th>\n",
       "      <th></th>\n",
       "      <th></th>\n",
       "    </tr>\n",
       "  </thead>\n",
       "  <tbody>\n",
       "    <tr>\n",
       "      <td>3DS</td>\n",
       "      <td>23.55</td>\n",
       "      <td>44.1</td>\n",
       "    </tr>\n",
       "    <tr>\n",
       "      <td>PS4</td>\n",
       "      <td>12.05</td>\n",
       "      <td>22.6</td>\n",
       "    </tr>\n",
       "    <tr>\n",
       "      <td>PSV</td>\n",
       "      <td>8.41</td>\n",
       "      <td>15.7</td>\n",
       "    </tr>\n",
       "    <tr>\n",
       "      <td>PS3</td>\n",
       "      <td>4.97</td>\n",
       "      <td>9.3</td>\n",
       "    </tr>\n",
       "    <tr>\n",
       "      <td>WiiU</td>\n",
       "      <td>4.12</td>\n",
       "      <td>7.7</td>\n",
       "    </tr>\n",
       "    <tr>\n",
       "      <td>other platform</td>\n",
       "      <td>0.30</td>\n",
       "      <td>0.6</td>\n",
       "    </tr>\n",
       "  </tbody>\n",
       "</table>\n",
       "</div>"
      ],
      "text/plain": [
       "                jp_sales  jp_sales %\n",
       "platform                            \n",
       "3DS                23.55        44.1\n",
       "PS4                12.05        22.6\n",
       "PSV                 8.41        15.7\n",
       "PS3                 4.97         9.3\n",
       "WiiU                4.12         7.7\n",
       "other platform      0.30         0.6"
      ]
     },
     "execution_count": 46,
     "metadata": {},
     "output_type": "execute_result"
    }
   ],
   "source": [
    "jp_sales_by_platform = data_actual.groupby('platform')['jp_sales'].sum().sort_values(ascending=False).reset_index()\n",
    "jp_sales_by_platform['platform'] = jp_sales_by_platform['platform'].astype('object')\n",
    "jp_sales_by_platform['platform'].where(~(jp_sales_by_platform['platform'].index > 4), 'other platform', inplace=True)\n",
    "jp_sales_by_platform = jp_sales_by_platform.groupby('platform').sum()\n",
    "jp_sales_by_platform['jp_sales %'] = jp_sales_by_platform.apply(lambda x: round(x/x.sum()*100,1))\n",
    "jp_sales_by_platform.sort_values(by='jp_sales', ascending=False)"
   ]
  },
  {
   "cell_type": "code",
   "execution_count": 47,
   "id": "612b8930",
   "metadata": {},
   "outputs": [
    {
     "data": {
      "text/plain": [
       "Text(0.5, 1.0, 'jp_sales by platform')"
      ]
     },
     "execution_count": 47,
     "metadata": {},
     "output_type": "execute_result"
    },
    {
     "data": {
      "image/png": "[encoded data removed]",
      "text/plain": [
       "<Figure size 432x288 with 1 Axes>"
      ]
     },
     "metadata": {},
     "output_type": "display_data"
    }
   ],
   "source": [
    "ax = jp_sales_by_platform.groupby('platform').sum().plot.pie(y='jp_sales', radius=1.5,)\n",
    "plt.legend(\n",
    "    bbox_to_anchor=(1.5,0), \n",
    ")\n",
    "plt.title('jp_sales by platform', pad=50)"
   ]
  },
  {
   "cell_type": "markdown",
   "id": "2b1a8e83",
   "metadata": {},
   "source": [
    "В регионе JP закономерно царит полное господство приставок японских производителей. Причем лидерство удерживает компания Nintendo с платформами 3DS и Wii и более чем половиной рынка. Примечательно, что в регионе JP гораздо большей популярностью пользуются портативные платформы (3DS, PSV), игры для которых, суммарно имеют почти 60% рынка, тогда как для регионов NA и EU единственный представитель портативной платформы (3DS) не поднимался выше 4го места в рейтинге суммарных продаж по играм. Кроме того, доля продаж игр для других платформ ничтожна мала, практически весь рынок поделен между топовыми платформами."
   ]
  },
  {
   "cell_type": "markdown",
   "id": "28ed0884",
   "metadata": {},
   "source": [
    "### Популярные жанры"
   ]
  },
  {
   "cell_type": "markdown",
   "id": "f114f516",
   "metadata": {},
   "source": [
    "**Регион NA**"
   ]
  },
  {
   "cell_type": "code",
   "execution_count": 48,
   "id": "63fddb24",
   "metadata": {},
   "outputs": [
    {
     "data": {
      "text/html": [
       "<div>\n",
       "<style scoped>\n",
       "    .dataframe tbody tr th:only-of-type {\n",
       "        vertical-align: middle;\n",
       "    }\n",
       "\n",
       "    .dataframe tbody tr th {\n",
       "        vertical-align: top;\n",
       "    }\n",
       "\n",
       "    .dataframe thead th {\n",
       "        text-align: right;\n",
       "    }\n",
       "</style>\n",
       "<table border=\"1\" class=\"dataframe\">\n",
       "  <thead>\n",
       "    <tr style=\"text-align: right;\">\n",
       "      <th></th>\n",
       "      <th>na_sales</th>\n",
       "      <th>na_sales %</th>\n",
       "    </tr>\n",
       "    <tr>\n",
       "      <th>genre</th>\n",
       "      <th></th>\n",
       "      <th></th>\n",
       "    </tr>\n",
       "  </thead>\n",
       "  <tbody>\n",
       "    <tr>\n",
       "      <td>Shooter</td>\n",
       "      <td>48.18</td>\n",
       "      <td>31.7</td>\n",
       "    </tr>\n",
       "    <tr>\n",
       "      <td>Action</td>\n",
       "      <td>33.68</td>\n",
       "      <td>22.2</td>\n",
       "    </tr>\n",
       "    <tr>\n",
       "      <td>Sports</td>\n",
       "      <td>26.31</td>\n",
       "      <td>17.3</td>\n",
       "    </tr>\n",
       "    <tr>\n",
       "      <td>Role-Playing</td>\n",
       "      <td>19.82</td>\n",
       "      <td>13.1</td>\n",
       "    </tr>\n",
       "    <tr>\n",
       "      <td>other genre</td>\n",
       "      <td>18.22</td>\n",
       "      <td>12.0</td>\n",
       "    </tr>\n",
       "    <tr>\n",
       "      <td>Misc</td>\n",
       "      <td>5.58</td>\n",
       "      <td>3.7</td>\n",
       "    </tr>\n",
       "  </tbody>\n",
       "</table>\n",
       "</div>"
      ],
      "text/plain": [
       "              na_sales  na_sales %\n",
       "genre                             \n",
       "Shooter          48.18        31.7\n",
       "Action           33.68        22.2\n",
       "Sports           26.31        17.3\n",
       "Role-Playing     19.82        13.1\n",
       "other genre      18.22        12.0\n",
       "Misc              5.58         3.7"
      ]
     },
     "execution_count": 48,
     "metadata": {},
     "output_type": "execute_result"
    }
   ],
   "source": [
    "na_sales_by_genre = data_actual.groupby('genre')['na_sales'].sum().sort_values(ascending=False).reset_index()\n",
    "na_sales_by_genre['genre'] = na_sales_by_genre['genre'].astype('object')\n",
    "na_sales_by_genre['genre'].where(~(na_sales_by_genre['genre'].index > 4), 'other genre', inplace=True)\n",
    "na_sales_by_genre = na_sales_by_genre.groupby('genre').sum()\n",
    "na_sales_by_genre['na_sales %'] = na_sales_by_genre.apply(lambda x: round(x/x.sum()*100,1))\n",
    "na_sales_by_genre.sort_values(by='na_sales', ascending=False)"
   ]
  },
  {
   "cell_type": "code",
   "execution_count": 49,
   "id": "e0118215",
   "metadata": {},
   "outputs": [
    {
     "data": {
      "text/plain": [
       "Text(0.5, 1.0, 'na_sales by genre')"
      ]
     },
     "execution_count": 49,
     "metadata": {},
     "output_type": "execute_result"
    },
    {
     "data": {
      "image/png": "[encoded data removed]",
      "text/plain": [
       "<Figure size 432x288 with 1 Axes>"
      ]
     },
     "metadata": {},
     "output_type": "display_data"
    }
   ],
   "source": [
    "ax = na_sales_by_genre.groupby('genre').sum().plot.pie(y='na_sales', radius=1.5,)\n",
    "plt.legend(\n",
    "    bbox_to_anchor=(1.5,0), \n",
    ")\n",
    "plt.title('na_sales by genre', pad=50)"
   ]
  },
  {
   "cell_type": "markdown",
   "id": "fd682140",
   "metadata": {},
   "source": [
    "В регионе NA предпочитают жанры Action, Sports и Shooter"
   ]
  },
  {
   "cell_type": "markdown",
   "id": "516fa574",
   "metadata": {},
   "source": [
    "**Регион EU**"
   ]
  },
  {
   "cell_type": "code",
   "execution_count": 50,
   "id": "28dbbb59",
   "metadata": {},
   "outputs": [
    {
     "data": {
      "text/html": [
       "<div>\n",
       "<style scoped>\n",
       "    .dataframe tbody tr th:only-of-type {\n",
       "        vertical-align: middle;\n",
       "    }\n",
       "\n",
       "    .dataframe tbody tr th {\n",
       "        vertical-align: top;\n",
       "    }\n",
       "\n",
       "    .dataframe thead th {\n",
       "        text-align: right;\n",
       "    }\n",
       "</style>\n",
       "<table border=\"1\" class=\"dataframe\">\n",
       "  <thead>\n",
       "    <tr style=\"text-align: right;\">\n",
       "      <th></th>\n",
       "      <th>eu_sales</th>\n",
       "      <th>eu_sales %</th>\n",
       "    </tr>\n",
       "    <tr>\n",
       "      <th>genre</th>\n",
       "      <th></th>\n",
       "      <th></th>\n",
       "    </tr>\n",
       "  </thead>\n",
       "  <tbody>\n",
       "    <tr>\n",
       "      <td>Shooter</td>\n",
       "      <td>40.28</td>\n",
       "      <td>27.2</td>\n",
       "    </tr>\n",
       "    <tr>\n",
       "      <td>Action</td>\n",
       "      <td>34.82</td>\n",
       "      <td>23.5</td>\n",
       "    </tr>\n",
       "    <tr>\n",
       "      <td>Sports</td>\n",
       "      <td>27.82</td>\n",
       "      <td>18.8</td>\n",
       "    </tr>\n",
       "    <tr>\n",
       "      <td>other genre</td>\n",
       "      <td>21.29</td>\n",
       "      <td>14.4</td>\n",
       "    </tr>\n",
       "    <tr>\n",
       "      <td>Role-Playing</td>\n",
       "      <td>17.21</td>\n",
       "      <td>11.6</td>\n",
       "    </tr>\n",
       "    <tr>\n",
       "      <td>Racing</td>\n",
       "      <td>6.52</td>\n",
       "      <td>4.4</td>\n",
       "    </tr>\n",
       "  </tbody>\n",
       "</table>\n",
       "</div>"
      ],
      "text/plain": [
       "              eu_sales  eu_sales %\n",
       "genre                             \n",
       "Shooter          40.28        27.2\n",
       "Action           34.82        23.5\n",
       "Sports           27.82        18.8\n",
       "other genre      21.29        14.4\n",
       "Role-Playing     17.21        11.6\n",
       "Racing            6.52         4.4"
      ]
     },
     "execution_count": 50,
     "metadata": {},
     "output_type": "execute_result"
    }
   ],
   "source": [
    "eu_sales_by_genre = data_actual.groupby('genre')['eu_sales'].sum().sort_values(ascending=False).reset_index()\n",
    "eu_sales_by_genre['genre'] = eu_sales_by_genre['genre'].astype('object')\n",
    "eu_sales_by_genre['genre'].where(~(eu_sales_by_genre['genre'].index > 4), 'other genre', inplace=True)\n",
    "eu_sales_by_genre = eu_sales_by_genre.groupby('genre').sum()\n",
    "eu_sales_by_genre['eu_sales %'] = eu_sales_by_genre.apply(lambda x: round(x/x.sum()*100,1))\n",
    "eu_sales_by_genre.sort_values(by='eu_sales', ascending=False)"
   ]
  },
  {
   "cell_type": "code",
   "execution_count": 51,
   "id": "8f745af3",
   "metadata": {},
   "outputs": [
    {
     "data": {
      "text/plain": [
       "Text(0.5, 1.0, 'eu_sales by genre')"
      ]
     },
     "execution_count": 51,
     "metadata": {},
     "output_type": "execute_result"
    },
    {
     "data": {
      "image/png": "[encoded data removed]",
      "text/plain": [
       "<Figure size 432x288 with 1 Axes>"
      ]
     },
     "metadata": {},
     "output_type": "display_data"
    }
   ],
   "source": [
    "ax = eu_sales_by_genre.groupby('genre').sum().plot.pie(y='eu_sales', radius=1.5,)\n",
    "plt.legend(\n",
    "    bbox_to_anchor=(1.5,0), \n",
    ")\n",
    "plt.title('eu_sales by genre', pad=50)"
   ]
  },
  {
   "cell_type": "markdown",
   "id": "27193e28",
   "metadata": {},
   "source": [
    "В регионе EU ситуация аналогичная, однако жанр Racing здесь предпочитают больше чем Misc"
   ]
  },
  {
   "cell_type": "markdown",
   "id": "68261142",
   "metadata": {},
   "source": [
    "**Регион JP**"
   ]
  },
  {
   "cell_type": "code",
   "execution_count": 52,
   "id": "91ca959e",
   "metadata": {},
   "outputs": [
    {
     "data": {
      "text/html": [
       "<div>\n",
       "<style scoped>\n",
       "    .dataframe tbody tr th:only-of-type {\n",
       "        vertical-align: middle;\n",
       "    }\n",
       "\n",
       "    .dataframe tbody tr th {\n",
       "        vertical-align: top;\n",
       "    }\n",
       "\n",
       "    .dataframe thead th {\n",
       "        text-align: right;\n",
       "    }\n",
       "</style>\n",
       "<table border=\"1\" class=\"dataframe\">\n",
       "  <thead>\n",
       "    <tr style=\"text-align: right;\">\n",
       "      <th></th>\n",
       "      <th>jp_sales</th>\n",
       "      <th>jp_sales %</th>\n",
       "    </tr>\n",
       "    <tr>\n",
       "      <th>genre</th>\n",
       "      <th></th>\n",
       "      <th></th>\n",
       "    </tr>\n",
       "  </thead>\n",
       "  <tbody>\n",
       "    <tr>\n",
       "      <td>Action</td>\n",
       "      <td>23.05</td>\n",
       "      <td>43.2</td>\n",
       "    </tr>\n",
       "    <tr>\n",
       "      <td>Role-Playing</td>\n",
       "      <td>13.41</td>\n",
       "      <td>25.1</td>\n",
       "    </tr>\n",
       "    <tr>\n",
       "      <td>other genre</td>\n",
       "      <td>7.74</td>\n",
       "      <td>14.5</td>\n",
       "    </tr>\n",
       "    <tr>\n",
       "      <td>Shooter</td>\n",
       "      <td>3.79</td>\n",
       "      <td>7.1</td>\n",
       "    </tr>\n",
       "    <tr>\n",
       "      <td>Misc</td>\n",
       "      <td>3.19</td>\n",
       "      <td>6.0</td>\n",
       "    </tr>\n",
       "    <tr>\n",
       "      <td>Adventure</td>\n",
       "      <td>2.22</td>\n",
       "      <td>4.2</td>\n",
       "    </tr>\n",
       "  </tbody>\n",
       "</table>\n",
       "</div>"
      ],
      "text/plain": [
       "              jp_sales  jp_sales %\n",
       "genre                             \n",
       "Action           23.05        43.2\n",
       "Role-Playing     13.41        25.1\n",
       "other genre       7.74        14.5\n",
       "Shooter           3.79         7.1\n",
       "Misc              3.19         6.0\n",
       "Adventure         2.22         4.2"
      ]
     },
     "execution_count": 52,
     "metadata": {},
     "output_type": "execute_result"
    }
   ],
   "source": [
    "jp_sales_by_genre = data_actual.groupby('genre')['jp_sales'].sum().sort_values(ascending=False).reset_index()\n",
    "jp_sales_by_genre['genre'] = jp_sales_by_genre['genre'].astype('object')\n",
    "jp_sales_by_genre['genre'].where(~(jp_sales_by_genre['genre'].index > 4), 'other genre', inplace=True)\n",
    "jp_sales_by_genre = jp_sales_by_genre.groupby('genre').sum()\n",
    "jp_sales_by_genre['jp_sales %'] = jp_sales_by_genre.apply(lambda x: round(x/x.sum()*100,1))\n",
    "jp_sales_by_genre.sort_values(by='jp_sales', ascending=False)"
   ]
  },
  {
   "cell_type": "code",
   "execution_count": 53,
   "id": "b42f4bcb",
   "metadata": {},
   "outputs": [
    {
     "data": {
      "text/plain": [
       "Text(0.5, 1.0, 'jp_sales by genre')"
      ]
     },
     "execution_count": 53,
     "metadata": {},
     "output_type": "execute_result"
    },
    {
     "data": {
      "image/png": "[encoded data removed]",
      "text/plain": [
       "<Figure size 432x288 with 1 Axes>"
      ]
     },
     "metadata": {},
     "output_type": "display_data"
    }
   ],
   "source": [
    "ax = jp_sales_by_genre.groupby('genre').sum().plot.pie(y='jp_sales', radius=1.5,)\n",
    "plt.legend(\n",
    "    bbox_to_anchor=(1.5,0), \n",
    ")\n",
    "plt.title('jp_sales by genre', pad=50)"
   ]
  },
  {
   "cell_type": "markdown",
   "id": "95336554",
   "metadata": {},
   "source": [
    "В регионе JP картина сильно отличается - более четверти рынка занимают Role-Playing. Жанр Action занимает примерно в два раза больше рынка по сравнению с другими регионами. Жанр Shooter также очень популярен в регионе, однако в топ не вошел жанр Sport. Последнее место в топе занимает Adventure."
   ]
  },
  {
   "cell_type": "markdown",
   "id": "2b659171",
   "metadata": {},
   "source": [
    "### Влияние рейтинга ESRB на продажи"
   ]
  },
  {
   "cell_type": "markdown",
   "id": "7a182f96",
   "metadata": {},
   "source": [
    "Для оценки влияния рейтинга зададим порядок категорий рейтинга от (EC) Early childhood до (AO) Adults Only 18+ и найдем суммарные продажи по регионам для каждого рейтинга"
   ]
  },
  {
   "cell_type": "code",
   "execution_count": 54,
   "id": "9af2f40c",
   "metadata": {
    "scrolled": true
   },
   "outputs": [
    {
     "name": "stderr",
     "output_type": "stream",
     "text": [
      "/opt/conda/lib/python3.7/site-packages/ipykernel_launcher.py:2: SettingWithCopyWarning: \n",
      "A value is trying to be set on a copy of a slice from a DataFrame.\n",
      "Try using .loc[row_indexer,col_indexer] = value instead\n",
      "\n",
      "See the caveats in the documentation: http://pandas.pydata.org/pandas-docs/stable/user_guide/indexing.html#returning-a-view-versus-a-copy\n",
      "  \n"
     ]
    },
    {
     "data": {
      "text/html": [
       "<div>\n",
       "<style scoped>\n",
       "    .dataframe tbody tr th:only-of-type {\n",
       "        vertical-align: middle;\n",
       "    }\n",
       "\n",
       "    .dataframe tbody tr th {\n",
       "        vertical-align: top;\n",
       "    }\n",
       "\n",
       "    .dataframe thead th {\n",
       "        text-align: right;\n",
       "    }\n",
       "</style>\n",
       "<table border=\"1\" class=\"dataframe\">\n",
       "  <thead>\n",
       "    <tr style=\"text-align: right;\">\n",
       "      <th></th>\n",
       "      <th>na_sales %</th>\n",
       "      <th>eu_sales %</th>\n",
       "      <th>jp_sales %</th>\n",
       "    </tr>\n",
       "    <tr>\n",
       "      <th>rating</th>\n",
       "      <th></th>\n",
       "      <th></th>\n",
       "      <th></th>\n",
       "    </tr>\n",
       "  </thead>\n",
       "  <tbody>\n",
       "    <tr>\n",
       "      <td>EC</td>\n",
       "      <td>0.0</td>\n",
       "      <td>0.0</td>\n",
       "      <td>0.0</td>\n",
       "    </tr>\n",
       "    <tr>\n",
       "      <td>E</td>\n",
       "      <td>23.5</td>\n",
       "      <td>9.8</td>\n",
       "      <td>17.5</td>\n",
       "    </tr>\n",
       "    <tr>\n",
       "      <td>E10+</td>\n",
       "      <td>7.8</td>\n",
       "      <td>6.1</td>\n",
       "      <td>11.8</td>\n",
       "    </tr>\n",
       "    <tr>\n",
       "      <td>T</td>\n",
       "      <td>13.7</td>\n",
       "      <td>14.4</td>\n",
       "      <td>15.1</td>\n",
       "    </tr>\n",
       "    <tr>\n",
       "      <td>M</td>\n",
       "      <td>30.8</td>\n",
       "      <td>8.0</td>\n",
       "      <td>31.0</td>\n",
       "    </tr>\n",
       "    <tr>\n",
       "      <td>AO</td>\n",
       "      <td>0.0</td>\n",
       "      <td>0.0</td>\n",
       "      <td>0.0</td>\n",
       "    </tr>\n",
       "    <tr>\n",
       "      <td>RP</td>\n",
       "      <td>24.1</td>\n",
       "      <td>61.6</td>\n",
       "      <td>24.7</td>\n",
       "    </tr>\n",
       "  </tbody>\n",
       "</table>\n",
       "</div>"
      ],
      "text/plain": [
       "        na_sales %  eu_sales %  jp_sales %\n",
       "rating                                    \n",
       "EC             0.0         0.0         0.0\n",
       "E             23.5         9.8        17.5\n",
       "E10+           7.8         6.1        11.8\n",
       "T             13.7        14.4        15.1\n",
       "M             30.8         8.0        31.0\n",
       "AO             0.0         0.0         0.0\n",
       "RP            24.1        61.6        24.7"
      ]
     },
     "execution_count": 54,
     "metadata": {},
     "output_type": "execute_result"
    }
   ],
   "source": [
    "rating_order = ['EC', 'E', 'E10+', 'T', 'M', 'AO', 'RP']\n",
    "data_actual['rating'] = pd.Categorical(data_actual['rating'], categories=rating_order, ordered=True)\n",
    "sales_by_esrb = data_actual.pivot_table(index='rating', values=['na_sales', 'eu_sales', 'jp_sales'], aggfunc='sum')\n",
    "\n",
    "sales_by_esrb = sales_by_esrb.apply(lambda x: round(x/x.sum()*100, 1)) # нормализуем значения для сравнения\n",
    "sales_by_esrb.columns = ['na_sales %', 'eu_sales %', 'jp_sales %']\n",
    "sales_by_esrb"
   ]
  },
  {
   "cell_type": "code",
   "execution_count": 55,
   "id": "42839226",
   "metadata": {
    "scrolled": true
   },
   "outputs": [
    {
     "data": {
      "text/plain": [
       "<matplotlib.axes._subplots.AxesSubplot at 0x7fdb0e9b7890>"
      ]
     },
     "execution_count": 55,
     "metadata": {},
     "output_type": "execute_result"
    },
    {
     "data": {
      "image/png": "[encoded data removed]",
      "text/plain": [
       "<Figure size 720x360 with 1 Axes>"
      ]
     },
     "metadata": {
      "needs_background": "light"
     },
     "output_type": "display_data"
    }
   ],
   "source": [
    "sales_by_esrb.plot(kind='bar', figsize=(10,5))"
   ]
  },
  {
   "cell_type": "markdown",
   "id": "5b9877de",
   "metadata": {},
   "source": [
    "Исходя из графика можно сделать вывод о том, что рейтинг игры влияет на продажи. Больше всего во всех регионах продажи принести игры с рейтингом M. Принимая во внимание, что рейтинг ESRB применим для США и Канады рассмотрим регион NA отдельно"
   ]
  },
  {
   "cell_type": "code",
   "execution_count": 56,
   "id": "e3db5916",
   "metadata": {},
   "outputs": [
    {
     "data": {
      "text/plain": [
       "<matplotlib.axes._subplots.AxesSubplot at 0x7fdb1420d210>"
      ]
     },
     "execution_count": 56,
     "metadata": {},
     "output_type": "execute_result"
    },
    {
     "data": {
      "image/png": "[encoded data removed]",
      "text/plain": [
       "<Figure size 720x360 with 1 Axes>"
      ]
     },
     "metadata": {
      "needs_background": "light"
     },
     "output_type": "display_data"
    }
   ],
   "source": [
    "sales_by_esrb['na_sales %'].plot(kind='bar', figsize=(10,5))"
   ]
  },
  {
   "cell_type": "markdown",
   "id": "add94a77",
   "metadata": {},
   "source": [
    "Наиболее популярны игры около пограничных категорий: E (для всех) и M (для взрослых), на них приходится более половины всех продаж."
   ]
  },
  {
   "cell_type": "markdown",
   "id": "8249e292",
   "metadata": {},
   "source": [
    "**Вывод**\n",
    "\n",
    "* Существуют различия в предпочтениях пользователей регионов. Однако в целом, предпочтения пользователей регионов NA и EU похожи.\n",
    "* В NA и JP предпочитают платформы своего производства.\n",
    "* Платформа PS4 является лидером по продажам игр в регионах NA и EU.\n",
    "* В регионе JP предпочтения пользователей сильно отличаются от NA и EU. В регионе JP предпочитают портативные платформы. Рынок почти полностью поделен между основными популярными платформами.\n",
    "* Наиболее популярными жанрами в регионах NA и EU являются Shooter, Action и Sport. В регионе JP - Action и Role-Playing.\n",
    "* Влияние рейтинга ESRB определенно прослеживается. Однако учитывая его применимость только для региона NA стоит рассматривать только этот регион. Наибольшими продажами отличаются игры рейтингов E и M."
   ]
  },
  {
   "cell_type": "markdown",
   "id": "8cdaa479",
   "metadata": {},
   "source": [
    "## Проверка гипотез"
   ]
  },
  {
   "cell_type": "markdown",
   "id": "92d99d3e",
   "metadata": {},
   "source": [
    "### Гипотеза 1"
   ]
  },
  {
   "cell_type": "markdown",
   "id": "5468208e",
   "metadata": {},
   "source": [
    "**Нулевая гипотеза:** средние значения пользовательских рейтингов платформ Xbox One и PC *равны*"
   ]
  },
  {
   "cell_type": "markdown",
   "id": "890c41b9",
   "metadata": {},
   "source": [
    "**Альтернативная гипотеза:** средние значения пользовательских рейтингов платформ Xbox One и PC *отличаются*"
   ]
  },
  {
   "cell_type": "markdown",
   "id": "ff8b8bc1",
   "metadata": {},
   "source": [
    "Для проверки гипозеты воспользуемся методом `ttest_ind` и зададим критический уровень статистической значимости 5%"
   ]
  },
  {
   "cell_type": "code",
   "execution_count": 57,
   "id": "4af6226c",
   "metadata": {
    "scrolled": true
   },
   "outputs": [
    {
     "name": "stdout",
     "output_type": "stream",
     "text": [
      "p-value: 0.32588724877729613\n",
      "Не отвергаем нулевую гипотезу\n"
     ]
    }
   ],
   "source": [
    "xboxone_user_score = data_actual.query('platform == \"XOne\"')['user_score'].dropna()\n",
    "pc_user_score = data_actual.query('platform == \"PC\"')['user_score'].dropna()\n",
    "\n",
    "alpha = .05\n",
    "\n",
    "results = st.ttest_ind(xboxone_user_score, pc_user_score)\n",
    "\n",
    "print('p-value:', results.pvalue)\n",
    "\n",
    "if results.pvalue < alpha:\n",
    "    print('Отвергаем нулевую гипотезу')\n",
    "else:\n",
    "    print('Не отвергаем нулевую гипотезу')"
   ]
  },
  {
   "cell_type": "markdown",
   "id": "0295e1cd",
   "metadata": {},
   "source": [
    "Исходя из полученного p-value мы не можем отвергнуть нулевую гипотезу"
   ]
  },
  {
   "cell_type": "markdown",
   "id": "de7cb141",
   "metadata": {},
   "source": [
    "## Гипотеза 2"
   ]
  },
  {
   "cell_type": "markdown",
   "id": "cfbd5793",
   "metadata": {},
   "source": [
    "Аналогично проверим гипотезу о равенстве средних пользовательских рейтингов жанров Action и Sports"
   ]
  },
  {
   "cell_type": "markdown",
   "id": "000c1702",
   "metadata": {},
   "source": [
    "**Нулевая гипотеза:** средние значения пользовательских рейтингов жанров Action и Sports *равны*\n",
    "\n",
    "**Альтернативная гипотеза:** средние значения пользовательских рейтингов жанров Action и Sports *отличаются*"
   ]
  },
  {
   "cell_type": "code",
   "execution_count": 58,
   "id": "f09f76e6",
   "metadata": {},
   "outputs": [
    {
     "name": "stdout",
     "output_type": "stream",
     "text": [
      "p-value: 0.002606872747503855\n",
      "Отвергаем нулевую гипотезу\n"
     ]
    }
   ],
   "source": [
    "action_user_score = data_actual.query('genre == \"Action\"')['user_score'].dropna()\n",
    "sports_user_score = data_actual.query('genre == \"Sports\"')['user_score'].dropna()\n",
    "\n",
    "alpha = .05\n",
    "\n",
    "results = st.ttest_ind(action_user_score, sports_user_score)\n",
    "\n",
    "print('p-value:', results.pvalue)\n",
    "\n",
    "if results.pvalue < alpha:\n",
    "    print('Отвергаем нулевую гипотезу')\n",
    "else:\n",
    "    print('Не отвергаем нулевую гипотезу')"
   ]
  },
  {
   "cell_type": "markdown",
   "id": "8bf09865",
   "metadata": {},
   "source": [
    "Полученное значение p-value гораздо меньше заданного уровная статистической значимости, то есть вероятность равенства средних значений пользовательских рейтингов жанров Action и Sports крайне мала. \n",
    "\n",
    "Таким образом, необходимо отвергнуть нулевую гипотезу в пользу альтернативной."
   ]
  },
  {
   "cell_type": "markdown",
   "id": "47fc9deb",
   "metadata": {},
   "source": [
    "## Вывод"
   ]
  },
  {
   "cell_type": "markdown",
   "id": "6ca88ff3",
   "metadata": {},
   "source": [
    "* В топе продаж за все время игры на платформах PS2, PS3 и X360. Однако, срок жизни платформы составляет около 5 лет, в редких случаях до 10 лет. Таким образом игры на платформах более нового поколения (PS4 и 3DS) закономерно имеют большие продажи к 2016 году. Кроме них, существенные продажи имеет платформа PC.\n",
    "\n",
    "* Подавляющее большинство игр на всех платформах имеют продажи менее 200 тыс копий (медианное значение). При этом наблюдается большое количество выбросов, игр, продажи которых, существенно превышают остальные. Несмотря на то, что PS4 является лидером по суммарным продажам наиболее перспективными являются платформы WiiU и XOne за счет более высоких медианных значений и значений Q3, то есть игры для этих платформ в среднем более прибыльные.\n",
    "\n",
    "* Оценки критиков и пользователей слабо влияют на суммарные продажи игры\n",
    "\n",
    "* Самым популярным жанром является Action. Однако жанр Shooter опережает его по суммарным и удельным продажам, что делает его более предпочтительным с точки зрения прибыльности.\n",
    "\n",
    "* Существуют различия в предпочтениях пользователей регионов. \n",
    " * В NA и JP предпочитают платформы своего производства. \n",
    " * В целом, предпочтения пользователей регионов NA и EU похожи. \n",
    " * В регионе JP предпочтения пользователей сильно отличаются от NA и EU как по платформам, так и по жанрам\n",
    " * Влияние рейтинга ESRB корректно отслеживать для региона NA Наибольшими продажами отличаются игры рейтинга E и M\n",
    "\n",
    "* Гипотеза о равенстве средних пользовательских рейтингов платформ XOne и PC **подтвердилась**.\n",
    "* Гипотеза о неравенстве средних пользовательских рейтингов жанров Action и Sports **подтвердилась**"
   ]
  }
 ],
 "metadata": {
  "ExecuteTimeLog": [
   {
    "duration": 2220,
    "start_time": "2022-03-08T11:45:05.935Z"
   },
   {
    "duration": 2190,
    "start_time": "2022-03-08T11:45:08.157Z"
   },
   {
    "duration": 56,
    "start_time": "2022-03-08T11:45:10.297Z"
   },
   {
    "duration": 52,
    "start_time": "2022-03-08T11:45:10.302Z"
   },
   {
    "duration": 48,
    "start_time": "2022-03-08T11:45:10.308Z"
   },
   {
    "duration": 43,
    "start_time": "2022-03-08T11:45:10.315Z"
   },
   {
    "duration": 38,
    "start_time": "2022-03-08T11:45:10.321Z"
   },
   {
    "duration": 34,
    "start_time": "2022-03-08T11:45:10.327Z"
   },
   {
    "duration": 30,
    "start_time": "2022-03-08T11:45:10.332Z"
   },
   {
    "duration": 25,
    "start_time": "2022-03-08T11:45:10.339Z"
   },
   {
    "duration": 21,
    "start_time": "2022-03-08T11:45:10.344Z"
   },
   {
    "duration": 16,
    "start_time": "2022-03-08T11:45:10.351Z"
   },
   {
    "duration": 12,
    "start_time": "2022-03-08T11:45:10.356Z"
   },
   {
    "duration": 9,
    "start_time": "2022-03-08T11:45:10.361Z"
   },
   {
    "duration": 1,
    "start_time": "2022-03-08T11:45:10.370Z"
   },
   {
    "duration": -4,
    "start_time": "2022-03-08T11:45:10.377Z"
   },
   {
    "duration": -9,
    "start_time": "2022-03-08T11:45:10.383Z"
   },
   {
    "duration": -13,
    "start_time": "2022-03-08T11:45:10.389Z"
   },
   {
    "duration": -18,
    "start_time": "2022-03-08T11:45:10.395Z"
   },
   {
    "duration": -22,
    "start_time": "2022-03-08T11:45:10.401Z"
   },
   {
    "duration": -27,
    "start_time": "2022-03-08T11:45:10.407Z"
   },
   {
    "duration": -31,
    "start_time": "2022-03-08T11:45:10.413Z"
   },
   {
    "duration": -36,
    "start_time": "2022-03-08T11:45:10.419Z"
   },
   {
    "duration": -41,
    "start_time": "2022-03-08T11:45:10.426Z"
   },
   {
    "duration": -45,
    "start_time": "2022-03-08T11:45:10.431Z"
   },
   {
    "duration": -50,
    "start_time": "2022-03-08T11:45:10.438Z"
   },
   {
    "duration": -54,
    "start_time": "2022-03-08T11:45:10.443Z"
   },
   {
    "duration": -60,
    "start_time": "2022-03-08T11:45:10.450Z"
   },
   {
    "duration": -64,
    "start_time": "2022-03-08T11:45:10.456Z"
   },
   {
    "duration": -69,
    "start_time": "2022-03-08T11:45:10.462Z"
   },
   {
    "duration": -75,
    "start_time": "2022-03-08T11:45:10.470Z"
   },
   {
    "duration": -81,
    "start_time": "2022-03-08T11:45:10.477Z"
   },
   {
    "duration": -95,
    "start_time": "2022-03-08T11:45:10.493Z"
   },
   {
    "duration": -101,
    "start_time": "2022-03-08T11:45:10.500Z"
   },
   {
    "duration": -104,
    "start_time": "2022-03-08T11:45:10.505Z"
   },
   {
    "duration": -110,
    "start_time": "2022-03-08T11:45:10.512Z"
   },
   {
    "duration": -114,
    "start_time": "2022-03-08T11:45:10.518Z"
   },
   {
    "duration": -119,
    "start_time": "2022-03-08T11:45:10.524Z"
   },
   {
    "duration": -133,
    "start_time": "2022-03-08T11:45:10.539Z"
   },
   {
    "duration": -136,
    "start_time": "2022-03-08T11:45:10.544Z"
   },
   {
    "duration": -141,
    "start_time": "2022-03-08T11:45:10.550Z"
   },
   {
    "duration": -145,
    "start_time": "2022-03-08T11:45:10.556Z"
   },
   {
    "duration": -154,
    "start_time": "2022-03-08T11:45:10.566Z"
   },
   {
    "duration": -102,
    "start_time": "2022-03-08T11:45:10.577Z"
   },
   {
    "duration": -106,
    "start_time": "2022-03-08T11:45:10.582Z"
   },
   {
    "duration": -116,
    "start_time": "2022-03-08T11:45:10.594Z"
   },
   {
    "duration": -121,
    "start_time": "2022-03-08T11:45:10.600Z"
   },
   {
    "duration": -125,
    "start_time": "2022-03-08T11:45:10.606Z"
   },
   {
    "duration": -132,
    "start_time": "2022-03-08T11:45:10.615Z"
   },
   {
    "duration": -137,
    "start_time": "2022-03-08T11:45:10.621Z"
   },
   {
    "duration": -141,
    "start_time": "2022-03-08T11:45:10.626Z"
   },
   {
    "duration": -155,
    "start_time": "2022-03-08T11:45:10.642Z"
   },
   {
    "duration": -159,
    "start_time": "2022-03-08T11:45:10.647Z"
   },
   {
    "duration": -165,
    "start_time": "2022-03-08T11:45:10.655Z"
   },
   {
    "duration": 90,
    "start_time": "2022-03-08T11:50:26.621Z"
   },
   {
    "duration": 2086,
    "start_time": "2022-03-08T11:50:45.867Z"
   },
   {
    "duration": 67,
    "start_time": "2022-03-08T11:50:47.956Z"
   },
   {
    "duration": 15,
    "start_time": "2022-03-08T11:50:48.027Z"
   },
   {
    "duration": 31,
    "start_time": "2022-03-08T11:50:48.044Z"
   },
   {
    "duration": 16,
    "start_time": "2022-03-08T11:50:48.077Z"
   },
   {
    "duration": 7,
    "start_time": "2022-03-08T11:50:48.096Z"
   },
   {
    "duration": 37,
    "start_time": "2022-03-08T11:50:48.105Z"
   },
   {
    "duration": 61,
    "start_time": "2022-03-08T11:50:48.175Z"
   },
   {
    "duration": 33,
    "start_time": "2022-03-08T11:50:48.240Z"
   },
   {
    "duration": 46,
    "start_time": "2022-03-08T11:50:48.276Z"
   },
   {
    "duration": 6,
    "start_time": "2022-03-08T11:50:48.324Z"
   },
   {
    "duration": 7,
    "start_time": "2022-03-08T11:50:48.333Z"
   },
   {
    "duration": 49,
    "start_time": "2022-03-08T11:50:48.343Z"
   },
   {
    "duration": 12,
    "start_time": "2022-03-08T11:50:48.395Z"
   },
   {
    "duration": 14,
    "start_time": "2022-03-08T11:50:48.410Z"
   },
   {
    "duration": 11,
    "start_time": "2022-03-08T11:50:48.426Z"
   },
   {
    "duration": 39,
    "start_time": "2022-03-08T11:50:48.439Z"
   },
   {
    "duration": 6,
    "start_time": "2022-03-08T11:50:48.481Z"
   },
   {
    "duration": 10,
    "start_time": "2022-03-08T11:50:48.490Z"
   },
   {
    "duration": 7,
    "start_time": "2022-03-08T11:50:48.502Z"
   },
   {
    "duration": 8,
    "start_time": "2022-03-08T11:50:48.512Z"
   },
   {
    "duration": 52,
    "start_time": "2022-03-08T11:50:48.523Z"
   },
   {
    "duration": 17,
    "start_time": "2022-03-08T11:50:48.583Z"
   },
   {
    "duration": 16,
    "start_time": "2022-03-08T11:50:48.604Z"
   },
   {
    "duration": 4977,
    "start_time": "2022-03-08T11:50:48.623Z"
   },
   {
    "duration": 34,
    "start_time": "2022-03-08T11:50:53.603Z"
   },
   {
    "duration": 796,
    "start_time": "2022-03-08T11:50:53.640Z"
   },
   {
    "duration": 513,
    "start_time": "2022-03-08T11:50:54.439Z"
   },
   {
    "duration": 157,
    "start_time": "2022-03-08T11:50:54.954Z"
   },
   {
    "duration": 638,
    "start_time": "2022-03-08T11:50:55.114Z"
   },
   {
    "duration": 20,
    "start_time": "2022-03-08T11:50:55.754Z"
   },
   {
    "duration": 541,
    "start_time": "2022-03-08T11:50:55.776Z"
   },
   {
    "duration": 1274,
    "start_time": "2022-03-08T11:50:56.319Z"
   },
   {
    "duration": 12,
    "start_time": "2022-03-08T11:50:57.596Z"
   },
   {
    "duration": 9,
    "start_time": "2022-03-08T11:50:57.611Z"
   },
   {
    "duration": 586,
    "start_time": "2022-03-08T11:50:57.623Z"
   },
   {
    "duration": 8,
    "start_time": "2022-03-08T11:50:58.212Z"
   },
   {
    "duration": 450,
    "start_time": "2022-03-08T11:50:58.223Z"
   },
   {
    "duration": 6,
    "start_time": "2022-03-08T11:50:58.675Z"
   },
   {
    "duration": 478,
    "start_time": "2022-03-08T11:50:58.683Z"
   },
   {
    "duration": 13,
    "start_time": "2022-03-08T11:50:59.163Z"
   },
   {
    "duration": 488,
    "start_time": "2022-03-08T11:50:59.179Z"
   },
   {
    "duration": 630,
    "start_time": "2022-03-08T11:50:59.669Z"
   },
   {
    "duration": 385,
    "start_time": "2022-03-08T11:51:00.301Z"
   },
   {
    "duration": 603,
    "start_time": "2022-03-08T11:51:00.689Z"
   },
   {
    "duration": 68,
    "start_time": "2022-03-08T11:51:01.226Z"
   },
   {
    "duration": 63,
    "start_time": "2022-03-08T11:51:01.233Z"
   },
   {
    "duration": 57,
    "start_time": "2022-03-08T11:51:01.240Z"
   },
   {
    "duration": 52,
    "start_time": "2022-03-08T11:51:01.247Z"
   },
   {
    "duration": 46,
    "start_time": "2022-03-08T11:51:01.254Z"
   },
   {
    "duration": 41,
    "start_time": "2022-03-08T11:51:01.261Z"
   },
   {
    "duration": 36,
    "start_time": "2022-03-08T11:51:01.267Z"
   },
   {
    "duration": 33,
    "start_time": "2022-03-08T11:51:01.272Z"
   },
   {
    "duration": 27,
    "start_time": "2022-03-08T11:51:01.279Z"
   },
   {
    "duration": 59,
    "start_time": "2022-03-09T03:41:19.123Z"
   },
   {
    "duration": 62,
    "start_time": "2022-03-09T03:41:27.950Z"
   },
   {
    "duration": 1590,
    "start_time": "2022-03-09T03:41:26.426Z"
   },
   {
    "duration": 1583,
    "start_time": "2022-03-09T03:41:26.434Z"
   },
   {
    "duration": 1580,
    "start_time": "2022-03-09T03:41:26.439Z"
   },
   {
    "duration": 1576,
    "start_time": "2022-03-09T03:41:26.444Z"
   },
   {
    "duration": 1571,
    "start_time": "2022-03-09T03:41:26.450Z"
   },
   {
    "duration": 1569,
    "start_time": "2022-03-09T03:41:26.454Z"
   },
   {
    "duration": 1559,
    "start_time": "2022-03-09T03:41:26.465Z"
   },
   {
    "duration": 1555,
    "start_time": "2022-03-09T03:41:26.470Z"
   },
   {
    "duration": 1553,
    "start_time": "2022-03-09T03:41:26.474Z"
   },
   {
    "duration": 1549,
    "start_time": "2022-03-09T03:41:26.479Z"
   },
   {
    "duration": 1547,
    "start_time": "2022-03-09T03:41:26.482Z"
   },
   {
    "duration": 1546,
    "start_time": "2022-03-09T03:41:26.485Z"
   },
   {
    "duration": 1544,
    "start_time": "2022-03-09T03:41:26.488Z"
   },
   {
    "duration": 1541,
    "start_time": "2022-03-09T03:41:26.492Z"
   },
   {
    "duration": 1539,
    "start_time": "2022-03-09T03:41:26.496Z"
   },
   {
    "duration": 1521,
    "start_time": "2022-03-09T03:41:26.515Z"
   },
   {
    "duration": 1520,
    "start_time": "2022-03-09T03:41:26.518Z"
   },
   {
    "duration": 1518,
    "start_time": "2022-03-09T03:41:26.521Z"
   },
   {
    "duration": 1516,
    "start_time": "2022-03-09T03:41:26.525Z"
   },
   {
    "duration": 1511,
    "start_time": "2022-03-09T03:41:26.531Z"
   },
   {
    "duration": 1509,
    "start_time": "2022-03-09T03:41:26.534Z"
   },
   {
    "duration": 1508,
    "start_time": "2022-03-09T03:41:26.537Z"
   },
   {
    "duration": 1506,
    "start_time": "2022-03-09T03:41:26.540Z"
   },
   {
    "duration": 1504,
    "start_time": "2022-03-09T03:41:26.543Z"
   },
   {
    "duration": 1500,
    "start_time": "2022-03-09T03:41:26.549Z"
   },
   {
    "duration": 1497,
    "start_time": "2022-03-09T03:41:26.553Z"
   },
   {
    "duration": 1493,
    "start_time": "2022-03-09T03:41:26.559Z"
   },
   {
    "duration": 213,
    "start_time": "2022-03-09T03:41:28.065Z"
   },
   {
    "duration": 1522,
    "start_time": "2022-03-09T03:41:26.758Z"
   },
   {
    "duration": 1519,
    "start_time": "2022-03-09T03:41:26.762Z"
   },
   {
    "duration": 1517,
    "start_time": "2022-03-09T03:41:26.765Z"
   },
   {
    "duration": 1515,
    "start_time": "2022-03-09T03:41:26.768Z"
   },
   {
    "duration": 1512,
    "start_time": "2022-03-09T03:41:26.772Z"
   },
   {
    "duration": 1509,
    "start_time": "2022-03-09T03:41:26.775Z"
   },
   {
    "duration": 1508,
    "start_time": "2022-03-09T03:41:26.777Z"
   },
   {
    "duration": 1506,
    "start_time": "2022-03-09T03:41:26.780Z"
   },
   {
    "duration": 1420,
    "start_time": "2022-03-09T03:41:26.867Z"
   },
   {
    "duration": 1396,
    "start_time": "2022-03-09T03:41:26.892Z"
   },
   {
    "duration": 1394,
    "start_time": "2022-03-09T03:41:26.895Z"
   },
   {
    "duration": 1391,
    "start_time": "2022-03-09T03:41:26.899Z"
   },
   {
    "duration": 1389,
    "start_time": "2022-03-09T03:41:26.901Z"
   },
   {
    "duration": 1388,
    "start_time": "2022-03-09T03:41:26.903Z"
   },
   {
    "duration": 1386,
    "start_time": "2022-03-09T03:41:26.906Z"
   },
   {
    "duration": 1385,
    "start_time": "2022-03-09T03:41:26.908Z"
   },
   {
    "duration": 1382,
    "start_time": "2022-03-09T03:41:26.911Z"
   },
   {
    "duration": 1375,
    "start_time": "2022-03-09T03:41:26.919Z"
   },
   {
    "duration": 1373,
    "start_time": "2022-03-09T03:41:26.922Z"
   },
   {
    "duration": 1372,
    "start_time": "2022-03-09T03:41:26.924Z"
   },
   {
    "duration": 1371,
    "start_time": "2022-03-09T03:41:26.926Z"
   },
   {
    "duration": 1367,
    "start_time": "2022-03-09T03:41:26.930Z"
   },
   {
    "duration": 1367,
    "start_time": "2022-03-09T03:41:26.932Z"
   },
   {
    "duration": 1365,
    "start_time": "2022-03-09T03:41:26.934Z"
   },
   {
    "duration": 1363,
    "start_time": "2022-03-09T03:41:26.937Z"
   },
   {
    "duration": 1361,
    "start_time": "2022-03-09T03:41:26.940Z"
   },
   {
    "duration": 54,
    "start_time": "2022-03-09T03:41:51.832Z"
   },
   {
    "duration": 69,
    "start_time": "2022-03-09T03:42:36.484Z"
   },
   {
    "duration": 55,
    "start_time": "2022-03-09T03:43:43.035Z"
   },
   {
    "duration": 69,
    "start_time": "2022-03-09T03:44:04.328Z"
   },
   {
    "duration": 1668,
    "start_time": "2022-03-09T03:44:02.731Z"
   },
   {
    "duration": 1666,
    "start_time": "2022-03-09T03:44:02.734Z"
   },
   {
    "duration": 1651,
    "start_time": "2022-03-09T03:44:02.750Z"
   },
   {
    "duration": 1644,
    "start_time": "2022-03-09T03:44:02.758Z"
   },
   {
    "duration": 1642,
    "start_time": "2022-03-09T03:44:02.761Z"
   },
   {
    "duration": 1639,
    "start_time": "2022-03-09T03:44:02.765Z"
   },
   {
    "duration": 1636,
    "start_time": "2022-03-09T03:44:02.769Z"
   },
   {
    "duration": 1632,
    "start_time": "2022-03-09T03:44:02.773Z"
   },
   {
    "duration": 1630,
    "start_time": "2022-03-09T03:44:02.776Z"
   },
   {
    "duration": 1628,
    "start_time": "2022-03-09T03:44:02.779Z"
   },
   {
    "duration": 1625,
    "start_time": "2022-03-09T03:44:02.783Z"
   },
   {
    "duration": 1624,
    "start_time": "2022-03-09T03:44:02.785Z"
   },
   {
    "duration": 1620,
    "start_time": "2022-03-09T03:44:02.789Z"
   },
   {
    "duration": 1618,
    "start_time": "2022-03-09T03:44:02.792Z"
   },
   {
    "duration": 1616,
    "start_time": "2022-03-09T03:44:02.795Z"
   },
   {
    "duration": 1614,
    "start_time": "2022-03-09T03:44:02.798Z"
   },
   {
    "duration": 1596,
    "start_time": "2022-03-09T03:44:02.817Z"
   },
   {
    "duration": 1593,
    "start_time": "2022-03-09T03:44:02.821Z"
   },
   {
    "duration": 1591,
    "start_time": "2022-03-09T03:44:02.824Z"
   },
   {
    "duration": 1588,
    "start_time": "2022-03-09T03:44:02.828Z"
   },
   {
    "duration": 1586,
    "start_time": "2022-03-09T03:44:02.831Z"
   },
   {
    "duration": 1584,
    "start_time": "2022-03-09T03:44:02.834Z"
   },
   {
    "duration": 1581,
    "start_time": "2022-03-09T03:44:02.838Z"
   },
   {
    "duration": 1578,
    "start_time": "2022-03-09T03:44:02.842Z"
   },
   {
    "duration": 1574,
    "start_time": "2022-03-09T03:44:02.847Z"
   },
   {
    "duration": 220,
    "start_time": "2022-03-09T03:44:04.423Z"
   },
   {
    "duration": 1496,
    "start_time": "2022-03-09T03:44:03.150Z"
   },
   {
    "duration": 1493,
    "start_time": "2022-03-09T03:44:03.153Z"
   },
   {
    "duration": 1491,
    "start_time": "2022-03-09T03:44:03.156Z"
   },
   {
    "duration": 1489,
    "start_time": "2022-03-09T03:44:03.159Z"
   },
   {
    "duration": 1487,
    "start_time": "2022-03-09T03:44:03.162Z"
   },
   {
    "duration": 1483,
    "start_time": "2022-03-09T03:44:03.166Z"
   },
   {
    "duration": 1470,
    "start_time": "2022-03-09T03:44:03.180Z"
   },
   {
    "duration": 1466,
    "start_time": "2022-03-09T03:44:03.185Z"
   },
   {
    "duration": 1464,
    "start_time": "2022-03-09T03:44:03.188Z"
   },
   {
    "duration": 1461,
    "start_time": "2022-03-09T03:44:03.191Z"
   },
   {
    "duration": 1459,
    "start_time": "2022-03-09T03:44:03.194Z"
   },
   {
    "duration": 1456,
    "start_time": "2022-03-09T03:44:03.198Z"
   },
   {
    "duration": 1452,
    "start_time": "2022-03-09T03:44:03.203Z"
   },
   {
    "duration": 1449,
    "start_time": "2022-03-09T03:44:03.206Z"
   },
   {
    "duration": 1447,
    "start_time": "2022-03-09T03:44:03.209Z"
   },
   {
    "duration": 1445,
    "start_time": "2022-03-09T03:44:03.212Z"
   },
   {
    "duration": 1443,
    "start_time": "2022-03-09T03:44:03.215Z"
   },
   {
    "duration": 1440,
    "start_time": "2022-03-09T03:44:03.219Z"
   },
   {
    "duration": 1437,
    "start_time": "2022-03-09T03:44:03.222Z"
   },
   {
    "duration": 1435,
    "start_time": "2022-03-09T03:44:03.225Z"
   },
   {
    "duration": 1432,
    "start_time": "2022-03-09T03:44:03.229Z"
   },
   {
    "duration": 1430,
    "start_time": "2022-03-09T03:44:03.232Z"
   },
   {
    "duration": 1427,
    "start_time": "2022-03-09T03:44:03.235Z"
   },
   {
    "duration": 1424,
    "start_time": "2022-03-09T03:44:03.239Z"
   },
   {
    "duration": 1422,
    "start_time": "2022-03-09T03:44:03.242Z"
   },
   {
    "duration": 1420,
    "start_time": "2022-03-09T03:44:03.245Z"
   },
   {
    "duration": 1418,
    "start_time": "2022-03-09T03:44:03.249Z"
   },
   {
    "duration": 1416,
    "start_time": "2022-03-09T03:44:03.252Z"
   },
   {
    "duration": 1403,
    "start_time": "2022-03-09T03:45:40.571Z"
   },
   {
    "duration": 49,
    "start_time": "2022-03-09T03:45:41.976Z"
   },
   {
    "duration": 9,
    "start_time": "2022-03-09T03:45:42.027Z"
   },
   {
    "duration": 5,
    "start_time": "2022-03-09T03:45:42.038Z"
   },
   {
    "duration": 27,
    "start_time": "2022-03-09T03:45:42.044Z"
   },
   {
    "duration": 8,
    "start_time": "2022-03-09T03:45:42.073Z"
   },
   {
    "duration": 23,
    "start_time": "2022-03-09T03:45:42.083Z"
   },
   {
    "duration": 23,
    "start_time": "2022-03-09T03:45:42.108Z"
   },
   {
    "duration": 30,
    "start_time": "2022-03-09T03:45:42.133Z"
   },
   {
    "duration": 31,
    "start_time": "2022-03-09T03:45:42.165Z"
   },
   {
    "duration": 7,
    "start_time": "2022-03-09T03:45:42.198Z"
   },
   {
    "duration": 6,
    "start_time": "2022-03-09T03:45:42.206Z"
   },
   {
    "duration": 24,
    "start_time": "2022-03-09T03:45:42.214Z"
   },
   {
    "duration": 7,
    "start_time": "2022-03-09T03:45:42.239Z"
   },
   {
    "duration": 8,
    "start_time": "2022-03-09T03:45:42.247Z"
   },
   {
    "duration": 9,
    "start_time": "2022-03-09T03:45:42.256Z"
   },
   {
    "duration": 10,
    "start_time": "2022-03-09T03:45:42.267Z"
   },
   {
    "duration": 5,
    "start_time": "2022-03-09T03:45:42.278Z"
   },
   {
    "duration": 8,
    "start_time": "2022-03-09T03:45:42.284Z"
   },
   {
    "duration": 6,
    "start_time": "2022-03-09T03:45:42.293Z"
   },
   {
    "duration": 6,
    "start_time": "2022-03-09T03:45:42.300Z"
   },
   {
    "duration": 7,
    "start_time": "2022-03-09T03:45:42.307Z"
   },
   {
    "duration": 12,
    "start_time": "2022-03-09T03:45:42.318Z"
   },
   {
    "duration": 7,
    "start_time": "2022-03-09T03:45:42.332Z"
   },
   {
    "duration": 1534,
    "start_time": "2022-03-09T03:45:42.340Z"
   },
   {
    "duration": 16,
    "start_time": "2022-03-09T03:45:43.875Z"
   },
   {
    "duration": 317,
    "start_time": "2022-03-09T03:45:43.892Z"
   },
   {
    "duration": 254,
    "start_time": "2022-03-09T03:45:44.211Z"
   },
   {
    "duration": 75,
    "start_time": "2022-03-09T03:45:44.467Z"
   },
   {
    "duration": 361,
    "start_time": "2022-03-09T03:45:44.543Z"
   },
   {
    "duration": 8,
    "start_time": "2022-03-09T03:45:44.906Z"
   },
   {
    "duration": 358,
    "start_time": "2022-03-09T03:45:44.915Z"
   },
   {
    "duration": 805,
    "start_time": "2022-03-09T03:45:45.274Z"
   },
   {
    "duration": 7,
    "start_time": "2022-03-09T03:45:46.080Z"
   },
   {
    "duration": 13,
    "start_time": "2022-03-09T03:45:46.089Z"
   },
   {
    "duration": 368,
    "start_time": "2022-03-09T03:45:46.103Z"
   },
   {
    "duration": 4,
    "start_time": "2022-03-09T03:45:46.473Z"
   },
   {
    "duration": 267,
    "start_time": "2022-03-09T03:45:46.479Z"
   },
   {
    "duration": 17,
    "start_time": "2022-03-09T03:45:46.747Z"
   },
   {
    "duration": 335,
    "start_time": "2022-03-09T03:45:46.765Z"
   },
   {
    "duration": 5,
    "start_time": "2022-03-09T03:45:47.102Z"
   },
   {
    "duration": 364,
    "start_time": "2022-03-09T03:45:47.108Z"
   },
   {
    "duration": 411,
    "start_time": "2022-03-09T03:45:47.474Z"
   },
   {
    "duration": 213,
    "start_time": "2022-03-09T03:45:47.887Z"
   },
   {
    "duration": 313,
    "start_time": "2022-03-09T03:45:48.101Z"
   },
   {
    "duration": 58,
    "start_time": "2022-03-09T03:45:48.358Z"
   },
   {
    "duration": 56,
    "start_time": "2022-03-09T03:45:48.361Z"
   },
   {
    "duration": 52,
    "start_time": "2022-03-09T03:45:48.365Z"
   },
   {
    "duration": 50,
    "start_time": "2022-03-09T03:45:48.368Z"
   },
   {
    "duration": 47,
    "start_time": "2022-03-09T03:45:48.372Z"
   },
   {
    "duration": 45,
    "start_time": "2022-03-09T03:45:48.375Z"
   },
   {
    "duration": 42,
    "start_time": "2022-03-09T03:45:48.378Z"
   },
   {
    "duration": -135,
    "start_time": "2022-03-09T03:45:48.556Z"
   },
   {
    "duration": -138,
    "start_time": "2022-03-09T03:45:48.560Z"
   },
   {
    "duration": 5,
    "start_time": "2022-03-09T03:46:28.640Z"
   },
   {
    "duration": 4,
    "start_time": "2022-03-09T03:46:46.896Z"
   },
   {
    "duration": 206,
    "start_time": "2022-03-09T03:48:59.980Z"
   },
   {
    "duration": 10,
    "start_time": "2022-03-09T03:49:07.383Z"
   },
   {
    "duration": 15,
    "start_time": "2022-03-09T03:49:12.483Z"
   },
   {
    "duration": 8,
    "start_time": "2022-03-09T03:49:17.124Z"
   },
   {
    "duration": 26,
    "start_time": "2022-03-09T03:50:38.787Z"
   },
   {
    "duration": 59,
    "start_time": "2022-03-09T03:54:56.010Z"
   },
   {
    "duration": 202,
    "start_time": "2022-03-09T03:55:26.154Z"
   },
   {
    "duration": 15,
    "start_time": "2022-03-09T03:56:16.184Z"
   },
   {
    "duration": 12,
    "start_time": "2022-03-09T03:56:25.943Z"
   },
   {
    "duration": 11,
    "start_time": "2022-03-09T03:57:35.075Z"
   },
   {
    "duration": 12,
    "start_time": "2022-03-09T03:57:56.014Z"
   },
   {
    "duration": 173,
    "start_time": "2022-03-09T03:58:05.756Z"
   },
   {
    "duration": 12,
    "start_time": "2022-03-09T03:58:13.305Z"
   },
   {
    "duration": 1344,
    "start_time": "2022-03-09T03:58:22.731Z"
   },
   {
    "duration": 42,
    "start_time": "2022-03-09T03:58:24.077Z"
   },
   {
    "duration": 10,
    "start_time": "2022-03-09T03:58:24.120Z"
   },
   {
    "duration": 5,
    "start_time": "2022-03-09T03:58:24.132Z"
   },
   {
    "duration": 25,
    "start_time": "2022-03-09T03:58:24.138Z"
   },
   {
    "duration": 23,
    "start_time": "2022-03-09T03:58:24.165Z"
   },
   {
    "duration": 11,
    "start_time": "2022-03-09T03:58:24.190Z"
   },
   {
    "duration": 6,
    "start_time": "2022-03-09T03:58:24.204Z"
   },
   {
    "duration": 6,
    "start_time": "2022-03-09T03:58:24.212Z"
   },
   {
    "duration": 14,
    "start_time": "2022-03-09T03:58:24.220Z"
   },
   {
    "duration": 27,
    "start_time": "2022-03-09T03:58:24.236Z"
   },
   {
    "duration": 8,
    "start_time": "2022-03-09T03:58:24.265Z"
   },
   {
    "duration": 7,
    "start_time": "2022-03-09T03:58:24.275Z"
   },
   {
    "duration": 11,
    "start_time": "2022-03-09T03:58:24.283Z"
   },
   {
    "duration": 5,
    "start_time": "2022-03-09T03:58:24.295Z"
   },
   {
    "duration": 8,
    "start_time": "2022-03-09T03:58:24.301Z"
   },
   {
    "duration": 9,
    "start_time": "2022-03-09T03:58:24.311Z"
   },
   {
    "duration": 6,
    "start_time": "2022-03-09T03:58:24.321Z"
   },
   {
    "duration": 7,
    "start_time": "2022-03-09T03:58:24.329Z"
   },
   {
    "duration": 28,
    "start_time": "2022-03-09T03:58:24.337Z"
   },
   {
    "duration": 9,
    "start_time": "2022-03-09T03:58:24.366Z"
   },
   {
    "duration": 1375,
    "start_time": "2022-03-09T03:58:24.376Z"
   },
   {
    "duration": 17,
    "start_time": "2022-03-09T03:58:25.755Z"
   },
   {
    "duration": 319,
    "start_time": "2022-03-09T03:58:25.775Z"
   },
   {
    "duration": 383,
    "start_time": "2022-03-09T03:58:26.096Z"
   },
   {
    "duration": 89,
    "start_time": "2022-03-09T03:58:26.481Z"
   },
   {
    "duration": 367,
    "start_time": "2022-03-09T03:58:26.573Z"
   },
   {
    "duration": 22,
    "start_time": "2022-03-09T03:58:26.942Z"
   },
   {
    "duration": 347,
    "start_time": "2022-03-09T03:58:26.965Z"
   },
   {
    "duration": 879,
    "start_time": "2022-03-09T03:58:27.314Z"
   },
   {
    "duration": 9,
    "start_time": "2022-03-09T03:58:28.195Z"
   },
   {
    "duration": 58,
    "start_time": "2022-03-09T03:58:28.206Z"
   },
   {
    "duration": 316,
    "start_time": "2022-03-09T03:58:28.266Z"
   },
   {
    "duration": 5,
    "start_time": "2022-03-09T03:58:28.583Z"
   },
   {
    "duration": 283,
    "start_time": "2022-03-09T03:58:28.589Z"
   },
   {
    "duration": 4,
    "start_time": "2022-03-09T03:58:28.874Z"
   },
   {
    "duration": 334,
    "start_time": "2022-03-09T03:58:28.879Z"
   },
   {
    "duration": 4,
    "start_time": "2022-03-09T03:58:29.214Z"
   },
   {
    "duration": 379,
    "start_time": "2022-03-09T03:58:29.220Z"
   },
   {
    "duration": 394,
    "start_time": "2022-03-09T03:58:29.600Z"
   },
   {
    "duration": 226,
    "start_time": "2022-03-09T03:58:29.995Z"
   },
   {
    "duration": 330,
    "start_time": "2022-03-09T03:58:30.223Z"
   },
   {
    "duration": 1692,
    "start_time": "2022-03-09T03:58:28.863Z"
   },
   {
    "duration": 1687,
    "start_time": "2022-03-09T03:58:28.869Z"
   },
   {
    "duration": 1683,
    "start_time": "2022-03-09T03:58:28.874Z"
   },
   {
    "duration": 1679,
    "start_time": "2022-03-09T03:58:28.879Z"
   },
   {
    "duration": 1677,
    "start_time": "2022-03-09T03:58:28.882Z"
   },
   {
    "duration": 1674,
    "start_time": "2022-03-09T03:58:28.886Z"
   },
   {
    "duration": 1671,
    "start_time": "2022-03-09T03:58:28.889Z"
   },
   {
    "duration": 1669,
    "start_time": "2022-03-09T03:58:28.892Z"
   },
   {
    "duration": 1667,
    "start_time": "2022-03-09T03:58:28.895Z"
   },
   {
    "duration": 10,
    "start_time": "2022-03-09T04:01:01.040Z"
   },
   {
    "duration": 7,
    "start_time": "2022-03-09T04:01:51.428Z"
   },
   {
    "duration": 1240,
    "start_time": "2022-03-09T04:02:12.920Z"
   },
   {
    "duration": 47,
    "start_time": "2022-03-09T04:02:14.162Z"
   },
   {
    "duration": 9,
    "start_time": "2022-03-09T04:02:14.211Z"
   },
   {
    "duration": 7,
    "start_time": "2022-03-09T04:02:14.221Z"
   },
   {
    "duration": 9,
    "start_time": "2022-03-09T04:02:14.230Z"
   },
   {
    "duration": 33,
    "start_time": "2022-03-09T04:02:14.241Z"
   },
   {
    "duration": 9,
    "start_time": "2022-03-09T04:02:14.276Z"
   },
   {
    "duration": 8,
    "start_time": "2022-03-09T04:02:14.287Z"
   },
   {
    "duration": 5,
    "start_time": "2022-03-09T04:02:14.299Z"
   },
   {
    "duration": 6,
    "start_time": "2022-03-09T04:02:14.307Z"
   },
   {
    "duration": 9,
    "start_time": "2022-03-09T04:02:14.315Z"
   },
   {
    "duration": 43,
    "start_time": "2022-03-09T04:02:14.325Z"
   },
   {
    "duration": 4,
    "start_time": "2022-03-09T04:02:14.370Z"
   },
   {
    "duration": 5,
    "start_time": "2022-03-09T04:02:14.375Z"
   },
   {
    "duration": 6,
    "start_time": "2022-03-09T04:02:14.381Z"
   },
   {
    "duration": 5,
    "start_time": "2022-03-09T04:02:14.388Z"
   },
   {
    "duration": 4,
    "start_time": "2022-03-09T04:02:14.394Z"
   },
   {
    "duration": 8,
    "start_time": "2022-03-09T04:02:14.400Z"
   },
   {
    "duration": 7,
    "start_time": "2022-03-09T04:02:14.409Z"
   },
   {
    "duration": 1392,
    "start_time": "2022-03-09T04:02:14.418Z"
   },
   {
    "duration": 14,
    "start_time": "2022-03-09T04:02:15.812Z"
   },
   {
    "duration": 297,
    "start_time": "2022-03-09T04:02:15.827Z"
   },
   {
    "duration": 259,
    "start_time": "2022-03-09T04:02:16.126Z"
   },
   {
    "duration": 332,
    "start_time": "2022-03-09T04:02:16.387Z"
   },
   {
    "duration": 1565,
    "start_time": "2022-03-09T04:02:15.157Z"
   },
   {
    "duration": 1562,
    "start_time": "2022-03-09T04:02:15.161Z"
   },
   {
    "duration": 1560,
    "start_time": "2022-03-09T04:02:15.165Z"
   },
   {
    "duration": 1557,
    "start_time": "2022-03-09T04:02:15.169Z"
   },
   {
    "duration": 1556,
    "start_time": "2022-03-09T04:02:15.172Z"
   },
   {
    "duration": 1554,
    "start_time": "2022-03-09T04:02:15.175Z"
   },
   {
    "duration": 1552,
    "start_time": "2022-03-09T04:02:15.178Z"
   },
   {
    "duration": 1551,
    "start_time": "2022-03-09T04:02:15.181Z"
   },
   {
    "duration": 1549,
    "start_time": "2022-03-09T04:02:15.184Z"
   },
   {
    "duration": 1549,
    "start_time": "2022-03-09T04:02:15.187Z"
   },
   {
    "duration": 1547,
    "start_time": "2022-03-09T04:02:15.190Z"
   },
   {
    "duration": 1545,
    "start_time": "2022-03-09T04:02:15.193Z"
   },
   {
    "duration": 1544,
    "start_time": "2022-03-09T04:02:15.195Z"
   },
   {
    "duration": 1525,
    "start_time": "2022-03-09T04:02:15.216Z"
   },
   {
    "duration": 1518,
    "start_time": "2022-03-09T04:02:15.224Z"
   },
   {
    "duration": 1515,
    "start_time": "2022-03-09T04:02:15.228Z"
   },
   {
    "duration": 1513,
    "start_time": "2022-03-09T04:02:15.232Z"
   },
   {
    "duration": 1511,
    "start_time": "2022-03-09T04:02:15.235Z"
   },
   {
    "duration": 1509,
    "start_time": "2022-03-09T04:02:15.238Z"
   },
   {
    "duration": 1507,
    "start_time": "2022-03-09T04:02:15.242Z"
   },
   {
    "duration": 1506,
    "start_time": "2022-03-09T04:02:15.244Z"
   },
   {
    "duration": 1503,
    "start_time": "2022-03-09T04:02:15.248Z"
   },
   {
    "duration": 1502,
    "start_time": "2022-03-09T04:02:15.251Z"
   },
   {
    "duration": 1500,
    "start_time": "2022-03-09T04:02:15.254Z"
   },
   {
    "duration": 1499,
    "start_time": "2022-03-09T04:02:15.257Z"
   },
   {
    "duration": 7,
    "start_time": "2022-03-09T04:12:55.403Z"
   },
   {
    "duration": 1242,
    "start_time": "2022-03-09T04:13:26.989Z"
   },
   {
    "duration": 18,
    "start_time": "2022-03-09T04:13:47.009Z"
   },
   {
    "duration": 9,
    "start_time": "2022-03-09T04:15:46.027Z"
   },
   {
    "duration": 1296,
    "start_time": "2022-03-09T04:16:16.867Z"
   },
   {
    "duration": 44,
    "start_time": "2022-03-09T04:16:18.165Z"
   },
   {
    "duration": 9,
    "start_time": "2022-03-09T04:16:18.211Z"
   },
   {
    "duration": 6,
    "start_time": "2022-03-09T04:16:18.222Z"
   },
   {
    "duration": 12,
    "start_time": "2022-03-09T04:16:18.229Z"
   },
   {
    "duration": 36,
    "start_time": "2022-03-09T04:16:18.243Z"
   },
   {
    "duration": 8,
    "start_time": "2022-03-09T04:16:18.280Z"
   },
   {
    "duration": 8,
    "start_time": "2022-03-09T04:16:18.290Z"
   },
   {
    "duration": 294,
    "start_time": "2022-03-09T04:16:18.300Z"
   },
   {
    "duration": 1676,
    "start_time": "2022-03-09T04:16:16.922Z"
   },
   {
    "duration": 1674,
    "start_time": "2022-03-09T04:16:16.925Z"
   },
   {
    "duration": 1672,
    "start_time": "2022-03-09T04:16:16.929Z"
   },
   {
    "duration": 1670,
    "start_time": "2022-03-09T04:16:16.932Z"
   },
   {
    "duration": 1669,
    "start_time": "2022-03-09T04:16:16.935Z"
   },
   {
    "duration": 1667,
    "start_time": "2022-03-09T04:16:16.938Z"
   },
   {
    "duration": 1665,
    "start_time": "2022-03-09T04:16:16.941Z"
   },
   {
    "duration": 1664,
    "start_time": "2022-03-09T04:16:16.944Z"
   },
   {
    "duration": 1662,
    "start_time": "2022-03-09T04:16:16.947Z"
   },
   {
    "duration": 1661,
    "start_time": "2022-03-09T04:16:16.950Z"
   },
   {
    "duration": 1660,
    "start_time": "2022-03-09T04:16:16.952Z"
   },
   {
    "duration": 1658,
    "start_time": "2022-03-09T04:16:16.955Z"
   },
   {
    "duration": 1657,
    "start_time": "2022-03-09T04:16:16.958Z"
   },
   {
    "duration": 1656,
    "start_time": "2022-03-09T04:16:16.960Z"
   },
   {
    "duration": 1655,
    "start_time": "2022-03-09T04:16:16.962Z"
   },
   {
    "duration": 1654,
    "start_time": "2022-03-09T04:16:16.965Z"
   },
   {
    "duration": 1652,
    "start_time": "2022-03-09T04:16:16.968Z"
   },
   {
    "duration": 1652,
    "start_time": "2022-03-09T04:16:16.970Z"
   },
   {
    "duration": 1650,
    "start_time": "2022-03-09T04:16:16.973Z"
   },
   {
    "duration": 1649,
    "start_time": "2022-03-09T04:16:16.975Z"
   },
   {
    "duration": 1634,
    "start_time": "2022-03-09T04:16:16.992Z"
   },
   {
    "duration": 1631,
    "start_time": "2022-03-09T04:16:16.996Z"
   },
   {
    "duration": 1630,
    "start_time": "2022-03-09T04:16:16.998Z"
   },
   {
    "duration": 1629,
    "start_time": "2022-03-09T04:16:17.001Z"
   },
   {
    "duration": 1627,
    "start_time": "2022-03-09T04:16:17.004Z"
   },
   {
    "duration": 1626,
    "start_time": "2022-03-09T04:16:17.006Z"
   },
   {
    "duration": 1624,
    "start_time": "2022-03-09T04:16:17.009Z"
   },
   {
    "duration": 1650,
    "start_time": "2022-03-09T04:16:17.012Z"
   },
   {
    "duration": 1649,
    "start_time": "2022-03-09T04:16:17.015Z"
   },
   {
    "duration": 1647,
    "start_time": "2022-03-09T04:16:17.018Z"
   },
   {
    "duration": 1645,
    "start_time": "2022-03-09T04:16:17.021Z"
   },
   {
    "duration": 1643,
    "start_time": "2022-03-09T04:16:17.025Z"
   },
   {
    "duration": 1642,
    "start_time": "2022-03-09T04:16:17.027Z"
   },
   {
    "duration": 1640,
    "start_time": "2022-03-09T04:16:17.030Z"
   },
   {
    "duration": 1637,
    "start_time": "2022-03-09T04:16:17.034Z"
   },
   {
    "duration": 1636,
    "start_time": "2022-03-09T04:16:17.037Z"
   },
   {
    "duration": 1635,
    "start_time": "2022-03-09T04:16:17.039Z"
   },
   {
    "duration": 1635,
    "start_time": "2022-03-09T04:16:17.041Z"
   },
   {
    "duration": 1633,
    "start_time": "2022-03-09T04:16:17.044Z"
   },
   {
    "duration": 1632,
    "start_time": "2022-03-09T04:16:17.046Z"
   },
   {
    "duration": 183,
    "start_time": "2022-03-09T04:17:29.288Z"
   },
   {
    "duration": 23,
    "start_time": "2022-03-09T04:19:13.860Z"
   },
   {
    "duration": 1349,
    "start_time": "2022-03-09T04:19:22.739Z"
   },
   {
    "duration": 48,
    "start_time": "2022-03-09T04:19:24.089Z"
   },
   {
    "duration": 9,
    "start_time": "2022-03-09T04:19:24.139Z"
   },
   {
    "duration": 14,
    "start_time": "2022-03-09T04:19:24.150Z"
   },
   {
    "duration": 9,
    "start_time": "2022-03-09T04:19:24.165Z"
   },
   {
    "duration": 23,
    "start_time": "2022-03-09T04:19:24.176Z"
   },
   {
    "duration": 8,
    "start_time": "2022-03-09T04:19:24.201Z"
   },
   {
    "duration": 8,
    "start_time": "2022-03-09T04:19:24.212Z"
   },
   {
    "duration": 52,
    "start_time": "2022-03-09T04:19:24.222Z"
   },
   {
    "duration": 6,
    "start_time": "2022-03-09T04:19:24.275Z"
   },
   {
    "duration": 10,
    "start_time": "2022-03-09T04:19:24.282Z"
   },
   {
    "duration": 9,
    "start_time": "2022-03-09T04:19:24.294Z"
   },
   {
    "duration": 4,
    "start_time": "2022-03-09T04:19:24.304Z"
   },
   {
    "duration": 8,
    "start_time": "2022-03-09T04:19:24.310Z"
   },
   {
    "duration": 6,
    "start_time": "2022-03-09T04:19:24.319Z"
   },
   {
    "duration": 5,
    "start_time": "2022-03-09T04:19:24.326Z"
   },
   {
    "duration": 31,
    "start_time": "2022-03-09T04:19:24.332Z"
   },
   {
    "duration": 8,
    "start_time": "2022-03-09T04:19:24.365Z"
   },
   {
    "duration": 20,
    "start_time": "2022-03-09T04:19:24.374Z"
   },
   {
    "duration": 1381,
    "start_time": "2022-03-09T04:19:24.395Z"
   },
   {
    "duration": 15,
    "start_time": "2022-03-09T04:19:25.777Z"
   },
   {
    "duration": 292,
    "start_time": "2022-03-09T04:19:25.793Z"
   },
   {
    "duration": 273,
    "start_time": "2022-03-09T04:19:26.088Z"
   },
   {
    "duration": 343,
    "start_time": "2022-03-09T04:19:26.363Z"
   },
   {
    "duration": 1634,
    "start_time": "2022-03-09T04:19:25.073Z"
   },
   {
    "duration": 1628,
    "start_time": "2022-03-09T04:19:25.080Z"
   },
   {
    "duration": 1624,
    "start_time": "2022-03-09T04:19:25.085Z"
   },
   {
    "duration": 1619,
    "start_time": "2022-03-09T04:19:25.090Z"
   },
   {
    "duration": 1615,
    "start_time": "2022-03-09T04:19:25.095Z"
   },
   {
    "duration": 1610,
    "start_time": "2022-03-09T04:19:25.101Z"
   },
   {
    "duration": 1607,
    "start_time": "2022-03-09T04:19:25.105Z"
   },
   {
    "duration": 1600,
    "start_time": "2022-03-09T04:19:25.112Z"
   },
   {
    "duration": 1597,
    "start_time": "2022-03-09T04:19:25.116Z"
   },
   {
    "duration": 1594,
    "start_time": "2022-03-09T04:19:25.120Z"
   },
   {
    "duration": 1590,
    "start_time": "2022-03-09T04:19:25.125Z"
   },
   {
    "duration": 1585,
    "start_time": "2022-03-09T04:19:25.131Z"
   },
   {
    "duration": 1582,
    "start_time": "2022-03-09T04:19:25.135Z"
   },
   {
    "duration": 1577,
    "start_time": "2022-03-09T04:19:25.141Z"
   },
   {
    "duration": 1572,
    "start_time": "2022-03-09T04:19:25.146Z"
   },
   {
    "duration": 1568,
    "start_time": "2022-03-09T04:19:25.151Z"
   },
   {
    "duration": 1565,
    "start_time": "2022-03-09T04:19:25.155Z"
   },
   {
    "duration": 1560,
    "start_time": "2022-03-09T04:19:25.161Z"
   },
   {
    "duration": 1558,
    "start_time": "2022-03-09T04:19:25.164Z"
   },
   {
    "duration": 1553,
    "start_time": "2022-03-09T04:19:25.169Z"
   },
   {
    "duration": 1538,
    "start_time": "2022-03-09T04:19:25.185Z"
   },
   {
    "duration": 1533,
    "start_time": "2022-03-09T04:19:25.191Z"
   },
   {
    "duration": 1530,
    "start_time": "2022-03-09T04:19:25.195Z"
   },
   {
    "duration": 1527,
    "start_time": "2022-03-09T04:19:25.199Z"
   },
   {
    "duration": 1524,
    "start_time": "2022-03-09T04:19:25.203Z"
   },
   {
    "duration": 5,
    "start_time": "2022-03-09T04:21:00.832Z"
   },
   {
    "duration": 6,
    "start_time": "2022-03-09T04:21:02.735Z"
   },
   {
    "duration": 8,
    "start_time": "2022-03-09T04:21:47.769Z"
   },
   {
    "duration": 1347,
    "start_time": "2022-03-09T04:21:53.513Z"
   },
   {
    "duration": 41,
    "start_time": "2022-03-09T04:21:54.861Z"
   },
   {
    "duration": 9,
    "start_time": "2022-03-09T04:21:54.904Z"
   },
   {
    "duration": 5,
    "start_time": "2022-03-09T04:21:54.914Z"
   },
   {
    "duration": 10,
    "start_time": "2022-03-09T04:21:54.921Z"
   },
   {
    "duration": 39,
    "start_time": "2022-03-09T04:21:54.932Z"
   },
   {
    "duration": 8,
    "start_time": "2022-03-09T04:21:54.973Z"
   },
   {
    "duration": 8,
    "start_time": "2022-03-09T04:21:54.983Z"
   },
   {
    "duration": 24,
    "start_time": "2022-03-09T04:21:54.993Z"
   },
   {
    "duration": 5,
    "start_time": "2022-03-09T04:21:55.019Z"
   },
   {
    "duration": 18,
    "start_time": "2022-03-09T04:21:55.026Z"
   },
   {
    "duration": 9,
    "start_time": "2022-03-09T04:21:55.064Z"
   },
   {
    "duration": 18,
    "start_time": "2022-03-09T04:21:55.074Z"
   },
   {
    "duration": 7,
    "start_time": "2022-03-09T04:21:55.093Z"
   },
   {
    "duration": 11,
    "start_time": "2022-03-09T04:21:55.102Z"
   },
   {
    "duration": 10,
    "start_time": "2022-03-09T04:21:55.114Z"
   },
   {
    "duration": 11,
    "start_time": "2022-03-09T04:21:55.126Z"
   },
   {
    "duration": 6,
    "start_time": "2022-03-09T04:21:55.138Z"
   },
   {
    "duration": 23,
    "start_time": "2022-03-09T04:21:55.146Z"
   },
   {
    "duration": 8,
    "start_time": "2022-03-09T04:21:55.171Z"
   },
   {
    "duration": 1590,
    "start_time": "2022-03-09T04:21:55.180Z"
   },
   {
    "duration": 16,
    "start_time": "2022-03-09T04:21:56.771Z"
   },
   {
    "duration": 298,
    "start_time": "2022-03-09T04:21:56.791Z"
   },
   {
    "duration": 250,
    "start_time": "2022-03-09T04:21:57.091Z"
   },
   {
    "duration": 383,
    "start_time": "2022-03-09T04:21:57.342Z"
   },
   {
    "duration": 1570,
    "start_time": "2022-03-09T04:21:56.157Z"
   },
   {
    "duration": 1569,
    "start_time": "2022-03-09T04:21:56.159Z"
   },
   {
    "duration": 1567,
    "start_time": "2022-03-09T04:21:56.162Z"
   },
   {
    "duration": 1566,
    "start_time": "2022-03-09T04:21:56.164Z"
   },
   {
    "duration": 1564,
    "start_time": "2022-03-09T04:21:56.166Z"
   },
   {
    "duration": 1563,
    "start_time": "2022-03-09T04:21:56.168Z"
   },
   {
    "duration": 1561,
    "start_time": "2022-03-09T04:21:56.171Z"
   },
   {
    "duration": 1560,
    "start_time": "2022-03-09T04:21:56.172Z"
   },
   {
    "duration": 1558,
    "start_time": "2022-03-09T04:21:56.175Z"
   },
   {
    "duration": 1558,
    "start_time": "2022-03-09T04:21:56.176Z"
   },
   {
    "duration": 1555,
    "start_time": "2022-03-09T04:21:56.179Z"
   },
   {
    "duration": 1554,
    "start_time": "2022-03-09T04:21:56.181Z"
   },
   {
    "duration": 1553,
    "start_time": "2022-03-09T04:21:56.183Z"
   },
   {
    "duration": 1551,
    "start_time": "2022-03-09T04:21:56.185Z"
   },
   {
    "duration": 1550,
    "start_time": "2022-03-09T04:21:56.187Z"
   },
   {
    "duration": 1549,
    "start_time": "2022-03-09T04:21:56.189Z"
   },
   {
    "duration": 1547,
    "start_time": "2022-03-09T04:21:56.192Z"
   },
   {
    "duration": 1545,
    "start_time": "2022-03-09T04:21:56.194Z"
   },
   {
    "duration": 1543,
    "start_time": "2022-03-09T04:21:56.197Z"
   },
   {
    "duration": 1542,
    "start_time": "2022-03-09T04:21:56.199Z"
   },
   {
    "duration": 1540,
    "start_time": "2022-03-09T04:21:56.201Z"
   },
   {
    "duration": 1539,
    "start_time": "2022-03-09T04:21:56.203Z"
   },
   {
    "duration": 1537,
    "start_time": "2022-03-09T04:21:56.206Z"
   },
   {
    "duration": 1535,
    "start_time": "2022-03-09T04:21:56.209Z"
   },
   {
    "duration": 1533,
    "start_time": "2022-03-09T04:21:56.211Z"
   },
   {
    "duration": 4,
    "start_time": "2022-03-09T04:23:41.304Z"
   },
   {
    "duration": 7,
    "start_time": "2022-03-09T04:24:51.583Z"
   },
   {
    "duration": 78,
    "start_time": "2022-03-09T04:25:34.689Z"
   },
   {
    "duration": 1392,
    "start_time": "2022-03-09T04:26:54.886Z"
   },
   {
    "duration": 41,
    "start_time": "2022-03-09T04:26:56.281Z"
   },
   {
    "duration": 9,
    "start_time": "2022-03-09T04:26:56.325Z"
   },
   {
    "duration": 11,
    "start_time": "2022-03-09T04:26:56.336Z"
   },
   {
    "duration": 23,
    "start_time": "2022-03-09T04:26:56.349Z"
   },
   {
    "duration": 24,
    "start_time": "2022-03-09T04:26:56.374Z"
   },
   {
    "duration": 8,
    "start_time": "2022-03-09T04:26:56.399Z"
   },
   {
    "duration": 11,
    "start_time": "2022-03-09T04:26:56.409Z"
   },
   {
    "duration": 23,
    "start_time": "2022-03-09T04:26:56.422Z"
   },
   {
    "duration": 18,
    "start_time": "2022-03-09T04:26:56.446Z"
   },
   {
    "duration": 9,
    "start_time": "2022-03-09T04:26:56.465Z"
   },
   {
    "duration": 10,
    "start_time": "2022-03-09T04:26:56.476Z"
   },
   {
    "duration": 9,
    "start_time": "2022-03-09T04:26:56.487Z"
   },
   {
    "duration": 5,
    "start_time": "2022-03-09T04:26:56.498Z"
   },
   {
    "duration": 6,
    "start_time": "2022-03-09T04:26:56.504Z"
   },
   {
    "duration": 4,
    "start_time": "2022-03-09T04:26:56.512Z"
   },
   {
    "duration": 7,
    "start_time": "2022-03-09T04:26:56.518Z"
   },
   {
    "duration": 4,
    "start_time": "2022-03-09T04:26:56.527Z"
   },
   {
    "duration": 34,
    "start_time": "2022-03-09T04:26:56.532Z"
   },
   {
    "duration": 10,
    "start_time": "2022-03-09T04:26:56.568Z"
   },
   {
    "duration": 7,
    "start_time": "2022-03-09T04:26:56.579Z"
   },
   {
    "duration": 1378,
    "start_time": "2022-03-09T04:26:56.588Z"
   },
   {
    "duration": 14,
    "start_time": "2022-03-09T04:26:57.970Z"
   },
   {
    "duration": 293,
    "start_time": "2022-03-09T04:26:57.986Z"
   },
   {
    "duration": 270,
    "start_time": "2022-03-09T04:26:58.281Z"
   },
   {
    "duration": 85,
    "start_time": "2022-03-09T04:26:58.553Z"
   },
   {
    "duration": 367,
    "start_time": "2022-03-09T04:26:58.640Z"
   },
   {
    "duration": 9,
    "start_time": "2022-03-09T04:26:59.009Z"
   },
   {
    "duration": 347,
    "start_time": "2022-03-09T04:26:59.020Z"
   },
   {
    "duration": 805,
    "start_time": "2022-03-09T04:26:59.369Z"
   },
   {
    "duration": 6,
    "start_time": "2022-03-09T04:27:00.176Z"
   },
   {
    "duration": 22,
    "start_time": "2022-03-09T04:27:00.184Z"
   },
   {
    "duration": 336,
    "start_time": "2022-03-09T04:27:00.208Z"
   },
   {
    "duration": 16,
    "start_time": "2022-03-09T04:27:00.547Z"
   },
   {
    "duration": 275,
    "start_time": "2022-03-09T04:27:00.564Z"
   },
   {
    "duration": 6,
    "start_time": "2022-03-09T04:27:00.841Z"
   },
   {
    "duration": 353,
    "start_time": "2022-03-09T04:27:00.863Z"
   },
   {
    "duration": 6,
    "start_time": "2022-03-09T04:27:01.218Z"
   },
   {
    "duration": 479,
    "start_time": "2022-03-09T04:27:01.226Z"
   },
   {
    "duration": 578,
    "start_time": "2022-03-09T04:27:01.707Z"
   },
   {
    "duration": 213,
    "start_time": "2022-03-09T04:27:02.286Z"
   },
   {
    "duration": 335,
    "start_time": "2022-03-09T04:27:02.500Z"
   },
   {
    "duration": 1338,
    "start_time": "2022-03-09T04:27:01.499Z"
   },
   {
    "duration": 1336,
    "start_time": "2022-03-09T04:27:01.502Z"
   },
   {
    "duration": 1335,
    "start_time": "2022-03-09T04:27:01.504Z"
   },
   {
    "duration": 1333,
    "start_time": "2022-03-09T04:27:01.507Z"
   },
   {
    "duration": 1331,
    "start_time": "2022-03-09T04:27:01.510Z"
   },
   {
    "duration": 1328,
    "start_time": "2022-03-09T04:27:01.513Z"
   },
   {
    "duration": 1327,
    "start_time": "2022-03-09T04:27:01.515Z"
   },
   {
    "duration": 1160,
    "start_time": "2022-03-09T04:27:01.683Z"
   },
   {
    "duration": 1157,
    "start_time": "2022-03-09T04:27:01.687Z"
   },
   {
    "duration": 7,
    "start_time": "2022-03-09T04:31:55.606Z"
   },
   {
    "duration": 1375,
    "start_time": "2022-03-09T04:32:14.892Z"
   },
   {
    "duration": 42,
    "start_time": "2022-03-09T04:32:16.269Z"
   },
   {
    "duration": 9,
    "start_time": "2022-03-09T04:32:16.313Z"
   },
   {
    "duration": 8,
    "start_time": "2022-03-09T04:32:16.323Z"
   },
   {
    "duration": 15,
    "start_time": "2022-03-09T04:32:16.332Z"
   },
   {
    "duration": 27,
    "start_time": "2022-03-09T04:32:16.349Z"
   },
   {
    "duration": 13,
    "start_time": "2022-03-09T04:32:16.378Z"
   },
   {
    "duration": 7,
    "start_time": "2022-03-09T04:32:16.394Z"
   },
   {
    "duration": 24,
    "start_time": "2022-03-09T04:32:16.403Z"
   },
   {
    "duration": 4,
    "start_time": "2022-03-09T04:32:16.429Z"
   },
   {
    "duration": 29,
    "start_time": "2022-03-09T04:32:16.434Z"
   },
   {
    "duration": 8,
    "start_time": "2022-03-09T04:32:16.464Z"
   },
   {
    "duration": 13,
    "start_time": "2022-03-09T04:32:16.474Z"
   },
   {
    "duration": 4,
    "start_time": "2022-03-09T04:32:16.489Z"
   },
   {
    "duration": 6,
    "start_time": "2022-03-09T04:32:16.494Z"
   },
   {
    "duration": 5,
    "start_time": "2022-03-09T04:32:16.502Z"
   },
   {
    "duration": 9,
    "start_time": "2022-03-09T04:32:16.509Z"
   },
   {
    "duration": 14,
    "start_time": "2022-03-09T04:32:16.519Z"
   },
   {
    "duration": 8,
    "start_time": "2022-03-09T04:32:16.535Z"
   },
   {
    "duration": 23,
    "start_time": "2022-03-09T04:32:16.544Z"
   },
   {
    "duration": 8,
    "start_time": "2022-03-09T04:32:16.568Z"
   },
   {
    "duration": 1350,
    "start_time": "2022-03-09T04:32:16.577Z"
   },
   {
    "duration": 13,
    "start_time": "2022-03-09T04:32:17.931Z"
   },
   {
    "duration": 287,
    "start_time": "2022-03-09T04:32:17.946Z"
   },
   {
    "duration": 262,
    "start_time": "2022-03-09T04:32:18.234Z"
   },
   {
    "duration": 83,
    "start_time": "2022-03-09T04:32:18.497Z"
   },
   {
    "duration": 358,
    "start_time": "2022-03-09T04:32:18.582Z"
   },
   {
    "duration": 7,
    "start_time": "2022-03-09T04:32:18.942Z"
   },
   {
    "duration": 339,
    "start_time": "2022-03-09T04:32:18.962Z"
   },
   {
    "duration": 627,
    "start_time": "2022-03-09T04:32:19.303Z"
   },
   {
    "duration": 33,
    "start_time": "2022-03-09T04:32:19.931Z"
   },
   {
    "duration": 11,
    "start_time": "2022-03-09T04:32:19.965Z"
   },
   {
    "duration": 325,
    "start_time": "2022-03-09T04:32:19.977Z"
   },
   {
    "duration": 5,
    "start_time": "2022-03-09T04:32:20.304Z"
   },
   {
    "duration": 265,
    "start_time": "2022-03-09T04:32:20.311Z"
   },
   {
    "duration": 6,
    "start_time": "2022-03-09T04:32:20.579Z"
   },
   {
    "duration": 276,
    "start_time": "2022-03-09T04:32:20.587Z"
   },
   {
    "duration": 5,
    "start_time": "2022-03-09T04:32:20.864Z"
   },
   {
    "duration": 278,
    "start_time": "2022-03-09T04:32:20.870Z"
   },
   {
    "duration": 270,
    "start_time": "2022-03-09T04:32:21.150Z"
   },
   {
    "duration": 556,
    "start_time": "2022-03-09T04:32:21.422Z"
   },
   {
    "duration": 310,
    "start_time": "2022-03-09T04:32:21.980Z"
   },
   {
    "duration": -451,
    "start_time": "2022-03-09T04:32:22.743Z"
   },
   {
    "duration": -453,
    "start_time": "2022-03-09T04:32:22.746Z"
   },
   {
    "duration": -455,
    "start_time": "2022-03-09T04:32:22.749Z"
   },
   {
    "duration": -458,
    "start_time": "2022-03-09T04:32:22.752Z"
   },
   {
    "duration": -459,
    "start_time": "2022-03-09T04:32:22.754Z"
   },
   {
    "duration": -461,
    "start_time": "2022-03-09T04:32:22.757Z"
   },
   {
    "duration": -462,
    "start_time": "2022-03-09T04:32:22.759Z"
   },
   {
    "duration": -465,
    "start_time": "2022-03-09T04:32:22.762Z"
   },
   {
    "duration": -466,
    "start_time": "2022-03-09T04:32:22.764Z"
   },
   {
    "duration": 86,
    "start_time": "2022-03-09T04:33:04.273Z"
   },
   {
    "duration": 227,
    "start_time": "2022-03-09T04:34:35.945Z"
   },
   {
    "duration": 229,
    "start_time": "2022-03-09T04:34:43.910Z"
   },
   {
    "duration": 374,
    "start_time": "2022-03-09T04:36:31.921Z"
   },
   {
    "duration": 237,
    "start_time": "2022-03-09T04:36:58.416Z"
   },
   {
    "duration": 528,
    "start_time": "2022-03-09T04:37:09.907Z"
   },
   {
    "duration": 370,
    "start_time": "2022-03-09T04:37:21.849Z"
   },
   {
    "duration": 231,
    "start_time": "2022-03-09T04:38:05.490Z"
   },
   {
    "duration": 410,
    "start_time": "2022-03-09T04:38:20.556Z"
   },
   {
    "duration": 236,
    "start_time": "2022-03-09T04:38:24.258Z"
   },
   {
    "duration": 234,
    "start_time": "2022-03-09T04:38:39.942Z"
   },
   {
    "duration": 6,
    "start_time": "2022-03-09T04:45:39.253Z"
   },
   {
    "duration": 180,
    "start_time": "2022-03-09T04:45:40.129Z"
   },
   {
    "duration": 169,
    "start_time": "2022-03-09T04:45:46.070Z"
   },
   {
    "duration": 5,
    "start_time": "2022-03-09T04:45:50.487Z"
   },
   {
    "duration": 280,
    "start_time": "2022-03-09T04:45:56.764Z"
   },
   {
    "duration": 8,
    "start_time": "2022-03-09T04:47:44.053Z"
   },
   {
    "duration": 5,
    "start_time": "2022-03-09T04:47:45.973Z"
   },
   {
    "duration": 235,
    "start_time": "2022-03-09T04:47:47.304Z"
   },
   {
    "duration": 5,
    "start_time": "2022-03-09T04:48:11.196Z"
   },
   {
    "duration": 480,
    "start_time": "2022-03-09T04:48:17.458Z"
   },
   {
    "duration": 25,
    "start_time": "2022-03-09T04:51:40.173Z"
   },
   {
    "duration": 23,
    "start_time": "2022-03-09T04:52:18.067Z"
   },
   {
    "duration": 22,
    "start_time": "2022-03-09T04:52:24.810Z"
   },
   {
    "duration": 49,
    "start_time": "2022-03-09T04:52:55.426Z"
   },
   {
    "duration": 187,
    "start_time": "2022-03-09T04:54:46.579Z"
   },
   {
    "duration": 61,
    "start_time": "2022-03-09T04:54:50.173Z"
   },
   {
    "duration": 17,
    "start_time": "2022-03-09T04:55:54.598Z"
   },
   {
    "duration": 24,
    "start_time": "2022-03-09T04:56:23.046Z"
   },
   {
    "duration": 15,
    "start_time": "2022-03-09T04:56:48.296Z"
   },
   {
    "duration": 20,
    "start_time": "2022-03-09T04:56:55.194Z"
   },
   {
    "duration": 20,
    "start_time": "2022-03-09T04:57:41.840Z"
   },
   {
    "duration": 1339,
    "start_time": "2022-03-10T03:22:36.014Z"
   },
   {
    "duration": 47,
    "start_time": "2022-03-10T03:22:37.355Z"
   },
   {
    "duration": 9,
    "start_time": "2022-03-10T03:22:37.404Z"
   },
   {
    "duration": 4,
    "start_time": "2022-03-10T03:22:37.415Z"
   },
   {
    "duration": 19,
    "start_time": "2022-03-10T03:22:37.420Z"
   },
   {
    "duration": 35,
    "start_time": "2022-03-10T03:22:37.441Z"
   },
   {
    "duration": 8,
    "start_time": "2022-03-10T03:22:37.477Z"
   },
   {
    "duration": 9,
    "start_time": "2022-03-10T03:22:37.487Z"
   },
   {
    "duration": 21,
    "start_time": "2022-03-10T03:22:37.498Z"
   },
   {
    "duration": 4,
    "start_time": "2022-03-10T03:22:37.521Z"
   },
   {
    "duration": 10,
    "start_time": "2022-03-10T03:22:37.526Z"
   },
   {
    "duration": 33,
    "start_time": "2022-03-10T03:22:37.537Z"
   },
   {
    "duration": 10,
    "start_time": "2022-03-10T03:22:37.572Z"
   },
   {
    "duration": 4,
    "start_time": "2022-03-10T03:22:37.583Z"
   },
   {
    "duration": 6,
    "start_time": "2022-03-10T03:22:37.589Z"
   },
   {
    "duration": 4,
    "start_time": "2022-03-10T03:22:37.596Z"
   },
   {
    "duration": 7,
    "start_time": "2022-03-10T03:22:37.601Z"
   },
   {
    "duration": 6,
    "start_time": "2022-03-10T03:22:37.609Z"
   },
   {
    "duration": 5,
    "start_time": "2022-03-10T03:22:37.616Z"
   },
   {
    "duration": 41,
    "start_time": "2022-03-10T03:22:37.622Z"
   },
   {
    "duration": 8,
    "start_time": "2022-03-10T03:22:37.665Z"
   },
   {
    "duration": 1403,
    "start_time": "2022-03-10T03:22:37.675Z"
   },
   {
    "duration": 15,
    "start_time": "2022-03-10T03:22:39.081Z"
   },
   {
    "duration": 291,
    "start_time": "2022-03-10T03:22:39.098Z"
   },
   {
    "duration": 274,
    "start_time": "2022-03-10T03:22:39.391Z"
   },
   {
    "duration": 97,
    "start_time": "2022-03-10T03:22:39.667Z"
   },
   {
    "duration": 520,
    "start_time": "2022-03-10T03:22:39.766Z"
   },
   {
    "duration": 8,
    "start_time": "2022-03-10T03:22:40.287Z"
   },
   {
    "duration": 427,
    "start_time": "2022-03-10T03:22:40.297Z"
   },
   {
    "duration": 665,
    "start_time": "2022-03-10T03:22:40.726Z"
   },
   {
    "duration": 470,
    "start_time": "2022-03-10T03:22:41.393Z"
   },
   {
    "duration": 8,
    "start_time": "2022-03-10T03:22:41.864Z"
   },
   {
    "duration": 7,
    "start_time": "2022-03-10T03:22:41.873Z"
   },
   {
    "duration": 274,
    "start_time": "2022-03-10T03:22:41.882Z"
   },
   {
    "duration": 5,
    "start_time": "2022-03-10T03:22:42.162Z"
   },
   {
    "duration": 282,
    "start_time": "2022-03-10T03:22:42.169Z"
   },
   {
    "duration": 27,
    "start_time": "2022-03-10T03:22:42.452Z"
   },
   {
    "duration": 282,
    "start_time": "2022-03-10T03:22:42.481Z"
   },
   {
    "duration": 4,
    "start_time": "2022-03-10T03:22:42.765Z"
   },
   {
    "duration": 279,
    "start_time": "2022-03-10T03:22:42.770Z"
   },
   {
    "duration": 280,
    "start_time": "2022-03-10T03:22:43.051Z"
   },
   {
    "duration": 217,
    "start_time": "2022-03-10T03:22:43.332Z"
   },
   {
    "duration": 334,
    "start_time": "2022-03-10T03:22:43.551Z"
   },
   {
    "duration": -1123,
    "start_time": "2022-03-10T03:22:45.010Z"
   },
   {
    "duration": -1126,
    "start_time": "2022-03-10T03:22:45.014Z"
   },
   {
    "duration": -1129,
    "start_time": "2022-03-10T03:22:45.018Z"
   },
   {
    "duration": -1131,
    "start_time": "2022-03-10T03:22:45.021Z"
   },
   {
    "duration": -1134,
    "start_time": "2022-03-10T03:22:45.025Z"
   },
   {
    "duration": -1137,
    "start_time": "2022-03-10T03:22:45.029Z"
   },
   {
    "duration": -1139,
    "start_time": "2022-03-10T03:22:45.032Z"
   },
   {
    "duration": -1142,
    "start_time": "2022-03-10T03:22:45.036Z"
   },
   {
    "duration": -1144,
    "start_time": "2022-03-10T03:22:45.039Z"
   },
   {
    "duration": 23,
    "start_time": "2022-03-10T03:24:46.377Z"
   },
   {
    "duration": 23,
    "start_time": "2022-03-10T03:25:21.248Z"
   },
   {
    "duration": 21,
    "start_time": "2022-03-10T03:25:30.865Z"
   },
   {
    "duration": 446,
    "start_time": "2022-03-10T03:25:53.233Z"
   },
   {
    "duration": 214,
    "start_time": "2022-03-10T03:27:03.075Z"
   },
   {
    "duration": 26,
    "start_time": "2022-03-10T03:28:56.764Z"
   },
   {
    "duration": 24,
    "start_time": "2022-03-10T03:30:09.945Z"
   },
   {
    "duration": 677,
    "start_time": "2022-03-10T03:32:43.457Z"
   },
   {
    "duration": 1299,
    "start_time": "2022-03-10T03:33:53.299Z"
   },
   {
    "duration": 1263,
    "start_time": "2022-03-10T03:43:01.703Z"
   },
   {
    "duration": 394,
    "start_time": "2022-03-10T03:43:29.949Z"
   },
   {
    "duration": 364,
    "start_time": "2022-03-10T03:43:56.587Z"
   },
   {
    "duration": 1104,
    "start_time": "2022-03-10T03:44:00.917Z"
   },
   {
    "duration": 195,
    "start_time": "2022-03-10T03:45:39.935Z"
   },
   {
    "duration": 45,
    "start_time": "2022-03-10T03:46:40.253Z"
   },
   {
    "duration": 348,
    "start_time": "2022-03-10T03:48:02.752Z"
   },
   {
    "duration": 369,
    "start_time": "2022-03-10T03:48:16.222Z"
   },
   {
    "duration": 509,
    "start_time": "2022-03-10T03:48:45.081Z"
   },
   {
    "duration": 307,
    "start_time": "2022-03-10T03:50:34.644Z"
   },
   {
    "duration": 309,
    "start_time": "2022-03-10T03:51:16.500Z"
   },
   {
    "duration": 706,
    "start_time": "2022-03-10T03:52:21.342Z"
   },
   {
    "duration": 314,
    "start_time": "2022-03-10T03:52:30.742Z"
   },
   {
    "duration": 306,
    "start_time": "2022-03-10T03:52:47.712Z"
   },
   {
    "duration": 338,
    "start_time": "2022-03-10T03:56:50.026Z"
   },
   {
    "duration": 388,
    "start_time": "2022-03-10T03:57:05.843Z"
   },
   {
    "duration": 374,
    "start_time": "2022-03-10T03:57:18.023Z"
   },
   {
    "duration": 406,
    "start_time": "2022-03-10T03:58:04.787Z"
   },
   {
    "duration": 195,
    "start_time": "2022-03-10T03:59:00.419Z"
   },
   {
    "duration": 200,
    "start_time": "2022-03-10T03:59:17.156Z"
   },
   {
    "duration": 187,
    "start_time": "2022-03-10T03:59:29.798Z"
   },
   {
    "duration": 180,
    "start_time": "2022-03-10T03:59:54.043Z"
   },
   {
    "duration": 187,
    "start_time": "2022-03-10T04:00:02.970Z"
   },
   {
    "duration": 591,
    "start_time": "2022-03-10T04:00:22.009Z"
   },
   {
    "duration": 181,
    "start_time": "2022-03-10T04:00:35.760Z"
   },
   {
    "duration": 198,
    "start_time": "2022-03-10T04:00:44.407Z"
   },
   {
    "duration": 393,
    "start_time": "2022-03-10T04:01:09.500Z"
   },
   {
    "duration": 372,
    "start_time": "2022-03-10T04:01:59.083Z"
   },
   {
    "duration": 374,
    "start_time": "2022-03-10T04:02:07.334Z"
   },
   {
    "duration": 466,
    "start_time": "2022-03-10T04:03:23.350Z"
   },
   {
    "duration": 396,
    "start_time": "2022-03-10T04:10:47.612Z"
   },
   {
    "duration": 419,
    "start_time": "2022-03-10T04:12:08.949Z"
   },
   {
    "duration": 396,
    "start_time": "2022-03-10T04:15:20.599Z"
   },
   {
    "duration": 412,
    "start_time": "2022-03-10T04:16:55.374Z"
   },
   {
    "duration": 12,
    "start_time": "2022-03-10T04:17:23.985Z"
   },
   {
    "duration": 9,
    "start_time": "2022-03-10T04:17:51.338Z"
   },
   {
    "duration": 9,
    "start_time": "2022-03-10T04:18:06.236Z"
   },
   {
    "duration": 410,
    "start_time": "2022-03-10T04:18:27.005Z"
   },
   {
    "duration": 351,
    "start_time": "2022-03-10T04:19:50.079Z"
   },
   {
    "duration": 521,
    "start_time": "2022-03-10T04:20:35.360Z"
   },
   {
    "duration": 531,
    "start_time": "2022-03-10T04:21:13.826Z"
   },
   {
    "duration": 344,
    "start_time": "2022-03-10T04:21:41.277Z"
   },
   {
    "duration": 1462,
    "start_time": "2022-03-10T04:22:18.532Z"
   },
   {
    "duration": 51,
    "start_time": "2022-03-10T04:22:19.996Z"
   },
   {
    "duration": 14,
    "start_time": "2022-03-10T04:22:20.050Z"
   },
   {
    "duration": 6,
    "start_time": "2022-03-10T04:22:20.066Z"
   },
   {
    "duration": 11,
    "start_time": "2022-03-10T04:22:20.074Z"
   },
   {
    "duration": 22,
    "start_time": "2022-03-10T04:22:20.087Z"
   },
   {
    "duration": 8,
    "start_time": "2022-03-10T04:22:20.111Z"
   },
   {
    "duration": 10,
    "start_time": "2022-03-10T04:22:20.121Z"
   },
   {
    "duration": 22,
    "start_time": "2022-03-10T04:22:20.163Z"
   },
   {
    "duration": 5,
    "start_time": "2022-03-10T04:22:20.187Z"
   },
   {
    "duration": 14,
    "start_time": "2022-03-10T04:22:20.193Z"
   },
   {
    "duration": 10,
    "start_time": "2022-03-10T04:22:20.208Z"
   },
   {
    "duration": 10,
    "start_time": "2022-03-10T04:22:20.219Z"
   },
   {
    "duration": 15,
    "start_time": "2022-03-10T04:22:20.231Z"
   },
   {
    "duration": 19,
    "start_time": "2022-03-10T04:22:20.247Z"
   },
   {
    "duration": 4,
    "start_time": "2022-03-10T04:22:20.268Z"
   },
   {
    "duration": 7,
    "start_time": "2022-03-10T04:22:20.274Z"
   },
   {
    "duration": 6,
    "start_time": "2022-03-10T04:22:20.282Z"
   },
   {
    "duration": 5,
    "start_time": "2022-03-10T04:22:20.289Z"
   },
   {
    "duration": 8,
    "start_time": "2022-03-10T04:22:20.295Z"
   },
   {
    "duration": 7,
    "start_time": "2022-03-10T04:22:20.304Z"
   },
   {
    "duration": 1370,
    "start_time": "2022-03-10T04:22:20.313Z"
   },
   {
    "duration": 14,
    "start_time": "2022-03-10T04:22:21.685Z"
   },
   {
    "duration": 297,
    "start_time": "2022-03-10T04:22:21.700Z"
   },
   {
    "duration": 255,
    "start_time": "2022-03-10T04:22:21.998Z"
   },
   {
    "duration": 163,
    "start_time": "2022-03-10T04:22:22.262Z"
   },
   {
    "duration": 364,
    "start_time": "2022-03-10T04:22:22.428Z"
   },
   {
    "duration": 7,
    "start_time": "2022-03-10T04:22:22.794Z"
   },
   {
    "duration": 373,
    "start_time": "2022-03-10T04:22:22.803Z"
   },
   {
    "duration": 370,
    "start_time": "2022-03-10T04:22:23.178Z"
   },
   {
    "duration": 361,
    "start_time": "2022-03-10T04:22:23.550Z"
   },
   {
    "duration": 8,
    "start_time": "2022-03-10T04:22:23.912Z"
   },
   {
    "duration": 11,
    "start_time": "2022-03-10T04:22:23.922Z"
   },
   {
    "duration": 334,
    "start_time": "2022-03-10T04:22:23.934Z"
   },
   {
    "duration": 4,
    "start_time": "2022-03-10T04:22:24.269Z"
   },
   {
    "duration": 302,
    "start_time": "2022-03-10T04:22:24.275Z"
   },
   {
    "duration": 1871,
    "start_time": "2022-03-10T04:22:24.578Z"
   },
   {
    "duration": 293,
    "start_time": "2022-03-10T04:22:26.451Z"
   },
   {
    "duration": 252,
    "start_time": "2022-03-10T04:22:26.746Z"
   },
   {
    "duration": 394,
    "start_time": "2022-03-10T04:22:27.000Z"
   },
   {
    "duration": 401,
    "start_time": "2022-03-10T04:22:27.396Z"
   },
   {
    "duration": 296,
    "start_time": "2022-03-10T04:22:27.799Z"
   },
   {
    "duration": 2202,
    "start_time": "2022-03-10T04:22:25.895Z"
   },
   {
    "duration": 2199,
    "start_time": "2022-03-10T04:22:25.899Z"
   },
   {
    "duration": 2197,
    "start_time": "2022-03-10T04:22:25.902Z"
   },
   {
    "duration": 2184,
    "start_time": "2022-03-10T04:22:25.915Z"
   },
   {
    "duration": 2182,
    "start_time": "2022-03-10T04:22:25.918Z"
   },
   {
    "duration": 2132,
    "start_time": "2022-03-10T04:22:25.969Z"
   },
   {
    "duration": 2129,
    "start_time": "2022-03-10T04:22:25.973Z"
   },
   {
    "duration": 2128,
    "start_time": "2022-03-10T04:22:25.975Z"
   },
   {
    "duration": 2127,
    "start_time": "2022-03-10T04:22:25.977Z"
   },
   {
    "duration": 3,
    "start_time": "2022-03-10T04:23:49.255Z"
   },
   {
    "duration": 15,
    "start_time": "2022-03-10T04:26:30.265Z"
   },
   {
    "duration": 229,
    "start_time": "2022-03-10T04:26:45.153Z"
   },
   {
    "duration": 217,
    "start_time": "2022-03-10T04:28:17.038Z"
   },
   {
    "duration": 225,
    "start_time": "2022-03-10T04:28:25.159Z"
   },
   {
    "duration": 323,
    "start_time": "2022-03-10T04:29:29.339Z"
   },
   {
    "duration": 200,
    "start_time": "2022-03-10T04:29:45.119Z"
   },
   {
    "duration": 322,
    "start_time": "2022-03-10T04:30:32.847Z"
   },
   {
    "duration": 452,
    "start_time": "2022-03-10T04:30:55.278Z"
   },
   {
    "duration": 239,
    "start_time": "2022-03-10T04:31:17.099Z"
   },
   {
    "duration": 184,
    "start_time": "2022-03-10T04:32:42.549Z"
   },
   {
    "duration": 196,
    "start_time": "2022-03-10T04:32:47.267Z"
   },
   {
    "duration": 112,
    "start_time": "2022-03-10T04:32:58.624Z"
   },
   {
    "duration": 110,
    "start_time": "2022-03-10T04:33:46.113Z"
   },
   {
    "duration": 62,
    "start_time": "2022-03-10T04:33:52.401Z"
   },
   {
    "duration": 119,
    "start_time": "2022-03-10T04:33:55.635Z"
   },
   {
    "duration": 114,
    "start_time": "2022-03-10T04:34:26.932Z"
   },
   {
    "duration": 96,
    "start_time": "2022-03-10T04:36:16.946Z"
   },
   {
    "duration": 1041,
    "start_time": "2022-03-10T04:36:55.779Z"
   },
   {
    "duration": 45,
    "start_time": "2022-03-10T04:36:56.822Z"
   },
   {
    "duration": 9,
    "start_time": "2022-03-10T04:36:56.869Z"
   },
   {
    "duration": 4,
    "start_time": "2022-03-10T04:36:56.880Z"
   },
   {
    "duration": 9,
    "start_time": "2022-03-10T04:36:56.885Z"
   },
   {
    "duration": 19,
    "start_time": "2022-03-10T04:36:56.896Z"
   },
   {
    "duration": 8,
    "start_time": "2022-03-10T04:36:56.917Z"
   },
   {
    "duration": 36,
    "start_time": "2022-03-10T04:36:56.928Z"
   },
   {
    "duration": 22,
    "start_time": "2022-03-10T04:36:56.966Z"
   },
   {
    "duration": 4,
    "start_time": "2022-03-10T04:36:56.990Z"
   },
   {
    "duration": 11,
    "start_time": "2022-03-10T04:36:56.995Z"
   },
   {
    "duration": 12,
    "start_time": "2022-03-10T04:36:57.008Z"
   },
   {
    "duration": 11,
    "start_time": "2022-03-10T04:36:57.021Z"
   },
   {
    "duration": 31,
    "start_time": "2022-03-10T04:36:57.033Z"
   },
   {
    "duration": 4,
    "start_time": "2022-03-10T04:36:57.066Z"
   },
   {
    "duration": 7,
    "start_time": "2022-03-10T04:36:57.071Z"
   },
   {
    "duration": 9,
    "start_time": "2022-03-10T04:36:57.079Z"
   },
   {
    "duration": 6,
    "start_time": "2022-03-10T04:36:57.089Z"
   },
   {
    "duration": 6,
    "start_time": "2022-03-10T04:36:57.096Z"
   },
   {
    "duration": 9,
    "start_time": "2022-03-10T04:36:57.104Z"
   },
   {
    "duration": 7,
    "start_time": "2022-03-10T04:36:57.115Z"
   },
   {
    "duration": 1371,
    "start_time": "2022-03-10T04:36:57.124Z"
   },
   {
    "duration": 14,
    "start_time": "2022-03-10T04:36:58.498Z"
   },
   {
    "duration": 307,
    "start_time": "2022-03-10T04:36:58.514Z"
   },
   {
    "duration": 267,
    "start_time": "2022-03-10T04:36:58.823Z"
   },
   {
    "duration": 159,
    "start_time": "2022-03-10T04:36:59.092Z"
   },
   {
    "duration": 357,
    "start_time": "2022-03-10T04:36:59.252Z"
   },
   {
    "duration": 9,
    "start_time": "2022-03-10T04:36:59.611Z"
   },
   {
    "duration": 274,
    "start_time": "2022-03-10T04:36:59.622Z"
   },
   {
    "duration": 369,
    "start_time": "2022-03-10T04:36:59.898Z"
   },
   {
    "duration": 581,
    "start_time": "2022-03-10T04:37:00.268Z"
   },
   {
    "duration": 15,
    "start_time": "2022-03-10T04:37:00.850Z"
   },
   {
    "duration": 16,
    "start_time": "2022-03-10T04:37:00.867Z"
   },
   {
    "duration": 270,
    "start_time": "2022-03-10T04:37:00.884Z"
   },
   {
    "duration": 9,
    "start_time": "2022-03-10T04:37:01.156Z"
   },
   {
    "duration": 287,
    "start_time": "2022-03-10T04:37:01.166Z"
   },
   {
    "duration": 1415,
    "start_time": "2022-03-10T04:37:01.462Z"
   },
   {
    "duration": 271,
    "start_time": "2022-03-10T04:37:02.879Z"
   },
   {
    "duration": 240,
    "start_time": "2022-03-10T04:37:03.152Z"
   },
   {
    "duration": 402,
    "start_time": "2022-03-10T04:37:03.394Z"
   },
   {
    "duration": 395,
    "start_time": "2022-03-10T04:37:03.798Z"
   },
   {
    "duration": 542,
    "start_time": "2022-03-10T04:37:04.195Z"
   },
   {
    "duration": 353,
    "start_time": "2022-03-10T04:37:04.739Z"
   },
   {
    "duration": 2166,
    "start_time": "2022-03-10T04:37:02.928Z"
   },
   {
    "duration": 2161,
    "start_time": "2022-03-10T04:37:02.934Z"
   },
   {
    "duration": 2156,
    "start_time": "2022-03-10T04:37:02.939Z"
   },
   {
    "duration": 2153,
    "start_time": "2022-03-10T04:37:02.944Z"
   },
   {
    "duration": 2151,
    "start_time": "2022-03-10T04:37:02.947Z"
   },
   {
    "duration": 2150,
    "start_time": "2022-03-10T04:37:02.949Z"
   },
   {
    "duration": 2147,
    "start_time": "2022-03-10T04:37:02.952Z"
   },
   {
    "duration": 2146,
    "start_time": "2022-03-10T04:37:02.954Z"
   },
   {
    "duration": 2143,
    "start_time": "2022-03-10T04:37:02.959Z"
   },
   {
    "duration": 126,
    "start_time": "2022-03-10T04:37:11.383Z"
   },
   {
    "duration": 119,
    "start_time": "2022-03-10T04:38:13.573Z"
   },
   {
    "duration": 124,
    "start_time": "2022-03-10T04:38:19.202Z"
   },
   {
    "duration": 301,
    "start_time": "2022-03-10T04:38:45.105Z"
   },
   {
    "duration": 124,
    "start_time": "2022-03-10T04:39:13.996Z"
   },
   {
    "duration": 255,
    "start_time": "2022-03-10T04:39:28.936Z"
   },
   {
    "duration": 135,
    "start_time": "2022-03-10T04:39:40.398Z"
   },
   {
    "duration": 123,
    "start_time": "2022-03-10T04:39:49.490Z"
   },
   {
    "duration": 121,
    "start_time": "2022-03-10T04:39:56.891Z"
   },
   {
    "duration": 123,
    "start_time": "2022-03-10T04:40:02.712Z"
   },
   {
    "duration": 115,
    "start_time": "2022-03-10T04:40:21.139Z"
   },
   {
    "duration": 116,
    "start_time": "2022-03-10T04:40:27.554Z"
   },
   {
    "duration": 120,
    "start_time": "2022-03-10T04:41:11.020Z"
   },
   {
    "duration": 121,
    "start_time": "2022-03-10T04:41:15.762Z"
   },
   {
    "duration": 118,
    "start_time": "2022-03-10T04:41:26.479Z"
   },
   {
    "duration": 119,
    "start_time": "2022-03-10T04:41:30.468Z"
   },
   {
    "duration": 118,
    "start_time": "2022-03-10T04:41:44.356Z"
   },
   {
    "duration": 125,
    "start_time": "2022-03-10T04:42:18.054Z"
   },
   {
    "duration": 133,
    "start_time": "2022-03-10T04:42:31.119Z"
   },
   {
    "duration": 312,
    "start_time": "2022-03-10T04:42:40.630Z"
   },
   {
    "duration": 132,
    "start_time": "2022-03-10T04:42:52.024Z"
   },
   {
    "duration": 235,
    "start_time": "2022-03-10T04:43:37.186Z"
   },
   {
    "duration": 130,
    "start_time": "2022-03-10T04:43:40.878Z"
   },
   {
    "duration": 132,
    "start_time": "2022-03-10T04:43:44.054Z"
   },
   {
    "duration": 307,
    "start_time": "2022-03-10T04:44:53.938Z"
   },
   {
    "duration": 128,
    "start_time": "2022-03-10T04:47:56.673Z"
   },
   {
    "duration": 130,
    "start_time": "2022-03-10T04:48:59.741Z"
   },
   {
    "duration": 132,
    "start_time": "2022-03-10T04:49:07.345Z"
   },
   {
    "duration": 15,
    "start_time": "2022-03-10T04:49:41.468Z"
   },
   {
    "duration": 132,
    "start_time": "2022-03-10T04:49:44.989Z"
   },
   {
    "duration": 192,
    "start_time": "2022-03-10T04:50:07.110Z"
   },
   {
    "duration": 201,
    "start_time": "2022-03-10T04:50:18.520Z"
   },
   {
    "duration": 15,
    "start_time": "2022-03-10T04:50:23.942Z"
   },
   {
    "duration": 197,
    "start_time": "2022-03-10T04:52:19.791Z"
   },
   {
    "duration": 16,
    "start_time": "2022-03-10T04:52:27.009Z"
   },
   {
    "duration": 15,
    "start_time": "2022-03-10T04:53:27.564Z"
   },
   {
    "duration": 136,
    "start_time": "2022-03-10T04:54:05.127Z"
   },
   {
    "duration": 16,
    "start_time": "2022-03-10T04:58:03.061Z"
   },
   {
    "duration": 123,
    "start_time": "2022-03-10T04:58:05.161Z"
   },
   {
    "duration": 17,
    "start_time": "2022-03-10T05:02:10.341Z"
   },
   {
    "duration": 19,
    "start_time": "2022-03-10T05:03:08.367Z"
   },
   {
    "duration": 4492,
    "start_time": "2022-03-10T05:03:29.548Z"
   },
   {
    "duration": 18,
    "start_time": "2022-03-10T05:03:51.473Z"
   },
   {
    "duration": 17,
    "start_time": "2022-03-10T05:03:56.946Z"
   },
   {
    "duration": 18,
    "start_time": "2022-03-10T05:04:31.205Z"
   },
   {
    "duration": 129,
    "start_time": "2022-03-10T05:04:35.948Z"
   },
   {
    "duration": 19,
    "start_time": "2022-03-10T05:05:11.400Z"
   },
   {
    "duration": 17,
    "start_time": "2022-03-10T05:05:40.684Z"
   },
   {
    "duration": 20,
    "start_time": "2022-03-10T05:12:01.193Z"
   },
   {
    "duration": 124,
    "start_time": "2022-03-10T05:12:33.082Z"
   },
   {
    "duration": 18,
    "start_time": "2022-03-10T05:13:38.326Z"
   },
   {
    "duration": 124,
    "start_time": "2022-03-10T05:13:42.503Z"
   },
   {
    "duration": 129,
    "start_time": "2022-03-10T05:13:56.689Z"
   },
   {
    "duration": 180,
    "start_time": "2022-03-10T05:15:42.868Z"
   },
   {
    "duration": 19,
    "start_time": "2022-03-10T05:15:44.427Z"
   },
   {
    "duration": 125,
    "start_time": "2022-03-10T05:15:45.880Z"
   },
   {
    "duration": 19,
    "start_time": "2022-03-10T05:18:55.462Z"
   },
   {
    "duration": 1083,
    "start_time": "2022-03-10T05:19:03.231Z"
   },
   {
    "duration": 48,
    "start_time": "2022-03-10T05:19:04.316Z"
   },
   {
    "duration": 9,
    "start_time": "2022-03-10T05:19:04.366Z"
   },
   {
    "duration": 7,
    "start_time": "2022-03-10T05:19:04.377Z"
   },
   {
    "duration": 11,
    "start_time": "2022-03-10T05:19:04.386Z"
   },
   {
    "duration": 21,
    "start_time": "2022-03-10T05:19:04.398Z"
   },
   {
    "duration": 7,
    "start_time": "2022-03-10T05:19:04.421Z"
   },
   {
    "duration": 38,
    "start_time": "2022-03-10T05:19:04.430Z"
   },
   {
    "duration": 23,
    "start_time": "2022-03-10T05:19:04.471Z"
   },
   {
    "duration": 5,
    "start_time": "2022-03-10T05:19:04.496Z"
   },
   {
    "duration": 14,
    "start_time": "2022-03-10T05:19:04.503Z"
   },
   {
    "duration": 13,
    "start_time": "2022-03-10T05:19:04.518Z"
   },
   {
    "duration": 9,
    "start_time": "2022-03-10T05:19:04.532Z"
   },
   {
    "duration": 22,
    "start_time": "2022-03-10T05:19:04.542Z"
   },
   {
    "duration": 7,
    "start_time": "2022-03-10T05:19:04.566Z"
   },
   {
    "duration": 4,
    "start_time": "2022-03-10T05:19:04.575Z"
   },
   {
    "duration": 6,
    "start_time": "2022-03-10T05:19:04.580Z"
   },
   {
    "duration": 6,
    "start_time": "2022-03-10T05:19:04.587Z"
   },
   {
    "duration": 7,
    "start_time": "2022-03-10T05:19:04.595Z"
   },
   {
    "duration": 11,
    "start_time": "2022-03-10T05:19:04.603Z"
   },
   {
    "duration": 9,
    "start_time": "2022-03-10T05:19:04.615Z"
   },
   {
    "duration": 1457,
    "start_time": "2022-03-10T05:19:04.625Z"
   },
   {
    "duration": 15,
    "start_time": "2022-03-10T05:19:06.084Z"
   },
   {
    "duration": 306,
    "start_time": "2022-03-10T05:19:06.101Z"
   },
   {
    "duration": 273,
    "start_time": "2022-03-10T05:19:06.409Z"
   },
   {
    "duration": 158,
    "start_time": "2022-03-10T05:19:06.684Z"
   },
   {
    "duration": 358,
    "start_time": "2022-03-10T05:19:06.846Z"
   },
   {
    "duration": 7,
    "start_time": "2022-03-10T05:19:07.207Z"
   },
   {
    "duration": 270,
    "start_time": "2022-03-10T05:19:07.216Z"
   },
   {
    "duration": 368,
    "start_time": "2022-03-10T05:19:07.488Z"
   },
   {
    "duration": 363,
    "start_time": "2022-03-10T05:19:07.858Z"
   },
   {
    "duration": 8,
    "start_time": "2022-03-10T05:19:08.224Z"
   },
   {
    "duration": 10,
    "start_time": "2022-03-10T05:19:08.234Z"
   },
   {
    "duration": 307,
    "start_time": "2022-03-10T05:19:08.246Z"
   },
   {
    "duration": 11,
    "start_time": "2022-03-10T05:19:08.555Z"
   },
   {
    "duration": 309,
    "start_time": "2022-03-10T05:19:08.568Z"
   },
   {
    "duration": 1428,
    "start_time": "2022-03-10T05:19:08.879Z"
   },
   {
    "duration": 394,
    "start_time": "2022-03-10T05:19:10.309Z"
   },
   {
    "duration": 360,
    "start_time": "2022-03-10T05:19:10.705Z"
   },
   {
    "duration": 613,
    "start_time": "2022-03-10T05:19:11.067Z"
   },
   {
    "duration": 393,
    "start_time": "2022-03-10T05:19:11.681Z"
   },
   {
    "duration": 18,
    "start_time": "2022-03-10T05:19:12.076Z"
   },
   {
    "duration": 141,
    "start_time": "2022-03-10T05:19:12.095Z"
   },
   {
    "duration": 27,
    "start_time": "2022-03-10T05:19:12.237Z"
   },
   {
    "duration": 139,
    "start_time": "2022-03-10T05:19:12.265Z"
   },
   {
    "duration": 72,
    "start_time": "2022-03-10T05:19:12.406Z"
   },
   {
    "duration": 230,
    "start_time": "2022-03-10T05:19:12.480Z"
   },
   {
    "duration": 18,
    "start_time": "2022-03-10T05:19:12.763Z"
   },
   {
    "duration": 154,
    "start_time": "2022-03-10T05:19:12.782Z"
   },
   {
    "duration": 26,
    "start_time": "2022-03-10T05:19:12.938Z"
   },
   {
    "duration": 135,
    "start_time": "2022-03-10T05:19:12.965Z"
   },
   {
    "duration": 18,
    "start_time": "2022-03-10T05:19:13.102Z"
   },
   {
    "duration": 147,
    "start_time": "2022-03-10T05:19:13.121Z"
   },
   {
    "duration": 18,
    "start_time": "2022-03-10T05:19:13.269Z"
   },
   {
    "duration": 334,
    "start_time": "2022-03-10T05:19:13.288Z"
   },
   {
    "duration": 13,
    "start_time": "2022-03-10T05:19:13.623Z"
   },
   {
    "duration": 29,
    "start_time": "2022-03-10T05:19:13.637Z"
   },
   {
    "duration": 21,
    "start_time": "2022-03-10T05:22:00.198Z"
   },
   {
    "duration": 21,
    "start_time": "2022-03-10T05:22:12.146Z"
   },
   {
    "duration": 8,
    "start_time": "2022-03-10T05:23:19.162Z"
   },
   {
    "duration": 17,
    "start_time": "2022-03-10T05:24:01.895Z"
   },
   {
    "duration": 20,
    "start_time": "2022-03-10T05:24:05.948Z"
   },
   {
    "duration": 221,
    "start_time": "2022-03-10T05:24:08.325Z"
   },
   {
    "duration": 16,
    "start_time": "2022-03-10T05:25:15.138Z"
   },
   {
    "duration": 22,
    "start_time": "2022-03-10T05:25:20.139Z"
   },
   {
    "duration": 219,
    "start_time": "2022-03-10T05:25:23.360Z"
   },
   {
    "duration": 170,
    "start_time": "2022-03-10T05:29:12.755Z"
   },
   {
    "duration": 1128,
    "start_time": "2022-03-10T05:40:31.503Z"
   },
   {
    "duration": 45,
    "start_time": "2022-03-10T05:40:32.633Z"
   },
   {
    "duration": 10,
    "start_time": "2022-03-10T05:40:32.680Z"
   },
   {
    "duration": 8,
    "start_time": "2022-03-10T05:40:32.692Z"
   },
   {
    "duration": 14,
    "start_time": "2022-03-10T05:40:32.701Z"
   },
   {
    "duration": 20,
    "start_time": "2022-03-10T05:40:32.716Z"
   },
   {
    "duration": 29,
    "start_time": "2022-03-10T05:40:32.737Z"
   },
   {
    "duration": 9,
    "start_time": "2022-03-10T05:40:32.768Z"
   },
   {
    "duration": 25,
    "start_time": "2022-03-10T05:40:32.779Z"
   },
   {
    "duration": 5,
    "start_time": "2022-03-10T05:40:32.806Z"
   },
   {
    "duration": 10,
    "start_time": "2022-03-10T05:40:32.812Z"
   },
   {
    "duration": 17,
    "start_time": "2022-03-10T05:40:32.824Z"
   },
   {
    "duration": 28,
    "start_time": "2022-03-10T05:40:32.843Z"
   },
   {
    "duration": 6,
    "start_time": "2022-03-10T05:40:32.872Z"
   },
   {
    "duration": 8,
    "start_time": "2022-03-10T05:40:32.880Z"
   },
   {
    "duration": 7,
    "start_time": "2022-03-10T05:40:32.889Z"
   },
   {
    "duration": 7,
    "start_time": "2022-03-10T05:40:32.897Z"
   },
   {
    "duration": 9,
    "start_time": "2022-03-10T05:40:32.906Z"
   },
   {
    "duration": 7,
    "start_time": "2022-03-10T05:40:32.916Z"
   },
   {
    "duration": 11,
    "start_time": "2022-03-10T05:40:32.925Z"
   },
   {
    "duration": 28,
    "start_time": "2022-03-10T05:40:32.937Z"
   },
   {
    "duration": 1378,
    "start_time": "2022-03-10T05:40:32.967Z"
   },
   {
    "duration": 19,
    "start_time": "2022-03-10T05:40:34.349Z"
   },
   {
    "duration": 301,
    "start_time": "2022-03-10T05:40:34.371Z"
   },
   {
    "duration": 265,
    "start_time": "2022-03-10T05:40:34.674Z"
   },
   {
    "duration": 165,
    "start_time": "2022-03-10T05:40:34.941Z"
   },
   {
    "duration": 363,
    "start_time": "2022-03-10T05:40:35.108Z"
   },
   {
    "duration": 8,
    "start_time": "2022-03-10T05:40:35.473Z"
   },
   {
    "duration": 273,
    "start_time": "2022-03-10T05:40:35.482Z"
   },
   {
    "duration": 369,
    "start_time": "2022-03-10T05:40:35.757Z"
   },
   {
    "duration": 364,
    "start_time": "2022-03-10T05:40:36.128Z"
   },
   {
    "duration": 8,
    "start_time": "2022-03-10T05:40:36.493Z"
   },
   {
    "duration": 14,
    "start_time": "2022-03-10T05:40:36.503Z"
   },
   {
    "duration": 299,
    "start_time": "2022-03-10T05:40:36.518Z"
   },
   {
    "duration": 4,
    "start_time": "2022-03-10T05:40:36.819Z"
   },
   {
    "duration": 304,
    "start_time": "2022-03-10T05:40:36.825Z"
   },
   {
    "duration": 1689,
    "start_time": "2022-03-10T05:40:37.131Z"
   },
   {
    "duration": 292,
    "start_time": "2022-03-10T05:40:38.821Z"
   },
   {
    "duration": 251,
    "start_time": "2022-03-10T05:40:39.114Z"
   },
   {
    "duration": 384,
    "start_time": "2022-03-10T05:40:39.366Z"
   },
   {
    "duration": 385,
    "start_time": "2022-03-10T05:40:39.752Z"
   },
   {
    "duration": 28,
    "start_time": "2022-03-10T05:40:40.139Z"
   },
   {
    "duration": 136,
    "start_time": "2022-03-10T05:40:40.169Z"
   },
   {
    "duration": 18,
    "start_time": "2022-03-10T05:40:40.307Z"
   },
   {
    "duration": 140,
    "start_time": "2022-03-10T05:40:40.327Z"
   },
   {
    "duration": 18,
    "start_time": "2022-03-10T05:40:40.469Z"
   },
   {
    "duration": 139,
    "start_time": "2022-03-10T05:40:40.488Z"
   },
   {
    "duration": 17,
    "start_time": "2022-03-10T05:40:40.629Z"
   },
   {
    "duration": 128,
    "start_time": "2022-03-10T05:40:40.662Z"
   },
   {
    "duration": 17,
    "start_time": "2022-03-10T05:40:40.792Z"
   },
   {
    "duration": 137,
    "start_time": "2022-03-10T05:40:40.811Z"
   },
   {
    "duration": 25,
    "start_time": "2022-03-10T05:40:40.950Z"
   },
   {
    "duration": 136,
    "start_time": "2022-03-10T05:40:40.976Z"
   },
   {
    "duration": 21,
    "start_time": "2022-03-10T05:40:41.113Z"
   },
   {
    "duration": 355,
    "start_time": "2022-03-10T05:40:41.135Z"
   },
   {
    "duration": 173,
    "start_time": "2022-03-10T05:40:41.491Z"
   },
   {
    "duration": 13,
    "start_time": "2022-03-10T05:40:41.666Z"
   },
   {
    "duration": 12,
    "start_time": "2022-03-10T05:40:41.681Z"
   },
   {
    "duration": 1058,
    "start_time": "2022-03-10T05:53:51.376Z"
   },
   {
    "duration": 75,
    "start_time": "2022-03-10T05:53:52.437Z"
   },
   {
    "duration": 11,
    "start_time": "2022-03-10T05:53:52.514Z"
   },
   {
    "duration": 6,
    "start_time": "2022-03-10T05:53:52.528Z"
   },
   {
    "duration": 11,
    "start_time": "2022-03-10T05:53:52.536Z"
   },
   {
    "duration": 23,
    "start_time": "2022-03-10T05:53:52.549Z"
   },
   {
    "duration": 9,
    "start_time": "2022-03-10T05:53:52.575Z"
   },
   {
    "duration": 9,
    "start_time": "2022-03-10T05:53:52.586Z"
   },
   {
    "duration": 23,
    "start_time": "2022-03-10T05:53:52.596Z"
   },
   {
    "duration": 5,
    "start_time": "2022-03-10T05:53:52.620Z"
   },
   {
    "duration": 37,
    "start_time": "2022-03-10T05:53:52.627Z"
   },
   {
    "duration": 8,
    "start_time": "2022-03-10T05:53:52.666Z"
   },
   {
    "duration": 9,
    "start_time": "2022-03-10T05:53:52.675Z"
   },
   {
    "duration": 4,
    "start_time": "2022-03-10T05:53:52.685Z"
   },
   {
    "duration": 5,
    "start_time": "2022-03-10T05:53:52.691Z"
   },
   {
    "duration": 4,
    "start_time": "2022-03-10T05:53:52.697Z"
   },
   {
    "duration": 7,
    "start_time": "2022-03-10T05:53:52.702Z"
   },
   {
    "duration": 6,
    "start_time": "2022-03-10T05:53:52.710Z"
   },
   {
    "duration": 5,
    "start_time": "2022-03-10T05:53:52.717Z"
   },
   {
    "duration": 42,
    "start_time": "2022-03-10T05:53:52.723Z"
   },
   {
    "duration": 9,
    "start_time": "2022-03-10T05:53:52.768Z"
   },
   {
    "duration": 1475,
    "start_time": "2022-03-10T05:53:52.779Z"
   },
   {
    "duration": 15,
    "start_time": "2022-03-10T05:53:54.263Z"
   },
   {
    "duration": 304,
    "start_time": "2022-03-10T05:53:54.281Z"
   },
   {
    "duration": 267,
    "start_time": "2022-03-10T05:53:54.587Z"
   },
   {
    "duration": 166,
    "start_time": "2022-03-10T05:53:54.857Z"
   },
   {
    "duration": 360,
    "start_time": "2022-03-10T05:53:55.025Z"
   },
   {
    "duration": 8,
    "start_time": "2022-03-10T05:53:55.387Z"
   },
   {
    "duration": 287,
    "start_time": "2022-03-10T05:53:55.396Z"
   },
   {
    "duration": 356,
    "start_time": "2022-03-10T05:53:55.685Z"
   },
   {
    "duration": 362,
    "start_time": "2022-03-10T05:53:56.043Z"
   },
   {
    "duration": 8,
    "start_time": "2022-03-10T05:53:56.407Z"
   },
   {
    "duration": 9,
    "start_time": "2022-03-10T05:53:56.416Z"
   },
   {
    "duration": 338,
    "start_time": "2022-03-10T05:53:56.426Z"
   },
   {
    "duration": 5,
    "start_time": "2022-03-10T05:53:56.766Z"
   },
   {
    "duration": 300,
    "start_time": "2022-03-10T05:53:56.772Z"
   },
   {
    "duration": 1651,
    "start_time": "2022-03-10T05:53:57.074Z"
   },
   {
    "duration": 298,
    "start_time": "2022-03-10T05:53:58.726Z"
   },
   {
    "duration": 245,
    "start_time": "2022-03-10T05:53:59.026Z"
   },
   {
    "duration": 391,
    "start_time": "2022-03-10T05:53:59.273Z"
   },
   {
    "duration": 498,
    "start_time": "2022-03-10T05:53:59.666Z"
   },
   {
    "duration": 19,
    "start_time": "2022-03-10T05:54:00.166Z"
   },
   {
    "duration": 140,
    "start_time": "2022-03-10T05:54:00.187Z"
   },
   {
    "duration": 18,
    "start_time": "2022-03-10T05:54:00.329Z"
   },
   {
    "duration": 142,
    "start_time": "2022-03-10T05:54:00.349Z"
   },
   {
    "duration": 18,
    "start_time": "2022-03-10T05:54:00.493Z"
   },
   {
    "duration": 141,
    "start_time": "2022-03-10T05:54:00.513Z"
   },
   {
    "duration": 22,
    "start_time": "2022-03-10T05:54:00.656Z"
   },
   {
    "duration": 139,
    "start_time": "2022-03-10T05:54:00.680Z"
   },
   {
    "duration": 19,
    "start_time": "2022-03-10T05:54:00.820Z"
   },
   {
    "duration": 146,
    "start_time": "2022-03-10T05:54:00.841Z"
   },
   {
    "duration": 19,
    "start_time": "2022-03-10T05:54:00.989Z"
   },
   {
    "duration": 147,
    "start_time": "2022-03-10T05:54:01.010Z"
   },
   {
    "duration": 22,
    "start_time": "2022-03-10T05:54:01.159Z"
   },
   {
    "duration": 360,
    "start_time": "2022-03-10T05:54:01.182Z"
   },
   {
    "duration": 193,
    "start_time": "2022-03-10T05:54:01.544Z"
   },
   {
    "duration": 14,
    "start_time": "2022-03-10T05:54:01.739Z"
   },
   {
    "duration": 25,
    "start_time": "2022-03-10T05:54:01.754Z"
   }
  ],
  "kernelspec": {
   "display_name": "Python 3 (ipykernel)",
   "language": "python",
   "name": "python3"
  },
  "language_info": {
   "codemirror_mode": {
    "name": "ipython",
    "version": 3
   },
   "file_extension": ".py",
   "mimetype": "text/x-python",
   "name": "python",
   "nbconvert_exporter": "python",
   "pygments_lexer": "ipython3",
   "version": "3.9.5"
  },
  "toc": {
   "base_numbering": 1,
   "nav_menu": {},
   "number_sections": true,
   "sideBar": true,
   "skip_h1_title": true,
   "title_cell": "Table of Contents",
   "title_sidebar": "Contents",
   "toc_cell": false,
   "toc_position": {
    "height": "calc(100% - 180px)",
    "left": "10px",
    "top": "150px",
    "width": "255.198px"
   },
   "toc_section_display": true,
   "toc_window_display": true
  }
 },
 "nbformat": 4,
 "nbformat_minor": 5
}
