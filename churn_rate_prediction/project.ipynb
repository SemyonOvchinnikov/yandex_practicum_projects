{
 "cells": [
  {
   "cell_type": "markdown",
   "id": "1bc25a8c",
   "metadata": {},
   "source": [
    "# Отток клиентов"
   ]
  },
  {
   "cell_type": "markdown",
   "id": "333e4903",
   "metadata": {},
   "source": [
    "Из «Бета-Банка» стали уходить клиенты. Каждый месяц. Немного, но заметно. Банковские маркетологи посчитали: сохранять текущих клиентов дешевле, чем привлекать новых.\n",
    "\n",
    "Нужно спрогнозировать, уйдёт клиент из банка в ближайшее время или нет. Вам предоставлены исторические данные о поведении клиентов и расторжении договоров с банком. \n",
    "\n",
    "Необходимо построить модель с целевым значением метрики *F1* 0.59.\n",
    "\n",
    "Источник данных: [https://www.kaggle.com/barelydedicated/bank-customer-churn-modeling](https://www.kaggle.com/barelydedicated/bank-customer-churn-modeling)"
   ]
  },
  {
   "cell_type": "markdown",
   "id": "786ee454",
   "metadata": {},
   "source": [
    "## Подготовка данных"
   ]
  },
  {
   "cell_type": "code",
   "execution_count": 1,
   "id": "aaa44781",
   "metadata": {},
   "outputs": [],
   "source": [
    "import pandas as pd\n",
    "import numpy as np\n",
    "import matplotlib.pyplot as plt\n",
    "\n",
    "from sklearn.model_selection import train_test_split\n",
    "from sklearn.preprocessing import StandardScaler\n",
    "from sklearn.utils import shuffle\n",
    "\n",
    "#metrics\n",
    "from sklearn.metrics import f1_score\n",
    "from sklearn.metrics import roc_auc_score\n",
    "\n",
    "# models\n",
    "from sklearn.tree import DecisionTreeClassifier\n",
    "from sklearn.ensemble import RandomForestClassifier\n",
    "from sklearn.linear_model import LogisticRegression\n",
    "from sklearn.dummy import DummyClassifier"
   ]
  },
  {
   "cell_type": "markdown",
   "id": "ff0f56e5",
   "metadata": {},
   "source": [
    "### Изучение данных"
   ]
  },
  {
   "cell_type": "code",
   "execution_count": 2,
   "id": "e5be173b",
   "metadata": {
    "scrolled": true
   },
   "outputs": [
    {
     "data": {
      "text/html": [
       "<div>\n",
       "<style scoped>\n",
       "    .dataframe tbody tr th:only-of-type {\n",
       "        vertical-align: middle;\n",
       "    }\n",
       "\n",
       "    .dataframe tbody tr th {\n",
       "        vertical-align: top;\n",
       "    }\n",
       "\n",
       "    .dataframe thead th {\n",
       "        text-align: right;\n",
       "    }\n",
       "</style>\n",
       "<table border=\"1\" class=\"dataframe\">\n",
       "  <thead>\n",
       "    <tr style=\"text-align: right;\">\n",
       "      <th></th>\n",
       "      <th>RowNumber</th>\n",
       "      <th>CustomerId</th>\n",
       "      <th>Surname</th>\n",
       "      <th>CreditScore</th>\n",
       "      <th>Geography</th>\n",
       "      <th>Gender</th>\n",
       "      <th>Age</th>\n",
       "      <th>Tenure</th>\n",
       "      <th>Balance</th>\n",
       "      <th>NumOfProducts</th>\n",
       "      <th>HasCrCard</th>\n",
       "      <th>IsActiveMember</th>\n",
       "      <th>EstimatedSalary</th>\n",
       "      <th>Exited</th>\n",
       "    </tr>\n",
       "  </thead>\n",
       "  <tbody>\n",
       "    <tr>\n",
       "      <th>0</th>\n",
       "      <td>1</td>\n",
       "      <td>15634602</td>\n",
       "      <td>Hargrave</td>\n",
       "      <td>619</td>\n",
       "      <td>France</td>\n",
       "      <td>Female</td>\n",
       "      <td>42</td>\n",
       "      <td>2.0</td>\n",
       "      <td>0.00</td>\n",
       "      <td>1</td>\n",
       "      <td>1</td>\n",
       "      <td>1</td>\n",
       "      <td>101348.88</td>\n",
       "      <td>1</td>\n",
       "    </tr>\n",
       "    <tr>\n",
       "      <th>1</th>\n",
       "      <td>2</td>\n",
       "      <td>15647311</td>\n",
       "      <td>Hill</td>\n",
       "      <td>608</td>\n",
       "      <td>Spain</td>\n",
       "      <td>Female</td>\n",
       "      <td>41</td>\n",
       "      <td>1.0</td>\n",
       "      <td>83807.86</td>\n",
       "      <td>1</td>\n",
       "      <td>0</td>\n",
       "      <td>1</td>\n",
       "      <td>112542.58</td>\n",
       "      <td>0</td>\n",
       "    </tr>\n",
       "    <tr>\n",
       "      <th>2</th>\n",
       "      <td>3</td>\n",
       "      <td>15619304</td>\n",
       "      <td>Onio</td>\n",
       "      <td>502</td>\n",
       "      <td>France</td>\n",
       "      <td>Female</td>\n",
       "      <td>42</td>\n",
       "      <td>8.0</td>\n",
       "      <td>159660.80</td>\n",
       "      <td>3</td>\n",
       "      <td>1</td>\n",
       "      <td>0</td>\n",
       "      <td>113931.57</td>\n",
       "      <td>1</td>\n",
       "    </tr>\n",
       "    <tr>\n",
       "      <th>3</th>\n",
       "      <td>4</td>\n",
       "      <td>15701354</td>\n",
       "      <td>Boni</td>\n",
       "      <td>699</td>\n",
       "      <td>France</td>\n",
       "      <td>Female</td>\n",
       "      <td>39</td>\n",
       "      <td>1.0</td>\n",
       "      <td>0.00</td>\n",
       "      <td>2</td>\n",
       "      <td>0</td>\n",
       "      <td>0</td>\n",
       "      <td>93826.63</td>\n",
       "      <td>0</td>\n",
       "    </tr>\n",
       "    <tr>\n",
       "      <th>4</th>\n",
       "      <td>5</td>\n",
       "      <td>15737888</td>\n",
       "      <td>Mitchell</td>\n",
       "      <td>850</td>\n",
       "      <td>Spain</td>\n",
       "      <td>Female</td>\n",
       "      <td>43</td>\n",
       "      <td>2.0</td>\n",
       "      <td>125510.82</td>\n",
       "      <td>1</td>\n",
       "      <td>1</td>\n",
       "      <td>1</td>\n",
       "      <td>79084.10</td>\n",
       "      <td>0</td>\n",
       "    </tr>\n",
       "  </tbody>\n",
       "</table>\n",
       "</div>"
      ],
      "text/plain": [
       "   RowNumber  CustomerId   Surname  CreditScore Geography  Gender  Age  \\\n",
       "0          1    15634602  Hargrave          619    France  Female   42   \n",
       "1          2    15647311      Hill          608     Spain  Female   41   \n",
       "2          3    15619304      Onio          502    France  Female   42   \n",
       "3          4    15701354      Boni          699    France  Female   39   \n",
       "4          5    15737888  Mitchell          850     Spain  Female   43   \n",
       "\n",
       "   Tenure    Balance  NumOfProducts  HasCrCard  IsActiveMember  \\\n",
       "0     2.0       0.00              1          1               1   \n",
       "1     1.0   83807.86              1          0               1   \n",
       "2     8.0  159660.80              3          1               0   \n",
       "3     1.0       0.00              2          0               0   \n",
       "4     2.0  125510.82              1          1               1   \n",
       "\n",
       "   EstimatedSalary  Exited  \n",
       "0        101348.88       1  \n",
       "1        112542.58       0  \n",
       "2        113931.57       1  \n",
       "3         93826.63       0  \n",
       "4         79084.10       0  "
      ]
     },
     "execution_count": 2,
     "metadata": {},
     "output_type": "execute_result"
    }
   ],
   "source": [
    "data = pd.read_csv('/datasets/Churn.csv')\n",
    "data.head()"
   ]
  },
  {
   "cell_type": "code",
   "execution_count": 3,
   "id": "3ad1fc0b",
   "metadata": {
    "scrolled": true
   },
   "outputs": [
    {
     "name": "stdout",
     "output_type": "stream",
     "text": [
      "<class 'pandas.core.frame.DataFrame'>\n",
      "RangeIndex: 10000 entries, 0 to 9999\n",
      "Data columns (total 14 columns):\n",
      " #   Column           Non-Null Count  Dtype  \n",
      "---  ------           --------------  -----  \n",
      " 0   RowNumber        10000 non-null  int64  \n",
      " 1   CustomerId       10000 non-null  int64  \n",
      " 2   Surname          10000 non-null  object \n",
      " 3   CreditScore      10000 non-null  int64  \n",
      " 4   Geography        10000 non-null  object \n",
      " 5   Gender           10000 non-null  object \n",
      " 6   Age              10000 non-null  int64  \n",
      " 7   Tenure           9091 non-null   float64\n",
      " 8   Balance          10000 non-null  float64\n",
      " 9   NumOfProducts    10000 non-null  int64  \n",
      " 10  HasCrCard        10000 non-null  int64  \n",
      " 11  IsActiveMember   10000 non-null  int64  \n",
      " 12  EstimatedSalary  10000 non-null  float64\n",
      " 13  Exited           10000 non-null  int64  \n",
      "dtypes: float64(3), int64(8), object(3)\n",
      "memory usage: 1.1+ MB\n"
     ]
    }
   ],
   "source": [
    "data.info()"
   ]
  },
  {
   "cell_type": "markdown",
   "id": "d6ff9f81",
   "metadata": {},
   "source": [
    "**Вывод**"
   ]
  },
  {
   "cell_type": "markdown",
   "id": "22e2bac0",
   "metadata": {},
   "source": [
    "В датасете 12 колонок и 10000 строк. В колонке `Tenure` наблюдаются пропуски.\n",
    "\n",
    "В данных 11 признаков, целевой признак факт ухода клиента (1 или 0). Колонки `Surname`, `Geography` и `Gender` содержат категориальные признаки, остальные - численные.\n",
    "Необходимо построить модель задачи классификации, которая спрогнозирует уйдет ли клиент в ближайшее время или нет. \n",
    "\n",
    "Признаки\n",
    "* RowNumber — индекс строки в данных\n",
    "* CustomerId — уникальный идентификатор клиента\n",
    "* Surname — фамилия\n",
    "* CreditScore — кредитный рейтинг\n",
    "* Geography — страна проживания\n",
    "* Gender — пол\n",
    "* Age — возраст\n",
    "* Tenure — сколько лет человек является клиентом банка\n",
    "* Balance — баланс на счёте\n",
    "* NumOfProducts — количество продуктов банка, используемых клиентом\n",
    "* HasCrCard — наличие кредитной карты\n",
    "* IsActiveMember — активность клиента\n",
    "* EstimatedSalary — предполагаемая зарплата\n",
    "\n",
    "Целевой признак\n",
    "* Exited — факт ухода клиента"
   ]
  },
  {
   "cell_type": "markdown",
   "id": "19d5de51",
   "metadata": {},
   "source": [
    "### Предобработка данных"
   ]
  },
  {
   "cell_type": "markdown",
   "id": "ee974114",
   "metadata": {},
   "source": [
    "Установим первую колонку в качестве индекса, чем она фактически и является"
   ]
  },
  {
   "cell_type": "code",
   "execution_count": 4,
   "id": "7371ae67",
   "metadata": {},
   "outputs": [],
   "source": [
    "data.set_index('RowNumber', inplace=True)"
   ]
  },
  {
   "cell_type": "markdown",
   "id": "fcd9a3fa",
   "metadata": {},
   "source": [
    "Проверим на наличие явных дубликатов"
   ]
  },
  {
   "cell_type": "code",
   "execution_count": 5,
   "id": "a43202b5",
   "metadata": {},
   "outputs": [
    {
     "data": {
      "text/plain": [
       "0"
      ]
     },
     "execution_count": 5,
     "metadata": {},
     "output_type": "execute_result"
    }
   ],
   "source": [
    "data.duplicated().sum()"
   ]
  },
  {
   "cell_type": "markdown",
   "id": "9ecb9a44",
   "metadata": {},
   "source": [
    "Пропусков в данных (в колонке `Tenure`) менее 10% от общих данных, поэтому принято решение удалить пропуски"
   ]
  },
  {
   "cell_type": "code",
   "execution_count": 6,
   "id": "84234365",
   "metadata": {
    "scrolled": true
   },
   "outputs": [
    {
     "name": "stdout",
     "output_type": "stream",
     "text": [
      "<class 'pandas.core.frame.DataFrame'>\n",
      "Int64Index: 9091 entries, 1 to 9999\n",
      "Data columns (total 13 columns):\n",
      " #   Column           Non-Null Count  Dtype  \n",
      "---  ------           --------------  -----  \n",
      " 0   CustomerId       9091 non-null   int64  \n",
      " 1   Surname          9091 non-null   object \n",
      " 2   CreditScore      9091 non-null   int64  \n",
      " 3   Geography        9091 non-null   object \n",
      " 4   Gender           9091 non-null   object \n",
      " 5   Age              9091 non-null   int64  \n",
      " 6   Tenure           9091 non-null   float64\n",
      " 7   Balance          9091 non-null   float64\n",
      " 8   NumOfProducts    9091 non-null   int64  \n",
      " 9   HasCrCard        9091 non-null   int64  \n",
      " 10  IsActiveMember   9091 non-null   int64  \n",
      " 11  EstimatedSalary  9091 non-null   float64\n",
      " 12  Exited           9091 non-null   int64  \n",
      "dtypes: float64(3), int64(7), object(3)\n",
      "memory usage: 994.3+ KB\n"
     ]
    }
   ],
   "source": [
    "data.dropna(inplace=True)\n",
    "data.info()"
   ]
  },
  {
   "cell_type": "markdown",
   "id": "132d9ee4",
   "metadata": {},
   "source": [
    "Столбцы с информацией о фамилии `Surname` и идентификатор клиента `CustomerId` очевидно никак не поможет в решение задачи, поэтому принято решение его удалить"
   ]
  },
  {
   "cell_type": "code",
   "execution_count": 7,
   "id": "c1ce39a8",
   "metadata": {
    "scrolled": false
   },
   "outputs": [
    {
     "data": {
      "text/plain": [
       "Index(['CreditScore', 'Geography', 'Gender', 'Age', 'Tenure', 'Balance',\n",
       "       'NumOfProducts', 'HasCrCard', 'IsActiveMember', 'EstimatedSalary',\n",
       "       'Exited'],\n",
       "      dtype='object')"
      ]
     },
     "execution_count": 7,
     "metadata": {},
     "output_type": "execute_result"
    }
   ],
   "source": [
    "data.drop(['Surname', 'CustomerId'], axis=1, inplace=True)\n",
    "data.columns"
   ]
  },
  {
   "cell_type": "markdown",
   "id": "ed4194a4",
   "metadata": {},
   "source": [
    "**Вывод**"
   ]
  },
  {
   "cell_type": "markdown",
   "id": "9d7a8b24",
   "metadata": {},
   "source": [
    "Данные подготовлены: удалены нерелевантные колонки и пустые строки, выполнена проверка на дубликаты."
   ]
  },
  {
   "cell_type": "markdown",
   "id": "40605fa2",
   "metadata": {},
   "source": [
    "### Подготовка признаков"
   ]
  },
  {
   "cell_type": "markdown",
   "id": "5b6d4a5c",
   "metadata": {},
   "source": [
    "Преобразуем категориальные признаки в численные с помощью техники прямого кодирования OHE"
   ]
  },
  {
   "cell_type": "code",
   "execution_count": 8,
   "id": "afd0e4f9",
   "metadata": {
    "scrolled": false
   },
   "outputs": [
    {
     "name": "stdout",
     "output_type": "stream",
     "text": [
      "<class 'pandas.core.frame.DataFrame'>\n",
      "Int64Index: 9091 entries, 1 to 9999\n",
      "Data columns (total 12 columns):\n",
      " #   Column             Non-Null Count  Dtype  \n",
      "---  ------             --------------  -----  \n",
      " 0   CreditScore        9091 non-null   int64  \n",
      " 1   Age                9091 non-null   int64  \n",
      " 2   Tenure             9091 non-null   float64\n",
      " 3   Balance            9091 non-null   float64\n",
      " 4   NumOfProducts      9091 non-null   int64  \n",
      " 5   HasCrCard          9091 non-null   int64  \n",
      " 6   IsActiveMember     9091 non-null   int64  \n",
      " 7   EstimatedSalary    9091 non-null   float64\n",
      " 8   Exited             9091 non-null   int64  \n",
      " 9   Geography_Germany  9091 non-null   uint8  \n",
      " 10  Geography_Spain    9091 non-null   uint8  \n",
      " 11  Gender_Male        9091 non-null   uint8  \n",
      "dtypes: float64(3), int64(6), uint8(3)\n",
      "memory usage: 736.9 KB\n"
     ]
    }
   ],
   "source": [
    "data_ohe = pd.get_dummies(data, drop_first=True)\n",
    "data_ohe.info()"
   ]
  },
  {
   "cell_type": "markdown",
   "id": "af94bc92",
   "metadata": {},
   "source": [
    "### Раделим данные на выборки"
   ]
  },
  {
   "cell_type": "markdown",
   "id": "a7fee793",
   "metadata": {},
   "source": [
    "Сперва выделим из данных целевой признак и остальные признаки"
   ]
  },
  {
   "cell_type": "code",
   "execution_count": 9,
   "id": "b312a67a",
   "metadata": {},
   "outputs": [],
   "source": [
    "target = data_ohe['Exited']\n",
    "features = data_ohe.drop('Exited', axis=1)"
   ]
  },
  {
   "cell_type": "markdown",
   "id": "a4a126dd",
   "metadata": {},
   "source": [
    "В наличии нет скрытой тестовой выборке. Значит данные необходимо разбить на три части: обучающую, валидационную и тестовую. Разобъем исходные данные в соотношении 3:1:1"
   ]
  },
  {
   "cell_type": "markdown",
   "id": "df598034",
   "metadata": {},
   "source": [
    "Сперва выделим тестовую выборку в размере 20% от основной."
   ]
  },
  {
   "cell_type": "code",
   "execution_count": 10,
   "id": "65c7c18f",
   "metadata": {},
   "outputs": [],
   "source": [
    "features_train, features_test, target_train, target_test = train_test_split(features, target, test_size=0.2, random_state=12345)"
   ]
  },
  {
   "cell_type": "markdown",
   "id": "fa29b864",
   "metadata": {},
   "source": [
    "Затем поделим получившуюся обучающую выборку непосредственно на обучающую и валидационную (25%)"
   ]
  },
  {
   "cell_type": "code",
   "execution_count": 11,
   "id": "e11634db",
   "metadata": {},
   "outputs": [],
   "source": [
    "features_train, features_valid, target_train, target_valid = train_test_split(features_train, target_train, test_size=0.25, random_state=12345)"
   ]
  },
  {
   "cell_type": "markdown",
   "id": "7936152a",
   "metadata": {},
   "source": [
    "Проверим размеры получившихся выборок"
   ]
  },
  {
   "cell_type": "code",
   "execution_count": 12,
   "id": "c85fe2b9",
   "metadata": {},
   "outputs": [
    {
     "name": "stdout",
     "output_type": "stream",
     "text": [
      "(5454, 11)\n",
      "(5454,)\n"
     ]
    }
   ],
   "source": [
    "print(features_train.shape)\n",
    "print(target_train.shape)"
   ]
  },
  {
   "cell_type": "code",
   "execution_count": 13,
   "id": "f2680eed",
   "metadata": {},
   "outputs": [
    {
     "name": "stdout",
     "output_type": "stream",
     "text": [
      "(1818, 11)\n",
      "(1818,)\n"
     ]
    }
   ],
   "source": [
    "print(features_valid.shape)\n",
    "print(target_valid.shape)"
   ]
  },
  {
   "cell_type": "code",
   "execution_count": 14,
   "id": "c32840fb",
   "metadata": {
    "scrolled": true
   },
   "outputs": [
    {
     "name": "stdout",
     "output_type": "stream",
     "text": [
      "(1819, 11)\n",
      "(1819,)\n"
     ]
    }
   ],
   "source": [
    "print(features_test.shape)\n",
    "print(target_test.shape)"
   ]
  },
  {
   "cell_type": "markdown",
   "id": "fb0ad78b",
   "metadata": {},
   "source": [
    "**Вывод**"
   ]
  },
  {
   "cell_type": "markdown",
   "id": "39d4f990",
   "metadata": {},
   "source": [
    "Исходные данные разделены на обучающую, валидационную и тестовую выборку в соотношении 3:1:1"
   ]
  },
  {
   "cell_type": "markdown",
   "id": "e7d44b0a",
   "metadata": {},
   "source": [
    "### Масштабирование признаков"
   ]
  },
  {
   "cell_type": "markdown",
   "id": "8636d446",
   "metadata": {},
   "source": [
    "В данных присутствуют признаки с разными масштабами. Для дальнейшего исследования необходимо стандартизировать данные."
   ]
  },
  {
   "cell_type": "markdown",
   "id": "daad0474",
   "metadata": {},
   "source": [
    "Воспользуемся структурой StandardScaler из библиотеки sklearn. Создадим объект этой структуры и настроим его на обучающих данных."
   ]
  },
  {
   "cell_type": "code",
   "execution_count": 15,
   "id": "b45c9168",
   "metadata": {},
   "outputs": [
    {
     "data": {
      "text/plain": [
       "StandardScaler()"
      ]
     },
     "execution_count": 15,
     "metadata": {},
     "output_type": "execute_result"
    }
   ],
   "source": [
    "scaler = StandardScaler()\n",
    "scaler.fit(features_train)"
   ]
  },
  {
   "cell_type": "markdown",
   "id": "613b5fba",
   "metadata": {},
   "source": [
    "Преобразуем обучающую, валидационную и тестовые выборки функцией transform(). "
   ]
  },
  {
   "cell_type": "code",
   "execution_count": 16,
   "id": "b0431b47",
   "metadata": {},
   "outputs": [],
   "source": [
    "features_train = scaler.transform(features_train)\n",
    "features_valid = scaler.transform(features_valid)\n",
    "features_test = scaler.transform(features_test)"
   ]
  },
  {
   "cell_type": "code",
   "execution_count": 17,
   "id": "2650eebb",
   "metadata": {},
   "outputs": [
    {
     "data": {
      "text/html": [
       "<div>\n",
       "<style scoped>\n",
       "    .dataframe tbody tr th:only-of-type {\n",
       "        vertical-align: middle;\n",
       "    }\n",
       "\n",
       "    .dataframe tbody tr th {\n",
       "        vertical-align: top;\n",
       "    }\n",
       "\n",
       "    .dataframe thead th {\n",
       "        text-align: right;\n",
       "    }\n",
       "</style>\n",
       "<table border=\"1\" class=\"dataframe\">\n",
       "  <thead>\n",
       "    <tr style=\"text-align: right;\">\n",
       "      <th></th>\n",
       "      <th>CreditScore</th>\n",
       "      <th>Age</th>\n",
       "      <th>Tenure</th>\n",
       "      <th>Balance</th>\n",
       "      <th>NumOfProducts</th>\n",
       "      <th>HasCrCard</th>\n",
       "      <th>IsActiveMember</th>\n",
       "      <th>EstimatedSalary</th>\n",
       "      <th>Geography_Germany</th>\n",
       "      <th>Geography_Spain</th>\n",
       "      <th>Gender_Male</th>\n",
       "    </tr>\n",
       "  </thead>\n",
       "  <tbody>\n",
       "    <tr>\n",
       "      <th>0</th>\n",
       "      <td>-0.203819</td>\n",
       "      <td>0.471273</td>\n",
       "      <td>0.352316</td>\n",
       "      <td>0.786022</td>\n",
       "      <td>0.782369</td>\n",
       "      <td>-1.545860</td>\n",
       "      <td>-1.016640</td>\n",
       "      <td>-0.357205</td>\n",
       "      <td>-0.579750</td>\n",
       "      <td>1.763526</td>\n",
       "      <td>-1.089828</td>\n",
       "    </tr>\n",
       "    <tr>\n",
       "      <th>1</th>\n",
       "      <td>-0.357513</td>\n",
       "      <td>-0.384930</td>\n",
       "      <td>-1.373506</td>\n",
       "      <td>-1.230577</td>\n",
       "      <td>0.782369</td>\n",
       "      <td>0.646889</td>\n",
       "      <td>0.983632</td>\n",
       "      <td>-1.671048</td>\n",
       "      <td>-0.579750</td>\n",
       "      <td>-0.567046</td>\n",
       "      <td>-1.089828</td>\n",
       "    </tr>\n",
       "    <tr>\n",
       "      <th>2</th>\n",
       "      <td>0.175290</td>\n",
       "      <td>-0.289797</td>\n",
       "      <td>-0.683177</td>\n",
       "      <td>-1.230577</td>\n",
       "      <td>0.782369</td>\n",
       "      <td>0.646889</td>\n",
       "      <td>-1.016640</td>\n",
       "      <td>-1.119181</td>\n",
       "      <td>-0.579750</td>\n",
       "      <td>-0.567046</td>\n",
       "      <td>0.917576</td>\n",
       "    </tr>\n",
       "    <tr>\n",
       "      <th>3</th>\n",
       "      <td>0.349476</td>\n",
       "      <td>1.708010</td>\n",
       "      <td>0.007151</td>\n",
       "      <td>1.379462</td>\n",
       "      <td>-0.914942</td>\n",
       "      <td>-1.545860</td>\n",
       "      <td>-1.016640</td>\n",
       "      <td>-1.569064</td>\n",
       "      <td>1.724882</td>\n",
       "      <td>-0.567046</td>\n",
       "      <td>-1.089828</td>\n",
       "    </tr>\n",
       "    <tr>\n",
       "      <th>4</th>\n",
       "      <td>0.902771</td>\n",
       "      <td>-0.289797</td>\n",
       "      <td>1.387809</td>\n",
       "      <td>-1.230577</td>\n",
       "      <td>-0.914942</td>\n",
       "      <td>-1.545860</td>\n",
       "      <td>0.983632</td>\n",
       "      <td>1.543790</td>\n",
       "      <td>-0.579750</td>\n",
       "      <td>-0.567046</td>\n",
       "      <td>0.917576</td>\n",
       "    </tr>\n",
       "  </tbody>\n",
       "</table>\n",
       "</div>"
      ],
      "text/plain": [
       "   CreditScore       Age    Tenure   Balance  NumOfProducts  HasCrCard  \\\n",
       "0    -0.203819  0.471273  0.352316  0.786022       0.782369  -1.545860   \n",
       "1    -0.357513 -0.384930 -1.373506 -1.230577       0.782369   0.646889   \n",
       "2     0.175290 -0.289797 -0.683177 -1.230577       0.782369   0.646889   \n",
       "3     0.349476  1.708010  0.007151  1.379462      -0.914942  -1.545860   \n",
       "4     0.902771 -0.289797  1.387809 -1.230577      -0.914942  -1.545860   \n",
       "\n",
       "   IsActiveMember  EstimatedSalary  Geography_Germany  Geography_Spain  \\\n",
       "0       -1.016640        -0.357205          -0.579750         1.763526   \n",
       "1        0.983632        -1.671048          -0.579750        -0.567046   \n",
       "2       -1.016640        -1.119181          -0.579750        -0.567046   \n",
       "3       -1.016640        -1.569064           1.724882        -0.567046   \n",
       "4        0.983632         1.543790          -0.579750        -0.567046   \n",
       "\n",
       "   Gender_Male  \n",
       "0    -1.089828  \n",
       "1    -1.089828  \n",
       "2     0.917576  \n",
       "3    -1.089828  \n",
       "4     0.917576  "
      ]
     },
     "execution_count": 17,
     "metadata": {},
     "output_type": "execute_result"
    }
   ],
   "source": [
    "pd.DataFrame(features_train, columns=features.columns).head()"
   ]
  },
  {
   "cell_type": "markdown",
   "id": "5fa82ad6",
   "metadata": {},
   "source": [
    "**Вывод**"
   ]
  },
  {
   "cell_type": "markdown",
   "id": "5e7877e9",
   "metadata": {},
   "source": [
    "Признаки масштабированы и пригодны для дальнейших исследований"
   ]
  },
  {
   "cell_type": "markdown",
   "id": "b24d2ba7",
   "metadata": {},
   "source": [
    "## Исследование задачи"
   ]
  },
  {
   "cell_type": "markdown",
   "id": "27b50eeb",
   "metadata": {},
   "source": [
    "Перед нами стоит задача на основе исторических данные о поведении клиентов и расторжении договоров с банком научиться прогнозировать уйдёт клиент из банка в ближайшее время или нет.\n",
    "\n",
    "Таким образом необходимо построить модель для задачи классификации.\n",
    "\n",
    "Для исследования возьмем три модели из библиотеки `sklearn`:\n",
    "\n",
    "* DecisionTreeClassifier\n",
    "* RandomForestClassifier \n",
    "* LogisticRegression "
   ]
  },
  {
   "cell_type": "markdown",
   "id": "50c923b2",
   "metadata": {},
   "source": [
    "### Баланс классов"
   ]
  },
  {
   "cell_type": "markdown",
   "id": "7cf7e5cb",
   "metadata": {},
   "source": [
    "Исследуем дисбаланс классов"
   ]
  },
  {
   "cell_type": "code",
   "execution_count": 18,
   "id": "8c77b6dd",
   "metadata": {},
   "outputs": [
    {
     "data": {
      "text/plain": [
       "0    0.796062\n",
       "1    0.203938\n",
       "Name: Exited, dtype: float64"
      ]
     },
     "execution_count": 18,
     "metadata": {},
     "output_type": "execute_result"
    }
   ],
   "source": [
    "data_ohe['Exited'].value_counts(normalize=True)"
   ]
  },
  {
   "cell_type": "markdown",
   "id": "e0f6bc03",
   "metadata": {},
   "source": [
    "На лицо явный дисбаланс классов в пользу отрицательного. Соотношение 4:1"
   ]
  },
  {
   "cell_type": "markdown",
   "id": "ece91579",
   "metadata": {},
   "source": [
    "### Модели без учета дисбаланса"
   ]
  },
  {
   "cell_type": "markdown",
   "id": "3b5f09ae",
   "metadata": {},
   "source": [
    "Для начала проверим метрику F1 на несбалансированной выборке с помощью моделей, подбирая оптимальные гиперпараметры"
   ]
  },
  {
   "cell_type": "markdown",
   "id": "3e69b434",
   "metadata": {},
   "source": [
    "#### DecisionTreeClassifier"
   ]
  },
  {
   "cell_type": "markdown",
   "id": "c19bd973",
   "metadata": {},
   "source": [
    "Найдем лучшую модель меняя гиперпарамметр глубины дерева от 1 до 5 и проверяя `F1` на валидационной выборке"
   ]
  },
  {
   "cell_type": "code",
   "execution_count": 19,
   "id": "312c61f4",
   "metadata": {},
   "outputs": [
    {
     "name": "stdout",
     "output_type": "stream",
     "text": [
      "CPU times: user 3 µs, sys: 1 µs, total: 4 µs\n",
      "Wall time: 7.63 µs\n",
      "F1 наилучшей модели на валидационной выборке: 0.5571658615136877 Глубина дерева: 5\n"
     ]
    }
   ],
   "source": [
    "%time\n",
    "\n",
    "best_DecisionTree_model = None\n",
    "best_DecisionTree_f1_score_valid = 0\n",
    "best_DecisionTree_depth = 0\n",
    "\n",
    "for depth in range(1,6):\n",
    "    model = DecisionTreeClassifier(max_depth=depth, random_state=42)\n",
    "    model.fit(features_train, target_train)\n",
    "    predictions = model.predict(features_valid)\n",
    "    DecisionTree_f1_score_valid = f1_score(target_valid, predictions)\n",
    "    \n",
    "    if DecisionTree_f1_score_valid > best_DecisionTree_f1_score_valid:\n",
    "        best_DecisionTree_model = model\n",
    "        best_DecisionTree_f1_score_valid = DecisionTree_f1_score_valid\n",
    "        best_DecisionTree_depth = depth\n",
    "        \n",
    "print(\"F1 наилучшей модели на валидационной выборке:\", best_DecisionTree_f1_score_valid, \"Глубина дерева:\", best_DecisionTree_depth)"
   ]
  },
  {
   "cell_type": "markdown",
   "id": "791c053b",
   "metadata": {},
   "source": [
    "Оптимальная глубина дерева 5. Метрика F1 = 0.53, что не удовлетворяет условию."
   ]
  },
  {
   "cell_type": "markdown",
   "id": "c2cf4536",
   "metadata": {},
   "source": [
    "Проверим метрику ROC AUC"
   ]
  },
  {
   "cell_type": "code",
   "execution_count": 20,
   "id": "a4b02ab7",
   "metadata": {},
   "outputs": [
    {
     "name": "stdout",
     "output_type": "stream",
     "text": [
      "ROC AUC модели на валидационной выборке: 0.8036164551626549\n"
     ]
    }
   ],
   "source": [
    "probabilities_valid = best_DecisionTree_model.predict_proba(features_valid)\n",
    "probabilities_one_valid = probabilities_valid[:, 1]\n",
    "DecisionTree_roc_auc_score_valid = roc_auc_score(target_valid, probabilities_one_valid)\n",
    "\n",
    "print(\"ROC AUC модели на валидационной выборке:\", DecisionTree_roc_auc_score_valid)"
   ]
  },
  {
   "cell_type": "markdown",
   "id": "4064fd1f",
   "metadata": {},
   "source": [
    "#### RandomForestClassifer"
   ]
  },
  {
   "cell_type": "markdown",
   "id": "d3ae6072",
   "metadata": {},
   "source": [
    "Найдем лучшую модель случайного леса меняя гиперпарамметр количества деревьев и глубины проверяя `F1` на валидационной выборке"
   ]
  },
  {
   "cell_type": "code",
   "execution_count": 21,
   "id": "b126af35",
   "metadata": {
    "scrolled": true
   },
   "outputs": [
    {
     "name": "stdout",
     "output_type": "stream",
     "text": [
      "CPU times: user 3 µs, sys: 0 ns, total: 3 µs\n",
      "Wall time: 8.11 µs\n",
      "F1 наилучшей модели на валидационной выборке: 0.49811320754716987 Количество деревьев: 10 Глубина дерева: 5\n"
     ]
    }
   ],
   "source": [
    "%time\n",
    "\n",
    "best_RandomForest_model = None\n",
    "best_RandomForest_f1_score_valid = 0\n",
    "best_RandomForest_depth = 0\n",
    "best_n_est = 0\n",
    "\n",
    "for est in range(10, 51, 10):\n",
    "    for depth in range(1,6):\n",
    "        model = RandomForestClassifier(n_estimators=est, max_depth=depth, random_state=42)\n",
    "        model.fit(features_train, target_train)\n",
    "        predictions = model.predict(features_valid)\n",
    "        RandomForest_f1_score_valid = f1_score(target_valid, predictions)\n",
    "        \n",
    "        if RandomForest_f1_score_valid > best_RandomForest_f1_score_valid:\n",
    "            best_RandomForest_model = model\n",
    "            best_RandomForest_f1_score_valid = RandomForest_f1_score_valid\n",
    "            best_RandomForest_depth = depth\n",
    "            best_n_est = est\n",
    "\n",
    "print(\"F1 наилучшей модели на валидационной выборке:\", best_RandomForest_f1_score_valid, \"Количество деревьев:\", best_n_est, \"Глубина дерева:\", best_RandomForest_depth)"
   ]
  },
  {
   "cell_type": "markdown",
   "id": "64e2803e",
   "metadata": {},
   "source": [
    "Оптимальное количество деревьев 10 с глубиной 5. Метрика F1 = 0.52 ниже заданной по условию."
   ]
  },
  {
   "cell_type": "markdown",
   "id": "664fff98",
   "metadata": {},
   "source": [
    "Проверим метрику ROC AUC"
   ]
  },
  {
   "cell_type": "code",
   "execution_count": 22,
   "id": "943b1307",
   "metadata": {},
   "outputs": [
    {
     "name": "stdout",
     "output_type": "stream",
     "text": [
      "ROC AUC модели на валидационной выборке: 0.8298267699348176\n"
     ]
    }
   ],
   "source": [
    "probabilities_valid = best_RandomForest_model.predict_proba(features_valid)\n",
    "probabilities_one_valid = probabilities_valid[:, 1]\n",
    "RandomForest_roc_auc_score_valid = roc_auc_score(target_valid, probabilities_one_valid)\n",
    "\n",
    "print(\"ROC AUC модели на валидационной выборке:\", RandomForest_roc_auc_score_valid)"
   ]
  },
  {
   "cell_type": "markdown",
   "id": "86647cbc",
   "metadata": {},
   "source": [
    "#### LogisticRegression"
   ]
  },
  {
   "cell_type": "markdown",
   "id": "898c1732",
   "metadata": {},
   "source": [
    "Обучим модель логистической регрессии и проверим `F1` на валидационной выборке"
   ]
  },
  {
   "cell_type": "code",
   "execution_count": 23,
   "id": "436a6b97",
   "metadata": {
    "scrolled": false
   },
   "outputs": [
    {
     "name": "stdout",
     "output_type": "stream",
     "text": [
      "CPU times: user 4 µs, sys: 0 ns, total: 4 µs\n",
      "Wall time: 6.91 µs\n",
      "F1 модели на валидационной выборке: 0.3004115226337448\n"
     ]
    }
   ],
   "source": [
    "%time\n",
    "\n",
    "LogisticRegression_model = LogisticRegression(solver='lbfgs', random_state=42)\n",
    "LogisticRegression_model.fit(features_train, target_train)\n",
    "predictions = LogisticRegression_model.predict(features_valid)\n",
    "LogisticRegression_f1_score_valid = f1_score(target_valid, predictions)\n",
    "\n",
    "print(\"F1 модели на валидационной выборке:\", LogisticRegression_f1_score_valid)"
   ]
  },
  {
   "cell_type": "markdown",
   "id": "caafef3e",
   "metadata": {},
   "source": [
    "F1 модели на валидационной выборке 0.34 ниже заданной по условию"
   ]
  },
  {
   "cell_type": "markdown",
   "id": "e448ac4c",
   "metadata": {},
   "source": [
    "Проверим метрику ROC AUC"
   ]
  },
  {
   "cell_type": "code",
   "execution_count": 24,
   "id": "34e1fb62",
   "metadata": {
    "scrolled": true
   },
   "outputs": [
    {
     "name": "stdout",
     "output_type": "stream",
     "text": [
      "ROC AUC модели на валидационной выборке: 0.7724525433169247\n"
     ]
    }
   ],
   "source": [
    "probabilities_valid = LogisticRegression_model.predict_proba(features_valid)\n",
    "probabilities_one_valid = probabilities_valid[:, 1]\n",
    "LogisticRegression_roc_auc_score_valid = roc_auc_score(target_valid, probabilities_one_valid)\n",
    "\n",
    "print(\"ROC AUC модели на валидационной выборке:\", LogisticRegression_roc_auc_score_valid)"
   ]
  },
  {
   "cell_type": "markdown",
   "id": "40e351f4",
   "metadata": {},
   "source": [
    "#### Сводная таблица"
   ]
  },
  {
   "cell_type": "markdown",
   "id": "2370aeb3",
   "metadata": {},
   "source": [
    "Для удобства сведем результаты исследования в одну таблицу"
   ]
  },
  {
   "cell_type": "code",
   "execution_count": 25,
   "id": "ec2e18e9",
   "metadata": {},
   "outputs": [
    {
     "data": {
      "text/html": [
       "<div>\n",
       "<style scoped>\n",
       "    .dataframe tbody tr th:only-of-type {\n",
       "        vertical-align: middle;\n",
       "    }\n",
       "\n",
       "    .dataframe tbody tr th {\n",
       "        vertical-align: top;\n",
       "    }\n",
       "\n",
       "    .dataframe thead th {\n",
       "        text-align: right;\n",
       "    }\n",
       "</style>\n",
       "<table border=\"1\" class=\"dataframe\">\n",
       "  <thead>\n",
       "    <tr style=\"text-align: right;\">\n",
       "      <th></th>\n",
       "      <th>f1_score_valid</th>\n",
       "      <th>ROC_AUC_valid</th>\n",
       "    </tr>\n",
       "  </thead>\n",
       "  <tbody>\n",
       "    <tr>\n",
       "      <th>DecisionTree</th>\n",
       "      <td>0.557166</td>\n",
       "      <td>0.803616</td>\n",
       "    </tr>\n",
       "    <tr>\n",
       "      <th>RandomForest</th>\n",
       "      <td>0.498113</td>\n",
       "      <td>0.829827</td>\n",
       "    </tr>\n",
       "    <tr>\n",
       "      <th>LogisticRegression</th>\n",
       "      <td>0.300412</td>\n",
       "      <td>0.772453</td>\n",
       "    </tr>\n",
       "  </tbody>\n",
       "</table>\n",
       "</div>"
      ],
      "text/plain": [
       "                    f1_score_valid  ROC_AUC_valid\n",
       "DecisionTree              0.557166       0.803616\n",
       "RandomForest              0.498113       0.829827\n",
       "LogisticRegression        0.300412       0.772453"
      ]
     },
     "execution_count": 25,
     "metadata": {},
     "output_type": "execute_result"
    }
   ],
   "source": [
    "pd.DataFrame([[best_DecisionTree_f1_score_valid, DecisionTree_roc_auc_score_valid],\n",
    "              [best_RandomForest_f1_score_valid, RandomForest_roc_auc_score_valid],\n",
    "              [LogisticRegression_f1_score_valid, LogisticRegression_roc_auc_score_valid]],\n",
    "             index=['DecisionTree', 'RandomForest', 'LogisticRegression'],\n",
    "             columns=['f1_score_valid', 'ROC_AUC_valid']).sort_values(by='f1_score_valid', ascending=False)"
   ]
  },
  {
   "cell_type": "markdown",
   "id": "d757b12c",
   "metadata": {},
   "source": [
    "**Вывод**"
   ]
  },
  {
   "cell_type": "markdown",
   "id": "1f776ede",
   "metadata": {},
   "source": [
    "Метрика F1 на несбалансированной выборке ниже целевой 0.59 для всех моделей, что говорит о том, что положительный класс плохо прогнозируется по одной из шкал (Recall или Precision)."
   ]
  },
  {
   "cell_type": "markdown",
   "id": "28b78200",
   "metadata": {},
   "source": [
    "## Борьба с дисбалансом"
   ]
  },
  {
   "cell_type": "markdown",
   "id": "21fa7093",
   "metadata": {},
   "source": [
    "В данных наблюдается дисбаланс, что плохо сказывается на обучении модели."
   ]
  },
  {
   "cell_type": "markdown",
   "id": "dfa48fde",
   "metadata": {},
   "source": [
    "Для обработки дисбаланса применим разные методы для обучающей выборки:\n",
    "* взвешивание классов\n",
    "* upsampling\n",
    "* downsampling"
   ]
  },
  {
   "cell_type": "markdown",
   "id": "680a9d14",
   "metadata": {},
   "source": [
    "Предварительно напишем функции для увеличения и уменьшения выборки"
   ]
  },
  {
   "cell_type": "code",
   "execution_count": 26,
   "id": "fe1d189d",
   "metadata": {},
   "outputs": [],
   "source": [
    "def upsample(features, target, multiplicator):\n",
    "    features_zeros = pd.DataFrame(features[target == 0])\n",
    "    features_ones = pd.DataFrame(features[target == 1])\n",
    "    target_zeros = pd.Series(target[target == 0])\n",
    "    target_ones = pd.Series(target[target == 1])\n",
    "    \n",
    "    features_upsampled = pd.concat([features_zeros] + [features_ones] * multiplicator)\n",
    "    target_upsampled = pd.concat([target_zeros] + [target_ones] * multiplicator)\n",
    "    \n",
    "    features_upsampled, target_upsampled = shuffle(features_upsampled, target_upsampled, random_state=42)\n",
    "    \n",
    "    return features_upsampled, target_upsampled"
   ]
  },
  {
   "cell_type": "code",
   "execution_count": 27,
   "id": "633622a7",
   "metadata": {},
   "outputs": [],
   "source": [
    "features_train_upsampled, target_train_upsampled = upsample(features_train, target_train, 4)"
   ]
  },
  {
   "cell_type": "code",
   "execution_count": 28,
   "id": "baa5982b",
   "metadata": {
    "scrolled": true
   },
   "outputs": [
    {
     "name": "stdout",
     "output_type": "stream",
     "text": [
      "(8811, 11)\n",
      "(8811,)\n"
     ]
    }
   ],
   "source": [
    "print(features_train_upsampled.shape)\n",
    "print(target_train_upsampled.shape)"
   ]
  },
  {
   "cell_type": "code",
   "execution_count": 29,
   "id": "40834905",
   "metadata": {},
   "outputs": [],
   "source": [
    "def downsample(features, target, frac):\n",
    "    features_zeros = pd.DataFrame(features[target == 0]).sample(frac=frac, random_state=42)\n",
    "    features_ones = pd.DataFrame(features[target == 1])\n",
    "    target_zeros = pd.Series(target[target == 0]).sample(frac=frac, random_state=42)\n",
    "    target_ones = pd.Series(target[target == 1])\n",
    "    \n",
    "    features_downsampled = pd.concat([features_zeros] + [features_ones])\n",
    "    target_downsampled = pd.concat([target_zeros] + [target_ones])\n",
    "    \n",
    "    features_downsampled, target_downsampled = shuffle(features_downsampled, target_downsampled, random_state=42)\n",
    "    \n",
    "    return features_downsampled, target_downsampled"
   ]
  },
  {
   "cell_type": "code",
   "execution_count": 30,
   "id": "f0cdf0da",
   "metadata": {},
   "outputs": [],
   "source": [
    "features_train_downsampled, target_train_downsampled = downsample(features_train, target_train, 0.25)"
   ]
  },
  {
   "cell_type": "code",
   "execution_count": 31,
   "id": "0c98df70",
   "metadata": {},
   "outputs": [
    {
     "name": "stdout",
     "output_type": "stream",
     "text": [
      "(2203, 11)\n",
      "(2203,)\n"
     ]
    }
   ],
   "source": [
    "print(features_train_downsampled.shape)\n",
    "print(target_train_downsampled.shape)"
   ]
  },
  {
   "cell_type": "markdown",
   "id": "02fd462d",
   "metadata": {},
   "source": [
    "### Обучение моделей с учетом дисбаланса классов"
   ]
  },
  {
   "cell_type": "markdown",
   "id": "336d3fa9",
   "metadata": {},
   "source": [
    "#### DecisionTreeClassifier"
   ]
  },
  {
   "cell_type": "markdown",
   "id": "14df2464",
   "metadata": {},
   "source": [
    "##### Взвешивание классов"
   ]
  },
  {
   "cell_type": "code",
   "execution_count": 32,
   "id": "87794127",
   "metadata": {},
   "outputs": [
    {
     "name": "stdout",
     "output_type": "stream",
     "text": [
      "CPU times: user 3 µs, sys: 0 ns, total: 3 µs\n",
      "Wall time: 7.15 µs\n",
      "F1 наилучшей модели на валидационной выборке: 0.5345016429353778 Глубина дерева: 5\n"
     ]
    }
   ],
   "source": [
    "%time\n",
    "\n",
    "best_DecisionTree_model_weighted = None\n",
    "best_DecisionTree_f1_score_valid_weighted = 0\n",
    "best_DecisionTree_depth = 0\n",
    "\n",
    "for depth in range(1,6):\n",
    "    model = DecisionTreeClassifier(max_depth=depth, random_state=42, class_weight='balanced')\n",
    "    model.fit(features_train, target_train)\n",
    "    predictions = model.predict(features_valid)\n",
    "    DecisionTree_f1_score_valid = f1_score(target_valid, predictions)\n",
    "    \n",
    "    if DecisionTree_f1_score_valid > best_DecisionTree_f1_score_valid_weighted:\n",
    "        best_DecisionTree_model_weighted = model\n",
    "        best_DecisionTree_f1_score_valid_weighted = DecisionTree_f1_score_valid\n",
    "        best_DecisionTree_depth = depth\n",
    "        \n",
    "print(\"F1 наилучшей модели на валидационной выборке:\", best_DecisionTree_f1_score_valid_weighted, \"Глубина дерева:\", best_DecisionTree_depth)"
   ]
  },
  {
   "cell_type": "code",
   "execution_count": 33,
   "id": "39fdf9a7",
   "metadata": {},
   "outputs": [
    {
     "name": "stdout",
     "output_type": "stream",
     "text": [
      "ROC AUC модели на валидационной выборке: 0.8074447906787698\n"
     ]
    }
   ],
   "source": [
    "probabilities_valid = best_DecisionTree_model_weighted.predict_proba(features_valid)\n",
    "probabilities_one_valid = probabilities_valid[:, 1]\n",
    "DecisionTree_roc_auc_score_valid_weighted = roc_auc_score(target_valid, probabilities_one_valid)\n",
    "\n",
    "print(\"ROC AUC модели на валидационной выборке:\", DecisionTree_roc_auc_score_valid_weighted)"
   ]
  },
  {
   "cell_type": "markdown",
   "id": "6a84541b",
   "metadata": {},
   "source": [
    "##### Upsampling"
   ]
  },
  {
   "cell_type": "code",
   "execution_count": 34,
   "id": "d7ad1db7",
   "metadata": {},
   "outputs": [
    {
     "name": "stdout",
     "output_type": "stream",
     "text": [
      "CPU times: user 3 µs, sys: 1e+03 ns, total: 4 µs\n",
      "Wall time: 32.9 µs\n",
      "F1 наилучшей модели на валидационной выборке: 0.5345016429353778 Глубина дерева: 5\n"
     ]
    }
   ],
   "source": [
    "%time\n",
    "\n",
    "best_DecisionTree_model_upsampled = None\n",
    "best_DecisionTree_f1_score_valid_upsampled = 0\n",
    "best_DecisionTree_depth = 0\n",
    "\n",
    "for depth in range(1,6):\n",
    "    model = DecisionTreeClassifier(max_depth=depth, random_state=42)\n",
    "    model.fit(features_train_upsampled, target_train_upsampled)\n",
    "    predictions = model.predict(features_valid)\n",
    "    DecisionTree_f1_score_valid = f1_score(target_valid, predictions)\n",
    "    \n",
    "    if DecisionTree_f1_score_valid > best_DecisionTree_f1_score_valid_upsampled:\n",
    "        best_DecisionTree_model_upsampled = model\n",
    "        best_DecisionTree_f1_score_valid_upsampled = DecisionTree_f1_score_valid\n",
    "        best_DecisionTree_depth = depth\n",
    "        \n",
    "print(\"F1 наилучшей модели на валидационной выборке:\", best_DecisionTree_f1_score_valid_upsampled, \"Глубина дерева:\", best_DecisionTree_depth)"
   ]
  },
  {
   "cell_type": "code",
   "execution_count": 35,
   "id": "716e3b84",
   "metadata": {},
   "outputs": [
    {
     "name": "stdout",
     "output_type": "stream",
     "text": [
      "ROC AUC модели на валидационной выборке: 0.8074899516777311\n"
     ]
    }
   ],
   "source": [
    "probabilities_valid = best_DecisionTree_model_upsampled.predict_proba(features_valid)\n",
    "probabilities_one_valid = probabilities_valid[:, 1]\n",
    "DecisionTree_roc_auc_score_valid_upsampled = roc_auc_score(target_valid, probabilities_one_valid)\n",
    "\n",
    "print(\"ROC AUC модели на валидационной выборке:\", DecisionTree_roc_auc_score_valid_upsampled)"
   ]
  },
  {
   "cell_type": "markdown",
   "id": "73f9a55c",
   "metadata": {},
   "source": [
    "##### Downsampling"
   ]
  },
  {
   "cell_type": "code",
   "execution_count": 36,
   "id": "f94bf293",
   "metadata": {},
   "outputs": [
    {
     "name": "stdout",
     "output_type": "stream",
     "text": [
      "CPU times: user 3 µs, sys: 1 µs, total: 4 µs\n",
      "Wall time: 7.39 µs\n",
      "F1 наилучшей модели на валидационной выборке: 0.5431818181818182 Глубина дерева: 5\n"
     ]
    }
   ],
   "source": [
    "%time\n",
    "\n",
    "best_DecisionTree_model_downsampled = None\n",
    "best_DecisionTree_f1_score_valid_downsampled = 0\n",
    "best_DecisionTree_depth = 0\n",
    "\n",
    "for depth in range(1,6):\n",
    "    model = DecisionTreeClassifier(max_depth=depth, random_state=42)\n",
    "    model.fit(features_train_downsampled, target_train_downsampled)\n",
    "    predictions = model.predict(features_valid)\n",
    "    DecisionTree_f1_score_valid = f1_score(target_valid, predictions)\n",
    "    \n",
    "    if DecisionTree_f1_score_valid > best_DecisionTree_f1_score_valid_downsampled:\n",
    "        best_DecisionTree_model_downsampled = model\n",
    "        best_DecisionTree_f1_score_valid_downsampled = DecisionTree_f1_score_valid\n",
    "        best_DecisionTree_depth = depth\n",
    "        \n",
    "print(\"F1 наилучшей модели на валидационной выборке:\", best_DecisionTree_f1_score_valid_downsampled, \"Глубина дерева:\", best_DecisionTree_depth)"
   ]
  },
  {
   "cell_type": "code",
   "execution_count": 37,
   "id": "dfb1d8a1",
   "metadata": {},
   "outputs": [
    {
     "name": "stdout",
     "output_type": "stream",
     "text": [
      "ROC AUC модели на валидационной выборке: 0.8113408676933267\n"
     ]
    }
   ],
   "source": [
    "probabilities_valid = best_DecisionTree_model_downsampled.predict_proba(features_valid)\n",
    "probabilities_one_valid = probabilities_valid[:, 1]\n",
    "DecisionTree_roc_auc_score_valid_downsampled = roc_auc_score(target_valid, probabilities_one_valid)\n",
    "\n",
    "print(\"ROC AUC модели на валидационной выборке:\", DecisionTree_roc_auc_score_valid_downsampled)"
   ]
  },
  {
   "cell_type": "markdown",
   "id": "f35a416d",
   "metadata": {},
   "source": [
    "#### RandomForestClassifer"
   ]
  },
  {
   "cell_type": "markdown",
   "id": "93bd9586",
   "metadata": {},
   "source": [
    "##### Взвешивание классов"
   ]
  },
  {
   "cell_type": "code",
   "execution_count": 38,
   "id": "9a94157f",
   "metadata": {},
   "outputs": [
    {
     "name": "stdout",
     "output_type": "stream",
     "text": [
      "CPU times: user 3 µs, sys: 1e+03 ns, total: 4 µs\n",
      "Wall time: 6.91 µs\n",
      "F1 наилучшей модели на валидационной выборке: 0.5793742757821552 Количество деревьев: 10 Глубина дерева: 5\n"
     ]
    }
   ],
   "source": [
    "%time\n",
    "\n",
    "best_RandomForest_model_weighted = None\n",
    "best_RandomForest_f1_score_valid_weighted = 0\n",
    "best_RandomForest_depth = 0\n",
    "best_n_est = 0\n",
    "\n",
    "for est in range(10, 51, 10):\n",
    "    for depth in range(1,6):\n",
    "        model = RandomForestClassifier(n_estimators=est, max_depth=depth, random_state=42, class_weight='balanced')\n",
    "        model.fit(features_train, target_train)\n",
    "        predictions = model.predict(features_valid)\n",
    "        RandomForest_f1_score_valid = f1_score(target_valid, predictions)\n",
    "        \n",
    "        if RandomForest_f1_score_valid > best_RandomForest_f1_score_valid_weighted:\n",
    "            best_RandomForest_model_weighted = model\n",
    "            best_RandomForest_f1_score_valid_weighted = RandomForest_f1_score_valid\n",
    "            best_RandomForest_depth = depth\n",
    "            best_n_est = est\n",
    "\n",
    "print(\"F1 наилучшей модели на валидационной выборке:\", best_RandomForest_f1_score_valid_weighted, \"Количество деревьев:\", best_n_est, \"Глубина дерева:\", best_RandomForest_depth)"
   ]
  },
  {
   "cell_type": "code",
   "execution_count": 39,
   "id": "3068e6ad",
   "metadata": {},
   "outputs": [
    {
     "name": "stdout",
     "output_type": "stream",
     "text": [
      "ROC AUC модели на валидационной выборке: 0.8431332701079348\n"
     ]
    }
   ],
   "source": [
    "probabilities_valid = best_RandomForest_model_weighted.predict_proba(features_valid)\n",
    "probabilities_one_valid = probabilities_valid[:, 1]\n",
    "RandomForest_roc_auc_score_valid_weighted = roc_auc_score(target_valid, probabilities_one_valid)\n",
    "\n",
    "print(\"ROC AUC модели на валидационной выборке:\", RandomForest_roc_auc_score_valid_weighted)"
   ]
  },
  {
   "cell_type": "markdown",
   "id": "7f71c8e7",
   "metadata": {},
   "source": [
    "##### Upsampling"
   ]
  },
  {
   "cell_type": "code",
   "execution_count": 40,
   "id": "1617c375",
   "metadata": {},
   "outputs": [
    {
     "name": "stdout",
     "output_type": "stream",
     "text": [
      "CPU times: user 3 µs, sys: 0 ns, total: 3 µs\n",
      "Wall time: 7.63 µs\n",
      "F1 наилучшей модели на валидационной выборке: 0.5733482642777156 Количество деревьев: 40 Глубина дерева: 5\n"
     ]
    }
   ],
   "source": [
    "%time\n",
    "\n",
    "best_RandomForest_model_upsampled = None\n",
    "best_RandomForest_f1_score_valid_upsampled = 0\n",
    "best_RandomForest_depth = 0\n",
    "best_n_est = 0\n",
    "\n",
    "for est in range(10, 51, 10):\n",
    "    for depth in range(1,6):\n",
    "        model = RandomForestClassifier(n_estimators=est, max_depth=depth, random_state=42)\n",
    "        model.fit(features_train_upsampled, target_train_upsampled)\n",
    "        predictions = model.predict(features_valid)\n",
    "        RandomForest_f1_score_valid = f1_score(target_valid, predictions)\n",
    "        \n",
    "        if RandomForest_f1_score_valid > best_RandomForest_f1_score_valid_upsampled:\n",
    "            best_RandomForest_model_upsampled = model\n",
    "            best_RandomForest_f1_score_valid_upsampled = RandomForest_f1_score_valid\n",
    "            best_RandomForest_depth = depth\n",
    "            best_n_est = est\n",
    "\n",
    "print(\"F1 наилучшей модели на валидационной выборке:\", best_RandomForest_f1_score_valid_upsampled, \"Количество деревьев:\", best_n_est, \"Глубина дерева:\", best_RandomForest_depth)"
   ]
  },
  {
   "cell_type": "code",
   "execution_count": 41,
   "id": "bd3f2e21",
   "metadata": {},
   "outputs": [
    {
     "name": "stdout",
     "output_type": "stream",
     "text": [
      "ROC AUC модели на валидационной выборке: 0.8474696668623644\n"
     ]
    }
   ],
   "source": [
    "probabilities_valid = best_RandomForest_model_upsampled.predict_proba(features_valid)\n",
    "probabilities_one_valid = probabilities_valid[:, 1]\n",
    "RandomForest_roc_auc_score_valid_upsampled = roc_auc_score(target_valid, probabilities_one_valid)\n",
    "\n",
    "print(\"ROC AUC модели на валидационной выборке:\", RandomForest_roc_auc_score_valid_upsampled)"
   ]
  },
  {
   "cell_type": "markdown",
   "id": "05ed96d0",
   "metadata": {},
   "source": [
    "##### Downsampling"
   ]
  },
  {
   "cell_type": "code",
   "execution_count": 42,
   "id": "3b641a32",
   "metadata": {},
   "outputs": [
    {
     "name": "stdout",
     "output_type": "stream",
     "text": [
      "CPU times: user 3 µs, sys: 0 ns, total: 3 µs\n",
      "Wall time: 6.44 µs\n",
      "F1 наилучшей модели на валидационной выборке: 0.5726970033296337 Количество деревьев: 40 Глубина дерева: 5\n"
     ]
    }
   ],
   "source": [
    "%time\n",
    "\n",
    "best_RandomForest_model_downsampled = None\n",
    "best_RandomForest_f1_score_valid_downsampled = 0\n",
    "best_RandomForest_depth = 0\n",
    "best_n_est = 0\n",
    "\n",
    "for est in range(10, 51, 10):\n",
    "    for depth in range(1,6):\n",
    "        model = RandomForestClassifier(n_estimators=est, max_depth=depth, random_state=42)\n",
    "        model.fit(features_train_downsampled, target_train_downsampled)\n",
    "        predictions = model.predict(features_valid)\n",
    "        RandomForest_f1_score_valid = f1_score(target_valid, predictions)\n",
    "        \n",
    "        if RandomForest_f1_score_valid > best_RandomForest_f1_score_valid_downsampled:\n",
    "            best_RandomForest_model_downsampled = model\n",
    "            best_RandomForest_f1_score_valid_downsampled = RandomForest_f1_score_valid\n",
    "            best_RandomForest_depth = depth\n",
    "            best_n_est = est\n",
    "\n",
    "print(\"F1 наилучшей модели на валидационной выборке:\", best_RandomForest_f1_score_valid_downsampled, \"Количество деревьев:\", best_n_est, \"Глубина дерева:\", best_RandomForest_depth)"
   ]
  },
  {
   "cell_type": "code",
   "execution_count": 43,
   "id": "8052f2c3",
   "metadata": {},
   "outputs": [
    {
     "name": "stdout",
     "output_type": "stream",
     "text": [
      "ROC AUC модели на валидационной выборке: 0.8440872962109922\n"
     ]
    }
   ],
   "source": [
    "probabilities_valid = best_RandomForest_model_downsampled.predict_proba(features_valid)\n",
    "probabilities_one_valid = probabilities_valid[:, 1]\n",
    "RandomForest_roc_auc_score_valid_downsampled = roc_auc_score(target_valid, probabilities_one_valid)\n",
    "\n",
    "print(\"ROC AUC модели на валидационной выборке:\", RandomForest_roc_auc_score_valid_downsampled)"
   ]
  },
  {
   "cell_type": "markdown",
   "id": "5a1b7238",
   "metadata": {},
   "source": [
    "#### LogisticRegression"
   ]
  },
  {
   "cell_type": "markdown",
   "id": "3d183091",
   "metadata": {},
   "source": [
    "##### Взвешивание классов"
   ]
  },
  {
   "cell_type": "code",
   "execution_count": 44,
   "id": "0b4913e0",
   "metadata": {
    "scrolled": true
   },
   "outputs": [
    {
     "name": "stdout",
     "output_type": "stream",
     "text": [
      "CPU times: user 4 µs, sys: 0 ns, total: 4 µs\n",
      "Wall time: 6.68 µs\n",
      "F1 модели на валидационной выборке: 0.49506903353057197\n"
     ]
    }
   ],
   "source": [
    "%time\n",
    "\n",
    "LogisticRegression_model_weighted = LogisticRegression(solver='lbfgs', random_state=42, class_weight='balanced')\n",
    "LogisticRegression_model_weighted.fit(features_train, target_train)\n",
    "predictions = LogisticRegression_model_weighted.predict(features_valid)\n",
    "LogisticRegression_f1_score_valid_weighted = f1_score(target_valid, predictions)\n",
    "\n",
    "print(\"F1 модели на валидационной выборке:\", LogisticRegression_f1_score_valid_weighted)"
   ]
  },
  {
   "cell_type": "code",
   "execution_count": 45,
   "id": "968f3923",
   "metadata": {},
   "outputs": [
    {
     "name": "stdout",
     "output_type": "stream",
     "text": [
      "ROC AUC модели на валидационной выборке: 0.7747501091390808\n"
     ]
    }
   ],
   "source": [
    "probabilities_valid = LogisticRegression_model_weighted.predict_proba(features_valid)\n",
    "probabilities_one_valid = probabilities_valid[:, 1]\n",
    "LogisticRegression_roc_auc_score_valid_weighted = roc_auc_score(target_valid, probabilities_one_valid)\n",
    "\n",
    "print(\"ROC AUC модели на валидационной выборке:\", LogisticRegression_roc_auc_score_valid_weighted)"
   ]
  },
  {
   "cell_type": "markdown",
   "id": "b6ecae71",
   "metadata": {},
   "source": [
    "##### Upsampling"
   ]
  },
  {
   "cell_type": "code",
   "execution_count": 46,
   "id": "da62135d",
   "metadata": {},
   "outputs": [
    {
     "name": "stdout",
     "output_type": "stream",
     "text": [
      "CPU times: user 22 µs, sys: 2 µs, total: 24 µs\n",
      "Wall time: 7.63 µs\n",
      "F1 модели на валидационной выборке: 0.4951830443159922\n"
     ]
    }
   ],
   "source": [
    "%time\n",
    "\n",
    "LogisticRegression_model_upsampled = LogisticRegression(solver='lbfgs', random_state=42)\n",
    "LogisticRegression_model_upsampled.fit(features_train_upsampled, target_train_upsampled)\n",
    "predictions = LogisticRegression_model_upsampled.predict(features_valid)\n",
    "LogisticRegression_f1_score_valid_upsampled = f1_score(target_valid, predictions)\n",
    "\n",
    "print(\"F1 модели на валидационной выборке:\", LogisticRegression_f1_score_valid_upsampled)"
   ]
  },
  {
   "cell_type": "code",
   "execution_count": 47,
   "id": "62231b95",
   "metadata": {},
   "outputs": [
    {
     "name": "stdout",
     "output_type": "stream",
     "text": [
      "ROC AUC модели на валидационной выборке: 0.7748027969712024\n"
     ]
    }
   ],
   "source": [
    "probabilities_valid = LogisticRegression_model_upsampled.predict_proba(features_valid)\n",
    "probabilities_one_valid = probabilities_valid[:, 1]\n",
    "LogisticRegression_roc_auc_score_valid_upsampled = roc_auc_score(target_valid, probabilities_one_valid)\n",
    "\n",
    "print(\"ROC AUC модели на валидационной выборке:\", LogisticRegression_roc_auc_score_valid_upsampled)"
   ]
  },
  {
   "cell_type": "markdown",
   "id": "bfdbece8",
   "metadata": {},
   "source": [
    "##### Downsampling"
   ]
  },
  {
   "cell_type": "code",
   "execution_count": 48,
   "id": "a5edbe36",
   "metadata": {},
   "outputs": [
    {
     "name": "stdout",
     "output_type": "stream",
     "text": [
      "CPU times: user 4 µs, sys: 1 µs, total: 5 µs\n",
      "Wall time: 6.91 µs\n",
      "F1 модели на валидационной выборке: 0.4912280701754386\n"
     ]
    }
   ],
   "source": [
    "%time\n",
    "\n",
    "LogisticRegression_model_downsampled = LogisticRegression(solver='lbfgs', random_state=42)\n",
    "LogisticRegression_model_downsampled.fit(features_train_downsampled, target_train_downsampled)\n",
    "predictions = LogisticRegression_model_downsampled.predict(features_valid)\n",
    "LogisticRegression_f1_score_valid_downsampled = f1_score(target_valid, predictions)\n",
    "\n",
    "print(\"F1 модели на валидационной выборке:\", LogisticRegression_f1_score_valid_downsampled)"
   ]
  },
  {
   "cell_type": "code",
   "execution_count": 49,
   "id": "aa06814b",
   "metadata": {},
   "outputs": [
    {
     "name": "stdout",
     "output_type": "stream",
     "text": [
      "ROC AUC модели на валидационной выборке: 0.775451986331271\n"
     ]
    }
   ],
   "source": [
    "probabilities_valid = LogisticRegression_model_downsampled.predict_proba(features_valid)\n",
    "probabilities_one_valid = probabilities_valid[:, 1]\n",
    "LogisticRegression_roc_auc_score_valid_downsampled = roc_auc_score(target_valid, probabilities_one_valid)\n",
    "\n",
    "print(\"ROC AUC модели на валидационной выборке:\", LogisticRegression_roc_auc_score_valid_downsampled)"
   ]
  },
  {
   "cell_type": "markdown",
   "id": "146c9d6d",
   "metadata": {},
   "source": [
    "#### Сводная таблица"
   ]
  },
  {
   "cell_type": "markdown",
   "id": "89d60f38",
   "metadata": {},
   "source": [
    "Для удобства сведем результаты исследования в одну таблицу"
   ]
  },
  {
   "cell_type": "code",
   "execution_count": 50,
   "id": "4d0e438c",
   "metadata": {},
   "outputs": [
    {
     "data": {
      "text/html": [
       "<div>\n",
       "<style scoped>\n",
       "    .dataframe tbody tr th:only-of-type {\n",
       "        vertical-align: middle;\n",
       "    }\n",
       "\n",
       "    .dataframe tbody tr th {\n",
       "        vertical-align: top;\n",
       "    }\n",
       "\n",
       "    .dataframe thead th {\n",
       "        text-align: right;\n",
       "    }\n",
       "</style>\n",
       "<table border=\"1\" class=\"dataframe\">\n",
       "  <thead>\n",
       "    <tr style=\"text-align: right;\">\n",
       "      <th></th>\n",
       "      <th>f1_score_valid</th>\n",
       "      <th>ROC_AUC_valid</th>\n",
       "      <th>f1_score_valid_weighted</th>\n",
       "      <th>ROC_AUC_valid_weighted</th>\n",
       "      <th>f1_score_valid_upsampled</th>\n",
       "      <th>ROC_AUC_valid_upsampled</th>\n",
       "      <th>f1_score_valid_downsampled</th>\n",
       "      <th>ROC_AUC_valid_downsampled</th>\n",
       "    </tr>\n",
       "  </thead>\n",
       "  <tbody>\n",
       "    <tr>\n",
       "      <th>DecisionTree</th>\n",
       "      <td>0.557166</td>\n",
       "      <td>0.803616</td>\n",
       "      <td>0.534502</td>\n",
       "      <td>0.807445</td>\n",
       "      <td>0.534502</td>\n",
       "      <td>0.807490</td>\n",
       "      <td>0.543182</td>\n",
       "      <td>0.811341</td>\n",
       "    </tr>\n",
       "    <tr>\n",
       "      <th>RandomForest</th>\n",
       "      <td>0.498113</td>\n",
       "      <td>0.829827</td>\n",
       "      <td>0.579374</td>\n",
       "      <td>0.843133</td>\n",
       "      <td>0.573348</td>\n",
       "      <td>0.847470</td>\n",
       "      <td>0.572697</td>\n",
       "      <td>0.844087</td>\n",
       "    </tr>\n",
       "    <tr>\n",
       "      <th>LogisticRegression</th>\n",
       "      <td>0.300412</td>\n",
       "      <td>0.772453</td>\n",
       "      <td>0.495069</td>\n",
       "      <td>0.774750</td>\n",
       "      <td>0.495183</td>\n",
       "      <td>0.774803</td>\n",
       "      <td>0.491228</td>\n",
       "      <td>0.775452</td>\n",
       "    </tr>\n",
       "  </tbody>\n",
       "</table>\n",
       "</div>"
      ],
      "text/plain": [
       "                    f1_score_valid  ROC_AUC_valid  f1_score_valid_weighted  \\\n",
       "DecisionTree              0.557166       0.803616                 0.534502   \n",
       "RandomForest              0.498113       0.829827                 0.579374   \n",
       "LogisticRegression        0.300412       0.772453                 0.495069   \n",
       "\n",
       "                    ROC_AUC_valid_weighted  f1_score_valid_upsampled  \\\n",
       "DecisionTree                      0.807445                  0.534502   \n",
       "RandomForest                      0.843133                  0.573348   \n",
       "LogisticRegression                0.774750                  0.495183   \n",
       "\n",
       "                    ROC_AUC_valid_upsampled  f1_score_valid_downsampled  \\\n",
       "DecisionTree                       0.807490                    0.543182   \n",
       "RandomForest                       0.847470                    0.572697   \n",
       "LogisticRegression                 0.774803                    0.491228   \n",
       "\n",
       "                    ROC_AUC_valid_downsampled  \n",
       "DecisionTree                         0.811341  \n",
       "RandomForest                         0.844087  \n",
       "LogisticRegression                   0.775452  "
      ]
     },
     "execution_count": 50,
     "metadata": {},
     "output_type": "execute_result"
    }
   ],
   "source": [
    "pd.DataFrame(\n",
    "    [\n",
    "        [best_DecisionTree_f1_score_valid, DecisionTree_roc_auc_score_valid,\n",
    "        best_DecisionTree_f1_score_valid_weighted, DecisionTree_roc_auc_score_valid_weighted,\n",
    "        best_DecisionTree_f1_score_valid_upsampled, DecisionTree_roc_auc_score_valid_upsampled,\n",
    "        best_DecisionTree_f1_score_valid_downsampled, DecisionTree_roc_auc_score_valid_downsampled],\n",
    "        [best_RandomForest_f1_score_valid, RandomForest_roc_auc_score_valid,\n",
    "        best_RandomForest_f1_score_valid_weighted, RandomForest_roc_auc_score_valid_weighted,\n",
    "        best_RandomForest_f1_score_valid_upsampled, RandomForest_roc_auc_score_valid_upsampled,\n",
    "        best_RandomForest_f1_score_valid_downsampled, RandomForest_roc_auc_score_valid_downsampled],\n",
    "        [LogisticRegression_f1_score_valid, LogisticRegression_roc_auc_score_valid,\n",
    "        LogisticRegression_f1_score_valid_weighted, LogisticRegression_roc_auc_score_valid_weighted,\n",
    "        LogisticRegression_f1_score_valid_upsampled, LogisticRegression_roc_auc_score_valid_upsampled,\n",
    "        LogisticRegression_f1_score_valid_downsampled, LogisticRegression_roc_auc_score_valid_downsampled]\n",
    "    ],\n",
    "    index=['DecisionTree', 'RandomForest', 'LogisticRegression'],\n",
    "    columns=[\n",
    "        'f1_score_valid', 'ROC_AUC_valid',\n",
    "        'f1_score_valid_weighted', 'ROC_AUC_valid_weighted',\n",
    "        'f1_score_valid_upsampled', 'ROC_AUC_valid_upsampled',\n",
    "        'f1_score_valid_downsampled', 'ROC_AUC_valid_downsampled',\n",
    "    ]\n",
    ")"
   ]
  },
  {
   "cell_type": "markdown",
   "id": "5091d827",
   "metadata": {},
   "source": [
    "**Вывод**"
   ]
  },
  {
   "cell_type": "markdown",
   "id": "e66149be",
   "metadata": {},
   "source": [
    "Наилучшим образом показала себя модель RandomForest с гиперпарамметрами `n_estimators=40, max_depth=5`. С помощью исключения дисбаланса классов путем увеличения выборки удалось повысить метрику F1 модели до 0.57. Примечательно, что перебалансировка классов практически не повлияла на метрику ROC_AUC."
   ]
  },
  {
   "cell_type": "markdown",
   "id": "aea17188",
   "metadata": {},
   "source": [
    "#### Изменение порога классификации"
   ]
  },
  {
   "cell_type": "markdown",
   "id": "32baeaaf",
   "metadata": {},
   "source": [
    "Подберем оптимальный порог классификации для увеличения метрики F1"
   ]
  },
  {
   "cell_type": "code",
   "execution_count": 51,
   "id": "0411ba73",
   "metadata": {},
   "outputs": [
    {
     "name": "stdout",
     "output_type": "stream",
     "text": [
      "Порог классификации: 0.56 Метрика F1: 0.6005291005291006\n"
     ]
    }
   ],
   "source": [
    "best_RandomForest_f1_score_upsampled_threshold = 0\n",
    "best_threshold = 0\n",
    "\n",
    "probabilities_valid = best_RandomForest_model_upsampled.predict_proba(features_valid)\n",
    "probabilities_one_valid = probabilities_valid[:, 1]\n",
    "for threshold in np.arange(0, 0.8, 0.02):\n",
    "    predicted_valid = probabilities_one_valid > threshold\n",
    "    RandomForest_f1_score_upsampled_threshold = f1_score(target_valid, predicted_valid)\n",
    "\n",
    "    if RandomForest_f1_score_upsampled_threshold > best_RandomForest_f1_score_upsampled_threshold:\n",
    "        best_RandomForest_f1_score_upsampled_threshold = RandomForest_f1_score_upsampled_threshold\n",
    "        best_threshold = threshold\n",
    "\n",
    "print('Порог классификации:', best_threshold, 'Метрика F1:', best_RandomForest_f1_score_upsampled_threshold)"
   ]
  },
  {
   "cell_type": "markdown",
   "id": "4962c719",
   "metadata": {},
   "source": [
    "**Вывод**"
   ]
  },
  {
   "cell_type": "markdown",
   "id": "63865605",
   "metadata": {},
   "source": [
    "Оптимальный порог классификации 0.56, при котором метрика F1 достигает 0.6"
   ]
  },
  {
   "cell_type": "markdown",
   "id": "e3d8d206",
   "metadata": {},
   "source": [
    "## Тестирование модели"
   ]
  },
  {
   "cell_type": "markdown",
   "id": "2d5f96dc",
   "metadata": {},
   "source": [
    "Возьмем обученную модель RandomForest с оптимальными гиперпараметрами и проверим метрику F1 на тестовой выборке с учетом оптимального порога классификации"
   ]
  },
  {
   "cell_type": "code",
   "execution_count": 52,
   "id": "1b1dce25",
   "metadata": {},
   "outputs": [
    {
     "name": "stdout",
     "output_type": "stream",
     "text": [
      "F1 модели RandomForest на тестовой выборке: 0.6235138705416117\n"
     ]
    }
   ],
   "source": [
    "RandomForest_probabilities_test = best_RandomForest_model_upsampled.predict_proba(features_test)\n",
    "RandomForest_probabilities_one_test = RandomForest_probabilities_test[:, 1]\n",
    "\n",
    "RandomForest_predictions_test = RandomForest_probabilities_one_test > best_threshold\n",
    "RandomForest_f1_score_test = f1_score(target_test, RandomForest_predictions_test)\n",
    "\n",
    "print(\"F1 модели RandomForest на тестовой выборке:\", RandomForest_f1_score_test)"
   ]
  },
  {
   "cell_type": "markdown",
   "id": "0d2527a9",
   "metadata": {},
   "source": [
    "Проверим метрику ROC AUC"
   ]
  },
  {
   "cell_type": "code",
   "execution_count": 53,
   "id": "db0265ae",
   "metadata": {},
   "outputs": [
    {
     "name": "stdout",
     "output_type": "stream",
     "text": [
      "ROC AUC модели на тестовой выборке: 0.8600551350341088\n"
     ]
    }
   ],
   "source": [
    "RandomForest_roc_auc_score_test_upsampled = roc_auc_score(target_test, RandomForest_probabilities_one_test)\n",
    "\n",
    "print(\"ROC AUC модели на тестовой выборке:\", RandomForest_roc_auc_score_test_upsampled)"
   ]
  },
  {
   "cell_type": "markdown",
   "id": "01bbcfc2",
   "metadata": {},
   "source": [
    "**Вывод**"
   ]
  },
  {
   "cell_type": "markdown",
   "id": "4733b70a",
   "metadata": {},
   "source": [
    "Метрика F1 модели на тестовой выборке равна 0.62, что выше целевой 0.59"
   ]
  },
  {
   "cell_type": "markdown",
   "id": "7ce7808b",
   "metadata": {},
   "source": [
    "## Важность факторов"
   ]
  },
  {
   "cell_type": "markdown",
   "id": "c6b992cd",
   "metadata": {},
   "source": [
    "Определим факторы важные при моделировании с помощью атрибута `feature_importances_` и построим наглядный график"
   ]
  },
  {
   "cell_type": "code",
   "execution_count": 54,
   "id": "b97ca797",
   "metadata": {},
   "outputs": [],
   "source": [
    "importances = best_RandomForest_model_upsampled.feature_importances_\n",
    "std = np.std([tree.feature_importances_ for tree in best_RandomForest_model_upsampled.estimators_], axis=0)\n",
    "RandomForest_importances = pd.Series(importances, index=features.columns)"
   ]
  },
  {
   "cell_type": "code",
   "execution_count": 55,
   "id": "583ac851",
   "metadata": {},
   "outputs": [
    {
     "data": {
      "text/plain": [
       "Text(0, 0.5, 'Mean decrease in impurity')"
      ]
     },
     "execution_count": 55,
     "metadata": {},
     "output_type": "execute_result"
    },
    {
     "data": {
      "image/png": "[encoded data removed]",
      "text/plain": [
       "<Figure size 432x288 with 1 Axes>"
      ]
     },
     "metadata": {
      "needs_background": "light"
     },
     "output_type": "display_data"
    }
   ],
   "source": [
    "fig, ax = plt.subplots()\n",
    "RandomForest_importances.plot.bar(yerr=std, ax=ax)\n",
    "ax.set_title(\"Feature importances\")\n",
    "ax.set_ylabel(\"Mean decrease in impurity\")"
   ]
  },
  {
   "cell_type": "markdown",
   "id": "c8d11f99",
   "metadata": {},
   "source": [
    "Из представленого графика можно сделать вывод о том, что наиболее значимыми параметрами являются `Age` и `NumOfProducts`"
   ]
  },
  {
   "cell_type": "markdown",
   "id": "fc98dbc2",
   "metadata": {},
   "source": [
    "## Вывод"
   ]
  },
  {
   "cell_type": "markdown",
   "id": "73f50585",
   "metadata": {},
   "source": [
    "* В ходе предобработки данных удалены нерелевантные колонки и пустые строки, выполнена проверка на дубликаты.\n",
    "* В ходе подготовки признаков категориальные признаки преобразованы в численные с помощью техники прямого кодирования OHE; Данные разделены на обучающую, валидационную и тестовую выборки в соотношении 3:1:1; Признаки масштабированы с помощью `StandardScaler`.\n",
    "* В рамках исследования задачи, были обучены и проверены модели классификации DecisionTree, RandomForest и LogisticRegression, осуществлен поиск оптимальных гиперпараметров.\n",
    "* Для борьбы с дисбалансом классов были применены способы взвешивания классов, увеличение выборки и уменьшение выборки.\n",
    "* Оптимальный результат показала модель RandomForest с гиперпараметрами `n_estimators=40, max_depth=5` и порогом классификации 0.56.\n",
    "* Метрика F1 модели на тестовой выборке равна 0.62, что выше целевой 0.59.\n",
    "* Примечательно, что перебалансировка классов практически не повлияла на метрику ROC_AUC.\n",
    "* Наиболее значимыми факторами при моделировании являются возраст клиента и количество используемых продуктов банка."
   ]
  }
 ],
 "metadata": {
  "ExecuteTimeLog": [
   {
    "duration": 2161,
    "start_time": "2022-04-04T04:28:03.315Z"
   },
   {
    "duration": 147,
    "start_time": "2022-04-04T04:34:14.513Z"
   },
   {
    "duration": 1970,
    "start_time": "2022-04-04T04:34:23.545Z"
   },
   {
    "duration": 49,
    "start_time": "2022-04-04T04:34:25.517Z"
   },
   {
    "duration": 20,
    "start_time": "2022-04-04T04:34:25.568Z"
   },
   {
    "duration": 5,
    "start_time": "2022-04-04T04:34:25.591Z"
   },
   {
    "duration": 19,
    "start_time": "2022-04-04T04:34:25.598Z"
   },
   {
    "duration": 60,
    "start_time": "2022-04-04T04:34:25.619Z"
   },
   {
    "duration": 7,
    "start_time": "2022-04-04T04:34:25.682Z"
   },
   {
    "duration": 26,
    "start_time": "2022-04-04T04:34:25.691Z"
   },
   {
    "duration": 7,
    "start_time": "2022-04-04T04:34:25.719Z"
   },
   {
    "duration": 39,
    "start_time": "2022-04-04T04:34:25.732Z"
   },
   {
    "duration": 9,
    "start_time": "2022-04-04T04:34:25.774Z"
   },
   {
    "duration": 5,
    "start_time": "2022-04-04T04:34:25.786Z"
   },
   {
    "duration": 6,
    "start_time": "2022-04-04T04:34:25.794Z"
   },
   {
    "duration": 7,
    "start_time": "2022-04-04T04:34:25.802Z"
   },
   {
    "duration": 60,
    "start_time": "2022-04-04T04:34:25.811Z"
   },
   {
    "duration": 13,
    "start_time": "2022-04-04T04:34:25.873Z"
   },
   {
    "duration": 19,
    "start_time": "2022-04-04T04:34:25.888Z"
   },
   {
    "duration": 10,
    "start_time": "2022-04-04T04:34:25.910Z"
   },
   {
    "duration": 106,
    "start_time": "2022-04-04T04:34:25.922Z"
   },
   {
    "duration": 10,
    "start_time": "2022-04-04T04:34:26.031Z"
   },
   {
    "duration": 3026,
    "start_time": "2022-04-04T04:34:26.043Z"
   },
   {
    "duration": 13,
    "start_time": "2022-04-04T04:34:29.071Z"
   },
   {
    "duration": 182,
    "start_time": "2022-04-04T04:34:29.086Z"
   },
   {
    "duration": 99,
    "start_time": "2022-04-04T04:34:29.271Z"
   },
   {
    "duration": 103,
    "start_time": "2022-04-04T04:34:29.374Z"
   },
   {
    "duration": 6,
    "start_time": "2022-04-04T04:34:29.480Z"
   },
   {
    "duration": 13,
    "start_time": "2022-04-04T04:34:29.488Z"
   },
   {
    "duration": 4,
    "start_time": "2022-04-04T04:34:29.506Z"
   },
   {
    "duration": 6,
    "start_time": "2022-04-04T04:34:29.513Z"
   },
   {
    "duration": 50,
    "start_time": "2022-04-04T04:34:29.521Z"
   },
   {
    "duration": 5,
    "start_time": "2022-04-04T04:34:29.573Z"
   },
   {
    "duration": 97,
    "start_time": "2022-04-04T04:34:29.580Z"
   },
   {
    "duration": 9,
    "start_time": "2022-04-04T04:34:29.680Z"
   },
   {
    "duration": 125,
    "start_time": "2022-04-04T04:34:29.691Z"
   },
   {
    "duration": 8,
    "start_time": "2022-04-04T04:34:29.819Z"
   },
   {
    "duration": 70,
    "start_time": "2022-04-04T04:34:29.829Z"
   },
   {
    "duration": 8,
    "start_time": "2022-04-04T04:34:29.901Z"
   },
   {
    "duration": 3090,
    "start_time": "2022-04-04T04:34:29.911Z"
   },
   {
    "duration": 12,
    "start_time": "2022-04-04T04:34:33.003Z"
   },
   {
    "duration": 4219,
    "start_time": "2022-04-04T04:34:33.018Z"
   },
   {
    "duration": 35,
    "start_time": "2022-04-04T04:34:37.239Z"
   },
   {
    "duration": 2118,
    "start_time": "2022-04-04T04:34:37.276Z"
   },
   {
    "duration": 21,
    "start_time": "2022-04-04T04:34:39.396Z"
   },
   {
    "duration": 350,
    "start_time": "2022-04-04T04:34:39.419Z"
   },
   {
    "duration": 101,
    "start_time": "2022-04-04T04:34:39.773Z"
   },
   {
    "duration": 390,
    "start_time": "2022-04-04T04:34:39.878Z"
   },
   {
    "duration": 97,
    "start_time": "2022-04-04T04:34:40.272Z"
   },
   {
    "duration": 197,
    "start_time": "2022-04-04T04:34:40.372Z"
   },
   {
    "duration": 98,
    "start_time": "2022-04-04T04:34:40.572Z"
   },
   {
    "duration": 118,
    "start_time": "2022-04-04T04:34:40.674Z"
   },
   {
    "duration": 102,
    "start_time": "2022-04-04T04:34:40.795Z"
   },
   {
    "duration": 23,
    "start_time": "2022-04-04T04:34:40.899Z"
   },
   {
    "duration": 9,
    "start_time": "2022-04-04T04:34:40.924Z"
   },
   {
    "duration": 197,
    "start_time": "2022-04-04T04:34:40.936Z"
   },
   {
    "duration": 0,
    "start_time": "2022-04-04T04:34:41.136Z"
   },
   {
    "duration": 11,
    "start_time": "2022-04-04T04:36:14.822Z"
   },
   {
    "duration": 6,
    "start_time": "2022-04-04T04:36:20.987Z"
   },
   {
    "duration": 5,
    "start_time": "2022-04-04T04:36:39.532Z"
   },
   {
    "duration": 15,
    "start_time": "2022-04-04T04:37:02.798Z"
   },
   {
    "duration": 360,
    "start_time": "2022-04-04T04:37:04.999Z"
   },
   {
    "duration": 238,
    "start_time": "2022-04-04T04:37:11.002Z"
   },
   {
    "duration": 235,
    "start_time": "2022-04-04T04:38:34.279Z"
   },
   {
    "duration": 282,
    "start_time": "2022-04-04T04:38:50.961Z"
   },
   {
    "duration": 1795,
    "start_time": "2022-04-04T04:46:38.198Z"
   },
   {
    "duration": 53,
    "start_time": "2022-04-04T04:46:39.996Z"
   },
   {
    "duration": 23,
    "start_time": "2022-04-04T04:46:40.051Z"
   },
   {
    "duration": 4,
    "start_time": "2022-04-04T04:46:40.077Z"
   },
   {
    "duration": 18,
    "start_time": "2022-04-04T04:46:40.083Z"
   },
   {
    "duration": 24,
    "start_time": "2022-04-04T04:46:40.103Z"
   },
   {
    "duration": 39,
    "start_time": "2022-04-04T04:46:40.129Z"
   },
   {
    "duration": 27,
    "start_time": "2022-04-04T04:46:40.170Z"
   },
   {
    "duration": 6,
    "start_time": "2022-04-04T04:46:40.199Z"
   },
   {
    "duration": 8,
    "start_time": "2022-04-04T04:46:40.209Z"
   },
   {
    "duration": 7,
    "start_time": "2022-04-04T04:46:40.219Z"
   },
   {
    "duration": 41,
    "start_time": "2022-04-04T04:46:40.228Z"
   },
   {
    "duration": 6,
    "start_time": "2022-04-04T04:46:40.271Z"
   },
   {
    "duration": 6,
    "start_time": "2022-04-04T04:46:40.279Z"
   },
   {
    "duration": 14,
    "start_time": "2022-04-04T04:46:40.287Z"
   },
   {
    "duration": 12,
    "start_time": "2022-04-04T04:46:40.303Z"
   },
   {
    "duration": 54,
    "start_time": "2022-04-04T04:46:40.317Z"
   },
   {
    "duration": 10,
    "start_time": "2022-04-04T04:46:40.373Z"
   },
   {
    "duration": 90,
    "start_time": "2022-04-04T04:46:40.385Z"
   },
   {
    "duration": 11,
    "start_time": "2022-04-04T04:46:40.477Z"
   },
   {
    "duration": 3091,
    "start_time": "2022-04-04T04:46:40.491Z"
   },
   {
    "duration": 14,
    "start_time": "2022-04-04T04:46:43.585Z"
   },
   {
    "duration": 169,
    "start_time": "2022-04-04T04:46:43.601Z"
   },
   {
    "duration": 98,
    "start_time": "2022-04-04T04:46:43.773Z"
   },
   {
    "duration": 103,
    "start_time": "2022-04-04T04:46:43.875Z"
   },
   {
    "duration": 5,
    "start_time": "2022-04-04T04:46:43.980Z"
   },
   {
    "duration": 13,
    "start_time": "2022-04-04T04:46:43.987Z"
   },
   {
    "duration": 4,
    "start_time": "2022-04-04T04:46:44.005Z"
   },
   {
    "duration": 6,
    "start_time": "2022-04-04T04:46:44.011Z"
   },
   {
    "duration": 55,
    "start_time": "2022-04-04T04:46:44.019Z"
   },
   {
    "duration": 5,
    "start_time": "2022-04-04T04:46:44.076Z"
   },
   {
    "duration": 86,
    "start_time": "2022-04-04T04:46:44.083Z"
   },
   {
    "duration": 8,
    "start_time": "2022-04-04T04:46:44.171Z"
   },
   {
    "duration": 126,
    "start_time": "2022-04-04T04:46:44.181Z"
   },
   {
    "duration": 8,
    "start_time": "2022-04-04T04:46:44.309Z"
   },
   {
    "duration": 74,
    "start_time": "2022-04-04T04:46:44.319Z"
   },
   {
    "duration": 9,
    "start_time": "2022-04-04T04:46:44.395Z"
   },
   {
    "duration": 3170,
    "start_time": "2022-04-04T04:46:44.407Z"
   },
   {
    "duration": 14,
    "start_time": "2022-04-04T04:46:47.581Z"
   },
   {
    "duration": 4109,
    "start_time": "2022-04-04T04:46:47.597Z"
   },
   {
    "duration": 22,
    "start_time": "2022-04-04T04:46:51.708Z"
   },
   {
    "duration": 2087,
    "start_time": "2022-04-04T04:46:51.732Z"
   },
   {
    "duration": 21,
    "start_time": "2022-04-04T04:46:53.821Z"
   },
   {
    "duration": 130,
    "start_time": "2022-04-04T04:46:53.844Z"
   },
   {
    "duration": 10,
    "start_time": "2022-04-04T04:46:54.067Z"
   },
   {
    "duration": 296,
    "start_time": "2022-04-04T04:46:54.079Z"
   },
   {
    "duration": 12,
    "start_time": "2022-04-04T04:46:54.467Z"
   },
   {
    "duration": 204,
    "start_time": "2022-04-04T04:46:54.568Z"
   },
   {
    "duration": 14,
    "start_time": "2022-04-04T04:46:54.866Z"
   },
   {
    "duration": 195,
    "start_time": "2022-04-04T04:46:54.883Z"
   },
   {
    "duration": 107,
    "start_time": "2022-04-04T04:46:55.080Z"
   },
   {
    "duration": 22,
    "start_time": "2022-04-04T04:46:55.189Z"
   },
   {
    "duration": 8,
    "start_time": "2022-04-04T04:46:55.213Z"
   },
   {
    "duration": 15,
    "start_time": "2022-04-04T04:46:55.223Z"
   },
   {
    "duration": 300,
    "start_time": "2022-04-04T04:46:55.241Z"
   }
  ],
  "kernelspec": {
   "display_name": "Python 3 (ipykernel)",
   "language": "python",
   "name": "python3"
  },
  "language_info": {
   "codemirror_mode": {
    "name": "ipython",
    "version": 3
   },
   "file_extension": ".py",
   "mimetype": "text/x-python",
   "name": "python",
   "nbconvert_exporter": "python",
   "pygments_lexer": "ipython3",
   "version": "3.9.5"
  },
  "toc": {
   "base_numbering": 1,
   "nav_menu": {},
   "number_sections": true,
   "sideBar": true,
   "skip_h1_title": true,
   "title_cell": "Table of Contents",
   "title_sidebar": "Contents",
   "toc_cell": false,
   "toc_position": {},
   "toc_section_display": true,
   "toc_window_display": false
  }
 },
 "nbformat": 4,
 "nbformat_minor": 5
}
